{
 "cells": [
  {
   "cell_type": "markdown",
   "id": "5c974ddb",
   "metadata": {},
   "source": [
    "<img src=\"https://www.encit.unam.mx/sites/default/files/2020-10/EN%20CIENCIAS%20DE%20LA%20TIERRA1%20%281%29.png\" width=200px hspace=\"5px\" vspace=\"0px\" style=\"float: left; margin-right:10px\">\n",
    "\n",
    "**Asignatura**: Herramientas Computacionales Avanzadas <br>\n",
    "**Profesor**: Dr. Luis Miguel de la Cruz Salas.<br>\n",
    "**Examen Práctico**: 1<br>\n",
    "**Fecha**: Febrero 2024\n"
   ]
  },
  {
   "cell_type": "code",
   "execution_count": null,
   "id": "2f61963a",
   "metadata": {},
   "outputs": [],
   "source": [
    "NAME = \"\"\n",
    "COLLABORATORS = \"\""
   ]
  },
  {
   "cell_type": "markdown",
   "id": "02014827",
   "metadata": {},
   "source": [
    "---"
   ]
  },
  {
   "cell_type": "markdown",
   "id": "7a1f6f90",
   "metadata": {
    "deletable": false,
    "editable": false,
    "nbgrader": {
     "checksum": "236c510d019508bf760d97b848daa6ee",
     "grade": false,
     "grade_id": "cell-dd14ef8f97aaa97e",
     "locked": true,
     "schema_version": 3,
     "solution": false,
     "task": false
    }
   },
   "source": [
    "# Repaso de cálculo: derivadas\n",
    "\n",
    "**Objetivo general**\n",
    "- Realizar ejercicios de derivadas en una variable.\n",
    "\n",
    " <p xmlns:cc=\"http://creativecommons.org/ns#\" xmlns:dct=\"http://purl.org/dc/terms/\"><a property=\"dct:title\" rel=\"cc:attributionURL\" href=\"https://github.com/repomacti/macti/tree/main/notebooks/Analisis_Numerico_01\">MACTI-Analisis_Numerico_01</a> by <a rel=\"cc:attributionURL dct:creator\" property=\"cc:attributionName\" href=\"https://www.macti.unam.mx\">Luis M. de la Cruz</a> is licensed under <a href=\"http://creativecommons.org/licenses/by-sa/4.0/?ref=chooser-v1\" target=\"_blank\" rel=\"license noopener noreferrer\" style=\"display:inline-block;\">Attribution-ShareAlike 4.0 International<img style=\"height:22px!important;margin-left:3px;vertical-align:text-bottom;\" src=\"https://mirrors.creativecommons.org/presskit/icons/cc.svg?ref=chooser-v1\"><img style=\"height:22px!important;margin-left:3px;vertical-align:text-bottom;\" src=\"https://mirrors.creativecommons.org/presskit/icons/by.svg?ref=chooser-v1\"><img style=\"height:22px!important;margin-left:3px;vertical-align:text-bottom;\" src=\"https://mirrors.creativecommons.org/presskit/icons/sa.svg?ref=chooser-v1\"></a></p> \n",
    "\n",
    "Trabajo realizado con el apoyo del Programa UNAM-DGAPA-PAPIME PE101922\n"
   ]
  },
  {
   "cell_type": "code",
   "execution_count": null,
   "id": "a845ea45-d17a-4b48-a6ee-d50c688cce08",
   "metadata": {
    "deletable": false,
    "editable": false,
    "nbgrader": {
     "checksum": "f4153387d6b4828756bb5decb8f9dcec",
     "grade": false,
     "grade_id": "cell-5e0f939d0b731391",
     "locked": true,
     "schema_version": 3,
     "solution": false,
     "task": false
    }
   },
   "outputs": [],
   "source": [
    "# Importamos todas las bibliotecas a usar\n",
    "import matplotlib.pyplot as plt\n",
    "import numpy as np\n",
    "import pandas as pd\n",
    "from sympy import *\n",
    "import macti.visual \n",
    "from macti.evaluation import *"
   ]
  },
  {
   "cell_type": "code",
   "execution_count": null,
   "id": "e8357b74-dd46-4e1d-83e1-9125055d0e9e",
   "metadata": {
    "deletable": false,
    "editable": false,
    "nbgrader": {
     "checksum": "e2d8f10d6cb86a3f22cb6a7cc12e4d02",
     "grade": false,
     "grade_id": "cell-74c5349d1f63be53",
     "locked": true,
     "schema_version": 3,
     "solution": false,
     "task": false
    }
   },
   "outputs": [],
   "source": [
    "# Definición de símbolos\n",
    "x = symbols('x')\n",
    "A, B, C = symbols('A B C')\n",
    "m, n = symbols('m n')"
   ]
  },
  {
   "cell_type": "code",
   "execution_count": null,
   "id": "c98db9ce-1ae7-45a7-bd4f-78abd81d27fb",
   "metadata": {},
   "outputs": [],
   "source": [
    "quizz = Quizz('q3', 'HeCompA')"
   ]
  },
  {
   "cell_type": "markdown",
   "id": "3c8d05f6",
   "metadata": {
    "deletable": false,
    "editable": false,
    "nbgrader": {
     "checksum": "3b98b2a61258667ee05600c9ab5bec0f",
     "grade": false,
     "grade_id": "cell-d117bd03128fa0ae",
     "locked": true,
     "schema_version": 3,
     "solution": false,
     "task": false
    }
   },
   "source": [
    "<div class=\"alert alert-success\">\n",
    "\n",
    "## Ejercicios.\n",
    "\n",
    "<font color=\"Black\">\n",
    "    \n",
    "Calcula las derivadas de las funciones descritas siguiendo las reglas del apartado [Reglas de derivación](#1). Deberás escribir tu respuesta matemáticamente usando notación de Python en la variable `respuesta`. \n",
    "\n",
    "Por ejemplo la para escribir $4x^{m-1} + \\cos^2(x)$ deberás escribir:\n",
    "\n",
    "```python\n",
    "respuesta = 4 * x**(m-1) + cos(x)**2\n",
    "```\n",
    "\n",
    "</font>\n",
    "\n",
    "</div>\n",
    "\n"
   ]
  },
  {
   "cell_type": "markdown",
   "id": "35dfd843",
   "metadata": {
    "deletable": false,
    "editable": false,
    "nbgrader": {
     "checksum": "b43f1ff74a5bbd1c8b28cc4ead4e5c1a",
     "grade": false,
     "grade_id": "cell-3bd723f51d42904f",
     "locked": true,
     "schema_version": 3,
     "solution": false,
     "task": false
    }
   },
   "source": [
    "### 1. Potencias:"
   ]
  },
  {
   "cell_type": "markdown",
   "id": "da47261c",
   "metadata": {
    "deletable": false,
    "editable": false,
    "nbgrader": {
     "checksum": "ed10149fd7f03e27d9ba12afa42cb88a",
     "grade": false,
     "grade_id": "cell-73d27d1acf59adb4",
     "locked": true,
     "schema_version": 3,
     "solution": false,
     "task": false
    }
   },
   "source": [
    "<div class=\"alert alert-success\">\n",
    "1. a. $f(x) = x^{5}, f'(x) = ¿?$\n",
    "</div>"
   ]
  },
  {
   "cell_type": "code",
   "execution_count": null,
   "id": "09478971",
   "metadata": {
    "deletable": false,
    "nbgrader": {
     "checksum": "02e26d88cbb2dbb16df82134061ebbbf",
     "grade": false,
     "grade_id": "cell-26fde1f19776e34d",
     "locked": false,
     "schema_version": 3,
     "solution": true,
     "task": false
    }
   },
   "outputs": [],
   "source": [
    "# Escribe tu respuesta como sigue \n",
    "# respuesta = ...\n",
    "\n",
    "# YOUR CODE HERE\n",
    "raise NotImplementedError()\n",
    "\n",
    "display(respuesta)"
   ]
  },
  {
   "cell_type": "code",
   "execution_count": null,
   "id": "7cfe1e60",
   "metadata": {
    "deletable": false,
    "editable": false,
    "nbgrader": {
     "checksum": "40edd7027e0477d4eb496c0847ea0f76",
     "grade": true,
     "grade_id": "cell-67b9915f01598210",
     "locked": true,
     "points": 1,
     "schema_version": 3,
     "solution": false,
     "task": false
    }
   },
   "outputs": [],
   "source": [
    "quizz.eval_expression('1a', respuesta)"
   ]
  },
  {
   "cell_type": "markdown",
   "id": "e26a46a4",
   "metadata": {
    "deletable": false,
    "editable": false,
    "nbgrader": {
     "checksum": "33aa17034ea0abdca33a1f3105ccd146",
     "grade": false,
     "grade_id": "cell-0c4b2908d2afeb8e",
     "locked": true,
     "schema_version": 3,
     "solution": false,
     "task": false
    }
   },
   "source": [
    "<div class=\"alert alert-success\">\n",
    "1. b. $f(x) = x^m, f'(x)= ¿?$\n",
    "</div>"
   ]
  },
  {
   "cell_type": "code",
   "execution_count": null,
   "id": "cd468bf7",
   "metadata": {
    "deletable": false,
    "nbgrader": {
     "checksum": "1cfc4af22d29bc77c15a790d410bef04",
     "grade": false,
     "grade_id": "cell-7a9246b09ec05145",
     "locked": false,
     "schema_version": 3,
     "solution": true,
     "task": false
    }
   },
   "outputs": [],
   "source": [
    "# Escribe tu respuesta como sigue \n",
    "# respuesta = ...\n",
    "\n",
    "# YOUR CODE HERE\n",
    "raise NotImplementedError()\n",
    "\n",
    "display(respuesta)"
   ]
  },
  {
   "cell_type": "code",
   "execution_count": null,
   "id": "96428ad4",
   "metadata": {
    "deletable": false,
    "editable": false,
    "nbgrader": {
     "checksum": "abe2e426ced304472b36522df66ab237",
     "grade": true,
     "grade_id": "cell-fa778fed41a1ed5b",
     "locked": true,
     "points": 1,
     "schema_version": 3,
     "solution": false,
     "task": false
    }
   },
   "outputs": [],
   "source": [
    "quizz.eval_expression('1b', respuesta)"
   ]
  },
  {
   "cell_type": "markdown",
   "id": "bd4fbd23",
   "metadata": {
    "deletable": false,
    "editable": false,
    "nbgrader": {
     "checksum": "ee72e0940382165d33b005efe2379586",
     "grade": false,
     "grade_id": "cell-46c485a7418cd4f8",
     "locked": true,
     "schema_version": 3,
     "solution": false,
     "task": false
    }
   },
   "source": [
    "<a name='4-2'></a>\n",
    "### 2. Constantes"
   ]
  },
  {
   "cell_type": "markdown",
   "id": "c98f692f",
   "metadata": {
    "deletable": false,
    "editable": false,
    "nbgrader": {
     "checksum": "60a906c3279dc0b0c514087b219e195d",
     "grade": false,
     "grade_id": "cell-11bafbcc5bdbba72",
     "locked": true,
     "schema_version": 3,
     "solution": false,
     "task": false
    }
   },
   "source": [
    "<div class=\"alert alert-success\">\n",
    "2. a. $f(x) = \\pi^{435}, f^\\prime(x)= ¿?$\n",
    "</div>"
   ]
  },
  {
   "cell_type": "code",
   "execution_count": null,
   "id": "b10dedf2",
   "metadata": {
    "deletable": false,
    "nbgrader": {
     "checksum": "46c14e997f2e3fdcc6f68620fed86480",
     "grade": false,
     "grade_id": "cell-292efa0e41ebe205",
     "locked": false,
     "schema_version": 3,
     "solution": true,
     "task": false
    }
   },
   "outputs": [],
   "source": [
    "# Escribe tu respuesta como sigue \n",
    "# respuesta = ...\n",
    "\n",
    "# YOUR CODE HERE\n",
    "raise NotImplementedError()\n",
    "\n",
    "display(respuesta)"
   ]
  },
  {
   "cell_type": "code",
   "execution_count": null,
   "id": "29b4f1f0",
   "metadata": {
    "deletable": false,
    "editable": false,
    "nbgrader": {
     "checksum": "42f2e0df3f40fb23f79e50af1080e3f3",
     "grade": true,
     "grade_id": "cell-94afbe94737de6a9",
     "locked": true,
     "points": 1,
     "schema_version": 3,
     "solution": false,
     "task": false
    }
   },
   "outputs": [],
   "source": [
    "quizz.eval_expression('2a', respuesta)"
   ]
  },
  {
   "cell_type": "markdown",
   "id": "42b3c12c",
   "metadata": {
    "deletable": false,
    "editable": false,
    "nbgrader": {
     "checksum": "022e04a8261a9a0d75bf8f246aa1a6ff",
     "grade": false,
     "grade_id": "cell-0bd6f80e4cfd4500",
     "locked": true,
     "schema_version": 3,
     "solution": false,
     "task": false
    }
   },
   "source": [
    "<div class=\"alert alert-success\">\n",
    "2. b. $f(x) = e^{\\pi}, f'(x)= ¿?$\n",
    "</div>"
   ]
  },
  {
   "cell_type": "code",
   "execution_count": null,
   "id": "b90c2a10",
   "metadata": {
    "deletable": false,
    "nbgrader": {
     "checksum": "4c4d3b3500a207ef30c251818668e835",
     "grade": false,
     "grade_id": "cell-2a3382340906adac",
     "locked": false,
     "schema_version": 3,
     "solution": true,
     "task": false
    }
   },
   "outputs": [],
   "source": [
    "# Escribe tu respuesta como sigue \n",
    "# respuesta = ...\n",
    "\n",
    "# YOUR CODE HERE\n",
    "raise NotImplementedError()\n",
    "\n",
    "display(respuesta)"
   ]
  },
  {
   "cell_type": "code",
   "execution_count": null,
   "id": "2163c399",
   "metadata": {
    "deletable": false,
    "editable": false,
    "nbgrader": {
     "checksum": "f18c1fd8aae7b1de06c20fc220093f50",
     "grade": true,
     "grade_id": "cell-1450f4227d049101",
     "locked": true,
     "points": 1,
     "schema_version": 3,
     "solution": false,
     "task": false
    }
   },
   "outputs": [],
   "source": [
    "quizz.eval_expression('2b', respuesta)"
   ]
  },
  {
   "cell_type": "markdown",
   "id": "a2949437",
   "metadata": {
    "deletable": false,
    "editable": false,
    "nbgrader": {
     "checksum": "aa4bde41f1422738ad92712c131f9241",
     "grade": false,
     "grade_id": "cell-c2e049269cd6f742",
     "locked": true,
     "schema_version": 3,
     "solution": false,
     "task": false
    }
   },
   "source": [
    "<a name='4-3'></a>\n",
    "### 3. Multiplicación por una constante"
   ]
  },
  {
   "cell_type": "markdown",
   "id": "0b776502",
   "metadata": {
    "deletable": false,
    "editable": false,
    "nbgrader": {
     "checksum": "41f68c87ad862f3d3e146b04cc177129",
     "grade": false,
     "grade_id": "cell-57ff3a6414d69850",
     "locked": true,
     "schema_version": 3,
     "solution": false,
     "task": false
    }
   },
   "source": [
    "<div class=\"alert alert-success\">\n",
    "3. a. $f(x) = 10x^{4}, f'(x)= ¿?$\n",
    "</div>"
   ]
  },
  {
   "cell_type": "code",
   "execution_count": null,
   "id": "bd1ef3e1",
   "metadata": {
    "deletable": false,
    "nbgrader": {
     "checksum": "12dca1345f304fb304067eea97bd8085",
     "grade": false,
     "grade_id": "cell-3e066f848dc18d41",
     "locked": false,
     "schema_version": 3,
     "solution": true,
     "task": false
    }
   },
   "outputs": [],
   "source": [
    "# Escribe tu respuesta como sigue \n",
    "# respuesta = ...\n",
    "\n",
    "# YOUR CODE HERE\n",
    "raise NotImplementedError()\n",
    "\n",
    "display(respuesta)"
   ]
  },
  {
   "cell_type": "code",
   "execution_count": null,
   "id": "3a1be145",
   "metadata": {
    "deletable": false,
    "editable": false,
    "nbgrader": {
     "checksum": "4ea9a492dd7308c35280aea725afa24d",
     "grade": true,
     "grade_id": "cell-f6881afae2f8dcc7",
     "locked": true,
     "points": 1,
     "schema_version": 3,
     "solution": false,
     "task": false
    }
   },
   "outputs": [],
   "source": [
    "quizz.eval_expression('3a', respuesta)"
   ]
  },
  {
   "cell_type": "markdown",
   "id": "6d8af780",
   "metadata": {
    "deletable": false,
    "editable": false,
    "nbgrader": {
     "checksum": "13eaf98da30d61a20dc6dd88391b42d8",
     "grade": false,
     "grade_id": "cell-e8c741ecf9b80fe0",
     "locked": true,
     "schema_version": 3,
     "solution": false,
     "task": false
    }
   },
   "source": [
    "<div class=\"alert alert-success\">\n",
    "3. b. $f(x) = Ax^{n}, f'(x) = ¿?$\n",
    "</div>"
   ]
  },
  {
   "cell_type": "code",
   "execution_count": null,
   "id": "117a667f",
   "metadata": {
    "deletable": false,
    "nbgrader": {
     "checksum": "e6a9f9643149c4e4482c8f095afbc815",
     "grade": false,
     "grade_id": "cell-7bfd07bc37526d42",
     "locked": false,
     "schema_version": 3,
     "solution": true,
     "task": false
    }
   },
   "outputs": [],
   "source": [
    "# Definimos los símbolos A y n\n",
    "A, n = sy.symbols('A n')\n",
    "\n",
    "# Escribe tu respuesta como sigue \n",
    "# respuesta = ...\n",
    "\n",
    "# YOUR CODE HERE\n",
    "raise NotImplementedError()\n",
    "\n",
    "display(respuesta)"
   ]
  },
  {
   "cell_type": "code",
   "execution_count": null,
   "id": "c79974d8",
   "metadata": {
    "deletable": false,
    "editable": false,
    "nbgrader": {
     "checksum": "73c7d481cbe3ac36c44a382dc38bea18",
     "grade": true,
     "grade_id": "cell-f492a3fac3a7c0b0",
     "locked": true,
     "points": 1,
     "schema_version": 3,
     "solution": false,
     "task": false
    }
   },
   "outputs": [],
   "source": [
    "quizz.eval_expression('3b', respuesta)"
   ]
  },
  {
   "cell_type": "markdown",
   "id": "cb439318",
   "metadata": {
    "deletable": false,
    "editable": false,
    "nbgrader": {
     "checksum": "910dc60805d8c69823070ab9f57251ee",
     "grade": false,
     "grade_id": "cell-c8ff76bc2f4cc9e8",
     "locked": true,
     "schema_version": 3,
     "solution": false,
     "task": false
    }
   },
   "source": [
    "<a name='4-4'></a>\n",
    "### 4. Suma y Diferencia"
   ]
  },
  {
   "cell_type": "markdown",
   "id": "32082b3f",
   "metadata": {
    "deletable": false,
    "editable": false,
    "nbgrader": {
     "checksum": "9c5782d740673323158b95e3147a5ba2",
     "grade": false,
     "grade_id": "cell-c83dbaa155fc3cca",
     "locked": true,
     "schema_version": 3,
     "solution": false,
     "task": false
    }
   },
   "source": [
    "<div class=\"alert alert-success\">\n",
    "4. a. $f(x) = x^{2}+x+1, f'(x) = ¿?$\n",
    "</div>"
   ]
  },
  {
   "cell_type": "code",
   "execution_count": null,
   "id": "7d35b11d",
   "metadata": {
    "deletable": false,
    "nbgrader": {
     "checksum": "c63dd5b510f59adfe60a4a5a69db6588",
     "grade": false,
     "grade_id": "cell-54918aa91ab71390",
     "locked": false,
     "schema_version": 3,
     "solution": true,
     "task": false
    }
   },
   "outputs": [],
   "source": [
    "# Escribe tu respuesta como sigue \n",
    "# respuesta = ...\n",
    "\n",
    "# YOUR CODE HERE\n",
    "raise NotImplementedError()\n",
    "\n",
    "display(respuesta)"
   ]
  },
  {
   "cell_type": "code",
   "execution_count": null,
   "id": "8839ca77",
   "metadata": {
    "deletable": false,
    "editable": false,
    "nbgrader": {
     "checksum": "a9ce0e02be164a813196b5f0ddbfffc9",
     "grade": true,
     "grade_id": "cell-40fe2d78c38b0d64",
     "locked": true,
     "points": 1,
     "schema_version": 3,
     "solution": false,
     "task": false
    }
   },
   "outputs": [],
   "source": [
    "quizz.eval_expression('4a', respuesta)"
   ]
  },
  {
   "cell_type": "markdown",
   "id": "9a896b9d",
   "metadata": {
    "deletable": false,
    "editable": false,
    "nbgrader": {
     "checksum": "50181b532d5be309c2bbd99e1d7bda38",
     "grade": false,
     "grade_id": "cell-c3c72c39ca77cbe6",
     "locked": true,
     "schema_version": 3,
     "solution": false,
     "task": false
    }
   },
   "source": [
    "<div class=\"alert alert-success\">\n",
    "4. b. $f(x) = \\sin(x)-\\cos(x), f'(x) = ¿?$\n",
    "</div>"
   ]
  },
  {
   "cell_type": "code",
   "execution_count": null,
   "id": "f503cb28",
   "metadata": {
    "deletable": false,
    "nbgrader": {
     "checksum": "02b971f913a56114f361aa0add2816f1",
     "grade": false,
     "grade_id": "cell-5afe94314a31c646",
     "locked": false,
     "schema_version": 3,
     "solution": true,
     "task": false
    }
   },
   "outputs": [],
   "source": [
    "# Escribe tu respuesta como sigue \n",
    "# respuesta = ...\n",
    "\n",
    "# YOUR CODE HERE\n",
    "raise NotImplementedError()\n",
    "\n",
    "display(respuesta)"
   ]
  },
  {
   "cell_type": "code",
   "execution_count": null,
   "id": "46f4fb50",
   "metadata": {
    "deletable": false,
    "editable": false,
    "nbgrader": {
     "checksum": "fda51feb6a42f711fc8775fb1945384c",
     "grade": true,
     "grade_id": "cell-2dc4f33e7f9d8efa",
     "locked": true,
     "points": 1,
     "schema_version": 3,
     "solution": false,
     "task": false
    }
   },
   "outputs": [],
   "source": [
    "quizz.eval_expression('4b', respuesta)"
   ]
  },
  {
   "cell_type": "markdown",
   "id": "cfd0f8a2",
   "metadata": {
    "deletable": false,
    "editable": false,
    "nbgrader": {
     "checksum": "092e4db75dbe80d4513fc2c4fd3d81e0",
     "grade": false,
     "grade_id": "cell-dae3728b3bf71c0d",
     "locked": true,
     "schema_version": 3,
     "solution": false,
     "task": false
    }
   },
   "source": [
    "<div class=\"alert alert-success\">\n",
    "4. c. $f(x) = Ax^{m}-Bx^{n}+C, f'(x) = ¿?$\n",
    "</div>"
   ]
  },
  {
   "cell_type": "code",
   "execution_count": null,
   "id": "356e950c",
   "metadata": {
    "deletable": false,
    "nbgrader": {
     "checksum": "4ac240be1eea4c62994b85cbab77b48b",
     "grade": false,
     "grade_id": "cell-b9742ec1e4618ff3",
     "locked": false,
     "schema_version": 3,
     "solution": true,
     "task": false
    }
   },
   "outputs": [],
   "source": [
    "# Definimos los símbolos B y C\n",
    "B, C = sy.symbols('B C')\n",
    "\n",
    "# Escribe tu respuesta como sigue \n",
    "# respuesta = ...\n",
    "\n",
    "# YOUR CODE HERE\n",
    "raise NotImplementedError()\n",
    "\n",
    "display(respuesta)"
   ]
  },
  {
   "cell_type": "code",
   "execution_count": null,
   "id": "582d1599",
   "metadata": {
    "deletable": false,
    "editable": false,
    "nbgrader": {
     "checksum": "05e8657d70e2c65b5c14b30ca89ad719",
     "grade": true,
     "grade_id": "cell-4b7f8cefdbd7d4d2",
     "locked": true,
     "points": 1,
     "schema_version": 3,
     "solution": false,
     "task": false
    }
   },
   "outputs": [],
   "source": [
    "quizz.eval_expression('4c', respuesta)"
   ]
  },
  {
   "cell_type": "markdown",
   "id": "0b5b04c6",
   "metadata": {
    "deletable": false,
    "editable": false,
    "nbgrader": {
     "checksum": "0d67b0059234398476319639640be4a9",
     "grade": false,
     "grade_id": "cell-ed98bd365b7d1b07",
     "locked": true,
     "schema_version": 3,
     "solution": false,
     "task": false
    }
   },
   "source": [
    "<a name='4-5'></a>\n",
    "### 5. Producto de funciones"
   ]
  },
  {
   "cell_type": "markdown",
   "id": "65b8d1bc",
   "metadata": {
    "deletable": false,
    "editable": false,
    "nbgrader": {
     "checksum": "4d65611539cae417ed2ec2a6a3df77ec",
     "grade": false,
     "grade_id": "cell-ef03efbfbdac4b27",
     "locked": true,
     "schema_version": 3,
     "solution": false,
     "task": false
    }
   },
   "source": [
    "__NOTA__:Reduce la solucion a su mínima expresion"
   ]
  },
  {
   "cell_type": "markdown",
   "id": "0aa9ae58",
   "metadata": {
    "deletable": false,
    "editable": false,
    "nbgrader": {
     "checksum": "66ecb8ebc51ae0bbb1f6cf1816d6ff09",
     "grade": false,
     "grade_id": "cell-06e3304cef619c98",
     "locked": true,
     "schema_version": 3,
     "solution": false,
     "task": false
    }
   },
   "source": [
    "<div class=\"alert alert-success\">\n",
    "5. a. $f(x) = (x^4)( x^{-2}), f'(x) = ¿?$\n",
    "</div>"
   ]
  },
  {
   "cell_type": "code",
   "execution_count": null,
   "id": "fc9edd40",
   "metadata": {
    "deletable": false,
    "nbgrader": {
     "checksum": "8224e92b8d95dafd49d35809ddca9114",
     "grade": false,
     "grade_id": "cell-1329e6740c0e1af4",
     "locked": false,
     "schema_version": 3,
     "solution": true,
     "task": false
    }
   },
   "outputs": [],
   "source": [
    "# Escribe tu respuesta como sigue \n",
    "# respuesta = ...\n",
    "\n",
    "# YOUR CODE HERE\n",
    "raise NotImplementedError()\n",
    "\n",
    "display(respuesta)"
   ]
  },
  {
   "cell_type": "code",
   "execution_count": null,
   "id": "03700dfc-0723-4c28-a755-b29ad542a8e7",
   "metadata": {
    "deletable": false,
    "editable": false,
    "nbgrader": {
     "checksum": "7d6916d7112e25a73045deb045661db0",
     "grade": true,
     "grade_id": "cell-0af586298a928996",
     "locked": true,
     "points": 1,
     "schema_version": 3,
     "solution": false,
     "task": false
    }
   },
   "outputs": [],
   "source": [
    "quizz.eval_expression('5a', respuesta)"
   ]
  },
  {
   "cell_type": "markdown",
   "id": "f17a25e6",
   "metadata": {
    "deletable": false,
    "editable": false,
    "nbgrader": {
     "checksum": "8f86a608ea9cb1a2e5f5ee927099d051",
     "grade": false,
     "grade_id": "cell-a1f3b6403e11e738",
     "locked": true,
     "schema_version": 3,
     "solution": false,
     "task": false
    }
   },
   "source": [
    "<div class=\"alert alert-success\">\n",
    "5. b. $f(x) = \\sin(x)\\cos(x), f'(x) = ¿?$\n",
    "</div>"
   ]
  },
  {
   "cell_type": "code",
   "execution_count": null,
   "id": "4e1cb351",
   "metadata": {
    "deletable": false,
    "nbgrader": {
     "checksum": "4592cf048252cf85299b496bd06fd1eb",
     "grade": false,
     "grade_id": "cell-c124dcf679693047",
     "locked": false,
     "schema_version": 3,
     "solution": true,
     "task": false
    }
   },
   "outputs": [],
   "source": [
    "# Escribe tu respuesta como sigue \n",
    "# respuesta = ...\n",
    "\n",
    "# YOUR CODE HERE\n",
    "raise NotImplementedError()\n",
    "\n",
    "display(respuesta)"
   ]
  },
  {
   "cell_type": "code",
   "execution_count": null,
   "id": "f868fb63",
   "metadata": {
    "deletable": false,
    "editable": false,
    "nbgrader": {
     "checksum": "9b57e64d7525cf4c7b734b640a0c83a8",
     "grade": true,
     "grade_id": "cell-25f754adbb003a7d",
     "locked": true,
     "points": 1,
     "schema_version": 3,
     "solution": false,
     "task": false
    }
   },
   "outputs": [],
   "source": [
    "quizz.eval_expression('5b', respuesta)"
   ]
  },
  {
   "cell_type": "markdown",
   "id": "5b9016cb",
   "metadata": {
    "deletable": false,
    "editable": false,
    "nbgrader": {
     "checksum": "7c1fab87887bc04495c4fd80e4c7c4ab",
     "grade": false,
     "grade_id": "cell-fe575b2dcee0a8f8",
     "locked": true,
     "schema_version": 3,
     "solution": false,
     "task": false
    }
   },
   "source": [
    "<a name='4-6'></a>\n",
    "### 6. Cociente de funciones"
   ]
  },
  {
   "cell_type": "markdown",
   "id": "c9ff59d1",
   "metadata": {
    "deletable": false,
    "editable": false,
    "nbgrader": {
     "checksum": "51adc931018eb223041ae40285598d75",
     "grade": false,
     "grade_id": "cell-26b6b561372fd29b",
     "locked": true,
     "schema_version": 3,
     "solution": false,
     "task": false
    }
   },
   "source": [
    "__Nota:__ Reduce la expresión del numerador\n",
    "\n",
    "__Formato__: ( f(x) )/( g(x) )"
   ]
  },
  {
   "cell_type": "markdown",
   "id": "a9f79430",
   "metadata": {
    "deletable": false,
    "editable": false,
    "nbgrader": {
     "checksum": "8d3fd9bbe4363ada61b3994edc697b25",
     "grade": false,
     "grade_id": "cell-2d8183109c7aa8ed",
     "locked": true,
     "schema_version": 3,
     "solution": false,
     "task": false
    }
   },
   "source": [
    "<div class=\"alert alert-success\">\n",
    "6. a. $f(x) = \\dfrac{\\sin(x)}{x}, f'(x) = ¿?$\n",
    "</div>"
   ]
  },
  {
   "cell_type": "code",
   "execution_count": null,
   "id": "efac9b44",
   "metadata": {
    "deletable": false,
    "nbgrader": {
     "checksum": "e98db381489ae8229618f679dff421ff",
     "grade": false,
     "grade_id": "cell-4707744cf5b591ce",
     "locked": false,
     "schema_version": 3,
     "solution": true,
     "task": false
    }
   },
   "outputs": [],
   "source": [
    "# Escribe tu respuesta como sigue \n",
    "# respuesta = ...\n",
    "\n",
    "# YOUR CODE HERE\n",
    "raise NotImplementedError()\n",
    "\n",
    "display(respuesta)"
   ]
  },
  {
   "cell_type": "code",
   "execution_count": null,
   "id": "8406ca12",
   "metadata": {
    "deletable": false,
    "editable": false,
    "nbgrader": {
     "checksum": "6f1dba5182d36818df693c2c4409d7a8",
     "grade": true,
     "grade_id": "cell-23370a4d2db40ecf",
     "locked": true,
     "points": 1,
     "schema_version": 3,
     "solution": false,
     "task": false
    }
   },
   "outputs": [],
   "source": [
    "quizz.eval_expression('6a', respuesta)"
   ]
  },
  {
   "cell_type": "markdown",
   "id": "6fb5ace3",
   "metadata": {
    "deletable": false,
    "editable": false,
    "nbgrader": {
     "checksum": "3794aaff3982dbfd6d5d9ffb5e34a73a",
     "grade": false,
     "grade_id": "cell-141f01a2de467633",
     "locked": true,
     "schema_version": 3,
     "solution": false,
     "task": false
    }
   },
   "source": [
    "<div class=\"alert alert-success\">\n",
    "6. b. $f(x) = \\dfrac{1}{x^2+x+1}, f'(x) = ¿?$\n",
    "</div>"
   ]
  },
  {
   "cell_type": "code",
   "execution_count": null,
   "id": "0eaaec63",
   "metadata": {
    "deletable": false,
    "nbgrader": {
     "checksum": "5111ec38604bde06404e3a6fc9ea9aff",
     "grade": false,
     "grade_id": "cell-2e9a2122a16f800b",
     "locked": false,
     "schema_version": 3,
     "solution": true,
     "task": false
    }
   },
   "outputs": [],
   "source": [
    "# Escribe tu respuesta como sigue \n",
    "# respuesta = ...\n",
    "\n",
    "# YOUR CODE HERE\n",
    "raise NotImplementedError()\n",
    "\n",
    "display(respuesta)"
   ]
  },
  {
   "cell_type": "code",
   "execution_count": null,
   "id": "889de543",
   "metadata": {
    "deletable": false,
    "editable": false,
    "nbgrader": {
     "checksum": "8fc5d301f1bea03e94bb43e41e503e86",
     "grade": true,
     "grade_id": "cell-44623b766332d2ca",
     "locked": true,
     "points": 1,
     "schema_version": 3,
     "solution": false,
     "task": false
    }
   },
   "outputs": [],
   "source": [
    "quizz.eval_expression('6b', respuesta)"
   ]
  },
  {
   "cell_type": "markdown",
   "id": "3773969f",
   "metadata": {
    "deletable": false,
    "editable": false,
    "nbgrader": {
     "checksum": "68d7e70b6c8710482c15f5f10375132a",
     "grade": false,
     "grade_id": "cell-9ef10e62f9d20a9e",
     "locked": true,
     "schema_version": 3,
     "solution": false,
     "task": false
    }
   },
   "source": [
    "<a name='4-7'></a>\n",
    "### 7. Regla de la Cadena"
   ]
  },
  {
   "cell_type": "markdown",
   "id": "18d40532",
   "metadata": {
    "deletable": false,
    "editable": false,
    "nbgrader": {
     "checksum": "9bdf8fbc8c115ea8d7937a4a209e7c85",
     "grade": false,
     "grade_id": "cell-7899d24c055fa575",
     "locked": true,
     "schema_version": 3,
     "solution": false,
     "task": false
    }
   },
   "source": [
    "<div class=\"alert alert-success\">\n",
    "7. a. $f(x) = (5x^2 + 2x)^{2}, f'(x) = ¿?$\n",
    "</div>"
   ]
  },
  {
   "cell_type": "code",
   "execution_count": null,
   "id": "7f2e14cb",
   "metadata": {
    "deletable": false,
    "nbgrader": {
     "checksum": "5daf09a951fa7f704b7aa409e5d3ab9d",
     "grade": false,
     "grade_id": "cell-07e39d870e198497",
     "locked": false,
     "schema_version": 3,
     "solution": true,
     "task": false
    }
   },
   "outputs": [],
   "source": [
    "# Escribe tu respuesta como sigue \n",
    "# respuesta = ...\n",
    "\n",
    "# YOUR CODE HERE\n",
    "raise NotImplementedError()\n",
    "\n",
    "display(respuesta)"
   ]
  },
  {
   "cell_type": "code",
   "execution_count": null,
   "id": "ae9fd7cb",
   "metadata": {
    "deletable": false,
    "editable": false,
    "nbgrader": {
     "checksum": "c7780222899dfb6827e5104223867653",
     "grade": true,
     "grade_id": "cell-e0e1f3f34c7a4fde",
     "locked": true,
     "points": 1,
     "schema_version": 3,
     "solution": false,
     "task": false
    }
   },
   "outputs": [],
   "source": [
    "quizz.eval_expression('7a', respuesta)"
   ]
  },
  {
   "cell_type": "markdown",
   "id": "4b1bb4a3",
   "metadata": {
    "deletable": false,
    "editable": false,
    "nbgrader": {
     "checksum": "afb8ef6be379a9f8120cb3ba80de7be3",
     "grade": false,
     "grade_id": "cell-fc3fb9fb5451d7aa",
     "locked": true,
     "schema_version": 3,
     "solution": false,
     "task": false
    }
   },
   "source": [
    "<div class=\"alert alert-success\">\n",
    "7. b. $f(x) = \\cos(x^2 +3), f'(x) = ¿?$\n",
    "</div>"
   ]
  },
  {
   "cell_type": "code",
   "execution_count": null,
   "id": "198a018f",
   "metadata": {
    "deletable": false,
    "nbgrader": {
     "checksum": "e929f9dea2084a90491215c00660a327",
     "grade": false,
     "grade_id": "cell-fb447f5bc18963ca",
     "locked": false,
     "schema_version": 3,
     "solution": true,
     "task": false
    }
   },
   "outputs": [],
   "source": [
    "# Escribe tu respuesta como sigue \n",
    "# respuesta = ...\n",
    "\n",
    "# YOUR CODE HERE\n",
    "raise NotImplementedError()\n",
    "\n",
    "display(respuesta)"
   ]
  },
  {
   "cell_type": "code",
   "execution_count": null,
   "id": "6f7bdff6",
   "metadata": {
    "deletable": false,
    "editable": false,
    "nbgrader": {
     "checksum": "e840da90c3dd817745b0a163ef10c479",
     "grade": true,
     "grade_id": "cell-a2a7b230ecd5bd6b",
     "locked": true,
     "points": 1,
     "schema_version": 3,
     "solution": false,
     "task": false
    }
   },
   "outputs": [],
   "source": [
    "quizz.eval_expression('7b', respuesta)"
   ]
  },
  {
   "cell_type": "markdown",
   "id": "57a2b1ca",
   "metadata": {
    "deletable": false,
    "editable": false,
    "nbgrader": {
     "checksum": "fe2fa1ca8919b1f16aa3b6a2d0c53626",
     "grade": false,
     "grade_id": "cell-e0f6d68cc8aaf84f",
     "locked": true,
     "schema_version": 3,
     "solution": false,
     "task": false
    }
   },
   "source": [
    "<a name='4-8'></a>\n",
    "### 8. Derivadas de alto orden\n",
    "\n",
    "Calcular la primera, segunda, tercera y cuarta derivada de $f(x)= 3x^4 + 2x^2 - 20$."
   ]
  },
  {
   "cell_type": "markdown",
   "id": "4fb6bb48",
   "metadata": {
    "deletable": false,
    "editable": false,
    "nbgrader": {
     "checksum": "e1b2dce0851b71fe8cfa72dbf896b873",
     "grade": false,
     "grade_id": "cell-e05fd7595c43893b",
     "locked": true,
     "schema_version": 3,
     "solution": false,
     "task": false
    }
   },
   "source": [
    "<div class=\"alert alert-success\">\n",
    "8. a. $f(x) = 3x^4 + 2x^2 - 20, f'(x) = ¿?$\n",
    "</div>"
   ]
  },
  {
   "cell_type": "code",
   "execution_count": null,
   "id": "8e5c9d30",
   "metadata": {
    "deletable": false,
    "nbgrader": {
     "checksum": "32491dc4b85bbf5c0b8ddcd86745fa05",
     "grade": false,
     "grade_id": "cell-7bccee2005d2bb85",
     "locked": false,
     "schema_version": 3,
     "solution": true,
     "task": false
    }
   },
   "outputs": [],
   "source": [
    "# Escribe tu respuesta como sigue \n",
    "# respuesta = ...\n",
    "\n",
    "# YOUR CODE HERE\n",
    "raise NotImplementedError()\n",
    "\n",
    "display(respuesta)"
   ]
  },
  {
   "cell_type": "code",
   "execution_count": null,
   "id": "9fdc21bc-d67d-4547-8806-fc225e0477f0",
   "metadata": {
    "deletable": false,
    "editable": false,
    "nbgrader": {
     "checksum": "9dc28b6df14db5ee65831c3d01ca0d56",
     "grade": true,
     "grade_id": "cell-8267a7d7585a35f7",
     "locked": true,
     "points": 1,
     "schema_version": 3,
     "solution": false,
     "task": false
    }
   },
   "outputs": [],
   "source": [
    "quizz.eval_expression('8a', respuesta)"
   ]
  },
  {
   "cell_type": "markdown",
   "id": "4ba0b219",
   "metadata": {
    "deletable": false,
    "editable": false,
    "nbgrader": {
     "checksum": "67c7aa90fff2dee3687ccf66206eb039",
     "grade": false,
     "grade_id": "cell-683c45298bfe0397",
     "locked": true,
     "schema_version": 3,
     "solution": false,
     "task": false
    }
   },
   "source": [
    "<div class=\"alert alert-success\">\n",
    "8. b. $f(x) = 3x^4 + 2x^2 - 20, f''(x) = ¿?$\n",
    "</div>"
   ]
  },
  {
   "cell_type": "code",
   "execution_count": null,
   "id": "e2fc1def",
   "metadata": {
    "deletable": false,
    "nbgrader": {
     "checksum": "328e57047f7d52504b08fd5f82a43027",
     "grade": false,
     "grade_id": "cell-9b39553abd0488d4",
     "locked": false,
     "schema_version": 3,
     "solution": true,
     "task": false
    }
   },
   "outputs": [],
   "source": [
    "# Escribe tu respuesta como sigue \n",
    "# respuesta = ...\n",
    "\n",
    "# YOUR CODE HERE\n",
    "raise NotImplementedError()\n",
    "\n",
    "display(respuesta)"
   ]
  },
  {
   "cell_type": "code",
   "execution_count": null,
   "id": "8fa934cf-2e54-4bb5-84e9-bc64651e260f",
   "metadata": {
    "deletable": false,
    "editable": false,
    "nbgrader": {
     "checksum": "cd9e5d9bab528bd1eea61da8466d8a31",
     "grade": true,
     "grade_id": "cell-41c3c26ef38d5cc5",
     "locked": true,
     "points": 1,
     "schema_version": 3,
     "solution": false,
     "task": false
    }
   },
   "outputs": [],
   "source": [
    "quizz.eval_expression('8b', respuesta)"
   ]
  },
  {
   "cell_type": "markdown",
   "id": "a73b1e10",
   "metadata": {
    "deletable": false,
    "editable": false,
    "nbgrader": {
     "checksum": "bcccef1fb6d28495d19f1e920d7315f5",
     "grade": false,
     "grade_id": "cell-35b5a6642caa30d3",
     "locked": true,
     "schema_version": 3,
     "solution": false,
     "task": false
    }
   },
   "source": [
    "<div class=\"alert alert-success\">\n",
    "8. c. $f(x) = 3x^4 + 2x^2 - 20, f'''(x) = ¿?$\n",
    "</div>"
   ]
  },
  {
   "cell_type": "code",
   "execution_count": null,
   "id": "545662f1",
   "metadata": {
    "deletable": false,
    "nbgrader": {
     "checksum": "8175077ca9e6b5b6b50986b6615b5ec2",
     "grade": false,
     "grade_id": "cell-d3db8bc518e25965",
     "locked": false,
     "schema_version": 3,
     "solution": true,
     "task": false
    }
   },
   "outputs": [],
   "source": [
    "# Escribe tu respuesta como sigue \n",
    "# respuesta = ...\n",
    "\n",
    "# YOUR CODE HERE\n",
    "raise NotImplementedError()\n",
    "\n",
    "display(respuesta)"
   ]
  },
  {
   "cell_type": "code",
   "execution_count": null,
   "id": "1a5406e0-3e8f-4f39-a94c-87d34717366a",
   "metadata": {
    "deletable": false,
    "editable": false,
    "nbgrader": {
     "checksum": "9e4f41a88e1b1b8eea63b4cc9ebe0064",
     "grade": true,
     "grade_id": "cell-da6c640f544fb3b2",
     "locked": true,
     "points": 1,
     "schema_version": 3,
     "solution": false,
     "task": false
    }
   },
   "outputs": [],
   "source": [
    "quizz.eval_expression('8c', respuesta)"
   ]
  },
  {
   "cell_type": "markdown",
   "id": "352fc98a",
   "metadata": {
    "deletable": false,
    "editable": false,
    "nbgrader": {
     "checksum": "27f0e8edcb661f7e90f3d18851df37e0",
     "grade": false,
     "grade_id": "cell-1707b4b94e81d1f4",
     "locked": true,
     "schema_version": 3,
     "solution": false,
     "task": false
    }
   },
   "source": [
    "<div class=\"alert alert-success\">\n",
    "8. d. $f(x) = 3x^4 + 2x^2 - 20, f''''(x) = ¿?$\n",
    "</div>"
   ]
  },
  {
   "cell_type": "code",
   "execution_count": null,
   "id": "c81864f3",
   "metadata": {
    "deletable": false,
    "nbgrader": {
     "checksum": "77e395fb9ee6df6c2c6d7c38c5e7a586",
     "grade": false,
     "grade_id": "cell-1e75962076c05f7a",
     "locked": false,
     "schema_version": 3,
     "solution": true,
     "task": false
    }
   },
   "outputs": [],
   "source": [
    "# Escribe tu respuesta como sigue \n",
    "# respuesta = ...\n",
    "\n",
    "# YOUR CODE HERE\n",
    "raise NotImplementedError()\n",
    "\n",
    "display(respuesta)"
   ]
  },
  {
   "cell_type": "code",
   "execution_count": null,
   "id": "2c038600-74fd-424c-9a9c-5b6dd285c051",
   "metadata": {
    "deletable": false,
    "editable": false,
    "nbgrader": {
     "checksum": "de62d32744141ab4ef1b03a4aaa6cee4",
     "grade": true,
     "grade_id": "cell-6fe70d9f3c9093f5",
     "locked": true,
     "points": 1,
     "schema_version": 3,
     "solution": false,
     "task": false
    }
   },
   "outputs": [],
   "source": [
    "quizz.eval_expression('8d', respuesta)"
   ]
  },
  {
   "cell_type": "markdown",
   "id": "e616d4aa-4435-4c3e-a357-6418149f2cf6",
   "metadata": {
    "deletable": false,
    "editable": false,
    "nbgrader": {
     "checksum": "3f279a6afac1a0e2d4a391a3765834ee",
     "grade": false,
     "grade_id": "cell-bd4a7826e5ffdf63",
     "locked": true,
     "schema_version": 3,
     "solution": false,
     "task": false
    }
   },
   "source": [
    "<div class=\"alert alert-success\">\n",
    "Realiza las gráficas de las cuatro derivadas y observa su comportamiento.\n",
    "</div>"
   ]
  },
  {
   "cell_type": "code",
   "execution_count": null,
   "id": "11f2037e",
   "metadata": {
    "deletable": false,
    "nbgrader": {
     "checksum": "f46ff0955331514d88aa27a48df67139",
     "grade": false,
     "grade_id": "cell-19ab4611cc345603",
     "locked": false,
     "schema_version": 3,
     "solution": true,
     "task": false
    }
   },
   "outputs": [],
   "source": [
    "# Definimos la función y sus cuatro derivadas\n",
    "f = lambda x: 3*x**4 + 2*x**3 -20\n",
    "\n",
    "# YOUR CODE HERE\n",
    "raise NotImplementedError()\n",
    "# f1 = lambda x: ...\n",
    "# f2 = lambda x: ...\n",
    "# f3 = lambda x: ...\n",
    "# f4 = lambda x: ...\n",
    "\n",
    "xc = np.linspace(-3, 3, 50) # Codominio de la función\n",
    "\n",
    "# Graficamos la función y sus derivadas\n",
    "plt.title('$f(x)=3x^4 + 2x^3 -20$ y sus derivadas')\n",
    "plt.plot(xc, f(xc), label='$f(x)$')\n",
    "plt.plot(xc, f1(xc), label='$f^{(1)}(x)$')\n",
    "plt.plot(xc, f2(xc), label='$f^{(2)}(x)$')\n",
    "plt.plot(xc, f3(xc), label='$f^{(3)}(x)$')\n",
    "plt.plot(xc, f4(xc), label='$f^{(4)}(x)$')\n",
    "plt.legend()\n",
    "plt.show()"
   ]
  },
  {
   "cell_type": "markdown",
   "id": "a923cacd",
   "metadata": {
    "deletable": false,
    "editable": false,
    "nbgrader": {
     "checksum": "afe11168e6f921cd1e0481033942ad0b",
     "grade": false,
     "grade_id": "cell-b3d85b7af86e9372",
     "locked": true,
     "schema_version": 3,
     "solution": false,
     "task": false
    }
   },
   "source": [
    "<div class=\"alert alert-success\">\n",
    "    \n",
    "8. e. Calcula la **primera** derivada de $f(x)= x^5 - 2x^3 + x$.\n",
    "</div>"
   ]
  },
  {
   "cell_type": "code",
   "execution_count": null,
   "id": "7e3ebca2",
   "metadata": {
    "deletable": false,
    "nbgrader": {
     "checksum": "c7b6ea36e9ed5611345ee802715b1ebf",
     "grade": false,
     "grade_id": "cell-a52b88b62f44d0b3",
     "locked": false,
     "schema_version": 3,
     "solution": true,
     "task": false
    }
   },
   "outputs": [],
   "source": [
    "# Escribe tu respuesta como sigue \n",
    "# respuesta = ...\n",
    "\n",
    "# YOUR CODE HERE\n",
    "raise NotImplementedError()\n",
    "\n",
    "display(respuesta)"
   ]
  },
  {
   "cell_type": "code",
   "execution_count": null,
   "id": "f8b23a0c-8822-4153-8a62-ac53e7ab212c",
   "metadata": {
    "deletable": false,
    "editable": false,
    "nbgrader": {
     "checksum": "16d826b930d815f3681a209353d1787d",
     "grade": true,
     "grade_id": "cell-14519fec87462864",
     "locked": true,
     "points": 1,
     "schema_version": 3,
     "solution": false,
     "task": false
    }
   },
   "outputs": [],
   "source": [
    "quizz.eval_expression('8e', respuesta)"
   ]
  },
  {
   "cell_type": "markdown",
   "id": "6db0bec3",
   "metadata": {
    "deletable": false,
    "editable": false,
    "nbgrader": {
     "checksum": "1b85f4f3f113ecd45560e691c088d8f3",
     "grade": false,
     "grade_id": "cell-2a9c4fb6cd761a81",
     "locked": true,
     "schema_version": 3,
     "solution": false,
     "task": false
    }
   },
   "source": [
    "<div class=\"alert alert-success\">\n",
    "    \n",
    "8. f. Calcula la **segunda** derivada de $f(x)= x^5 - 2x^3 + x$.\n",
    "</div>"
   ]
  },
  {
   "cell_type": "code",
   "execution_count": null,
   "id": "b54fa500",
   "metadata": {
    "deletable": false,
    "nbgrader": {
     "checksum": "1ce3b453131d96f5373e0834833b3f3e",
     "grade": false,
     "grade_id": "cell-11c031f1fd280fe5",
     "locked": false,
     "schema_version": 3,
     "solution": true,
     "task": false
    }
   },
   "outputs": [],
   "source": [
    "# Escribe tu respuesta como sigue \n",
    "# respuesta = ...\n",
    "\n",
    "# YOUR CODE HERE\n",
    "raise NotImplementedError()\n",
    "\n",
    "display(respuesta)"
   ]
  },
  {
   "cell_type": "code",
   "execution_count": null,
   "id": "4f66bc54-5c4c-4328-8e05-16a77e4cad12",
   "metadata": {
    "deletable": false,
    "editable": false,
    "nbgrader": {
     "checksum": "cf89a40054c81d03135a84d11a5e9a47",
     "grade": true,
     "grade_id": "cell-b80644cb2ddd004a",
     "locked": true,
     "points": 1,
     "schema_version": 3,
     "solution": false,
     "task": false
    }
   },
   "outputs": [],
   "source": [
    "quizz.eval_expression('8f', respuesta)"
   ]
  },
  {
   "cell_type": "markdown",
   "id": "ecbf57bf",
   "metadata": {
    "deletable": false,
    "editable": false,
    "nbgrader": {
     "checksum": "1141148bdaca73ee4c40e3a9b4a32d02",
     "grade": false,
     "grade_id": "cell-948e74de33c66685",
     "locked": true,
     "schema_version": 3,
     "solution": false,
     "task": false
    }
   },
   "source": [
    "<div class=\"alert alert-success\">\n",
    "    \n",
    "8. g. Calcula la **primera** derivada de $f(x) = 4 \\cos x^2, f'(x) = ¿?$\n",
    "</div>"
   ]
  },
  {
   "cell_type": "code",
   "execution_count": null,
   "id": "040ac515",
   "metadata": {
    "deletable": false,
    "nbgrader": {
     "checksum": "04bb52ac1469750b1c3b6022dcd17e0b",
     "grade": false,
     "grade_id": "cell-c9f5ebde6e386ebe",
     "locked": false,
     "schema_version": 3,
     "solution": true,
     "task": false
    }
   },
   "outputs": [],
   "source": [
    "# Escribe tu respuesta como sigue \n",
    "# respuesta = ...\n",
    "\n",
    "# YOUR CODE HERE\n",
    "raise NotImplementedError()\n",
    "\n",
    "display(respuesta)"
   ]
  },
  {
   "cell_type": "code",
   "execution_count": null,
   "id": "2d5df84e-be08-4028-a1f1-5fba46cdf394",
   "metadata": {
    "deletable": false,
    "editable": false,
    "nbgrader": {
     "checksum": "e9285a02b83135ee0b415c71eda5d3be",
     "grade": true,
     "grade_id": "cell-d3c73d184bdaec40",
     "locked": true,
     "points": 1,
     "schema_version": 3,
     "solution": false,
     "task": false
    }
   },
   "outputs": [],
   "source": [
    "quizz.eval_expression('8g', respuesta)"
   ]
  },
  {
   "cell_type": "markdown",
   "id": "129c3f2f",
   "metadata": {
    "deletable": false,
    "editable": false,
    "nbgrader": {
     "checksum": "3a5a271c8e3667fc03b764e08512719d",
     "grade": false,
     "grade_id": "cell-e64e3fcc512a4d81",
     "locked": true,
     "schema_version": 3,
     "solution": false,
     "task": false
    }
   },
   "source": [
    "<div class=\"alert alert-success\">\n",
    "    \n",
    "8. h. Calcula la **segunda** derivada de $f(x) = 4 \\cos x^2, f'(x) = ¿?$\n",
    "</div>"
   ]
  },
  {
   "cell_type": "code",
   "execution_count": null,
   "id": "44101c69",
   "metadata": {
    "deletable": false,
    "nbgrader": {
     "checksum": "21edc95f750a803e5920f09418378de5",
     "grade": false,
     "grade_id": "cell-1331595cbc2786f9",
     "locked": false,
     "schema_version": 3,
     "solution": true,
     "task": false
    }
   },
   "outputs": [],
   "source": [
    "# Escribe tu respuesta como sigue \n",
    "# respuesta = ...\n",
    "\n",
    "# YOUR CODE HERE\n",
    "raise NotImplementedError()\n",
    "\n",
    "display(respuesta)"
   ]
  },
  {
   "cell_type": "code",
   "execution_count": null,
   "id": "71eab698-e8f3-4ba0-94e6-36043e9a10cc",
   "metadata": {
    "deletable": false,
    "editable": false,
    "nbgrader": {
     "checksum": "823b06b2db9355d53a4cf0835e458d02",
     "grade": true,
     "grade_id": "cell-861d74119e0efa2a",
     "locked": true,
     "points": 1,
     "schema_version": 3,
     "solution": false,
     "task": false
    }
   },
   "outputs": [],
   "source": [
    "quizz.eval_expression('8h', respuesta)"
   ]
  },
  {
   "cell_type": "markdown",
   "id": "42992142-c53c-4692-8b87-31b3a862c68c",
   "metadata": {
    "deletable": false,
    "editable": false,
    "nbgrader": {
     "checksum": "6055ca0057a16d858dd68eacba12003a",
     "grade": false,
     "grade_id": "cell-fd0c5af24039116e",
     "locked": true,
     "schema_version": 3,
     "solution": false,
     "task": false
    }
   },
   "source": [
    "<div class=\"alert alert-success\">\n",
    "Realiza las gráficas de las dos funciones y de su primera y segunda derivadas.\n",
    "</div>"
   ]
  },
  {
   "cell_type": "code",
   "execution_count": null,
   "id": "c26a7f6c",
   "metadata": {
    "deletable": false,
    "nbgrader": {
     "checksum": "d47bf521b0aa0f6296240e684eac1fca",
     "grade": false,
     "grade_id": "cell-dcc80f43ba054eeb",
     "locked": false,
     "schema_version": 3,
     "solution": true,
     "task": false
    }
   },
   "outputs": [],
   "source": [
    "f = lambda x: x**5 - 2*x**3 + x\n",
    "\n",
    "# YOUR CODE HERE\n",
    "raise NotImplementedError()\n",
    "# f1 = lambda x: ...\n",
    "# f2 = lambda x: ...\n",
    "\n",
    "# Definimos la segunda función y sus derivadas\n",
    "g = lambda x: 4*np.cos(x**2)\n",
    "\n",
    "# YOUR CODE HERE\n",
    "raise NotImplementedError()\n",
    "# g1 = lambda x: ...\n",
    "# g2 = lambda x: ...\n",
    "\n",
    "xc = np.linspace(-3, 3, 50) # Codominio de las funciones\n",
    "\n",
    "# Graficamos las funciones y sus derivadas\n",
    "plt.figure(figsize=(16,6))\n",
    "ax1 = plt.subplot(1,2,1)\n",
    "ax2 = plt.subplot(1,2,2)\n",
    "\n",
    "ax1.plot(xc, f(xc), label='$f(x)$',lw=3)\n",
    "ax1.plot(xc, f1(xc), label='$f^{(1)}(x)$',lw=3)\n",
    "ax1.plot(xc, f2(xc), label='$f^{(2)}(x)$',lw=3)\n",
    "ax1.legend(loc='upper center')\n",
    "ax1.set_title('$f(x)=x^5 - 2x^3 + x$ y sus derivadas')\n",
    "ax1.set_xlabel\n",
    "\n",
    "ax2.plot(xc, g(xc), label='$g(x)$',lw=3)\n",
    "ax2.plot(xc, g1(xc), label='$g^{(1)}(x)$',lw=3)\n",
    "ax2.plot(xc, g2(xc), label='$g^{(2)}(x)$',lw=3)\n",
    "ax2.legend(loc='upper center')\n",
    "ax2.set_title('$g(x)=4\\cos(x^2)$ y sus derivadas')\n",
    "\n",
    "ax1.set_xlabel(\"$x$\")\n",
    "ax1.set_ylabel(\"$f(x)$\")\n",
    "ax2.set_xlabel(\"$x$\")\n",
    "ax2.set_ylabel(\"$g(x)$\")\n",
    "\n",
    "plt.show()"
   ]
  },
  {
   "cell_type": "markdown",
   "id": "65d1e5ec",
   "metadata": {
    "deletable": false,
    "editable": false,
    "nbgrader": {
     "checksum": "8341b839499e4ecee0d4e4220d006ac6",
     "grade": false,
     "grade_id": "cell-264b5a5e50017fe9",
     "locked": true,
     "schema_version": 3,
     "solution": false,
     "task": false
    }
   },
   "source": [
    "<a name='4-9'></a>\n",
    "### 9. Aplicación de la regla de L'Hopital\n",
    "\n",
    "<div class=\"alert alert-success\">\n",
    "Utilizando la regla de L'Hopital encuentra el límite de $\\displaystyle f(x)=\\frac{\\sin(x)}{x}$ cuando $x$ tiende a cero.\n",
    "</div>\n",
    "\n",
    "**Solución.**\n",
    "\n",
    "Al cumplirse las condiciones de la regla podemos asegurar que:\n",
    " $$ \\lim_{x \\to 0} \\frac{\\sin (x)}{x} = \\lim_{x \\to 0} \\frac{\\sin^\\prime(x)}{x^\\prime} = \\lim_{x \\to 0} \\frac{\\cos(x)}{1}=1$$\n"
   ]
  },
  {
   "cell_type": "code",
   "execution_count": null,
   "id": "0fd0cb0f",
   "metadata": {
    "deletable": false,
    "editable": false,
    "nbgrader": {
     "checksum": "9f566dcebb3ef156615e3162431193d3",
     "grade": false,
     "grade_id": "cell-515fbf68107eee7b",
     "locked": true,
     "schema_version": 3,
     "solution": false,
     "task": false
    }
   },
   "outputs": [],
   "source": [
    "f = lambda x: np.sin(x) / x\n",
    "\n",
    "x = np.linspace(-4*np.pi, 4*np.pi, num=100) # Codominio de la función\n",
    "\n",
    "# Graficamos la función y el punto (0, f(0))\n",
    "plt.title('$f(x)=\\sin(x) / x$')\n",
    "plt.ylabel(\"$f(x)$\")\n",
    "plt.xlabel(\"$x$\")\n",
    "plt.plot(x, f(x),lw=3)\n",
    "plt.scatter(0, 1, label='Límite cuando $x \\Rightarrow 0$', fc='red', ec='black', alpha=0.75, s=75, zorder=10)\n",
    "plt.legend()\n",
    "plt.show()"
   ]
  },
  {
   "cell_type": "markdown",
   "id": "f8e79ed9",
   "metadata": {
    "deletable": false,
    "editable": false,
    "nbgrader": {
     "checksum": "d5b2e85191919b521c14fb3d54e5390e",
     "grade": false,
     "grade_id": "cell-813a867fd2a91eea",
     "locked": true,
     "schema_version": 3,
     "solution": false,
     "task": false
    },
    "tags": []
   },
   "source": [
    "<a name='4-10'></a>\n",
    "### 10. Ejemplo del teorema de Rolle.\n",
    "\n",
    "<div class=\"alert alert-success\">\n",
    "Considera la función $f(x)= x^2 + 5$, la cual es continua en todo $\\mathbb{R}$. Tomemos el intervalo $[-5,5]$ y hagamos la gráfica de esta función.\n",
    "</div>"
   ]
  },
  {
   "cell_type": "code",
   "execution_count": null,
   "id": "27a99613",
   "metadata": {
    "deletable": false,
    "editable": false,
    "nbgrader": {
     "checksum": "9ffc271af39ff5b2d6cd73f19a6cefe6",
     "grade": false,
     "grade_id": "cell-5b61be385616c117",
     "locked": true,
     "schema_version": 3,
     "solution": false,
     "task": false
    }
   },
   "outputs": [],
   "source": [
    "# Dominio e imagen de la gráfica\n",
    "xc = np.linspace(-10,10,200)\n",
    "f = lambda i: i**2 + 5 \n",
    "\n",
    "# Configuración de la grafica\n",
    "plt.xticks(range(-10,11,5))\n",
    "plt.yticks(range(-10,110,10))\n",
    "plt.xlabel(\"$x$\",)\n",
    "plt.ylabel(\"$f(x)$\")\n",
    "plt.title(\"$f(x)=x^{2}+5$\")\n",
    "\n",
    "# Función\n",
    "plt.plot(xc,f(xc))\n",
    "\n",
    "# Dibujamos algunas líneas en la gráfica\n",
    "plt.plot(np.linspace(-10,10,2),[f(5)]*2,ls=\"dashed\",color=\"green\")\n",
    "plt.plot((5,5),(0,f(5)),ls=\"dashed\",color=\"green\")\n",
    "plt.plot((-5,-5),(0,f(5)),ls=\"dashed\",color=\"green\")\n",
    "plt.plot((-3,3),(5,5),color=\"red\",label=\"Línea Tangente\")\n",
    "\n",
    "# Dibujamos algunos puntos en la gráfica\n",
    "plt.scatter((-5,5),(0,0),color=\"black\",label=\"Puntos a y b\",zorder=5)\n",
    "plt.scatter((-5,5),(f(-5),f(5)),color=\"blue\",label=\"Puntos $f(a)$ y $f(b)$\",zorder=5)\n",
    "plt.scatter(0,f(0),color=\"red\",label=\"Punto en el que $f'(x)=0$\",zorder=5)\n",
    "\n",
    "plt.legend(loc=\"upper center\")\n",
    "plt.show()"
   ]
  },
  {
   "cell_type": "markdown",
   "id": "52108b33-3fa5-4a9d-ae32-5f3bc47b0164",
   "metadata": {
    "deletable": false,
    "editable": false,
    "nbgrader": {
     "checksum": "4c6e8c11bfb98be7a4329650339b0c08",
     "grade": false,
     "grade_id": "cell-243107b28a10bdb1",
     "locked": true,
     "schema_version": 3,
     "solution": false,
     "task": false
    }
   },
   "source": [
    "<div class=\"alert alert-info\">\n",
    "Observa en la gráfica que sigue, que se cumplen las condiciones del Teorema de Rolle y por lo tanto es posible encontrar un punto $c$, punto rojo, donde la derivada es cero (línea roja).\n",
    "</div>"
   ]
  },
  {
   "cell_type": "markdown",
   "id": "127c1ad0-443c-4ee4-ba0b-5107e4f15d2b",
   "metadata": {
    "deletable": false,
    "editable": false,
    "nbgrader": {
     "checksum": "5c6bbec62b3c25bada460e0a76d81a71",
     "grade": false,
     "grade_id": "cell-cde2492548bf7a06",
     "locked": true,
     "schema_version": 3,
     "solution": false,
     "task": false
    }
   },
   "source": [
    "<a name='1'></a>\n",
    "# Reglas de derivación\n",
    "\n",
    "En general no es complicado calcular la derivada de cualquier función y existen reglas para hacerlo más fácil.\n",
    " \n",
    "<a name='1-1'></a>\n",
    "**Regla de potencias**\n",
    "\n",
    "Para cualquier número real $n$ si $f(x)= x^n$, entonces\n",
    "$$\n",
    "f^\\prime(x) = n x^{n-1}\n",
    "$$\n",
    "\n",
    "<a name='1-2'></a>\n",
    "**Regla de la función constante**\n",
    "\n",
    "Si $f(x)=c$ es una función constante, entonces\n",
    "$$ \n",
    "f^\\prime(x)=0 \n",
    "$$\n",
    "\n",
    "<a name='1-3'></a>\n",
    "**Regla de la multiplicación por constante**\n",
    "\n",
    "Si $c$ es cualquier constante y $f(x)$ es diferenciable, entonces $g(x)= c f(x)$ también es diferenciable y su derivada es:\n",
    "$$ \n",
    "g^\\prime(x) = c f^\\prime(x) \n",
    "$$\n",
    "\n",
    "<a name='1-4'></a>\n",
    "**Regla de suma y diferencia**\n",
    "\n",
    "Si $f(x)$ y $g(x)$ son diferenciables, entonces $f(x) + g(x)$ y $f(x) - g(x)$ también son diferenciables y sus derivadas son:\n",
    "$$ \n",
    "[f(x)+ g(x)]^\\prime = f^\\prime(x) + g^\\prime(x) \n",
    "$$\n",
    "\n",
    "$$ \n",
    "[f(x)- g(x)]^\\prime=f^\\prime(x) - g^\\prime(x) \n",
    "$$\n",
    "\n",
    "<a name='1-5'></a>\n",
    "**Regla del producto**\n",
    "\n",
    "Si $f(x)$ y $g(x)$ son funciones diferenciables, entonces $f(x)g(x)$ es diferenciable y su derivada es:\n",
    "$$ \n",
    "[f(x) g(x)]^\\prime= f(x)g^\\prime(x) + g(x)f^\\prime(x) \n",
    "$$\n",
    "\n",
    "<a name='1-6'></a>\n",
    "**Regla del cociente**\n",
    "\n",
    "Si $f$ y $g$ son funciones diferenciables y $g(x) \\neq 0$, entonces $f(x)/g(x)$ es diferenciable y su derivada es: \n",
    "$$  \n",
    "\\left[\\frac{f(x)}{g(x)} \\right]^\\prime = \\frac{f(x)g^\\prime(x)- f^\\prime(x)g(x) }{g(x)^2}\n",
    "$$\n",
    "\n",
    "<a name='1-7'></a>\n",
    "**Regla  de la cadena**\n",
    "\n",
    "Si la función $f(u)$ es diferenciable, donde $u = g(x)$, y la función $g(x)$ es diferenciable, entonces la composición $y=(f \\circ g)(x)= f(g(x))$ es diferenciable:\n",
    "$$ \n",
    "f(g(x))^\\prime = f^\\prime(g(x)) \\cdot g^\\prime(x)  \n",
    "$$\n",
    "\n",
    "<a name='1-8'></a>\n",
    "**Regla de L’Hôpital**\n",
    "\n",
    "Esta regla es utilizada en caso de indeterminaciones donde $f(x)$ y $g(x)$ son dos funciones continuas definidas en el intervalo $[a,b]$, derivables en $(a,b)$ y sea $c$ perteneciente a $(a,b)$ tal que $f(c)=g(c)=0$ y $g^\\prime(x) \\neq 0$ si $x \\neq c$. Si existe el límite $L$ de $f^\\prime/g^\\prime$ en $c$, entonces existe el límite de $f(x)/g(x)$ (en $c$) y es igual a $L$. Por lo tanto:\n",
    "$$ \n",
    "\\lim_{x \\to c} \\frac{f(x)}{g(x)} = \\lim_{x \\to c} \\frac{f^\\prime(x)}{g^\\prime(x)} = L \n",
    "$$\n",
    "\n",
    "<a name='1-9'></a>\n",
    "**Derivadas de funciones trigonométricas**\n",
    "\n",
    "$$\n",
    "\\begin{eqnarray}\n",
    "\\sin^\\prime(x) & = & \\cos(x) \\\\ \n",
    "\\cos^\\prime(x) & = & -\\sin(x) \\\\\n",
    "\\tan^\\prime(x) & = & \\sec^2(x) \\\\\n",
    "\\sec^\\prime(x) & = & \\sec(x)\\tan(x) \\\\\n",
    "\\cot^\\prime(x) & = & -\\csc^2(x) \\\\\n",
    "\\csc^\\prime(x) & = & -\\csc(x)\\cot(x)\n",
    "\\end{eqnarray}\n",
    "$$\n",
    "\n",
    "<a name='1-10'></a>\n",
    "**Derivada la función exponencial**\n",
    "\n",
    "$$\n",
    "\\left[ e^{x} \\right]^\\prime = e^{x}\n",
    "$$\n"
   ]
  },
  {
   "cell_type": "markdown",
   "id": "68c65625-73db-45b5-8568-c8f004f28980",
   "metadata": {
    "deletable": false,
    "editable": false,
    "nbgrader": {
     "checksum": "1bbc51f59be68ca6a5e1f4fd62b80eab",
     "grade": false,
     "grade_id": "cell-12c1ba75744bd489",
     "locked": true,
     "schema_version": 3,
     "solution": false,
     "task": false
    }
   },
   "source": [
    "<a name='2'></a>\n",
    "# Teorema de Rolle\n",
    "Sea $a < b$ y suponga que $f : [a, b] → {\\mathbb{R}}$ es derivable en $(a, b)$ y continua\n",
    "en $[a, b]$ y $f(a) = f(b)$. Entonces $∃ x_0 ∈ (a, b)$ tal que $f^\\prime(x_0) = 0$\n",
    "\n",
    "Lo anterior quiere decir que, dadas las condiciones del teorema, es posible encontrar un punto de la función $f(x)$ dentro del intervalo $(a,b)$ donde la derivada es cero; en otras palabras, en ese punto de la función la línea tangente es horizontal\n",
    "\n",
    "<a name='3'></a>\n",
    "# Derivadas de orden superior\n",
    "\n",
    "Es posible obtener la derivada de la derivada, es decir, si tenemos una función $f(x)$ cuya derivada es $f^\\prime(x)$, entonces podemos calcular la derivada a esta última función, para obtener $f^{\\prime\\prime}(x)$, a esta última función, si es que existe, se le conoce como la segunda derivada de $f(x)$. También se puede denotar a la segunda derivada com $f^{(2)}(x)$.\n",
    "\n",
    "En general, si $f(x)$ es derivable $k$ veces, entonces es posible obtener la $k$-ésima derivada de dicha función, que se escribe como:\n",
    "$$ \n",
    "\\frac{d^kf(x)}{dx^k} = f^{(k)}(x)\n",
    "$$"
   ]
  },
  {
   "cell_type": "code",
   "execution_count": null,
   "id": "b8d8450a-3427-4fbd-9f6c-2a037138f519",
   "metadata": {},
   "outputs": [],
   "source": []
  }
 ],
 "metadata": {
  "kernelspec": {
   "display_name": "Python 3 (ipykernel)",
   "language": "python",
   "name": "python3"
  },
  "language_info": {
   "codemirror_mode": {
    "name": "ipython",
    "version": 3
   },
   "file_extension": ".py",
   "mimetype": "text/x-python",
   "name": "python",
   "nbconvert_exporter": "python",
   "pygments_lexer": "ipython3",
   "version": "3.11.6"
  }
 },
 "nbformat": 4,
 "nbformat_minor": 5
}
