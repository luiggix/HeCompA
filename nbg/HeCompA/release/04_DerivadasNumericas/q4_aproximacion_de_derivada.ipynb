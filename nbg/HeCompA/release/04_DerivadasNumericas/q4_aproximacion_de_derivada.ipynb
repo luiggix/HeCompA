{
 "cells": [
  {
   "cell_type": "markdown",
   "id": "54f914b3",
   "metadata": {},
   "source": [
    "<img src=\"https://www.encit.unam.mx/sites/default/files/2020-10/EN%20CIENCIAS%20DE%20LA%20TIERRA1%20%281%29.png\" width=200px hspace=\"5px\" vspace=\"0px\" style=\"float: left; margin-right:10px\">\n",
    "\n",
    "**Asignatura**: Herramientas Computacionales Avanzadas <br>\n",
    "**Profesor**: Dr. Luis Miguel de la Cruz Salas.<br>\n",
    "**Examen Práctico**: 1<br>\n",
    "**Fecha**: Febrero 2024\n"
   ]
  },
  {
   "cell_type": "code",
   "execution_count": null,
   "id": "a39655af",
   "metadata": {},
   "outputs": [],
   "source": [
    "NAME = \"\"\n",
    "COLLABORATORS = \"\""
   ]
  },
  {
   "cell_type": "markdown",
   "id": "c21de697",
   "metadata": {},
   "source": [
    "---"
   ]
  },
  {
   "cell_type": "markdown",
   "id": "7a1f6f90",
   "metadata": {
    "deletable": false,
    "editable": false,
    "nbgrader": {
     "cell_type": "markdown",
     "checksum": "6c982bc1373009c0bdfff3a9408a2c0a",
     "grade": false,
     "grade_id": "cell-ef667930739c7b23",
     "locked": true,
     "schema_version": 3,
     "solution": false,
     "task": false
    }
   },
   "source": [
    "# La derivada de una función y su aproximación\n",
    "\n",
    "**Objetivo**.\n",
    "- Revisar el concepto de derivada usando herramientas visuales que permitan comprender su sentido geométrico y comprender lo que significa el cambio instantáneo.\n",
    "\n",
    " <p xmlns:cc=\"http://creativecommons.org/ns#\" xmlns:dct=\"http://purl.org/dc/terms/\"><a property=\"dct:title\" rel=\"cc:attributionURL\" href=\"https://github.com/repomacti/macti/tree/main/notebooks/Analisis_Numerico_01\">MACTI-Analisis_Numerico_01</a> by <a rel=\"cc:attributionURL dct:creator\" property=\"cc:attributionName\" href=\"https://www.macti.unam.mx\">Luis M. de la Cruz</a> is licensed under <a href=\"http://creativecommons.org/licenses/by-sa/4.0/?ref=chooser-v1\" target=\"_blank\" rel=\"license noopener noreferrer\" style=\"display:inline-block;\">Attribution-ShareAlike 4.0 International<img style=\"height:22px!important;margin-left:3px;vertical-align:text-bottom;\" src=\"https://mirrors.creativecommons.org/presskit/icons/cc.svg?ref=chooser-v1\"><img style=\"height:22px!important;margin-left:3px;vertical-align:text-bottom;\" src=\"https://mirrors.creativecommons.org/presskit/icons/by.svg?ref=chooser-v1\"><img style=\"height:22px!important;margin-left:3px;vertical-align:text-bottom;\" src=\"https://mirrors.creativecommons.org/presskit/icons/sa.svg?ref=chooser-v1\"></a></p> \n",
    "\n",
    "Trabajo realizado con el apoyo del Programa UNAM-DGAPA-PAPIME PE101922"
   ]
  },
  {
   "cell_type": "code",
   "execution_count": null,
   "id": "a845ea45-d17a-4b48-a6ee-d50c688cce08",
   "metadata": {
    "deletable": false,
    "editable": false,
    "nbgrader": {
     "cell_type": "code",
     "checksum": "51fd2a5ac00b5a728e608205b7b75cf5",
     "grade": false,
     "grade_id": "cell-2e82af6118297b04",
     "locked": true,
     "schema_version": 3,
     "solution": false,
     "task": false
    }
   },
   "outputs": [],
   "source": [
    "# Importamos todas las bibliotecas\n",
    "import matplotlib.pyplot as plt\n",
    "import numpy as np\n",
    "import pandas as pd\n",
    "import sympy as sy\n",
    "import macti.visual\n",
    "from macti.evaluation import *"
   ]
  },
  {
   "cell_type": "code",
   "execution_count": null,
   "id": "ca6498de-2be0-4ca5-9d65-2c21eea816fb",
   "metadata": {},
   "outputs": [],
   "source": [
    "quizz = Quizz('q4', 'HeCompA')"
   ]
  },
  {
   "cell_type": "markdown",
   "id": "2add3a2f",
   "metadata": {
    "deletable": false,
    "editable": false,
    "nbgrader": {
     "cell_type": "markdown",
     "checksum": "355b837c2bf58eb34a991fd55d6af6a5",
     "grade": false,
     "grade_id": "cell-1adcd6754423e310",
     "locked": true,
     "schema_version": 3,
     "solution": false,
     "task": false
    }
   },
   "source": [
    "<a name='1'></a>\n",
    "## Introducción\n",
    "\n",
    "Si revisamos con cuidado, algunas definiciones matemáticas utilizan un tipo de figura literaria conocida como <a href=https://es.wikipedia.org/wiki/Ox%C3%ADmoron>*oxímoron*</a>. En términos simples, un oxímoron consiste en usar dos conceptos de significado opuesto y con ello generar un tercer concepto. \n",
    "\n",
    "Por ejemplo: **La razón de cambio instantáneo**. \n",
    "- Cuando se habla de un *cambio*, se requiere de la comparación entre dos o más estados y con ello analizar las diferencias entre un estado y otro; \n",
    "- por otro lado, la palabra *instantáneo* tiene que ver con algo que dura un solo instante, es decir un tiempo puntal. \n",
    "\n",
    "Entonces el concepto \"**cambio instantáneo**\" representa un oxímoron. Pero ¿cuál es su significado?\n",
    "¿Será importante este concepto en nuestra vida diaria?\n",
    "\n",
    "En lo que sigue veremos que la razón de cambio instantáneo tiene que ver con un concepto muy importante en Cálculo: **la derivada**."
   ]
  },
  {
   "cell_type": "markdown",
   "id": "2be9ccfc",
   "metadata": {
    "deletable": false,
    "editable": false,
    "nbgrader": {
     "cell_type": "markdown",
     "checksum": "dd2a244641cd94487ba147cdff1b69a6",
     "grade": false,
     "grade_id": "cell-94664a4f80b73ecf",
     "locked": true,
     "schema_version": 3,
     "solution": false,
     "task": false
    }
   },
   "source": [
    "<a name='2'></a>\n",
    "## La curva del olvido.\n",
    "\n",
    "Un estudiante de lenguas participará en un concurso internacional cuyo principal reto es el conocimiento del vocabulario de un cierto idioma. Por ello, es importante que el estudiante utilice un método de estudio adecuado para recordar el significado del mayor número de palabras posible.\n",
    "\n",
    "La <a href=https://es.wikipedia.org/wiki/Curva_del_olvido>curva del olvido</a> puede ayudar al estudiante a generar un plan de estudio adecuado. La función que define esta curva es la siguiente:\n",
    "\n",
    "$$\n",
    "R(t) = e^{-t/S}\n",
    "$$\n",
    "\n",
    "donde $R$ es cuanto recordamos, $S$ es la intensidad del recuerdo y $t$ el tiempo. Un valor de $S$ cercano a $0$ corresponde a algo que no nos interesa nada y por lo tanto se nos olvida pronto.\n",
    "\n",
    "**Observación**: $S$ no puede ser exactamente $0$ por que en ese caso la función $R(t)$ no está definida.\n",
    "\n",
    "La siguiente celda de código define la curva del olvido en la función `R(t, S)`:"
   ]
  },
  {
   "cell_type": "code",
   "execution_count": null,
   "id": "5fabe02c-891a-4d32-8045-5fd3be65b05f",
   "metadata": {
    "deletable": false,
    "editable": false,
    "nbgrader": {
     "cell_type": "code",
     "checksum": "5d82f51a7ccdfbdf08ffdf35cfc97612",
     "grade": false,
     "grade_id": "cell-98c3c29091ec3acc",
     "locked": true,
     "schema_version": 3,
     "solution": false,
     "task": false
    }
   },
   "outputs": [],
   "source": [
    "# Primero definimos la función del olvido\n",
    "def R(t, S = 1.0):\n",
    "    \"\"\"\n",
    "    Función del olvido.\n",
    "\n",
    "    Parameters\n",
    "    ----------\n",
    "    t : float\n",
    "    El tiempo\n",
    "\n",
    "    S : float\n",
    "    Intensidad del recuerdo. Valor por omisión S = 1.0\n",
    "\n",
    "    Returns\n",
    "    -------\n",
    "    Curva del olvido evaluada en t.\n",
    "    \"\"\"\n",
    "    return np.exp(-t/S)"
   ]
  },
  {
   "cell_type": "markdown",
   "id": "a651a3fc-ea71-4abb-8d27-13cb95b8b79d",
   "metadata": {
    "deletable": false,
    "editable": false,
    "nbgrader": {
     "cell_type": "markdown",
     "checksum": "b08638ecdde7569ee92555df1bac33be",
     "grade": false,
     "grade_id": "cell-e5968001746f5e82",
     "locked": true,
     "schema_version": 3,
     "solution": false,
     "task": false
    }
   },
   "source": [
    "La siguiente gráfica muestra cómo decrecen nuestros recuerdos con el paso del tiempo para diferentes valores de $S$."
   ]
  },
  {
   "cell_type": "code",
   "execution_count": null,
   "id": "35941f88",
   "metadata": {
    "deletable": false,
    "editable": false,
    "nbgrader": {
     "cell_type": "code",
     "checksum": "e8c086f02448dd82491c1e68024a076a",
     "grade": false,
     "grade_id": "cell-1a899f195f61c7b7",
     "locked": true,
     "schema_version": 3,
     "solution": false,
     "task": false
    }
   },
   "outputs": [],
   "source": [
    "# Dominio de tiempo (hasta 7 días).\n",
    "t = np.linspace(0,7,100)\n",
    "\n",
    "# Cuatro curvas del olvido para cuatro valores de S\n",
    "plt.plot(t, R(t, 0.1), lw=3, c='C4', label='{}'.format(0.1))\n",
    "plt.plot(t, R(t, 1.0), lw=3, c='C3', label='{}'.format(1))\n",
    "plt.plot(t, R(t, 5.0), lw=3, c='C2', label='{}'.format(5))\n",
    "plt.plot(t, R(t, 10.0), lw=3, c='C1', label='{}'.format(10))\n",
    "\n",
    "# Configuración de la gráfica. \n",
    "plt.title(\"Función del olvido: $R(t)=e^{-t/S}$\")\n",
    "plt.ylabel(\"$R(t)$\")\n",
    "plt.xlabel(\"$t$ [días]\")\n",
    "plt.legend(title = 'Intensidad $S$')\n",
    "plt.grid()\n",
    "plt.show()"
   ]
  },
  {
   "cell_type": "markdown",
   "id": "fe8bb8e3",
   "metadata": {
    "deletable": false,
    "editable": false,
    "nbgrader": {
     "cell_type": "markdown",
     "checksum": "bee6d8c0bed64e0bd9abf69be3f10d5a",
     "grade": false,
     "grade_id": "cell-cba9a7ed271ac4b9",
     "locked": true,
     "schema_version": 3,
     "solution": false,
     "task": false
    }
   },
   "source": [
    "<a name='2-1'></a>\n",
    "### ¿Cuánto tiempo dura el recuerdo?\n",
    "\n",
    "¿Será posible determinar cada cuanto tiempo el estudiante debe repasar las palabras para que no las olvide y pueda ganar el concurso? ¿De qué depende esto?\n",
    "\n",
    "Tomemos por ejemplo el caso de $S=1.0$ (curva naranja). ¿En qué parte de la gráfica se incrementa el olvido? en otras palabras ¿en qué parte de la gráfica el descenso es más rápido?\n",
    "\n",
    "Para conocer ese descenso, debemos calcular la pendiente $m$ y eso lo podemos hacer con la siguiente fórmula:\n",
    "\n",
    "$$\n",
    "m = \\frac{R(t_2) - R(t_1)}{t_2 - t_1} \\tag{1}\n",
    "$$\n",
    "\n",
    "donde $t_1$ y $t_2$ son dos tiempos distintos.\n",
    "\n",
    "Si definimos $h = t_2 - t_1$ y $t = t_1$ podemos escribir la fórmula $(1)$ como sigue:\n",
    "\n",
    "$$\n",
    "m(t) = \\frac{R(t + h) - R(t)}{h} \\tag{2}\n",
    "$$\n",
    "\n",
    "En esta última fórmula vemos que la pendiente depende de $t$, es decir, en qué día nos encontramos.\n",
    "\n",
    "Vamos a calcular $R(t)$ y $m(t)$ en $t = [0,1,2,3,4,5,6,7]$, para $h = 1$ :"
   ]
  },
  {
   "cell_type": "code",
   "execution_count": null,
   "id": "3cf4ee5e",
   "metadata": {
    "deletable": false,
    "editable": false,
    "nbgrader": {
     "cell_type": "code",
     "checksum": "36368884da11bad10921e67e3389a4a2",
     "grade": false,
     "grade_id": "cell-97d91dc18671ce5f",
     "locked": true,
     "schema_version": 3,
     "solution": false,
     "task": false
    }
   },
   "outputs": [],
   "source": [
    "h = 1.0\n",
    "td = np.arange(0,8,h) # Definición de las t = 0,1,2,...,7\n",
    "r = np.zeros(len(td)) # Arreglo para almacenar el valor de R\n",
    "m = np.zeros(len(td)) # Arreglo para almacenar las pendientes\n",
    "\n",
    "print('td = {}'.format(td))\n",
    "print('r = {}'.format(r))\n",
    "print('m = {}'.format(m))"
   ]
  },
  {
   "cell_type": "markdown",
   "id": "7423a639-c2c8-44ba-99c2-e03cde827604",
   "metadata": {
    "deletable": false,
    "editable": false,
    "nbgrader": {
     "cell_type": "markdown",
     "checksum": "d75c4897d584b09d9f582db6c006b217",
     "grade": false,
     "grade_id": "cell-2da7eb87870f6d97",
     "locked": true,
     "schema_version": 3,
     "solution": false,
     "task": false
    }
   },
   "source": [
    "Observa que el arreglo `td` contiene los días, del $0$ al $7$, y `r` y `m` se inicializan con $0$'s.\n",
    "\n",
    "Ahora vamos a calcular $R$ y $m$ para los diferentes valores de $t$: "
   ]
  },
  {
   "cell_type": "code",
   "execution_count": null,
   "id": "911dd94e-36c9-4f47-9e63-a776fb10b60a",
   "metadata": {
    "deletable": false,
    "editable": false,
    "nbgrader": {
     "cell_type": "code",
     "checksum": "15b3b6443b6b68318060c7a866bc2a00",
     "grade": false,
     "grade_id": "cell-0759e5cea3ff2ed4",
     "locked": true,
     "schema_version": 3,
     "solution": false,
     "task": false
    }
   },
   "outputs": [],
   "source": [
    "# Hacemos los cálculos en cada uno de los días\n",
    "for i, t in enumerate(td):\n",
    "    r[i] = R(t)                  # Función del olvido\n",
    "    m[i] = (R(t + h) - R(t)) / h # Pendiente, fórmula 2\n",
    "\n",
    "# Ponemos la información en un DataFrame y la mostramos\n",
    "tabla = pd.DataFrame(np.array([td, r, m]).T, \n",
    "                     columns = ['$t$', '$R(t, S=1.0)$', '$m(t)$'])\n",
    "tabla"
   ]
  },
  {
   "cell_type": "markdown",
   "id": "6079ccf1-8d3b-404f-ac41-33517b3f23c0",
   "metadata": {
    "deletable": false,
    "editable": false,
    "nbgrader": {
     "cell_type": "markdown",
     "checksum": "2c137a82e19db6aa11afe4077e158886",
     "grade": false,
     "grade_id": "cell-cf505433bdd1f9f6",
     "locked": true,
     "schema_version": 3,
     "solution": false,
     "task": false
    }
   },
   "source": [
    "Observa que:\n",
    "\n",
    "* el valor de la **pendiente**  $m$  es **negativa**, lo cual indica un decrecimiento,\n",
    "* también la magnitud de la pendiente (su valor absoluto) disminuye conforme $t$  avanza,\n",
    "* y que el recuerdo disminuye mucho al principio, de tal manera que en el tercer día solo recordamos un $4.97\\%$ de lo que aprendimos en el día $0$.\n",
    "\n",
    "Esto se ve de manera gráfica como sigue:"
   ]
  },
  {
   "cell_type": "code",
   "execution_count": null,
   "id": "9a65795c-4c5d-43ad-9b1c-2e27e913465c",
   "metadata": {
    "deletable": false,
    "editable": false,
    "nbgrader": {
     "cell_type": "code",
     "checksum": "f2ab49ee5ea230bc5de6985915a94404",
     "grade": false,
     "grade_id": "cell-bf938b851ea40331",
     "locked": true,
     "schema_version": 3,
     "solution": false,
     "task": false
    }
   },
   "outputs": [],
   "source": [
    "# Dominio de tiempo (hasta 7 días).\n",
    "t = np.linspace(0,7,100)\n",
    "\n",
    "# La curva del olvido para S = 0.9\n",
    "plt.plot(t, R(t), lw=3, c='C1')\n",
    "\n",
    "# Línea punteada\n",
    "plt.plot([0,1,2,3], [R(0), R(1), R(2), R(3)], 'o--', lw=1, zorder=5)\n",
    "\n",
    "# Configuración de la gráfica. \n",
    "plt.title(\"Función del olvido: $R(t)=e^{-t/S}$, para $S = 1.0$\")\n",
    "plt.ylabel(\"$R(t)$\")\n",
    "plt.xlabel(\"$t$ [días]\")\n",
    "\n",
    "# Información de los primeros 3 días\n",
    "plt.text(2,0.6,'$R$({2:}) = {0:5.4f},\\t $m$({2:}) = {1:5.4f}'.format(R(0), m[0], 0))\n",
    "plt.text(2,0.5,'$R$({2:}) = {0:5.4f},\\t $m$({2:}) = {1:5.4f}'.format(R(1), m[1], 1))\n",
    "plt.text(2,0.4,'$R$({2:}) = {0:5.4f},\\t $m$({2:}) = {1:5.4f}'.format(R(2), m[2], 2))\n",
    "plt.text(2,0.3,'$R$({2:}) = {0:5.4f},\\t $m$({2:}) = {1:5.4f}'.format(R(3), m[3], 3))\n",
    "plt.grid()\n",
    "plt.show()"
   ]
  },
  {
   "cell_type": "markdown",
   "id": "2c08c3ac",
   "metadata": {
    "deletable": false,
    "editable": false,
    "nbgrader": {
     "cell_type": "markdown",
     "checksum": "ac65b7971423caa063b0e2cfaef4ba15",
     "grade": false,
     "grade_id": "cell-5c05f63f1fd4273e",
     "locked": true,
     "schema_version": 3,
     "solution": false,
     "task": false
    }
   },
   "source": [
    "* En la figura anterior, la línea punteada une los puntos para cada uno de los días; esta línea punteada muestra gráficamente el cambio en $R(t)$ de un día a otro. \n",
    "\n",
    "* Entonces, lo que estamos observando es la razón de cambio de $R(t)$ en intervalos de tiempo de longitud $h = 1$. **Esto es justamente lo que expresa la fórmula $(2)$**. \n",
    "\n",
    "* Los valores de $R$ para los diferentes días indican como es que vamos olvidando lo que estudiamos en el día 0:\n",
    "    - Para el día 1 ya solo recordamos el $36.79\\%,$\n",
    "    - en el segundo día el recuerdo es del $13.53\\%$\n",
    "    - y para el día 3 el recuerdo es mínimo, del $4.97\\%$.\n",
    "  \n",
    "* Por lo tanto, es conveniente repasar lo aprendido en el día 0 de manera frecuente, para este caso con $S=1.0$, sería conveniente repasar todos los días.\n",
    "\n",
    "¿Para este ejemplo, cómo podemos calcular **la razón de cambio instantáneo**? La respueta es: haciendo $h$ muy pequeña, es decir $h \\to 0$. \n",
    "\n",
    "Para ello, esta razón debería calcularse en un solo instante de tiempo, lo cual implica que $t_1 = t_2 \\Longrightarrow h = 0$, y esto nos lleva a que la fórmula de $m(t)$ no está bien definida (¡división por cero!). \n",
    "\n",
    "Pero, ¿qué pasa si $h$ se hace muy pequeña, pero no cero? es decir:\n",
    "\n",
    "$$\n",
    "\\lim_{h \\to 0}  \\frac{R(t + h) - R(t)}{h} \\tag{3} = ¿?\n",
    "$$\n",
    "\n",
    "¿Cúanto vale este límite? ¿Es posible calcularlo en cualquier caso y para cualquier tipo de función?"
   ]
  },
  {
   "cell_type": "markdown",
   "id": "d0b470b5-8aa6-4aed-bb89-468d491ec311",
   "metadata": {
    "deletable": false,
    "editable": false,
    "nbgrader": {
     "cell_type": "markdown",
     "checksum": "29ae8c06c359437571b72dab74bd3207",
     "grade": false,
     "grade_id": "cell-f44b8e3bb191a430",
     "locked": true,
     "schema_version": 3,
     "solution": false,
     "task": false
    }
   },
   "source": [
    "<div class=\"alert alert-info\">\n",
    "\n",
    "### Ejemplo 1. ¿Qué pasa cuando $h \\to 0$ para diferentes valores de $S$?.\n",
    "\n",
    "<font color=\"Black\">\n",
    "    \n",
    "Ejecuta la siguiente celda de código para generar el interactivo en donde podrás modificar $S$, $h$ y $t$. Explora qué sucede para cada valor de los parámetros y posteriomente responde las preguntas del [Ejercicio 1](#quiz-1).\n",
    "\n",
    "Para ver los valores de $R(t)$, $R^\\prime(t)$ y $m(t)$ haz clic sobre el botón `Muestra valores` sobre el interactivo\n",
    "\n",
    "\n",
    "</font>\n",
    "\n",
    "</div>\n"
   ]
  },
  {
   "cell_type": "code",
   "execution_count": null,
   "id": "89f87b08",
   "metadata": {
    "deletable": false,
    "editable": false,
    "nbgrader": {
     "cell_type": "code",
     "checksum": "0eee3613df88d1ea4b6aea6851e5cd11",
     "grade": false,
     "grade_id": "cell-ea92671f648d4634",
     "locked": true,
     "schema_version": 3,
     "solution": false,
     "task": false
    }
   },
   "outputs": [],
   "source": [
    "%run \"./zinteractivo1.ipynb\""
   ]
  },
  {
   "cell_type": "markdown",
   "id": "dc733144",
   "metadata": {
    "deletable": false,
    "editable": false,
    "nbgrader": {
     "cell_type": "markdown",
     "checksum": "1e485f00be4928d35c124d0f01a39e31",
     "grade": false,
     "grade_id": "cell-0f788df06b98434f",
     "locked": true,
     "schema_version": 3,
     "solution": false,
     "task": false
    }
   },
   "source": [
    "**Comentarios.**\n",
    "\n",
    "En la gráfica de la izquierda observamos que conforme $h$ se hace más pequeño, la línea roja se aproxima cada vez mejor a la línea tangente (verde) que pasa por el punto rojo. La línea roja representa una aproximación a la razón de cambio instantánea en el punto rojo.\n",
    "\n",
    "En la gráfica de la derecha observamos la curva $R^\\prime(t)$ (verde), un punto morado que representa el valor exacto de $R^\\prime(t)$ y un punto negro que es la aproximación para una $h$ dada.\n",
    "\n",
    "Entonces, la tangente en el punto rojo, no es otra cosa que **la razón de cambio instantánea**. Veremos enseguida que ambas cosas representan un concepto conocido como **la derivada de la función** en el punto rojo."
   ]
  },
  {
   "cell_type": "markdown",
   "id": "7de7275c-4ba4-4a46-93bd-36ef15048c16",
   "metadata": {
    "deletable": false,
    "editable": false,
    "nbgrader": {
     "cell_type": "markdown",
     "checksum": "16747dd690ba696f74d35ddbdb7c60ee",
     "grade": false,
     "grade_id": "cell-47c951928e8cfabf",
     "locked": true,
     "schema_version": 3,
     "solution": false,
     "task": false
    }
   },
   "source": [
    "<a name='quiz-1'></a>\n",
    "\n",
    "<div class=\"alert alert-success\">\n",
    "<font color=\"black\"> \n",
    "\n",
    "### Ejercicio 1.\n",
    "\n",
    "El valor absoluto de la diferencia entre un valor exacto ($v_{e}$) y un valor aproximado ($v_{a}$) se conoce como el **error absoluto** y se escribe como sigue:\n",
    "$$\n",
    "E_a = |v_e - v_a| \\tag{4}\n",
    "$$\n",
    "Usando esta definición y considerando que el valor exacto de la derivada es $R^\\prime(t)$ y su valor aproximado es $m(t)$ realiza lo siguiente: \n",
    "\n",
    "1. Calcula es el error absoluto entre $R'(t)$ y $m(t)$ para $S = 1.0$, $t = 2.0$ y <br>\n",
    "    1. $h = 1.0$<br>\n",
    "    2. $h = 0.5$<br>\n",
    "    3. $h = 0.1$<br>\n",
    "\n",
    "Completa el código de la celda siguiente para obtener la respuesta.\n",
    "\n",
    "**Hint:**\n",
    "calcula $|v_e - v_a|$, usando la función `abs(ve - va)`.\n",
    "\n",
    "</font>\n",
    "\n",
    "</div>\n",
    "\n",
    "\n",
    "<div class=\"alert alert-danger\">\n",
    "    \n",
    "**NOTA.**\n",
    "Para responder las preguntas, tienes que mover los parámetros en el interactivo a los valores correspondientes de $S$, $t$ y $h$ para obtener los valores de $R^\\prime(t)$ y $m(t)$.\n",
    "</div>"
   ]
  },
  {
   "cell_type": "markdown",
   "id": "c8fd9057-2889-4a48-b96a-7728aba2ea41",
   "metadata": {
    "deletable": false,
    "editable": false,
    "nbgrader": {
     "cell_type": "markdown",
     "checksum": "071df34ac1b7a529ecb4b885083c2dd1",
     "grade": false,
     "grade_id": "cell-6d90c335f7fcfa80",
     "locked": true,
     "schema_version": 3,
     "solution": false,
     "task": false
    }
   },
   "source": [
    "<div class=\"alert alert-success\">\n",
    "1.A $S = 1.0$, $t = 2.0$, $h=1.0$\n",
    "</div>"
   ]
  },
  {
   "cell_type": "code",
   "execution_count": null,
   "id": "1a05e74f-f2a3-4d40-a10f-be6319510321",
   "metadata": {
    "deletable": false,
    "nbgrader": {
     "cell_type": "code",
     "checksum": "3eb3a3a784966d489b9fe6edfbabda11",
     "grade": false,
     "grade_id": "cell-348ed31937e2b936",
     "locked": false,
     "schema_version": 3,
     "solution": true,
     "task": false
    }
   },
   "outputs": [],
   "source": [
    "# Los valores ve y ve los obtienes del interactivo\n",
    "# ve = ... # valor exacto R'(t) \n",
    "# va = ... # valor aproximado m(t)\n",
    "\n",
    "# Calcula el error absoluto entre ve y va\n",
    "# Ea_1 = abs(...) # Error absoluto\n",
    "# YOUR CODE HERE\n",
    "raise NotImplementedError()\n",
    "\n",
    "print(\"R'({}, {}) = {}\".format(2.0, 1.0, ve))\n",
    "print(\"m({}, {}) = {}\".format(2.0, 1.0, va))\n",
    "print(\"Error absoluto = {}\".format(Ea_1))"
   ]
  },
  {
   "cell_type": "code",
   "execution_count": null,
   "id": "bade6231-ac12-45ca-8636-0c94d021b9fa",
   "metadata": {
    "deletable": false,
    "editable": false,
    "nbgrader": {
     "cell_type": "code",
     "checksum": "00f611a15e2f58b47d34f1e8c0947238",
     "grade": true,
     "grade_id": "cell-474fd3ea0d7016df",
     "locked": true,
     "points": 1,
     "schema_version": 3,
     "solution": false,
     "task": false
    }
   },
   "outputs": [],
   "source": [
    "quizz.eval_numeric('1A', Ea_1)"
   ]
  },
  {
   "cell_type": "markdown",
   "id": "64131c26-441a-4397-b98f-96282a29b753",
   "metadata": {
    "deletable": false,
    "editable": false,
    "nbgrader": {
     "cell_type": "markdown",
     "checksum": "baf6a28886ad5f4319049bab8917b5b4",
     "grade": false,
     "grade_id": "cell-aaf324b924db9694",
     "locked": true,
     "schema_version": 3,
     "solution": false,
     "task": false
    }
   },
   "source": [
    "<div class=\"alert alert-success\">\n",
    "1.B $S = 1.0$, $t = 2.0$, $h=0.5$\n",
    "</div>"
   ]
  },
  {
   "cell_type": "code",
   "execution_count": null,
   "id": "256115c4-9457-4d77-b06f-8dff36501fc9",
   "metadata": {
    "deletable": false,
    "nbgrader": {
     "cell_type": "code",
     "checksum": "4c9201d8a07fe6f0826b9ca1945aed85",
     "grade": false,
     "grade_id": "cell-596b1292de477d47",
     "locked": false,
     "schema_version": 3,
     "solution": true,
     "task": false
    }
   },
   "outputs": [],
   "source": [
    "# Los valores ve y ve los obtienes del interactivo\n",
    "# ve = ... # valor exacto R'(t) \n",
    "# va = ... # valor aproximado m(t)\n",
    "\n",
    "# Calcula el error absoluto entre ve y va\n",
    "# Ea_2 = abs(...) # Error absoluto\n",
    "# YOUR CODE HERE\n",
    "raise NotImplementedError()\n",
    "\n",
    "print(\"R'({}, {}) = {}\".format(2.0, 1.0, ve))\n",
    "print(\"m({}, {}) = {}\".format(2.0, 1.0, va))\n",
    "print(\"Error absoluto = {}\".format(Ea_2))"
   ]
  },
  {
   "cell_type": "code",
   "execution_count": null,
   "id": "39e75171-a743-4324-a428-ba95e1bd3210",
   "metadata": {
    "deletable": false,
    "editable": false,
    "nbgrader": {
     "cell_type": "code",
     "checksum": "083cd06e097d8e2988cf344c3c76e52e",
     "grade": true,
     "grade_id": "cell-dbd20509041dd215",
     "locked": true,
     "points": 1,
     "schema_version": 3,
     "solution": false,
     "task": false
    }
   },
   "outputs": [],
   "source": [
    "quizz.eval_numeric('1B', Ea_2)"
   ]
  },
  {
   "cell_type": "markdown",
   "id": "4fb053f1-5b9c-4904-b11f-e593ddb13a07",
   "metadata": {
    "deletable": false,
    "editable": false,
    "nbgrader": {
     "cell_type": "markdown",
     "checksum": "6bddb8d2a0891aad3c793b1f2a482765",
     "grade": false,
     "grade_id": "cell-916ac4b8cd5bd1cb",
     "locked": true,
     "schema_version": 3,
     "solution": false,
     "task": false
    }
   },
   "source": [
    "<div class=\"alert alert-success\">\n",
    "1.C $S = 1.0$, $t = 2.0$, $h=0.1$\n",
    "</div>"
   ]
  },
  {
   "cell_type": "code",
   "execution_count": null,
   "id": "7131937c-9d14-42fe-94d7-8437e0aa59a8",
   "metadata": {
    "deletable": false,
    "nbgrader": {
     "cell_type": "code",
     "checksum": "0949ee02981b7f1e099a45f867db38d3",
     "grade": false,
     "grade_id": "cell-c06c2983bae2d8b0",
     "locked": false,
     "schema_version": 3,
     "solution": true,
     "task": false
    }
   },
   "outputs": [],
   "source": [
    "# Los valores ve y ve los obtienes del interactivo\n",
    "# ve = ... # valor exacto R'(t) \n",
    "# va = ... # valor aproximado m(t)\n",
    "\n",
    "# Calcula el error absoluto entre ve y va\n",
    "# Ea_3 = abs(...) # Error absoluto\n",
    "# YOUR CODE HERE\n",
    "raise NotImplementedError()\n",
    "\n",
    "print(\"R'({}, {}) = {}\".format(2.0, 1.0, ve))\n",
    "print(\"m({}, {}) = {}\".format(2.0, 1.0, va))\n",
    "print(\"Error absoluto = {}\".format(Ea_3))"
   ]
  },
  {
   "cell_type": "code",
   "execution_count": null,
   "id": "2167b911-2c9f-4289-b722-ee3806f5e28a",
   "metadata": {
    "deletable": false,
    "editable": false,
    "nbgrader": {
     "cell_type": "code",
     "checksum": "4623dbad8431e24fc3dbb40225a804a7",
     "grade": true,
     "grade_id": "cell-0b4943ce1b4c6a9d",
     "locked": true,
     "points": 0,
     "schema_version": 3,
     "solution": false,
     "task": false
    }
   },
   "outputs": [],
   "source": [
    "quizz.eval_numeric('1C', Ea_3)"
   ]
  },
  {
   "cell_type": "markdown",
   "id": "fecc83b8-65f6-46e1-b47f-fae6c2ac3bc1",
   "metadata": {
    "deletable": false,
    "editable": false,
    "nbgrader": {
     "cell_type": "markdown",
     "checksum": "9833a7644f2d0ed480b22bc26a8aab5a",
     "grade": false,
     "grade_id": "cell-74db9e0867140b3e",
     "locked": true,
     "schema_version": 3,
     "solution": false,
     "task": false
    }
   },
   "source": [
    "<div class=\"alert alert-success\">\n",
    "<font color=\"black\"> \n",
    "\n",
    "### Ejercicio 2.\n",
    "\n",
    "2. ¿Qué sucede con la diferencia entre $R^\\prime(t)$ y $m(t)$, cuando $h$ se hace más pequeño ($h\\to 0$), sin importar el valor de $t$ ni de $S$?\n",
    "    1. Se hace más grande. <br>\n",
    "    2. Se mantiene constante.\n",
    "    3. Se hace más pequeña.\n",
    "    4. No es posible determinarlo.\n",
    "\n",
    "</font>\n",
    "</div>"
   ]
  },
  {
   "cell_type": "code",
   "execution_count": null,
   "id": "164e6117",
   "metadata": {
    "deletable": false,
    "nbgrader": {
     "cell_type": "code",
     "checksum": "83a1ed5b55697ec0056eabe786d60773",
     "grade": false,
     "grade_id": "cell-9de9a4432a4ba989",
     "locked": false,
     "schema_version": 3,
     "solution": true,
     "task": false
    }
   },
   "outputs": [],
   "source": [
    "# Escribe tu respuesta como sigue \n",
    "# respuesta = ...\n",
    "\n",
    "# YOUR CODE HERE\n",
    "raise NotImplementedError()\n"
   ]
  },
  {
   "cell_type": "code",
   "execution_count": null,
   "id": "a00aed9b",
   "metadata": {
    "deletable": false,
    "editable": false,
    "nbgrader": {
     "cell_type": "code",
     "checksum": "709741f2db1f2a112fbe471ac83234da",
     "grade": true,
     "grade_id": "cell-02ce09759a12d363",
     "locked": true,
     "points": 1,
     "schema_version": 3,
     "solution": false,
     "task": false
    }
   },
   "outputs": [],
   "source": [
    "quizz.eval_option('2', respuesta)"
   ]
  },
  {
   "cell_type": "markdown",
   "id": "ec73799e-a9ac-40f5-a9db-b890cb5f97e3",
   "metadata": {
    "deletable": false,
    "editable": false,
    "nbgrader": {
     "cell_type": "markdown",
     "checksum": "cd289dda971e6bb77edb76bb59164f09",
     "grade": false,
     "grade_id": "cell-f0f201a7bb7f32e6",
     "locked": true,
     "schema_version": 3,
     "solution": false,
     "task": false
    }
   },
   "source": [
    "<div class=\"alert alert-success\">\n",
    "<font color=\"black\"> \n",
    "\n",
    "### Ejercicio 3.\n",
    "\n",
    "3. En las siguientes celdas escribe las siguientes funciones:\n",
    "    1. `def derivada_exacta(t, S):` para calcular la derivada exacta de $R(t)$.\n",
    "    2. `def derivada_aproximada(t, S, h):` para calcular la derivada aproximada de $R(t)$ usando la fórmula $(3)$.\n",
    "    3. `def error_absoluto(ve, va):` para calcular el error absoluto entre un valor exacto `ve` y un valor aproximado `va`.\n",
    "</font>\n",
    "</div>"
   ]
  },
  {
   "cell_type": "code",
   "execution_count": null,
   "id": "2b32fe22-88bf-4c72-9a2f-388e255b0038",
   "metadata": {
    "deletable": false,
    "nbgrader": {
     "cell_type": "code",
     "checksum": "2882bda7174602fe3e78ebcd42a9bae1",
     "grade": false,
     "grade_id": "cell-682ae12a548bf7c2",
     "locked": false,
     "schema_version": 3,
     "solution": true,
     "task": false
    }
   },
   "outputs": [],
   "source": [
    "# Completa la función de la derivada exacta de R(t)\n",
    "def derivada_exacta(t, S):\n",
    "    # YOUR CODE HERE\n",
    "    raise NotImplementedError()"
   ]
  },
  {
   "cell_type": "code",
   "execution_count": null,
   "id": "8107beaf-beaa-45f1-9bd7-e209831b0307",
   "metadata": {
    "deletable": false,
    "nbgrader": {
     "cell_type": "code",
     "checksum": "eb2bfa0fc21fffe422fa661010526c2f",
     "grade": false,
     "grade_id": "cell-f9f267aa5eb94a0e",
     "locked": false,
     "schema_version": 3,
     "solution": true,
     "task": false
    }
   },
   "outputs": [],
   "source": [
    "# Completa la función de la derivada aproximada de R(t) usando la fórmula (3)\n",
    "def derivada_aproximada(t, S, h):\n",
    "    # YOUR CODE HERE\n",
    "    raise NotImplementedError()"
   ]
  },
  {
   "cell_type": "code",
   "execution_count": null,
   "id": "d1e71f77-ba99-4b44-a96e-991a5adf0a1a",
   "metadata": {
    "deletable": false,
    "nbgrader": {
     "cell_type": "code",
     "checksum": "33ffae1b1ec6bd94004379ddadfd74fb",
     "grade": false,
     "grade_id": "cell-3e0b1780fbf7fd3d",
     "locked": false,
     "schema_version": 3,
     "solution": true,
     "task": false
    }
   },
   "outputs": [],
   "source": [
    "# Completa la función de error con la fórmula (4)\n",
    "def error_absoluto(ve, va):\n",
    "    # YOUR CODE HERE\n",
    "    raise NotImplementedError()"
   ]
  },
  {
   "cell_type": "markdown",
   "id": "c874a673-9be3-4cd1-892c-f97e6cc4c781",
   "metadata": {
    "deletable": false,
    "editable": false,
    "nbgrader": {
     "cell_type": "markdown",
     "checksum": "a5f5ace5aaea6add5b6665c81a7ff1d9",
     "grade": false,
     "grade_id": "cell-fcab13ffe0bf2d8b",
     "locked": true,
     "schema_version": 3,
     "solution": false,
     "task": false
    }
   },
   "source": [
    "<div class=\"alert alert-success\">\n",
    "<font color=\"black\"> \n",
    "\n",
    "### Ejercicio 4.\n",
    "\n",
    "4. Usando las funciones definidas antes, calcula la derivada exacta $R^\\prime(t)$, la derivada aproximada $m(t)$ y el error absoluto entre ellas para los siguientes casos: \n",
    "    1. $S = 0.5, t = 1, h = 1$\n",
    "    2. $S = 1.0, t = 2, h = 0.1$\n",
    "    3. $S = 2.0, t = 3, h = 1.0$\n",
    "    4. $S = 5.0, t = 4, h = 0.1$\n",
    "  \n",
    "Verifica que tus resultados sean iguales a los que obtienes con el interactivo.\n",
    "\n",
    "</font>\n",
    "</div>"
   ]
  },
  {
   "cell_type": "markdown",
   "id": "1363b810-ea03-4c26-a32f-50ebf4d47faf",
   "metadata": {
    "deletable": false,
    "editable": false,
    "nbgrader": {
     "cell_type": "markdown",
     "checksum": "e46a46baa958ed33d93c6013da6fe7ab",
     "grade": false,
     "grade_id": "cell-4bea5e1615024979",
     "locked": true,
     "schema_version": 3,
     "solution": false,
     "task": false
    }
   },
   "source": [
    "<div class=\"alert alert-success\">\n",
    "4.A. $S = 0.5, t = 1, h = 1$\n",
    "</div>"
   ]
  },
  {
   "cell_type": "code",
   "execution_count": null,
   "id": "6c82af09-4f77-4a75-9dc0-2f6cbb97e1f5",
   "metadata": {
    "deletable": false,
    "nbgrader": {
     "cell_type": "code",
     "checksum": "277cd848a897cffce7cc99b4315f0051",
     "grade": false,
     "grade_id": "cell-013ec301d9e3fc91",
     "locked": false,
     "schema_version": 3,
     "solution": true,
     "task": false
    }
   },
   "outputs": [],
   "source": [
    "# Utiliza las funciones para calcular lo siguiente:\n",
    "# ve = derivada_ ... # valor exacto R'(t) \n",
    "# va = derivada_ ... # valor aproximado m(t)\n",
    "# EA = error_ ...  \n",
    "\n",
    "S = 0.5\n",
    "t = 1.0\n",
    "h = 1.0\n",
    "# YOUR CODE HERE\n",
    "raise NotImplementedError()\n",
    "\n",
    "print(\"R'({}, {}) = {}\".format(t, S, ve))\n",
    "print(\"m({}, {}, {}) = {}\".format(t, S, h, va))\n",
    "print(\"Error absoluto = {}\".format(EA))"
   ]
  },
  {
   "cell_type": "code",
   "execution_count": null,
   "id": "a0ab8954-a5e7-4c35-93ec-aa05f03158f8",
   "metadata": {
    "deletable": false,
    "editable": false,
    "nbgrader": {
     "cell_type": "code",
     "checksum": "ca635f777a29254a61b700dc28da0ac9",
     "grade": true,
     "grade_id": "cell-8e4be17fd0a90dae",
     "locked": true,
     "points": 1,
     "schema_version": 3,
     "solution": false,
     "task": false
    }
   },
   "outputs": [],
   "source": [
    "quizz.eval_numeric('4A', EA)"
   ]
  },
  {
   "cell_type": "markdown",
   "id": "61f70b0e-bbb9-4166-a743-011b005dba76",
   "metadata": {
    "deletable": false,
    "editable": false,
    "nbgrader": {
     "cell_type": "markdown",
     "checksum": "0bb5834c563b09d3b74bb51f83b9d8d2",
     "grade": false,
     "grade_id": "cell-16ed89c60934f8ff",
     "locked": true,
     "schema_version": 3,
     "solution": false,
     "task": false
    }
   },
   "source": [
    "<div class=\"alert alert-success\">\n",
    "4.B. $S = 1.0, t = 2, h = 0.1$\n",
    "</div>"
   ]
  },
  {
   "cell_type": "code",
   "execution_count": null,
   "id": "c16d92f0-849c-4945-8cb3-2f3714d1c23f",
   "metadata": {
    "deletable": false,
    "nbgrader": {
     "cell_type": "code",
     "checksum": "d687072229c58dcfe1166cff7790f60f",
     "grade": false,
     "grade_id": "cell-a6ae05e3ee53f435",
     "locked": false,
     "schema_version": 3,
     "solution": true,
     "task": false
    }
   },
   "outputs": [],
   "source": [
    "# Utiliza las funciones para calcular lo siguiente:\n",
    "# ve = derivada_ ... # valor exacto R'(t) \n",
    "# va = derivada_ ... # valor aproximado m(t)\n",
    "# EB = error_ ... \n",
    "\n",
    "S = 1.0\n",
    "t = 2.0\n",
    "h = 0.1\n",
    "# YOUR CODE HERE\n",
    "raise NotImplementedError()\n",
    "\n",
    "print(\"R'({}, {}) = {}\".format(t, S, ve))\n",
    "print(\"m({}, {}, {}) = {}\".format(t, S, h, va))\n",
    "print(\"Error absoluto = {}\".format(EB))"
   ]
  },
  {
   "cell_type": "code",
   "execution_count": null,
   "id": "bc51acbc-bea5-46b3-bead-b4d3e50d1c85",
   "metadata": {
    "deletable": false,
    "editable": false,
    "nbgrader": {
     "cell_type": "code",
     "checksum": "191db80191570b5d7f0b851915934e7a",
     "grade": true,
     "grade_id": "cell-a718092be7da5c0d",
     "locked": true,
     "points": 1,
     "schema_version": 3,
     "solution": false,
     "task": false
    }
   },
   "outputs": [],
   "source": [
    "quizz.eval_numeric('4B', EB)"
   ]
  },
  {
   "cell_type": "markdown",
   "id": "9d231218-ffb9-4e2d-817a-9f6fe0252c6f",
   "metadata": {
    "deletable": false,
    "editable": false,
    "nbgrader": {
     "cell_type": "markdown",
     "checksum": "2b1dd9119852fcf8947eaaf561b2b53a",
     "grade": false,
     "grade_id": "cell-5f62bb693aae7427",
     "locked": true,
     "schema_version": 3,
     "solution": false,
     "task": false
    }
   },
   "source": [
    "<div class=\"alert alert-success\">\n",
    "4.C. $S = 2.0, t = 3, h = 1.0$\n",
    "</div>"
   ]
  },
  {
   "cell_type": "code",
   "execution_count": null,
   "id": "b86f8dd5-6b41-4e14-9008-77b8824d8515",
   "metadata": {
    "deletable": false,
    "nbgrader": {
     "cell_type": "code",
     "checksum": "7ebf5b2ff32e9b1dace695c25dd065e9",
     "grade": false,
     "grade_id": "cell-e765ad93da3b3278",
     "locked": false,
     "schema_version": 3,
     "solution": true,
     "task": false
    }
   },
   "outputs": [],
   "source": [
    "# Utiliza las funciones para calcular lo siguiente:\n",
    "# ve = derivada_ ... # valor exacto R'(t) \n",
    "# va = derivada_ ... # valor aproximado m(t)\n",
    "# EC = error_ ... \n",
    "\n",
    "S = 2.0\n",
    "t = 3.0\n",
    "h = 1.0\n",
    "# YOUR CODE HERE\n",
    "raise NotImplementedError()\n",
    "\n",
    "print(\"R'({}, {}) = {}\".format(t, S, ve))\n",
    "print(\"m({}, {}, {}) = {}\".format(t, S, h, va))\n",
    "print(\"Error absoluto = {}\".format(EC))"
   ]
  },
  {
   "cell_type": "code",
   "execution_count": null,
   "id": "e4211aa9-c564-4555-b8ff-1b08d32be1ae",
   "metadata": {
    "deletable": false,
    "editable": false,
    "nbgrader": {
     "cell_type": "code",
     "checksum": "df93feae6e7e9a1dee3ec2b9d4ce733e",
     "grade": true,
     "grade_id": "cell-f1731f8b2e602207",
     "locked": true,
     "points": 1,
     "schema_version": 3,
     "solution": false,
     "task": false
    }
   },
   "outputs": [],
   "source": [
    "quizz.eval_numeric('4C', EC)"
   ]
  },
  {
   "cell_type": "markdown",
   "id": "c010ea9c-ce80-4466-9210-d5b75dc8303f",
   "metadata": {
    "deletable": false,
    "editable": false,
    "nbgrader": {
     "cell_type": "markdown",
     "checksum": "ea7023c8bfd6eeab0e136ee10fe5caa1",
     "grade": false,
     "grade_id": "cell-7e5e8ad121e737f0",
     "locked": true,
     "schema_version": 3,
     "solution": false,
     "task": false
    }
   },
   "source": [
    "<div class=\"alert alert-success\">\n",
    "4.D. $S = 5.0, t = 4, h = 0.1$\n",
    "</div>"
   ]
  },
  {
   "cell_type": "code",
   "execution_count": null,
   "id": "3823626f-7b1a-492f-b536-9f631c702af4",
   "metadata": {
    "deletable": false,
    "nbgrader": {
     "cell_type": "code",
     "checksum": "4ca1a2ed192ec2bc529191ae3f6c6755",
     "grade": false,
     "grade_id": "cell-9a239f8a2dfd1b7f",
     "locked": false,
     "schema_version": 3,
     "solution": true,
     "task": false
    }
   },
   "outputs": [],
   "source": [
    "# Utiliza las funciones para calcular lo siguiente:\n",
    "# ve = derivada_ ... # valor exacto R'(t) \n",
    "# va = derivada_ ... # valor aproximado m(t)\n",
    "# ED = error_ ... \n",
    "\n",
    "S = 5.0\n",
    "t = 4.0\n",
    "h = 0.1\n",
    "# YOUR CODE HERE\n",
    "raise NotImplementedError()\n",
    "\n",
    "print(\"R'({}, {}) = {}\".format(t, S, ve))\n",
    "print(\"m({}, {}, {}) = {}\".format(t, S, h, va))\n",
    "print(\"Error absoluto = {}\".format(ED))"
   ]
  },
  {
   "cell_type": "code",
   "execution_count": null,
   "id": "35783168-83de-4def-a985-e75d1f076f7f",
   "metadata": {
    "deletable": false,
    "editable": false,
    "nbgrader": {
     "cell_type": "code",
     "checksum": "2b38e650a4e5dc2b2f1dbab9330d41c1",
     "grade": true,
     "grade_id": "cell-413b6103129ac939",
     "locked": true,
     "points": 1,
     "schema_version": 3,
     "solution": false,
     "task": false
    }
   },
   "outputs": [],
   "source": [
    "quizz.eval_numeric('4D', ED)"
   ]
  },
  {
   "cell_type": "markdown",
   "id": "56612446",
   "metadata": {
    "deletable": false,
    "editable": false,
    "nbgrader": {
     "cell_type": "markdown",
     "checksum": "fc7483ffd25ed5399990cba12d49c9d4",
     "grade": false,
     "grade_id": "cell-ca421ca762ee8ddb",
     "locked": true,
     "schema_version": 3,
     "solution": false,
     "task": false
    }
   },
   "source": [
    "<a name='3'></a>\n",
    "## Definición de derivada\n",
    "\n",
    "La fórmula $(3)$ no es otra cosa que la definición formal de la derivada de una función. En casi todos los libros de cálculo encontrarás la siguiente notación para la derivada de la función $f(x)$:\n",
    "\n",
    "$$ \n",
    "\\frac{d f}{dx} = f^\\prime(x)=\\lim_{h \\to 0} \\frac{f(x + h) - f(x)}{h} \\tag{5}\n",
    "$$\n",
    "\n",
    "La derivada existe siempre y cuando exista este límite. ¿Puedes imaginar cuando este límite no existe? \n",
    "\n",
    "Observe que en la definición anterior se está calculando la pendiente de la función $f(x)$ en $x$. ¿Cuándo es que esta pendiente no se puede calcular?"
   ]
  },
  {
   "cell_type": "markdown",
   "id": "c57cfe54-2079-4a43-bdeb-62d1b1eb1d3e",
   "metadata": {
    "deletable": false,
    "editable": false,
    "nbgrader": {
     "cell_type": "markdown",
     "checksum": "69a4b735fd68654f103779e0162cf8db",
     "grade": false,
     "grade_id": "cell-c23f75885700922b",
     "locked": true,
     "schema_version": 3,
     "solution": false,
     "task": false
    }
   },
   "source": [
    "<div class=\"alert alert-info\">\n",
    "\n",
    "### Ejemplo 2. Aproximación de la derivada hacia adelante y hacia atrás.\n",
    "\n",
    "<font color=\"black\">\n",
    "\n",
    "Ejecuta la siguiente celda de código. Obtendrás un interactivo en donde podrás modificar $h$ y $x$.<br>\n",
    "* Explora los valores de $f^\\prime$, $m$ y del Error Absoluto cuando modificas $x$ y $h$.\n",
    "* Observa lo que sucede cuando activas el botón `Hacia atrás`.\n",
    "* ¿El error absoluto es menor o mayor con el botón `Hacia atrás` activado? ¿De qué depende?\n",
    "\n",
    "</font>\n",
    "\n",
    "</div>"
   ]
  },
  {
   "cell_type": "code",
   "execution_count": null,
   "id": "4bcdd802",
   "metadata": {
    "deletable": false,
    "editable": false,
    "nbgrader": {
     "cell_type": "code",
     "checksum": "802bd9aa8f1aefdc42b85f6fb7033595",
     "grade": false,
     "grade_id": "cell-d7006e864839c594",
     "locked": true,
     "schema_version": 3,
     "solution": false,
     "task": false
    }
   },
   "outputs": [],
   "source": [
    "%run \"./zinteractivo2.ipynb\""
   ]
  },
  {
   "cell_type": "markdown",
   "id": "cd943230-dac6-489d-b894-0b05b13723a0",
   "metadata": {
    "deletable": false,
    "editable": false,
    "nbgrader": {
     "cell_type": "markdown",
     "checksum": "54f35edc6f6fbfb68f5cbf87cda10f74",
     "grade": false,
     "grade_id": "cell-b0587cc5cfa5a9ec",
     "locked": true,
     "schema_version": 3,
     "solution": false,
     "task": false
    }
   },
   "source": [
    "\n",
    "Observamos en el interactivo anterior que también es posible calcular la derivada \"hacia atrás\" lo cual significa usar un punto a la izquierda del lugar donde se desea obtener la derivada (punto rojo). Esto se puede escribir analíticamente de la siguiente manera:\n",
    "\n",
    "$$ \n",
    "\\frac{d f}{dx} = f^\\prime(x)=\\lim_{h \\to 0} \\frac{f(x) - f(x-h)}{h} \\tag{6}\n",
    "$$\n",
    "\n",
    "Entonces, las ecuaciones $(5)$ y $(6)$ indican dos maneras de calcular la derivada en un punto, pero que deben coincidir cuando $h \\to 0$.\n",
    "\n",
    "Se puede pensar en el límite por la derecha, ecuación $(5)$ y el límite por la izquierda, ecuación $(6)$. Ambos deben existir y deben ser iguales para que la derivada en un punto dado exista."
   ]
  },
  {
   "cell_type": "markdown",
   "id": "43a02193-2c34-4f36-8c10-b8ee0f224fa7",
   "metadata": {
    "deletable": false,
    "editable": false,
    "nbgrader": {
     "cell_type": "markdown",
     "checksum": "e05be3301eb7761dc0003c0ec399d9e5",
     "grade": false,
     "grade_id": "cell-502130ef0eaf06fd",
     "locked": true,
     "schema_version": 3,
     "solution": false,
     "task": false
    }
   },
   "source": [
    "<a name='2-1'></a>\n",
    "## ¿Cómo calcular la derivada analíticamente?\n",
    "\n",
    "Consideremos la función $f(x) = x^3$ y apliquemos la definición de derivada:\n",
    "\n",
    "$$\n",
    "\\frac{d f}{dx} = \\lim_{h \\to 0} \\frac{f(x + h) - f(x)}{h} = \\lim_{h \\to 0} \\frac{(x + h)^3 - x^3}{h}\n",
    "$$\n",
    "\n",
    "Si expandimos los términos del numerador obtenemos:\n",
    "\n",
    "$$\n",
    "\\frac{d f}{dx} = \\lim_{h \\to 0} \\, (3x^2 + 3 x h + h ^2) \\tag{7}\n",
    "$$\n",
    "\n",
    "Al calcular el límite de la derecha obtenemos:\n",
    "\n",
    "$$\n",
    "\\frac{d f}{dx} = 3x^2\n",
    "$$\n",
    "\n",
    "Hemos calculado la derivada analítica de $f(x) = x^3$. \n",
    "\n",
    "\n",
    "**¿Podrías calcular la derivada analíticamente usando la definición de la ecuación $(6)$?**"
   ]
  },
  {
   "cell_type": "markdown",
   "id": "f4bf7231-c450-413a-aa1f-4baabf028dac",
   "metadata": {
    "deletable": false,
    "editable": false,
    "nbgrader": {
     "cell_type": "markdown",
     "checksum": "6752c34ecc404123df511ce987fcc79b",
     "grade": false,
     "grade_id": "cell-a948d8c5bc7ae0ac",
     "locked": true,
     "schema_version": 3,
     "solution": false,
     "task": false
    }
   },
   "source": [
    "<div class=\"alert alert-success\">\n",
    "\n",
    "### Ejercicio 5. Derivada analítica hacia atrás.\n",
    "\n",
    "<font color=\"black\">\n",
    "\n",
    "Usando la definición de la ecuación $(6)$ escribe la fórmula que debe ir entre paréntesis, similar a la de la ecuación $(7)$.\n",
    "\n",
    "</font>\n",
    "</div>"
   ]
  },
  {
   "cell_type": "code",
   "execution_count": null,
   "id": "72f939bf",
   "metadata": {
    "deletable": false,
    "nbgrader": {
     "cell_type": "code",
     "checksum": "87f90947a91cc841324876cc38baa180",
     "grade": false,
     "grade_id": "cell-f764370b8b638705",
     "locked": false,
     "schema_version": 3,
     "solution": true,
     "task": false
    }
   },
   "outputs": [],
   "source": [
    "# Escribe tu respuesta como sigue \n",
    "# respuesta = ...\n",
    "\n",
    "# YOUR CODE HERE\n",
    "raise NotImplementedError()"
   ]
  },
  {
   "cell_type": "code",
   "execution_count": null,
   "id": "0e26e4bb-e854-4129-ba33-2bb614dcaa87",
   "metadata": {
    "deletable": false,
    "editable": false,
    "nbgrader": {
     "cell_type": "code",
     "checksum": "00a3b840d2cb4b77cc846cb436d478f9",
     "grade": true,
     "grade_id": "cell-8de9cd376a7758fa",
     "locked": true,
     "points": 1,
     "schema_version": 3,
     "solution": false,
     "task": false
    }
   },
   "outputs": [],
   "source": [
    "quizz.eval_expression('5', resultado)"
   ]
  },
  {
   "cell_type": "code",
   "execution_count": null,
   "id": "016c11ec-ce1f-4d28-8e8e-50a4ded920c9",
   "metadata": {},
   "outputs": [],
   "source": []
  }
 ],
 "metadata": {
  "kernelspec": {
   "display_name": "Python 3 (ipykernel)",
   "language": "python",
   "name": "python3"
  },
  "language_info": {
   "codemirror_mode": {
    "name": "ipython",
    "version": 3
   },
   "file_extension": ".py",
   "mimetype": "text/x-python",
   "name": "python",
   "nbconvert_exporter": "python",
   "pygments_lexer": "ipython3",
   "version": "3.11.6"
  }
 },
 "nbformat": 4,
 "nbformat_minor": 5
}
