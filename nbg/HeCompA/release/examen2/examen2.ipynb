{
 "cells": [
  {
   "cell_type": "markdown",
   "id": "47f2fb7f",
   "metadata": {},
   "source": [
    "<img src=\"https://www.encit.unam.mx/sites/default/files/2020-10/EN%20CIENCIAS%20DE%20LA%20TIERRA1%20%281%29.png\" width=200px hspace=\"5px\" vspace=\"0px\" style=\"float: left; margin-right:10px\">\n",
    "\n",
    "**Asignatura**: Herramientas Computacionales Avanzadas <br>\n",
    "**Profesor**: Dr. Luis Miguel de la Cruz Salas.<br>\n",
    "**Examen Práctico**: 1<br>\n",
    "**Fecha**: Febrero 2024\n"
   ]
  },
  {
   "cell_type": "code",
   "execution_count": null,
   "id": "c0ee46a4",
   "metadata": {},
   "outputs": [],
   "source": [
    "NAME = \"\"\n",
    "COLLABORATORS = \"\""
   ]
  },
  {
   "cell_type": "markdown",
   "id": "5d3aa301",
   "metadata": {},
   "source": [
    "---"
   ]
  },
  {
   "cell_type": "markdown",
   "id": "1c5b8ffa-4790-4d04-86c4-83f49acdb224",
   "metadata": {
    "deletable": false,
    "editable": false,
    "nbgrader": {
     "cell_type": "markdown",
     "checksum": "d4741ce4bec1c45509a79ce7c48f7d3a",
     "grade": false,
     "grade_id": "cell-acf7b401f20cc7e7",
     "locked": true,
     "schema_version": 3,
     "solution": false,
     "task": false
    }
   },
   "source": [
    "# Examen 2.\n",
    "En este segundo examen se evalúa:\n",
    "* Mínimos cuadrados\n",
    "* Método de Euler.\n",
    "\n",
    " <p xmlns:cc=\"http://creativecommons.org/ns#\" xmlns:dct=\"http://purl.org/dc/terms/\">Examen 2 by <a rel=\"cc:attributionURL dct:creator\" property=\"cc:attributionName\" href=\"https://www.macti.unam.mx\">Luis M. de la Cruz</a> is licensed under <a href=\"http://creativecommons.org/licenses/by-sa/4.0/?ref=chooser-v1\" target=\"_blank\" rel=\"license noopener noreferrer\" style=\"display:inline-block;\">Attribution-ShareAlike 4.0 International<img style=\"height:22px!important;margin-left:3px;vertical-align:text-bottom;\" src=\"https://mirrors.creativecommons.org/presskit/icons/cc.svg?ref=chooser-v1\"><img style=\"height:22px!important;margin-left:3px;vertical-align:text-bottom;\" src=\"https://mirrors.creativecommons.org/presskit/icons/by.svg?ref=chooser-v1\"><img style=\"height:22px!important;margin-left:3px;vertical-align:text-bottom;\" src=\"https://mirrors.creativecommons.org/presskit/icons/sa.svg?ref=chooser-v1\"></a></p> "
   ]
  },
  {
   "cell_type": "code",
   "execution_count": 1,
   "id": "25713880-48d8-45cf-8ac5-91f4bef0359a",
   "metadata": {},
   "outputs": [],
   "source": [
    "import pandas as pd\n",
    "import numpy as np\n",
    "import matplotlib.pyplot as plt\n",
    "from macti.evaluation import *\n",
    "quizz = Quizz('q5', 'HeCompA')"
   ]
  },
  {
   "cell_type": "markdown",
   "id": "aae08829-e344-4b4b-9aa6-7bcb07c2cc5b",
   "metadata": {
    "deletable": false,
    "editable": false,
    "nbgrader": {
     "cell_type": "markdown",
     "checksum": "e64722e2d8e3b9f3e535529f3fd09f4f",
     "grade": false,
     "grade_id": "cell-f1b4823a56fdeb70",
     "locked": true,
     "schema_version": 3,
     "solution": false,
     "task": false
    }
   },
   "source": [
    "# Parte I: Mínimos cuadrados\n",
    "\n",
    "Para esta primera parte utilizaremos un conjunto de datos que contiene la emisión de CO2 de diferentes tipos de automóviles. Las variables características independientes son VOLUMEN y PESO. \n",
    "\n",
    "Fuente: https://www.kaggle.com/datasets/midhundasl/co2-emission-of-cars-dataset"
   ]
  },
  {
   "cell_type": "markdown",
   "id": "f899ba49-e187-4a7e-8e2a-26b128d5fed7",
   "metadata": {
    "deletable": false,
    "editable": false,
    "nbgrader": {
     "cell_type": "markdown",
     "checksum": "7fcf10403135113bcbca7420a6775aa6",
     "grade": false,
     "grade_id": "cell-39d103a0a3113edc",
     "locked": true,
     "schema_version": 3,
     "solution": false,
     "task": false
    }
   },
   "source": [
    "<div class=\"alert alert-success\">\n",
    "\n",
    "## Ejercicio 1. Lectura del archivo de datos.\n",
    "\n",
    "<font color=\"DarkBlue\">\n",
    "\n",
    "* El archivo que contiene los datos tiene el nombre `DATA.csv`. \n",
    "\n",
    "* Usando la función `pd.read_csv()` de la biblioteca Pandas, leer los datos en un DataFrame cuyo nombre sea `data`.\n",
    "\n",
    "* Una vez completado el código de la celda siguiente deberías ver algo similar a:\n",
    "\n",
    "<img src=\"examen01.png\" width=400px>\n",
    "\n",
    "**Hint**:\n",
    "```python\n",
    "data = pd.read_csv(...)\n",
    "```\n",
    "\n",
    "</font>\n",
    "</div>"
   ]
  },
  {
   "cell_type": "code",
   "execution_count": null,
   "id": "92bd3ccc-e0c4-433f-8395-2797dcb7b2b0",
   "metadata": {
    "deletable": false,
    "nbgrader": {
     "cell_type": "code",
     "checksum": "3bbf99478116331850071da819ff1a0f",
     "grade": false,
     "grade_id": "cell-1f08c6606cc6b0d4",
     "locked": false,
     "schema_version": 3,
     "solution": true,
     "task": false
    }
   },
   "outputs": [],
   "source": [
    "# Lectura del archivo\n",
    "# data = ...\n",
    "# YOUR CODE HERE\n",
    "raise NotImplementedError()\n",
    "\n",
    "# Impresión del DataFrame\n",
    "data"
   ]
  },
  {
   "cell_type": "markdown",
   "id": "a3db39f6-d75e-4558-a7e3-e2512b682107",
   "metadata": {
    "deletable": false,
    "editable": false,
    "nbgrader": {
     "cell_type": "markdown",
     "checksum": "95c57aaddd31bc29fa3c36dd56896151",
     "grade": false,
     "grade_id": "cell-c05c97a454ca796a",
     "locked": true,
     "schema_version": 3,
     "solution": false,
     "task": false
    }
   },
   "source": [
    "<div class=\"alert alert-success\">\n",
    "\n",
    "## Ejercicio 2. Transformar a arreglos de **NumPy**.\n",
    "\n",
    "<font color=\"DarkBlue\">\n",
    "\n",
    "Para realizar los cálculos que siguen, primero vamos a transformar las columnas del DataFrame `data` en arreglos de **NumPy**. Para ello usaremos la función `np.asarray()` y los siguientes nombres para los arreglos:\n",
    "* `car` : Marca del automóvil.\n",
    "* `model` : Modelo del automóvil.\n",
    "* `volumen` : Volumen del automóvil.\n",
    "* `peso` : Peso del automóvil.\n",
    "* `co2` : Emisión de CO2.\n",
    "\n",
    "**Hint**.\n",
    "\n",
    "```python\n",
    "car = np.asarray(data['Car'])\n",
    "...\n",
    "```\n",
    "\n",
    "</font>\n",
    "</div>"
   ]
  },
  {
   "cell_type": "code",
   "execution_count": null,
   "id": "9926a57d-1c0a-4417-a67c-52981936e3fb",
   "metadata": {
    "deletable": false,
    "nbgrader": {
     "cell_type": "code",
     "checksum": "252d0689691e14800ca10276138e3578",
     "grade": false,
     "grade_id": "cell-1f16f1d997813087",
     "locked": false,
     "schema_version": 3,
     "solution": true,
     "task": false
    }
   },
   "outputs": [],
   "source": [
    "# Transformar a arreglos\n",
    "# car = ...\n",
    "# model = ...\n",
    "# ...\n",
    "# YOUR CODE HERE\n",
    "raise NotImplementedError()\n",
    "\n",
    "# Impresión de los arreglos\n",
    "print('Marca: {}\\n'.format(car))\n",
    "print('Modelo: {}\\n'.format(model))\n",
    "print('Volumen: {}\\n'.format(volumen))\n",
    "print('Peso: {}\\n'.format(peso))\n",
    "print('CO2: {}\\n'.format(co2))"
   ]
  },
  {
   "cell_type": "code",
   "execution_count": null,
   "id": "e7c39e9d-1aa3-4440-b8e4-4ac6ea2e60fb",
   "metadata": {
    "deletable": false,
    "editable": false,
    "nbgrader": {
     "cell_type": "code",
     "checksum": "12b3fcd79b5c426239afb807205191ec",
     "grade": true,
     "grade_id": "cell-f3089b37e3a060b5",
     "locked": true,
     "points": 5,
     "schema_version": 3,
     "solution": false,
     "task": false
    }
   },
   "outputs": [],
   "source": [
    "quizz.eval_datastruct('1',car)\n",
    "quizz.eval_datastruct('2',model)\n",
    "quizz.eval_numeric('3', volumen)\n",
    "quizz.eval_numeric('4', peso)\n",
    "quizz.eval_numeric('5', co2)"
   ]
  },
  {
   "cell_type": "markdown",
   "id": "0637c3a0-15d8-4570-8e21-adb7b400e385",
   "metadata": {
    "deletable": false,
    "editable": false,
    "nbgrader": {
     "cell_type": "markdown",
     "checksum": "82d13f4ecbaff1a25ae3b6acbe9b0ec6",
     "grade": false,
     "grade_id": "cell-00cbd3411abee279",
     "locked": true,
     "schema_version": 3,
     "solution": false,
     "task": false
    }
   },
   "source": [
    "La siguiente celda realiza dos gráficas: CO2 vs Volumen y CO2 vs Peso."
   ]
  },
  {
   "cell_type": "code",
   "execution_count": null,
   "id": "59bae062-44fb-4dff-a26b-32b18d28ff67",
   "metadata": {
    "deletable": false,
    "editable": false,
    "nbgrader": {
     "cell_type": "code",
     "checksum": "c2350ec6a83db786b091a53dcc3c70d8",
     "grade": false,
     "grade_id": "cell-d5e38cdb99d642f5",
     "locked": true,
     "schema_version": 3,
     "solution": false,
     "task": false
    }
   },
   "outputs": [],
   "source": [
    "# Graficación de los datos\n",
    "fig, ax = plt.subplots(1, 2, figsize=(10,4), sharey = True)\n",
    "ax[0].scatter(volumen, co2)\n",
    "ax[0].set_ylabel('CO2')\n",
    "ax[0].set_xlabel('Volumen')\n",
    "ax[1].scatter(peso, co2)\n",
    "ax[1].set_ylabel('CO2')\n",
    "ax[1].set_xlabel('Peso')\n",
    "plt.show()"
   ]
  },
  {
   "cell_type": "markdown",
   "id": "5880d568-17f6-43f3-8525-40132daac6e6",
   "metadata": {
    "deletable": false,
    "editable": false,
    "nbgrader": {
     "cell_type": "markdown",
     "checksum": "bb3861fb9dd2acd938c89b7407ed8147",
     "grade": false,
     "grade_id": "cell-70d335b049598a06",
     "locked": true,
     "schema_version": 3,
     "solution": false,
     "task": false
    }
   },
   "source": [
    "<div class=\"alert alert-success\">\n",
    "\n",
    "## Ejercicio 3. Ajuste de rectas.\n",
    "\n",
    "<font color=\"DarkBlue\">\n",
    "\n",
    "En las siguientes celdas completa las funciones `media(x)` y `mincua(x,y)`.\n",
    "* La función `media(x)` calcula la media del conjunto de datos `x`.\n",
    "* La función `mincua(x,y)` calcula la pendiente `m` y la ordenada al origen `b` de la recta que mejor se ajusta a los datos `(x, y)`.\n",
    "\n",
    "</font>\n",
    "</div>"
   ]
  },
  {
   "cell_type": "code",
   "execution_count": null,
   "id": "fc261a1a-5876-4347-8900-82c66cdd7f6a",
   "metadata": {
    "deletable": false,
    "nbgrader": {
     "cell_type": "code",
     "checksum": "ba84cce0c659cc408141bba9cd7d3309",
     "grade": false,
     "grade_id": "cell-237dbadae3e463bd",
     "locked": false,
     "schema_version": 3,
     "solution": true,
     "task": false
    }
   },
   "outputs": [],
   "source": [
    "# Arreglos para probar las funciones\n",
    "test1 = [-25.52, -20.17, -14.81, -9.45, -4.09, 1.26, 6.62, 11.98,  17.33,  22.69]\n",
    "test2 = [-3.42,  -3.53, -3.64, -3.75, -3.85, -3.96, -4.07, -4.17, -4.28, -4.39]\n",
    "\n",
    "def media(x):\n",
    "    N = len(x)\n",
    "\n",
    "    # YOUR CODE HERE\n",
    "    raise NotImplementedError()\n",
    "    \n",
    "    return xm / N"
   ]
  },
  {
   "cell_type": "code",
   "execution_count": null,
   "id": "319489e9-7cb1-4200-888d-aae20600ba2b",
   "metadata": {
    "deletable": false,
    "editable": false,
    "nbgrader": {
     "cell_type": "code",
     "checksum": "4143e36afe4ed8dac16751ef5c2740ee",
     "grade": true,
     "grade_id": "cell-476fdbeb580ec77d",
     "locked": true,
     "points": 1,
     "schema_version": 3,
     "solution": false,
     "task": false
    }
   },
   "outputs": [],
   "source": [
    "quizz.eval_numeric('6', media(test1))"
   ]
  },
  {
   "cell_type": "code",
   "execution_count": null,
   "id": "8e065091-9ec0-49d5-9100-77c0cfc660a6",
   "metadata": {
    "deletable": false,
    "nbgrader": {
     "cell_type": "code",
     "checksum": "f7282d103658e7da40b01b33b8707f2d",
     "grade": false,
     "grade_id": "cell-194f1d902e7b9f57",
     "locked": false,
     "schema_version": 3,
     "solution": true,
     "task": false
    }
   },
   "outputs": [],
   "source": [
    "def mincua(x, y):\n",
    "    # Cálculo de la media\n",
    "    # ...\n",
    "    # Cálculo de m\n",
    "    # ...\n",
    "    # Cálculo de b\n",
    "    # ...\n",
    "    # YOUR CODE HERE\n",
    "    raise NotImplementedError()\n",
    "    \n",
    "    return m, b"
   ]
  },
  {
   "cell_type": "code",
   "execution_count": null,
   "id": "16a25591-6658-4ca8-8c93-74a20c2c90e7",
   "metadata": {
    "deletable": false,
    "editable": false,
    "nbgrader": {
     "cell_type": "code",
     "checksum": "9f280ee9111ad3f296018d3bf09ae330",
     "grade": true,
     "grade_id": "cell-718ebe18a4e3e4fd",
     "locked": true,
     "points": 1,
     "schema_version": 3,
     "solution": false,
     "task": false
    }
   },
   "outputs": [],
   "source": [
    "quizz.eval_numeric('7', mincua(test1, test2))"
   ]
  },
  {
   "cell_type": "markdown",
   "id": "53b8ef3f-4a8b-496c-bffc-d81c3087d6e5",
   "metadata": {
    "deletable": false,
    "editable": false,
    "nbgrader": {
     "cell_type": "markdown",
     "checksum": "d13364aa4b8ac083e44a6f8bec48a933",
     "grade": false,
     "grade_id": "cell-d9d3fde1807ceabc",
     "locked": true,
     "schema_version": 3,
     "solution": false,
     "task": false
    }
   },
   "source": [
    "<div class=\"alert alert-success\">\n",
    "\n",
    "## Ejercicio 4. Ajuste a los datos Volumen vs CO2.\n",
    "\n",
    "<font color=\"DarkBlue\">\n",
    "    \n",
    "* Utilizando la función `mincua(x, y)` calcula la pendiente y la ordenada al origen de la recta que mejor se ajusta a los datos **Volumen vs CO2**.\n",
    "* Utiliza los nombres `mv` y `bv` para la pendiente y la ordenada al origen respectivamente.\n",
    "* Posteriormente, genera los arreglos `xv` y `yv` que son las coordenadas de la recta ajustada.\n",
    "\n",
    "**Hint**.\n",
    "```python\n",
    "mv, bv = mincua(...)\n",
    "xv = np.linspace(...)\n",
    "yv = ...\n",
    "```\n",
    "\n",
    "</font>\n",
    "</div>"
   ]
  },
  {
   "cell_type": "code",
   "execution_count": null,
   "id": "8e7b9a53-6a49-4703-805c-6adcce0275bd",
   "metadata": {
    "deletable": false,
    "nbgrader": {
     "cell_type": "code",
     "checksum": "f18e60ba021727409ee364780ef37183",
     "grade": false,
     "grade_id": "cell-bdbef4b81ab1709c",
     "locked": false,
     "schema_version": 3,
     "solution": true,
     "task": false
    }
   },
   "outputs": [],
   "source": [
    "# Ajuste de la línea recta\n",
    "# mv, bv = ..\n",
    "# ...\n",
    "# YOUR CODE HERE\n",
    "raise NotImplementedError()\n",
    "\n",
    "print('mv = {}'.format(mv))\n",
    "print('bv = {}'.format(bv))"
   ]
  },
  {
   "cell_type": "code",
   "execution_count": null,
   "id": "67d4a5d6-a399-4969-952f-76f233294755",
   "metadata": {
    "deletable": false,
    "editable": false,
    "nbgrader": {
     "cell_type": "code",
     "checksum": "6de5c29fec3e3c36d1a37436ede5a162",
     "grade": true,
     "grade_id": "cell-c2f87474de01469e",
     "locked": true,
     "points": 4,
     "schema_version": 3,
     "solution": false,
     "task": false
    }
   },
   "outputs": [],
   "source": [
    "quizz.eval_numeric('8', mv)\n",
    "quizz.eval_numeric('9', bv)\n",
    "quizz.eval_numeric('10', xv)\n",
    "quizz.eval_numeric('11', yv)"
   ]
  },
  {
   "cell_type": "markdown",
   "id": "ceda04fb-3557-48f5-a8e2-f3f5cfc02733",
   "metadata": {
    "deletable": false,
    "editable": false,
    "nbgrader": {
     "cell_type": "markdown",
     "checksum": "9db60c46815f0f240c345d7fd56d0d83",
     "grade": false,
     "grade_id": "cell-ed7541c383c9829f",
     "locked": true,
     "schema_version": 3,
     "solution": false,
     "task": false
    }
   },
   "source": [
    "<div class=\"alert alert-success\">\n",
    "\n",
    "## Ejercicio 5. Ajuste a los datos Peso vs CO2.\n",
    "\n",
    "<font color=\"DarkBlue\">\n",
    "    \n",
    "* Utilizando la función `mincua(x, y)` calcula la pendiente y la ordenada al origen de la recta que mejor se ajusta a los datos **Peso vs CO2**.\n",
    "* Utiliza los nombres `mp` y `bp` para la pendiente y la ordenada al origen respectivamente.\n",
    "* Posteriormente, genera los arreglos `xp` y `yp` que son las coordenadas de la recta ajustada.\n",
    "\n",
    "</font>\n",
    "</div>"
   ]
  },
  {
   "cell_type": "code",
   "execution_count": null,
   "id": "08960f4c-545b-489a-8df5-bf2215c4e071",
   "metadata": {
    "deletable": false,
    "nbgrader": {
     "cell_type": "code",
     "checksum": "9b77ec1b3144ee18d0e0659c774aca87",
     "grade": false,
     "grade_id": "cell-424b841d4901700e",
     "locked": false,
     "schema_version": 3,
     "solution": true,
     "task": false
    }
   },
   "outputs": [],
   "source": [
    "# Ajuste de la línea recta\n",
    "# mp, bp = ..\n",
    "# ...\n",
    "# YOUR CODE HERE\n",
    "raise NotImplementedError()\n",
    "\n",
    "print('mp = {}'.format(mp))\n",
    "print('bp = {}'.format(bp))"
   ]
  },
  {
   "cell_type": "code",
   "execution_count": null,
   "id": "2574d066-0e09-4408-babd-82f4bd049f54",
   "metadata": {
    "deletable": false,
    "editable": false,
    "nbgrader": {
     "cell_type": "code",
     "checksum": "d12e4255902c29090adbc1665592a07b",
     "grade": true,
     "grade_id": "cell-9b67c554840deff3",
     "locked": true,
     "points": 4,
     "schema_version": 3,
     "solution": false,
     "task": false
    }
   },
   "outputs": [],
   "source": [
    "quizz.eval_numeric('12', mp)\n",
    "quizz.eval_numeric('13', bp)\n",
    "quizz.eval_numeric('14', xp)\n",
    "quizz.eval_numeric('15', yp)"
   ]
  },
  {
   "cell_type": "markdown",
   "id": "5de69641-5d1e-4af6-b8a9-d755df035f1a",
   "metadata": {
    "deletable": false,
    "editable": false,
    "nbgrader": {
     "cell_type": "markdown",
     "checksum": "825f717209bdde58e33113fd9a382d53",
     "grade": false,
     "grade_id": "cell-ef30762b21a7f0a7",
     "locked": true,
     "schema_version": 3,
     "solution": false,
     "task": false
    }
   },
   "source": [
    "<div class=\"alert alert-success\">\n",
    "\n",
    "## Ejercicio 6. Graficación del resultado.\n",
    "\n",
    "<font color=\"DarkBlue\">\n",
    "\n",
    "Usando la función `grafica(...)` realiza la gráfica de los datos y de la recta ajustada para los dos casos: **Volumen vs CO2** y **Peso vs CO2**. Deberías obtener algo similar a la siguiente gráfica:\n",
    "\n",
    "<img src=\"examen02.png\" width=400px>"
   ]
  },
  {
   "cell_type": "code",
   "execution_count": null,
   "id": "ae7254e3-1348-4a3a-93a2-a56429dade23",
   "metadata": {
    "deletable": false,
    "editable": false,
    "nbgrader": {
     "cell_type": "code",
     "checksum": "17ebd7bcdcf9fa0b49f541cbe0dfa112",
     "grade": false,
     "grade_id": "cell-562a65fed86682ac",
     "locked": true,
     "schema_version": 3,
     "solution": false,
     "task": false
    }
   },
   "outputs": [],
   "source": [
    "def grafica(ax, x, y, xl, yl, xlabel, \n",
    "            size=75, c1 = 'dimgray', c2 = 'deeppink', alpha=0.75):\n",
    "    ax.scatter(x, y, alpha=alpha, s =size, fc=c1, ec='k')\n",
    "    ax.plot(xl, yl, alpha=alpha, c=c2, lw=3, ls='--')\n",
    "    ax.set_ylabel('CO2')\n",
    "    ax.set_xlabel(xlabel)\n",
    "    ax.spines['right'].set_visible(False)\n",
    "    ax.spines['top'].set_visible(False)\n",
    "    ax.grid(True)    "
   ]
  },
  {
   "cell_type": "code",
   "execution_count": null,
   "id": "2183d2da-688a-4b09-8601-17263036e354",
   "metadata": {
    "deletable": false,
    "nbgrader": {
     "cell_type": "code",
     "checksum": "ab51fa17e0811a6112b5b58c6d099874",
     "grade": true,
     "grade_id": "cell-e1031a4ce6333a76",
     "locked": false,
     "points": 2,
     "schema_version": 3,
     "solution": true,
     "task": false
    }
   },
   "outputs": [],
   "source": [
    "fig, ax = plt.subplots(1, 2, figsize=(10,4), sharey = True)\n",
    "plt.suptitle('Producción de CO2 vs Volumen y Peso')\n",
    "# grafica(...)\n",
    "# grafica(...)\n",
    "# YOUR CODE HERE\n",
    "raise NotImplementedError()"
   ]
  },
  {
   "cell_type": "markdown",
   "id": "deb53c60-8db2-4ffe-b479-c30b01819cea",
   "metadata": {
    "deletable": false,
    "editable": false,
    "nbgrader": {
     "cell_type": "markdown",
     "checksum": "e1cadcfaf7248e41fa4184e939d3174b",
     "grade": false,
     "grade_id": "cell-007faec6b430c2e6",
     "locked": true,
     "schema_version": 3,
     "solution": false,
     "task": false
    }
   },
   "source": [
    "<div class=\"alert alert-success\">\n",
    "\n",
    "## Ejercicio 7. Eliminando datos \"atípicos\".\n",
    "\n",
    "<font color=\"DarkBlue\">\n",
    "    \n",
    "* La función `drop_outliers(emax, x, co2, m, b)` elimina datos que se alejan de la recta por un error mayor al definido por el parámetro `emax`. \n",
    "* El parámetro `x` puede representar al volumen o al peso.\n",
    "* El parámetro `co2` representa al CO2 emitido.\n",
    "* Los parámetros `m` y `b` representan a la pendiente y la ordenada al origen, respectivamente, de la recta ajustada en los ejercicios anteriores. \n",
    "\n",
    "* La forma en que se eliminan los *outliers* es calculando el error con la siguiente fórmula:\n",
    "\n",
    "$$\n",
    "E_r = \\frac{100 * |\\text{CO2}_{pred} - y_i|}{\\text{CO2}_{max}}\n",
    "$$\n",
    "\n",
    "donde $\\text{CO2}_{pred}$ es el CO2 predicho por la fórmula de la recta ajustada, $y_i$ es el valor de CO2 para $x_i$ proveniente de los datos y $\\text{CO2}_{max}$ es el valor máximo de CO2 en los datos.\n",
    "\n",
    "En la función `drop_outliers(emax, x, co2, m, b)`, completa el cálculo de:\n",
    "* $\\text{CO2}_{pred}$ (`co2_pred`) y\n",
    "* del error $E_r$ (`Er`).\n",
    "\n",
    "</font>\n",
    "</div>"
   ]
  },
  {
   "cell_type": "code",
   "execution_count": null,
   "id": "9cd23246-2e1d-4114-810b-3d3fc28812c6",
   "metadata": {
    "deletable": false,
    "nbgrader": {
     "cell_type": "code",
     "checksum": "2e819f4a93e6e2d4d7f8ce42df9c8fba",
     "grade": false,
     "grade_id": "cell-8acde3da3f87d827",
     "locked": false,
     "schema_version": 3,
     "solution": true,
     "task": false
    }
   },
   "outputs": [],
   "source": [
    "def drop_outliers(emax, x, co2, m, b):\n",
    "    co2_max = np.max(co2)\n",
    "    x_n = []\n",
    "    co2_n = []\n",
    "    for xi, yi in zip(x, co2):\n",
    "\n",
    "        #co2_pred = ...\n",
    "        #Er = ...\n",
    "        # YOUR CODE HERE\n",
    "        raise NotImplementedError()\n",
    "        \n",
    "        if Er < emax:\n",
    "            x_n.append(xi)\n",
    "            co2_n.append(yi)\n",
    "\n",
    "    return np.asarray(x_n), np.asarray(co2_n)"
   ]
  },
  {
   "cell_type": "markdown",
   "id": "79bab4ca-5e4d-4fcf-81aa-cb9cf0a35f97",
   "metadata": {
    "deletable": false,
    "editable": false,
    "nbgrader": {
     "cell_type": "markdown",
     "checksum": "aab47e54a8f736c43fe3728937ce18e0",
     "grade": false,
     "grade_id": "cell-2f5f3f80ed3c8fe3",
     "locked": true,
     "schema_version": 3,
     "solution": false,
     "task": false
    }
   },
   "source": [
    "<div class=\"alert alert-success\">\n",
    "<font color=\"DarkBlue\">\n",
    "    \n",
    "* Genera los arreglos de Volumen (`v_no`) y CO2 (`co2_v`) eliminando datos con la función `drop_ouliers()` para un `emax = 6.5`.\n",
    "\n",
    "</font>\n",
    "</div>"
   ]
  },
  {
   "cell_type": "code",
   "execution_count": null,
   "id": "e1a03c3c-f80b-40a5-a52c-b96bbbc41555",
   "metadata": {
    "deletable": false,
    "nbgrader": {
     "cell_type": "code",
     "checksum": "2ca8950916f0404ee187c572342c2115",
     "grade": false,
     "grade_id": "cell-29ded45673db6824",
     "locked": false,
     "schema_version": 3,
     "solution": true,
     "task": false
    }
   },
   "outputs": [],
   "source": [
    "# v_no, co2_v = drop_outliers(...)\n",
    "# YOUR CODE HERE\n",
    "raise NotImplementedError()\n",
    "\n",
    "print('Volumen (no outliers) : {}'.format(v_no))\n",
    "print('CO2 (no outliers) : {}'.format(co2_v))"
   ]
  },
  {
   "cell_type": "code",
   "execution_count": null,
   "id": "f25f1316-66ba-443d-809a-90cb200fb60e",
   "metadata": {
    "deletable": false,
    "editable": false,
    "nbgrader": {
     "cell_type": "code",
     "checksum": "cdd5d5dc67c57f71510a077b8f1e9c51",
     "grade": true,
     "grade_id": "cell-b76f84f488476469",
     "locked": true,
     "points": 2,
     "schema_version": 3,
     "solution": false,
     "task": false
    }
   },
   "outputs": [],
   "source": [
    "quizz.eval_numeric('16', v_no)\n",
    "quizz.eval_numeric('17', co2_v)"
   ]
  },
  {
   "cell_type": "markdown",
   "id": "65c44898-585e-42db-baec-93bd36a6d69b",
   "metadata": {
    "deletable": false,
    "editable": false,
    "nbgrader": {
     "cell_type": "markdown",
     "checksum": "ee371991fb396430891fafe250231155",
     "grade": false,
     "grade_id": "cell-4e08b6aeb29605d3",
     "locked": true,
     "schema_version": 3,
     "solution": false,
     "task": false
    }
   },
   "source": [
    "<div class=\"alert alert-success\">\n",
    "<font color=\"DarkBlue\">\n",
    "\n",
    "* Genera los arreglos de Peso (`p_no`) y CO2 (`co2_p`) eliminando datos con la función `drop_ouliers()` para un `emax = 6.5`.\n",
    "\n",
    "</font>\n",
    "</div>"
   ]
  },
  {
   "cell_type": "code",
   "execution_count": null,
   "id": "229e10af-e838-4f0e-97f2-6eef02328299",
   "metadata": {
    "deletable": false,
    "nbgrader": {
     "cell_type": "code",
     "checksum": "595feafa0a6b78743eed0ec9a64ffe27",
     "grade": false,
     "grade_id": "cell-e2e88615efe62a4d",
     "locked": false,
     "schema_version": 3,
     "solution": true,
     "task": false
    }
   },
   "outputs": [],
   "source": [
    "# p_no, co2_p = drop_outliers(...)\n",
    "# YOUR CODE HERE\n",
    "raise NotImplementedError()\n",
    "\n",
    "print('Peso (no outliers) : {}'.format(p_no))\n",
    "print('CO2 (no outliers) : {}'.format(co2_p))"
   ]
  },
  {
   "cell_type": "code",
   "execution_count": null,
   "id": "657af98b-7c2f-4175-86df-e616d31c6624",
   "metadata": {
    "deletable": false,
    "editable": false,
    "nbgrader": {
     "cell_type": "code",
     "checksum": "21390bc73aef0526093a18210860241d",
     "grade": true,
     "grade_id": "cell-a849768da8b0cbcb",
     "locked": true,
     "points": 2,
     "schema_version": 3,
     "solution": false,
     "task": false
    }
   },
   "outputs": [],
   "source": [
    "quizz.eval_numeric('18', p_no)\n",
    "quizz.eval_numeric('19', co2_p)"
   ]
  },
  {
   "cell_type": "markdown",
   "id": "737330a7-29da-4613-a6f3-0abd63a028b5",
   "metadata": {
    "deletable": false,
    "editable": false,
    "nbgrader": {
     "cell_type": "markdown",
     "checksum": "88192adbd4490e8cc10a631255c0314a",
     "grade": false,
     "grade_id": "cell-ad1f6a8f37b95b79",
     "locked": true,
     "schema_version": 3,
     "solution": false,
     "task": false
    }
   },
   "source": [
    "<div class=\"alert alert-success\">\n",
    "\n",
    "## Ejercicio 8. Reajuste con los nuevos arreglos.\n",
    "\n",
    "<font color=\"DarkBlue\">\n",
    "\n",
    "* Usando los arreglos `v_no` y `co2_v` ajusta una nueva recta.\n",
    "\n",
    "</font>\n",
    "</div>"
   ]
  },
  {
   "cell_type": "code",
   "execution_count": null,
   "id": "40992669-7f18-411d-825c-e60edadd0ad7",
   "metadata": {
    "deletable": false,
    "nbgrader": {
     "cell_type": "code",
     "checksum": "f33fccb266802a2fc6e3b729b652fd54",
     "grade": false,
     "grade_id": "cell-8e23b7a4b8a2b5fe",
     "locked": false,
     "schema_version": 3,
     "solution": true,
     "task": false
    }
   },
   "outputs": [],
   "source": [
    "# mvo, bvo = ...\n",
    "# xvo = ...\n",
    "# yvo = ...\n",
    "# YOUR CODE HERE\n",
    "raise NotImplementedError()\n",
    "\n",
    "print('mvo = {}'.format(mvo))\n",
    "print('bvo = {}'.format(bvo))"
   ]
  },
  {
   "cell_type": "code",
   "execution_count": null,
   "id": "0fc36c9d-aa80-490f-a288-4015708d657d",
   "metadata": {
    "deletable": false,
    "editable": false,
    "nbgrader": {
     "cell_type": "code",
     "checksum": "074bf878903d8ca93c4b321f1743fbbe",
     "grade": true,
     "grade_id": "cell-779743f0d5110578",
     "locked": true,
     "points": 4,
     "schema_version": 3,
     "solution": false,
     "task": false
    }
   },
   "outputs": [],
   "source": [
    "quizz.eval_numeric('20', mvo)\n",
    "quizz.eval_numeric('21', bvo)\n",
    "quizz.eval_numeric('22', xvo)\n",
    "quizz.eval_numeric('23', yvo)"
   ]
  },
  {
   "cell_type": "markdown",
   "id": "4bb8a31f-c454-4bd7-bdab-0c0a04f37066",
   "metadata": {
    "deletable": false,
    "editable": false,
    "nbgrader": {
     "cell_type": "markdown",
     "checksum": "63fbda89e008f53f23cd5833d6756a07",
     "grade": false,
     "grade_id": "cell-8fbd3f6924d2beea",
     "locked": true,
     "schema_version": 3,
     "solution": false,
     "task": false
    }
   },
   "source": [
    "<div class=\"alert alert-success\">\n",
    "<font color=\"DarkBlue\">\n",
    "\n",
    "* Usando los arreglos `p_no` y `co2_p` ajusta una nueva recta.\n",
    "  \n",
    "</font>\n",
    "</div>"
   ]
  },
  {
   "cell_type": "code",
   "execution_count": null,
   "id": "15b0b5ca-b33d-44e5-b8e8-46fa0a1e91a2",
   "metadata": {
    "deletable": false,
    "nbgrader": {
     "cell_type": "code",
     "checksum": "d1b734fe6dd466f193c9147267449736",
     "grade": false,
     "grade_id": "cell-75f8a924b230befc",
     "locked": false,
     "schema_version": 3,
     "solution": true,
     "task": false
    }
   },
   "outputs": [],
   "source": [
    "# YOUR CODE HERE\n",
    "raise NotImplementedError()\n",
    "\n",
    "print('mpo = {}'.format(mpo))\n",
    "print('bpo = {}'.format(bpo))"
   ]
  },
  {
   "cell_type": "code",
   "execution_count": null,
   "id": "5b28073f-3d5f-4fa2-9891-8ef3c262384a",
   "metadata": {
    "deletable": false,
    "editable": false,
    "nbgrader": {
     "cell_type": "code",
     "checksum": "12692de2f108361b35d97a118cd2e147",
     "grade": true,
     "grade_id": "cell-981401d92df32979",
     "locked": true,
     "points": 4,
     "schema_version": 3,
     "solution": false,
     "task": false
    }
   },
   "outputs": [],
   "source": [
    "quizz.eval_numeric('24', mpo)\n",
    "quizz.eval_numeric('25', bpo)\n",
    "quizz.eval_numeric('26', xpo)\n",
    "quizz.eval_numeric('27', ypo)"
   ]
  },
  {
   "cell_type": "markdown",
   "id": "1f73900c-153b-4377-af53-68deba3ecffd",
   "metadata": {
    "deletable": false,
    "editable": false,
    "nbgrader": {
     "cell_type": "markdown",
     "checksum": "d00d8917cc5be444fabedfd613e035eb",
     "grade": false,
     "grade_id": "cell-7ad6d0fd36f5b41a",
     "locked": true,
     "schema_version": 3,
     "solution": false,
     "task": false
    }
   },
   "source": [
    "<div class=\"alert alert-success\">\n",
    "\n",
    "## Ejercicio 9. Graficación del resultado sin datos \"atípicos\".\n",
    "\n",
    "<font color=\"DarkBlue\">\n",
    "\n",
    "Usando la función `grafica(...)` realiza la gráfica de los datos y de la recta ajustada para los dos casos:\n",
    "* **Volumen vs CO2** (`volumen`, `CO2`, `xv`, `yv`)\n",
    "* **Volumen vs CO2** sin \"outliers\" (`v_no`, `co2_v`, `xvo`, `yvo`)\n",
    "* **Peso vs CO2** (`peso`, `CO2`, `xp`, `yp`)\n",
    "* **Peso vs CO2** sin \"outliers\" (`p_no`, `co2_p`, `xpo`, `ypo`)\n",
    "\n",
    "Deberías obtener un resultado similar al de la siguiente figura.\n",
    "\n",
    "<img src=\"examen03.png\" width=400px>\n",
    "\n",
    "**Nota**. Utiliza los siguientes parámetros de la función `grafica()`:\n",
    "* `alpha` para cambiar la transparencia de las gráficas.\n",
    "* `size` para cambiar el tamaño de los puntos.\n",
    "* `c1` para cambiar el color de los puntos.\n",
    "* `c2` para cambiar el color de la recta.\n",
    "</font></div>"
   ]
  },
  {
   "cell_type": "code",
   "execution_count": null,
   "id": "1b51623a-2dd5-4ace-8e8e-51d3430fda44",
   "metadata": {
    "deletable": false,
    "nbgrader": {
     "cell_type": "code",
     "checksum": "80baab934b9bde8b54b9030b1fca87e7",
     "grade": true,
     "grade_id": "cell-183640224ae83699",
     "locked": false,
     "points": 4,
     "schema_version": 3,
     "solution": true,
     "task": false
    }
   },
   "outputs": [],
   "source": [
    "fig, ax = plt.subplots(1, 2, figsize=(10,4), sharey = True)\n",
    "plt.suptitle('Producción de CO2 vs Volumen y Peso')\n",
    "# grafica(...)\n",
    "# ...\n",
    "# YOUR CODE HERE\n",
    "raise NotImplementedError()"
   ]
  },
  {
   "cell_type": "markdown",
   "id": "fc3e122e-971e-4ce5-bd14-d062454f4c5a",
   "metadata": {
    "deletable": false,
    "editable": false,
    "nbgrader": {
     "cell_type": "markdown",
     "checksum": "37ff8c03d3dcd876620b24f7273d3d4c",
     "grade": false,
     "grade_id": "cell-6c6dc6ec47182400",
     "locked": true,
     "schema_version": 3,
     "solution": false,
     "task": false
    }
   },
   "source": [
    "# Problemas de Valor Inicial.\n",
    "    \n",
    "En el estudio de crecimiento de poblaciones, limitadas por la competencia por alimentos, se tiene el siguiente modelo matemático:\n",
    "\n",
    "$$\n",
    "\\begin{eqnarray*}\n",
    "\t\\frac{d y(t)}{d t} & = & \\lambda y ( 1 -y), \\qquad \\text{ para }  0 < t  < T_{max} \\tag{1}\\\\\n",
    "\ty(0) & = & y_0 \\qquad \\text{(condición inicial)}\n",
    "\\end{eqnarray*}\n",
    "$$\n",
    "\n",
    "donde $y_0$ es la población inicial, $\\lambda > 0$ y $T_{max} = h_t * N_t$. \n",
    "\n",
    "En este caso la ecuación es no lineal pues del lado derecho aparece un término cuadrático de $y$.\n",
    "\n",
    "Este problema tiene la siguiente solución exacta: $y(t) = \\dfrac{y_0}{y_0 + (1-y_0)e^{-\\lambda t}}$.\n",
    "\n",
    "La siguiente gráfica muestra como se ve la solución exacta, la solución numérica aproximada con el método de Euler y el error.\n",
    "\n",
    "<img src=\"examen04.png\" width=400px>\n"
   ]
  },
  {
   "cell_type": "markdown",
   "id": "f0e08332-a660-415a-a638-7304dfff13ce",
   "metadata": {
    "deletable": false,
    "editable": false,
    "nbgrader": {
     "cell_type": "markdown",
     "checksum": "67b3caa83c19a37d9611bf20a94f7452",
     "grade": false,
     "grade_id": "cell-376e59a5af270a9e",
     "locked": true,
     "schema_version": 3,
     "solution": false,
     "task": false
    }
   },
   "source": [
    "<div class=\"alert alert-success\">\n",
    "\n",
    "## Ejercicio 10. Método de Euler.\n",
    "\n",
    "<font color=\"DarkBlue\">\n",
    "\n",
    "Aproximar la solución de la ecuación $(1)$ usando el Método de Euler.\n",
    "\n",
    "1. Completa la función `solucion_exacta()`.\n",
    "\n",
    "</font></div>"
   ]
  },
  {
   "cell_type": "code",
   "execution_count": null,
   "id": "a7359b5d-f44d-4498-9179-bc2c6ee41d2f",
   "metadata": {
    "deletable": false,
    "nbgrader": {
     "cell_type": "code",
     "checksum": "f85c4d518bb324398f341a7bea945282",
     "grade": false,
     "grade_id": "cell-7f883415a4e329b5",
     "locked": false,
     "schema_version": 3,
     "solution": true,
     "task": false
    }
   },
   "outputs": [],
   "source": [
    "def parametros(N):\n",
    "    # Parámetros Físicos\n",
    "    l = 10\n",
    "    Lt = 1.0\n",
    "    y0 = 0.01\n",
    "\n",
    "    # Parámetros Numéricos\n",
    "    h = Lt / N\n",
    "    \n",
    "    return l, Lt, y0, h\n",
    "\n",
    "def sol_exacta(l, t, y0):\n",
    "    # YOUR CODE HERE\n",
    "    raise NotImplementedError()"
   ]
  },
  {
   "cell_type": "code",
   "execution_count": null,
   "id": "4976b7ea-5bad-4fbf-bb94-bee9dd187fd5",
   "metadata": {
    "deletable": false,
    "nbgrader": {
     "cell_type": "code",
     "checksum": "206d369cd7f6af9a4601c875da5947a8",
     "grade": false,
     "grade_id": "cell-66922b236764814e",
     "locked": false,
     "schema_version": 3,
     "solution": true,
     "task": false
    }
   },
   "outputs": [],
   "source": [
    "N = 4\n",
    "\n",
    "# Parámetros del problema\n",
    "l, Lt, y0, h = parametros(N)\n",
    "\n",
    "# Solución exacta\n",
    "# t = ...\n",
    "# y = ...\n",
    "# YOUR CODE HERE\n",
    "raise NotImplementedError()\n",
    "\n",
    "print(t)\n",
    "print(y)"
   ]
  },
  {
   "cell_type": "code",
   "execution_count": null,
   "id": "f44eed04-a37c-4c65-8d98-c6634cd4b009",
   "metadata": {
    "deletable": false,
    "editable": false,
    "nbgrader": {
     "cell_type": "code",
     "checksum": "67f354644621a0cab7022e279ea3b949",
     "grade": true,
     "grade_id": "cell-92ee3ba4537ce5a4",
     "locked": true,
     "points": 2,
     "schema_version": 3,
     "solution": false,
     "task": false
    }
   },
   "outputs": [],
   "source": [
    "quizz.eval_numeric('28', t)\n",
    "quizz.eval_numeric('29', y)"
   ]
  },
  {
   "cell_type": "code",
   "execution_count": null,
   "id": "394e35dd-d40d-4748-98e4-1acf424bc640",
   "metadata": {
    "deletable": false,
    "editable": false,
    "nbgrader": {
     "cell_type": "code",
     "checksum": "65df39bf61933de37c6f6c13b91c32f1",
     "grade": false,
     "grade_id": "cell-3e7d7d3b3afc742d",
     "locked": true,
     "schema_version": 3,
     "solution": false,
     "task": false
    }
   },
   "outputs": [],
   "source": [
    "import macti.visual as mvis\n",
    "plt.figure(figsize=(6,3))\n",
    "plt.plot(t, y, label='Sol. exacta') # Gráfica de la solución exacta\n",
    "plt.grid()\n",
    "plt.legend()\n",
    "plt.show()"
   ]
  },
  {
   "cell_type": "markdown",
   "id": "feac7144-673f-44ac-b6db-9889141bc47e",
   "metadata": {
    "deletable": false,
    "editable": false,
    "nbgrader": {
     "cell_type": "markdown",
     "checksum": "4dc0158a805482d775152055f46e606b",
     "grade": false,
     "grade_id": "cell-1fc04bb835a5c9a6",
     "locked": true,
     "schema_version": 3,
     "solution": false,
     "task": false
    }
   },
   "source": [
    "<div class=\"alert alert-success\">\n",
    "\n",
    "<font color=\"DarkBlue\">\n",
    "\n",
    "2. Completa la función `solucion_numerica()`.\n",
    "\n",
    "</font></div>"
   ]
  },
  {
   "cell_type": "code",
   "execution_count": null,
   "id": "e25aec51-ad7d-40dd-902b-5dd8fd238a5c",
   "metadata": {
    "deletable": false,
    "nbgrader": {
     "cell_type": "code",
     "checksum": "071f5efc938d0236bad5e54f9948c0bc",
     "grade": false,
     "grade_id": "cell-88c53eff358ac9a3",
     "locked": false,
     "schema_version": 3,
     "solution": true,
     "task": false
    }
   },
   "outputs": [],
   "source": [
    "def sol_numerica(y0, N, h, l):\n",
    "    # Definición de los arreglos\n",
    "    ta = [0]\n",
    "    ya = [y0]\n",
    "    \n",
    "    for k in range(0, N):\n",
    "        ta.append(h * (k + 1))\n",
    "        #ya.append( ... )\n",
    "        # YOUR CODE HERE\n",
    "        raise NotImplementedError()\n",
    "\n",
    "    return ta, ya"
   ]
  },
  {
   "cell_type": "code",
   "execution_count": null,
   "id": "fdfb5e1b-569d-4e51-b4d5-ce6607284ccd",
   "metadata": {
    "deletable": false,
    "nbgrader": {
     "cell_type": "code",
     "checksum": "7520a8a2850561f6de48dc2821bb652c",
     "grade": false,
     "grade_id": "cell-80f16ecdfc140980",
     "locked": false,
     "schema_version": 3,
     "solution": true,
     "task": false
    }
   },
   "outputs": [],
   "source": [
    "# Solución numerica\n",
    "# ta, ya = ...\n",
    "# YOUR CODE HERE\n",
    "raise NotImplementedError()\n",
    "\n",
    "print(ta, ya)"
   ]
  },
  {
   "cell_type": "code",
   "execution_count": null,
   "id": "6b7d4795-dd86-4550-96a3-69c37c0c5dd0",
   "metadata": {
    "deletable": false,
    "editable": false,
    "nbgrader": {
     "cell_type": "code",
     "checksum": "67a3159d77ee3862fe518c2b0b8c8e61",
     "grade": true,
     "grade_id": "cell-cfcead74e4529f5c",
     "locked": true,
     "points": 2,
     "schema_version": 3,
     "solution": false,
     "task": false
    }
   },
   "outputs": [],
   "source": [
    "quizz.eval_numeric('30', ta)\n",
    "quizz.eval_numeric('31', ya)"
   ]
  },
  {
   "cell_type": "code",
   "execution_count": null,
   "id": "4607c37d-2f77-4b6b-bccd-05e5dde261b9",
   "metadata": {
    "deletable": false,
    "editable": false,
    "nbgrader": {
     "cell_type": "code",
     "checksum": "759676a13309fdf3200740471ee23350",
     "grade": false,
     "grade_id": "cell-8e63cb6735ed745c",
     "locked": true,
     "schema_version": 3,
     "solution": false,
     "task": false
    }
   },
   "outputs": [],
   "source": [
    "plt.figure(figsize=(6,3))\n",
    "plt.plot(t, y, label='Sol. exacta') # Gráfica de la solución exacta\n",
    "plt.plot(ta, ya, 'or', label='Sol. numérica') # Gráfica de la solución numérica\n",
    "plt.grid()\n",
    "plt.legend()\n",
    "plt.show()"
   ]
  },
  {
   "cell_type": "markdown",
   "id": "8aeb1811-ea7d-4d35-882d-ed26abf9df53",
   "metadata": {
    "deletable": false,
    "editable": false,
    "nbgrader": {
     "cell_type": "markdown",
     "checksum": "d434cf62d081976f4f18428f0d970224",
     "grade": false,
     "grade_id": "cell-761f786dc1e79e84",
     "locked": true,
     "schema_version": 3,
     "solution": false,
     "task": false
    }
   },
   "source": [
    "<div class=\"alert alert-success\">\n",
    "\n",
    "<font color=\"DarkBlue\">\n",
    "\n",
    "3. Completa la función `error()`.\n",
    "\n",
    "</font></div>"
   ]
  },
  {
   "cell_type": "code",
   "execution_count": null,
   "id": "1e44fd81-75c2-4404-a4ed-608a9b609557",
   "metadata": {
    "deletable": false,
    "nbgrader": {
     "cell_type": "code",
     "checksum": "98c7a7b1ec9bbadbf00bf6028cb598a7",
     "grade": false,
     "grade_id": "cell-89ff546a92d424a2",
     "locked": false,
     "schema_version": 3,
     "solution": true,
     "task": false
    }
   },
   "outputs": [],
   "source": [
    "def error(ve, va):\n",
    "    # return ...\n",
    "    # YOUR CODE HERE\n",
    "    raise NotImplementedError()"
   ]
  },
  {
   "cell_type": "code",
   "execution_count": null,
   "id": "4bb52923-43ad-4bdd-97c4-84a058b5bcbd",
   "metadata": {
    "deletable": false,
    "nbgrader": {
     "cell_type": "code",
     "checksum": "a53f9d65e200031db974037816f7cf4e",
     "grade": false,
     "grade_id": "cell-ba72fea93306baf7",
     "locked": false,
     "schema_version": 3,
     "solution": true,
     "task": false
    }
   },
   "outputs": [],
   "source": [
    "# Cálculo del error\n",
    "# e = ...\n",
    "# YOUR CODE HERE\n",
    "raise NotImplementedError()\n",
    "\n",
    "print(e)"
   ]
  },
  {
   "cell_type": "code",
   "execution_count": null,
   "id": "6f5b61d9-7cb3-4ca8-a464-f1bc445f6db6",
   "metadata": {
    "deletable": false,
    "editable": false,
    "nbgrader": {
     "cell_type": "code",
     "checksum": "dbc2fb52ba2425f80b659eeca4cc8cb2",
     "grade": true,
     "grade_id": "cell-14216630debd3eaf",
     "locked": true,
     "points": 1,
     "schema_version": 3,
     "solution": false,
     "task": false
    }
   },
   "outputs": [],
   "source": [
    "quizz.eval_numeric('32', e)"
   ]
  },
  {
   "cell_type": "code",
   "execution_count": null,
   "id": "4d9e34ad-57e9-4818-ac5e-a0e46cc1cee7",
   "metadata": {
    "deletable": false,
    "editable": false,
    "nbgrader": {
     "cell_type": "code",
     "checksum": "1db388483db60258ee02af5abb74905d",
     "grade": false,
     "grade_id": "cell-65f207009807a737",
     "locked": true,
     "schema_version": 3,
     "solution": false,
     "task": false
    }
   },
   "outputs": [],
   "source": [
    "# Graficación del resultado completo\n",
    "plt.figure(figsize=(6,3))\n",
    "plt.plot(t, y, label='Sol. exacta') # Gráfica de la solución exacta\n",
    "plt.plot(ta, ya, 'or', label='Sol. numérica') # Gráfica de la solución numérica\n",
    "plt.plot(ta, e, label='Error') # Gráfica del error\n",
    "plt.grid()\n",
    "plt.legend()\n",
    "plt.show()"
   ]
  },
  {
   "cell_type": "markdown",
   "id": "bb73e485-1ecb-42ed-a1ea-aab6b8a7bc9e",
   "metadata": {
    "deletable": false,
    "editable": false,
    "nbgrader": {
     "cell_type": "markdown",
     "checksum": "a14399d3bedc59ca2bece77a2333c8c0",
     "grade": false,
     "grade_id": "cell-cf52b59f9dbb29ec",
     "locked": true,
     "schema_version": 3,
     "solution": false,
     "task": false
    }
   },
   "source": [
    "<div class=\"alert alert-success\">\n",
    "\n",
    "<font color=\"DarkBlue\">\n",
    "\n",
    "4. Completa la función `metodo_euler(N)` usando lo desarrollado en los puntos 1, 2 y 3 y ejecutala con:\n",
    "    * N = 16\n",
    "    * N = 64\n",
    "\n",
    "</font></div>"
   ]
  },
  {
   "cell_type": "code",
   "execution_count": null,
   "id": "76a4f82d-f952-46c6-a9cd-bb696f335863",
   "metadata": {
    "deletable": false,
    "nbgrader": {
     "cell_type": "code",
     "checksum": "ffddd0b82a50dfc28e4495a6cd2323b8",
     "grade": false,
     "grade_id": "cell-66f6e0bb992b648b",
     "locked": false,
     "schema_version": 3,
     "solution": true,
     "task": false
    }
   },
   "outputs": [],
   "source": [
    "def metodo_euler(N):\n",
    "    # Parámetros del problema\n",
    "    # ...\n",
    "    # Solución exacta\n",
    "    # ...\n",
    "    # Solución aproximada\n",
    "    # ...\n",
    "    # Cálculo del error\n",
    "    # ...\n",
    "    # Graficación del resultado completo\n",
    "    # ...\n",
    "    # YOUR CODE HERE\n",
    "    raise NotImplementedError()"
   ]
  },
  {
   "cell_type": "code",
   "execution_count": null,
   "id": "4deb0f87-1217-407c-91c8-d5f82af082a7",
   "metadata": {
    "deletable": false,
    "nbgrader": {
     "cell_type": "code",
     "checksum": "19ee71473559c88ef4de9180225d4be1",
     "grade": true,
     "grade_id": "cell-39bd9a28bd8fdc8d",
     "locked": false,
     "points": 1,
     "schema_version": 3,
     "solution": true,
     "task": false
    }
   },
   "outputs": [],
   "source": [
    "# Ejecutar la función para N = 16\n",
    "# YOUR CODE HERE\n",
    "raise NotImplementedError()"
   ]
  },
  {
   "cell_type": "code",
   "execution_count": null,
   "id": "d89faa56-d292-4f2e-8b80-409b660dee66",
   "metadata": {
    "deletable": false,
    "nbgrader": {
     "cell_type": "code",
     "checksum": "bf7715876f0f0afe1aaea0571f224395",
     "grade": true,
     "grade_id": "cell-cf043043c772b1ae",
     "locked": false,
     "points": 1,
     "schema_version": 3,
     "solution": true,
     "task": false
    }
   },
   "outputs": [],
   "source": [
    "# Ejecutar la función para N = 64\n",
    "# YOUR CODE HERE\n",
    "raise NotImplementedError()"
   ]
  },
  {
   "cell_type": "code",
   "execution_count": null,
   "id": "283eb976-8f04-4801-90f5-3f17ce0b652b",
   "metadata": {},
   "outputs": [],
   "source": []
  }
 ],
 "metadata": {
  "kernelspec": {
   "display_name": "Python 3 (ipykernel)",
   "language": "python",
   "name": "python3"
  },
  "language_info": {
   "codemirror_mode": {
    "name": "ipython",
    "version": 3
   },
   "file_extension": ".py",
   "mimetype": "text/x-python",
   "name": "python",
   "nbconvert_exporter": "python",
   "pygments_lexer": "ipython3",
   "version": "3.11.6"
  }
 },
 "nbformat": 4,
 "nbformat_minor": 5
}
