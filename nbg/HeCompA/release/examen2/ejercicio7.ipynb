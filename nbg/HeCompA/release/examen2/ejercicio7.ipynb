{
 "cells": [
  {
   "cell_type": "markdown",
   "id": "6e522d96-ab3a-4ba6-a018-3a2d8518caaa",
   "metadata": {},
   "source": [
    "<div class=\"alert alert-success\">\n",
    "\n",
    "## Ejercicio 7. Eliminando datos \"atípicos\".\n",
    "\n",
    "<font color=\"DarkBlue\">\n",
    "    \n",
    "* La función `drop_outliers(emax, x, co2, m, b)` elimina datos que se alejan de la recta por un error mayor al definido por el parámetro `emax`. \n",
    "* El parámetro `x` puede representar al volumen o al peso.\n",
    "* El parámetro `co2` representa al CO2 emitido.\n",
    "* Los parámetros `m` y `b` representan a la pendiente y la ordenada al origen, respectivamente, de la recta ajustada en los ejercicios anteriores. \n",
    "\n",
    "* La forma en que se eliminan los *outliers* es calculando el error con la siguiente fórmula:\n",
    "\n",
    "$$\n",
    "E_r = \\frac{100 * |\\text{CO2}_{pred} - y_i|}{\\text{CO2}_{max}}\n",
    "$$\n",
    "\n",
    "donde $\\text{CO2}_{pred}$ es el CO2 predicho por la fórmula de la recta ajustada, $y_i$ es el valor de CO2 para $x_i$ proveniente de los datos y $\\text{CO2}_{max}$ es el valor máximo de CO2 en los datos.\n",
    "\n",
    "En la función `drop_outliers(emax, x, co2, m, b)`, completa el cálculo de:\n",
    "* $\\text{CO2}_{pred}$ (`co2_pred`) y\n",
    "* del error $E_r$ (`Er`).\n",
    "\n",
    "</font>\n",
    "</div>"
   ]
  },
  {
   "cell_type": "code",
   "execution_count": null,
   "id": "a2be8307-e591-4ed5-ad36-37b6445b8739",
   "metadata": {},
   "outputs": [],
   "source": []
  }
 ],
 "metadata": {
  "kernelspec": {
   "display_name": "Python 3 (ipykernel)",
   "language": "python",
   "name": "python3"
  },
  "language_info": {
   "codemirror_mode": {
    "name": "ipython",
    "version": 3
   },
   "file_extension": ".py",
   "mimetype": "text/x-python",
   "name": "python",
   "nbconvert_exporter": "python",
   "pygments_lexer": "ipython3",
   "version": "3.11.6"
  }
 },
 "nbformat": 4,
 "nbformat_minor": 5
}
