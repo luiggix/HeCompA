{
 "cells": [
  {
   "cell_type": "markdown",
   "id": "92c6847a",
   "metadata": {},
   "source": [
    "<img src=\"https://www.encit.unam.mx/sites/default/files/2020-10/EN%20CIENCIAS%20DE%20LA%20TIERRA1%20%281%29.png\" width=200px hspace=\"5px\" vspace=\"0px\" style=\"float: left; margin-right:10px\">\n",
    "\n",
    "**Asignatura**: Herramientas Computacionales Avanzadas <br>\n",
    "**Profesor**: Dr. Luis Miguel de la Cruz Salas.<br>\n",
    "**Examen Práctico**: 1<br>\n",
    "**Fecha**: Febrero 2024\n"
   ]
  },
  {
   "cell_type": "code",
   "execution_count": null,
   "id": "044de394",
   "metadata": {},
   "outputs": [],
   "source": [
    "NAME = \"\"\n",
    "COLLABORATORS = \"\""
   ]
  },
  {
   "cell_type": "markdown",
   "id": "ba80a590",
   "metadata": {},
   "source": [
    "---"
   ]
  },
  {
   "cell_type": "markdown",
   "id": "3f8df543-8c91-4224-8df1-19c305daf800",
   "metadata": {
    "deletable": false,
    "editable": false,
    "nbgrader": {
     "cell_type": "markdown",
     "checksum": "bf806e2c3b02ca096f291cff5d09dbba",
     "grade": false,
     "grade_id": "cell-5c76a2c56bc6a16a",
     "locked": true,
     "schema_version": 3,
     "solution": false,
     "task": false
    }
   },
   "source": [
    "# Examen 1.\n",
    "En este primer examen se evaluan los conceptos básicos de Python a través de la resolución de ejercicios que van de menos a más. Se revisan temas de:\n",
    "* Definición de variables.\n",
    "* Tipos de variables\n",
    "* Arreglos de numpy simples\n",
    "* Funciones.\n",
    "\n",
    " <p xmlns:cc=\"http://creativecommons.org/ns#\" xmlns:dct=\"http://purl.org/dc/terms/\">Examen 1 by <a rel=\"cc:attributionURL dct:creator\" property=\"cc:attributionName\" href=\"https://www.macti.unam.mx\">Luis M. de la Cruz</a> is licensed under <a href=\"http://creativecommons.org/licenses/by-sa/4.0/?ref=chooser-v1\" target=\"_blank\" rel=\"license noopener noreferrer\" style=\"display:inline-block;\">Attribution-ShareAlike 4.0 International<img style=\"height:22px!important;margin-left:3px;vertical-align:text-bottom;\" src=\"https://mirrors.creativecommons.org/presskit/icons/cc.svg?ref=chooser-v1\"><img style=\"height:22px!important;margin-left:3px;vertical-align:text-bottom;\" src=\"https://mirrors.creativecommons.org/presskit/icons/by.svg?ref=chooser-v1\"><img style=\"height:22px!important;margin-left:3px;vertical-align:text-bottom;\" src=\"https://mirrors.creativecommons.org/presskit/icons/sa.svg?ref=chooser-v1\"></a></p> "
   ]
  },
  {
   "cell_type": "code",
   "execution_count": 1,
   "id": "d52d10a2-226c-4288-b53e-701c9b5e76d8",
   "metadata": {},
   "outputs": [],
   "source": [
    "from macti.evaluation import *\n",
    "quizz = Quizz('q1', 'HeCompA', 'local')"
   ]
  },
  {
   "cell_type": "markdown",
   "id": "a3009778-1b05-4afb-91ef-ce0c78b57044",
   "metadata": {
    "deletable": false,
    "editable": false,
    "nbgrader": {
     "cell_type": "markdown",
     "checksum": "72c45d415eacd6d30b9e12327b506c44",
     "grade": false,
     "grade_id": "cell-971546bb09dbdb5e",
     "locked": true,
     "schema_version": 3,
     "solution": false,
     "task": false
    }
   },
   "source": [
    "<div class=\"alert alert-success\">\n",
    "\n",
    "## **Ejercicio 1.**\n",
    "\n",
    "<font color=\"DarkBlue\">\n",
    "    \n",
    "En la siguiente celda de código, define las siguientes variables:\n",
    "\n",
    "```python\n",
    "k = 1000\n",
    "L = 0.5\n",
    "nombre = 'luis mi'\n",
    "```\n",
    "\n",
    "Luego contesta las siguientes tres preguntas.\n",
    "\n",
    "**Nota**: escribe tu respuesta entre comillas, por ejemplo: `respuesta = \"b\"`\n",
    "\n",
    "</font>\n",
    "</div>"
   ]
  },
  {
   "cell_type": "code",
   "execution_count": 2,
   "id": "f189587a-502d-411e-8baa-237bc78eeb19",
   "metadata": {
    "deletable": false,
    "nbgrader": {
     "cell_type": "code",
     "checksum": "98be53e18defbc6f944e5561aa4ad308",
     "grade": false,
     "grade_id": "cell-431b5c90d7cb68fe",
     "locked": false,
     "schema_version": 3,
     "solution": true,
     "task": false
    }
   },
   "outputs": [],
   "source": [
    "# Define las varibles\n",
    "# k = ...\n",
    "# YOUR CODE HERE\n",
    "k = 1000\n",
    "L = 0.5\n",
    "nombre = \"LUIS\""
   ]
  },
  {
   "cell_type": "markdown",
   "id": "45e4a5a3-57fc-4787-8362-244dcc71af5a",
   "metadata": {
    "deletable": false,
    "editable": false,
    "nbgrader": {
     "cell_type": "markdown",
     "checksum": "61d71e869f246060e704cb48d5a9a28a",
     "grade": false,
     "grade_id": "cell-5fceacd6d03ebb08",
     "locked": true,
     "schema_version": 3,
     "solution": false,
     "task": false
    }
   },
   "source": [
    "**1**. ¿De qué tipo es la variable `k`?\n",
    "\n",
    "    a. <class 'str'>\n",
    "    b. <class 'complex'>\n",
    "    c. <class 'float'>\n",
    "    d. <class 'list'>\n",
    "    e. <class 'int'>"
   ]
  },
  {
   "cell_type": "code",
   "execution_count": 3,
   "id": "e87d543c-d15b-4fa7-9de2-d97abf31309a",
   "metadata": {
    "deletable": false,
    "nbgrader": {
     "cell_type": "code",
     "checksum": "cbba59b0dbe35bad801af308cbf1e6bd",
     "grade": false,
     "grade_id": "cell-d46a8da5ef185b9f",
     "locked": false,
     "schema_version": 3,
     "solution": true,
     "task": false
    }
   },
   "outputs": [],
   "source": [
    "# respuesta = \"...\"\n",
    "# YOUR CODE HERE\n",
    "respuesta = 'e'"
   ]
  },
  {
   "cell_type": "code",
   "execution_count": 4,
   "id": "aa30d179-cb1f-490a-bb05-3ea51fd9c1f0",
   "metadata": {
    "deletable": false,
    "editable": false,
    "nbgrader": {
     "cell_type": "code",
     "checksum": "63307860e49a3046b5631be03dedca7a",
     "grade": true,
     "grade_id": "cell-07653e1c85baf400",
     "locked": true,
     "points": 1,
     "schema_version": 3,
     "solution": false,
     "task": false
    }
   },
   "outputs": [
    {
     "name": "stdout",
     "output_type": "stream",
     "text": [
      "\u001b[39m----------------------------------------\n",
      "\u001b[32m1 | Tu respuesta: \u001b[39me\u001b[32m, es correcta.\n",
      "\u001b[39m----------------------------------------\n"
     ]
    }
   ],
   "source": [
    "quizz.eval_option('1', respuesta)"
   ]
  },
  {
   "cell_type": "markdown",
   "id": "d926378c-3cfa-491f-8bf2-a57b6bfaadc0",
   "metadata": {
    "deletable": false,
    "editable": false,
    "nbgrader": {
     "cell_type": "markdown",
     "checksum": "91dad415e7027d3eebf0f8a30937843f",
     "grade": false,
     "grade_id": "cell-cc922717e88b88db",
     "locked": true,
     "schema_version": 3,
     "solution": false,
     "task": false
    }
   },
   "source": [
    "**2**. ¿De qué tipo es la varible `L`?\n",
    "\n",
    "    a. <class 'str'>\n",
    "    b. <class 'complex'>\n",
    "    c. <class 'float'>\n",
    "    d. <class 'list'>\n",
    "    e. <class 'int'>"
   ]
  },
  {
   "cell_type": "code",
   "execution_count": 7,
   "id": "0642c06f-2150-40d0-9787-c1c5ec7b394e",
   "metadata": {},
   "outputs": [
    {
     "data": {
      "text/plain": [
       "float"
      ]
     },
     "execution_count": 7,
     "metadata": {},
     "output_type": "execute_result"
    }
   ],
   "source": [
    "type(L)"
   ]
  },
  {
   "cell_type": "code",
   "execution_count": 10,
   "id": "d952e302-bc26-4a34-a8c7-1d1a6b2c93b1",
   "metadata": {
    "deletable": false,
    "nbgrader": {
     "cell_type": "code",
     "checksum": "340af1cbe12b24980664112378daf735",
     "grade": false,
     "grade_id": "cell-bf40f09e0d105690",
     "locked": false,
     "schema_version": 3,
     "solution": true,
     "task": false
    }
   },
   "outputs": [],
   "source": [
    "# respuesta = \"...\"\n",
    "# YOUR CODE HERE\n",
    "respuesta = 'c'"
   ]
  },
  {
   "cell_type": "code",
   "execution_count": 11,
   "id": "e71a126a-f2eb-4cac-88e1-d1bbcd64fc87",
   "metadata": {
    "deletable": false,
    "editable": false,
    "nbgrader": {
     "cell_type": "code",
     "checksum": "f65d161b2ac3293136ead6d8cc0616e8",
     "grade": true,
     "grade_id": "cell-2d122dde97be24a3",
     "locked": true,
     "points": 1,
     "schema_version": 3,
     "solution": false,
     "task": false
    }
   },
   "outputs": [
    {
     "name": "stdout",
     "output_type": "stream",
     "text": [
      "\u001b[39m----------------------------------------\n",
      "\u001b[32m2 | Tu respuesta: \u001b[39mc\u001b[32m, es correcta.\n",
      "\u001b[39m----------------------------------------\n"
     ]
    }
   ],
   "source": [
    "quizz.eval_option('2', respuesta)"
   ]
  },
  {
   "cell_type": "markdown",
   "id": "9eb5d312-e97f-4a29-9b13-817b82c639d7",
   "metadata": {
    "deletable": false,
    "editable": false,
    "nbgrader": {
     "cell_type": "markdown",
     "checksum": "93e846e25aa4aa3b5232b3ab2633a425",
     "grade": false,
     "grade_id": "cell-ad2304f2a9f045e2",
     "locked": true,
     "schema_version": 3,
     "solution": false,
     "task": false
    }
   },
   "source": [
    "¿De qué tipo es la varible `nombre`?\n",
    "* <class 'str'>\n",
    "* <class 'complex'>\n",
    "* <class 'float'>\n",
    "* <class 'list'>\n",
    "* <class 'int'>"
   ]
  },
  {
   "cell_type": "code",
   "execution_count": null,
   "id": "fef9971d-5bae-4f4a-9e5e-6a25577b1100",
   "metadata": {
    "deletable": false,
    "nbgrader": {
     "cell_type": "code",
     "checksum": "916a612962630c512c3314903d4820f5",
     "grade": false,
     "grade_id": "cell-7463b46a97f6de6c",
     "locked": false,
     "schema_version": 3,
     "solution": true,
     "task": false
    }
   },
   "outputs": [],
   "source": [
    "# respuesta = \"...\"\n",
    "# YOUR CODE HERE\n",
    "raise NotImplementedError()"
   ]
  },
  {
   "cell_type": "code",
   "execution_count": null,
   "id": "cc174387-7597-4045-9bfe-7daf50a90e10",
   "metadata": {
    "deletable": false,
    "editable": false,
    "nbgrader": {
     "cell_type": "code",
     "checksum": "c4c398255909c321742d65fc6c723ccc",
     "grade": true,
     "grade_id": "cell-9655488bc5686761",
     "locked": true,
     "points": 1,
     "schema_version": 3,
     "solution": false,
     "task": false
    }
   },
   "outputs": [],
   "source": [
    "quizz.eval_option('3', respuesta)"
   ]
  },
  {
   "cell_type": "code",
   "execution_count": null,
   "id": "fd2e3ed6-b3ee-4c36-adc4-2c7450fddcfd",
   "metadata": {},
   "outputs": [],
   "source": []
  },
  {
   "cell_type": "markdown",
   "id": "0436c127-c44c-4f4b-99e0-a3280d145641",
   "metadata": {
    "deletable": false,
    "editable": false,
    "nbgrader": {
     "cell_type": "markdown",
     "checksum": "42c95f44e6a8f87d07f136775818ea15",
     "grade": false,
     "grade_id": "cell-8866df282d4b041c",
     "locked": true,
     "schema_version": 3,
     "solution": false,
     "task": false
    }
   },
   "source": [
    "# El huevo cocido perfecto\n",
    "\n",
    "¿Cuál es el tiempo ideal para cocinar un huevo?\n",
    "\n",
    "<img src=\"./huevo_cocido.jpg\"  style=\"width: 300px;\"/>\n",
    "\n",
    "\n",
    "Para lograr un **huevo cocido** suave, la clara debe haberse calentado el tiempo suficiente para coagular a una temperatura superior a $63^oC$, pero la yema no debe calentarse por encima de $70^oC$. Para lograr un **huevo duro**, el centro de la yema debe de alcanzar los $70^oC$.\n",
    "\n",
    "## Fórmula para calcular el tiempo de cocción.\n",
    "La siguiente fórmula expresa el tiempo $t$, en segundos, que le toma a la yema alcanzar la temperatura $T_y$, en grados Celsius.\n",
    "\n",
    "$$t = \\dfrac{M^{2/3} c \\rho^{1/3}}{K \\pi^2 (4\\pi/3)^{2/3}} \\ln \\left[ 0.76 \\dfrac{T_o - T_w}{T_y - T_w}\\right] \\tag{1}$$\n",
    "\n",
    "donde las propiedades son:\n",
    "\n",
    "- $M$ masa; \n",
    "- $\\rho$ densidad; \n",
    "- $c$ capacidad calorífica específica; \n",
    "- $K$ conductividad térmica; \n",
    "- $T_w$ es la temperatura de ebullición del agua;\n",
    "- $T_o$ es la temperatura original del huevo antes de meterlo al agua;\n",
    "- $T_y$ es la temperatura que debe alcanzar la yema.\n",
    "\n",
    "**A Primer on Scientific Programming with Python**, Langtangen, H.P., ISBN 9783642183669, Texts in Computational Science and Engineering, https://books.google.com.co/books?id=Hi1KVomG148C, 2011, Springer Berlin Heidelberg."
   ]
  },
  {
   "cell_type": "markdown",
   "id": "e46016d0-8837-4cfe-b5a2-bdab96b3d01a",
   "metadata": {
    "deletable": false,
    "editable": false,
    "nbgrader": {
     "cell_type": "markdown",
     "checksum": "dbd7bb8b37034dd8f9ab32b8a10c042e",
     "grade": false,
     "grade_id": "cell-d8d845db72854733",
     "locked": true,
     "schema_version": 3,
     "solution": false,
     "task": false
    }
   },
   "source": [
    "<div class=\"alert alert-success\">\n",
    "\n",
    "## **Ejercicio 2.**\n",
    "\n",
    "<font color=\"DarkBlue\">\n",
    "Calcular el tiempo de cocción necesario para un huevo duro pequeño de $M$ = 47 g para cuando la temperatura inicial \n",
    "del huevo está a temperatura ambiente: $T_{o} = 20^oC$.\n",
    "\n",
    "**Datos**:\n",
    "- $M$ = 47 g \n",
    "- $\\rho$ = 1.038 g / cm$^3$\n",
    "- $c$ = 3.7 J / g K\n",
    "- $K$ = 5.4 $\\times 10^{-3}$ W / cm K\n",
    "- $T_w = 100^oC$\n",
    "- $T_y = 70^oC$\n",
    "  \n",
    "</font>\n",
    "</div>\n"
   ]
  },
  {
   "cell_type": "markdown",
   "id": "90aaee3f-b583-430e-9291-bfc9b851f6b3",
   "metadata": {
    "deletable": false,
    "editable": false,
    "nbgrader": {
     "cell_type": "markdown",
     "checksum": "b537ae68ab40b8e93736670146cceb4b",
     "grade": false,
     "grade_id": "cell-260d05e60507f131",
     "locked": true,
     "schema_version": 3,
     "solution": false,
     "task": false
    }
   },
   "source": [
    "### Paso 1.\n",
    "Implementa $A = M^{2/3} c \\rho^{1/3}$\n",
    "\n",
    "**Nota**: para elevar un número a una potencia, $a^n$, podemos usar el operador `**` como sigue: `a**n` . Los números $a$ y $n$ pueden ser enteros o reales."
   ]
  },
  {
   "cell_type": "code",
   "execution_count": 14,
   "id": "d05b29a1-0742-49f0-b1f1-34104516902e",
   "metadata": {
    "deletable": false,
    "nbgrader": {
     "cell_type": "code",
     "checksum": "e93285e8427c07824a5318425d916393",
     "grade": false,
     "grade_id": "cell-7cdce77da61e4868",
     "locked": false,
     "schema_version": 3,
     "solution": true,
     "task": false
    }
   },
   "outputs": [
    {
     "name": "stdout",
     "output_type": "stream",
     "text": [
      "16.672845591297534\n"
     ]
    }
   ],
   "source": [
    "# Define las variables y realiza el cálculo\n",
    "# M = ..\n",
    "# ...\n",
    "# A = math.pow(M,2/3) * ...\n",
    "\n",
    "# YOUR CODE HERE\n",
    "M = 47\n",
    "c = 3.7\n",
    "rho = 1.038\n",
    "\n",
    "A = M**(2/3) * c * rho**1/3\n",
    "print(A)"
   ]
  },
  {
   "cell_type": "code",
   "execution_count": 15,
   "id": "6ea090c6-84fb-4a6d-8c33-632e7cf45974",
   "metadata": {
    "deletable": false,
    "editable": false,
    "nbgrader": {
     "cell_type": "code",
     "checksum": "9b0c8b3ce52c1d3352c5192d0c6b4fce",
     "grade": true,
     "grade_id": "cell-0216e6edf1575aa0",
     "locked": true,
     "points": 2,
     "schema_version": 3,
     "solution": false,
     "task": false
    }
   },
   "outputs": [
    {
     "name": "stdout",
     "output_type": "stream",
     "text": [
      "\u001b[39m----------------------------------------\n",
      "\u001b[31m4 | Ocurrió un error en tus cálculos.\n",
      "\u001b[39m----------------------------------------\n",
      "\u001b[31mHint: \u001b[31mRevisa la precedencia de operadores, en caso de duda utiliza () cuando sea necesario, particularmente al calcular potencias.\n",
      "\u001b[39m----------------------------------------\n",
      "48.790216719661984 != 16.672845591297534\n"
     ]
    },
    {
     "ename": "AssertionError",
     "evalue": "",
     "output_type": "error",
     "traceback": [
      "\u001b[0;31m---------------------------------------------------------------------------\u001b[0m",
      "\u001b[0;31mAssertionError\u001b[0m                            Traceback (most recent call last)",
      "Cell \u001b[0;32mIn[15], line 1\u001b[0m\n\u001b[0;32m----> 1\u001b[0m \u001b[43mquizz\u001b[49m\u001b[38;5;241;43m.\u001b[39;49m\u001b[43meval_numeric\u001b[49m\u001b[43m(\u001b[49m\u001b[38;5;124;43m'\u001b[39;49m\u001b[38;5;124;43m4\u001b[39;49m\u001b[38;5;124;43m'\u001b[39;49m\u001b[43m,\u001b[49m\u001b[43m \u001b[49m\u001b[43mA\u001b[49m\u001b[43m)\u001b[49m\n",
      "File \u001b[0;32m/opt/conda/lib/python3.11/site-packages/macti/evaluation.py:315\u001b[0m, in \u001b[0;36mQuizz.eval_numeric\u001b[0;34m(self, enum, ans)\u001b[0m\n\u001b[1;32m    312\u001b[0m         \u001b[38;5;28mprint\u001b[39m(info)\n\u001b[1;32m    314\u001b[0m     \u001b[38;5;66;03m# Se lanza la excepción para que sea detectada por NBGrader\u001b[39;00m\n\u001b[0;32m--> 315\u001b[0m     \u001b[38;5;28;01mraise\u001b[39;00m \u001b[38;5;167;01mAssertionError\u001b[39;00m \u001b[38;5;28;01mfrom\u001b[39;00m \u001b[38;5;28;01mNone\u001b[39;00m\n\u001b[1;32m    317\u001b[0m \u001b[38;5;28;01melse\u001b[39;00m:\n\u001b[1;32m    318\u001b[0m     \u001b[38;5;28mprint\u001b[39m(Fore\u001b[38;5;241m.\u001b[39mRESET \u001b[38;5;241m+\u001b[39m \u001b[38;5;28mself\u001b[39m\u001b[38;5;241m.\u001b[39m__line_len\u001b[38;5;241m*\u001b[39m\u001b[38;5;124m'\u001b[39m\u001b[38;5;124m-\u001b[39m\u001b[38;5;124m'\u001b[39m)\n",
      "\u001b[0;31mAssertionError\u001b[0m: "
     ]
    }
   ],
   "source": [
    "quizz.eval_numeric('4', A)"
   ]
  },
  {
   "cell_type": "markdown",
   "id": "a8c143c9-1ed3-4ef4-8619-5195da31b7e8",
   "metadata": {
    "deletable": false,
    "editable": false,
    "nbgrader": {
     "cell_type": "markdown",
     "checksum": "19bc1766926ef3493d0294b0a1e7474b",
     "grade": false,
     "grade_id": "cell-9a28e1da5eb326c5",
     "locked": true,
     "schema_version": 3,
     "solution": false,
     "task": false
    }
   },
   "source": [
    "### Paso 2.\n",
    "Implementa $B = K \\pi^2 (4\\pi/3)^{2/3}$\n",
    "\n",
    "**Nota**: puedes obtener el valor de $\\pi$ de la biblioteca `math` como sigue:\n",
    "`from math import pi`."
   ]
  },
  {
   "cell_type": "code",
   "execution_count": null,
   "id": "d43d8c94-8cd4-4757-be77-50c218797128",
   "metadata": {
    "deletable": false,
    "nbgrader": {
     "cell_type": "code",
     "checksum": "a4d05a3b1d27af6584ffe9c2bd5acd2b",
     "grade": false,
     "grade_id": "cell-58536a22ef552cf2",
     "locked": false,
     "schema_version": 3,
     "solution": true,
     "task": false
    }
   },
   "outputs": [],
   "source": [
    "# YOUR CODE HERE\n",
    "raise NotImplementedError()\n",
    "print(B)"
   ]
  },
  {
   "cell_type": "code",
   "execution_count": null,
   "id": "47b8206a-6a62-4c27-96e3-bd627fe7a0e3",
   "metadata": {
    "deletable": false,
    "editable": false,
    "nbgrader": {
     "cell_type": "code",
     "checksum": "a055ba6daef99e83bf33f37d4b3bb945",
     "grade": true,
     "grade_id": "cell-f0d238e66ca2e758",
     "locked": true,
     "points": 2,
     "schema_version": 3,
     "solution": false,
     "task": false
    }
   },
   "outputs": [],
   "source": [
    "quizz.eval_numeric('5', B)"
   ]
  },
  {
   "cell_type": "markdown",
   "id": "73cd7f8d-f1de-4de7-a925-4a2a23dc68e6",
   "metadata": {
    "deletable": false,
    "editable": false,
    "nbgrader": {
     "cell_type": "markdown",
     "checksum": "6093479773e6a273e6c82c74c6d8b951",
     "grade": false,
     "grade_id": "cell-5584a80703036d53",
     "locked": true,
     "schema_version": 3,
     "solution": false,
     "task": false
    }
   },
   "source": [
    "### Paso 3.\n",
    "Implementa $C = \\ln \\left[ 0.76 \\dfrac{T_o - T_w}{T_y - T_w}\\right]$\n",
    "\n",
    "**Nota**: en este caso se requiere de la función logaritmo natural, la cual puede ser obtenida del módulo `math` como sigue: `from math import log as ln`"
   ]
  },
  {
   "cell_type": "code",
   "execution_count": null,
   "id": "9e11f0f0-c098-413c-8837-85c68b26e9f5",
   "metadata": {
    "deletable": false,
    "nbgrader": {
     "cell_type": "code",
     "checksum": "93675fcef7aa38fad5a858f22aacdcbf",
     "grade": false,
     "grade_id": "cell-9b74fbc84a88a25c",
     "locked": false,
     "schema_version": 3,
     "solution": true,
     "task": false
    }
   },
   "outputs": [],
   "source": [
    "# YOUR CODE HERE\n",
    "raise NotImplementedError()\n",
    "print(C)"
   ]
  },
  {
   "cell_type": "code",
   "execution_count": null,
   "id": "4dedb909-b823-4090-88b3-42bc3cae0bf8",
   "metadata": {
    "deletable": false,
    "editable": false,
    "nbgrader": {
     "cell_type": "code",
     "checksum": "8f0548e96d2a8feb0db2bab3b081f0fa",
     "grade": true,
     "grade_id": "cell-682c8b1db2a6d509",
     "locked": true,
     "points": 2,
     "schema_version": 3,
     "solution": false,
     "task": false
    }
   },
   "outputs": [],
   "source": [
    "quizz.eval_numeric('6', C)"
   ]
  },
  {
   "cell_type": "markdown",
   "id": "67c52156-514c-4785-b2ae-2886a4d6b1fc",
   "metadata": {
    "deletable": false,
    "editable": false,
    "nbgrader": {
     "cell_type": "markdown",
     "checksum": "f871abcdd02f4d6e77dd9f716eea22a4",
     "grade": false,
     "grade_id": "cell-3e71446ea2d677c2",
     "locked": true,
     "schema_version": 3,
     "solution": false,
     "task": false
    }
   },
   "source": [
    "### Paso 4.\n",
    "Implementa el cálculo final: $t = \\dfrac{A}{B} * C$. "
   ]
  },
  {
   "cell_type": "code",
   "execution_count": null,
   "id": "0e4b5ff2-d68f-4177-91b7-28806974f422",
   "metadata": {
    "deletable": false,
    "nbgrader": {
     "cell_type": "code",
     "checksum": "75ed1acd428791f496981b01f588b2ef",
     "grade": false,
     "grade_id": "cell-6a1431104ec6fb61",
     "locked": false,
     "schema_version": 3,
     "solution": true,
     "task": false
    }
   },
   "outputs": [],
   "source": [
    "# YOUR CODE HERE\n",
    "raise NotImplementedError()\n",
    "print(t)"
   ]
  },
  {
   "cell_type": "code",
   "execution_count": null,
   "id": "3ea4f42b-cee9-4604-a7a2-23857622adad",
   "metadata": {
    "deletable": false,
    "editable": false,
    "nbgrader": {
     "cell_type": "code",
     "checksum": "8705ac321755f5e1602095bebc949515",
     "grade": true,
     "grade_id": "cell-f52362bfea946d21",
     "locked": true,
     "points": 2,
     "schema_version": 3,
     "solution": false,
     "task": false
    }
   },
   "outputs": [],
   "source": [
    "quizz.eval_numeric('7', t)"
   ]
  },
  {
   "cell_type": "markdown",
   "id": "150e1df8-a34d-4fbb-aa8d-e6b6a8b6ae52",
   "metadata": {
    "deletable": false,
    "editable": false,
    "nbgrader": {
     "cell_type": "markdown",
     "checksum": "1489f66b993cc2688c089c90c6cab062",
     "grade": false,
     "grade_id": "cell-8c2cf0599d0f9dd3",
     "locked": true,
     "schema_version": 3,
     "solution": false,
     "task": false
    }
   },
   "source": [
    "<div class=\"alert alert-success\">\n",
    "\n",
    "## **Ejercicio 3.**\n",
    "\n",
    "<font color=\"DarkBlue\">\n",
    "Implementa la fórmula $(1)$ en una sola línea y realiza el cálculo para el mismo huevo pero para una temperatura: $T_{o} = 4^oC$ (acabado de sacar del refri).\n",
    "\n",
    "</font>\n",
    "\n",
    "</div>\n"
   ]
  },
  {
   "cell_type": "code",
   "execution_count": null,
   "id": "cb37d801-e9e3-4989-bce4-87b6121d1976",
   "metadata": {
    "deletable": false,
    "nbgrader": {
     "cell_type": "code",
     "checksum": "a539416c2438b8c6b0f86fbbc87a5681",
     "grade": false,
     "grade_id": "cell-c06ab427ea8ccdf2",
     "locked": false,
     "schema_version": 3,
     "solution": true,
     "task": false
    }
   },
   "outputs": [],
   "source": [
    "# YOUR CODE HERE\n",
    "raise NotImplementedError()\n",
    "\n",
    "print(t)"
   ]
  },
  {
   "cell_type": "code",
   "execution_count": null,
   "id": "ebc92605-e1d3-4121-b3a8-463e376758f2",
   "metadata": {
    "deletable": false,
    "editable": false,
    "nbgrader": {
     "cell_type": "code",
     "checksum": "f39a2a096ee6369429e01c3296a1a66f",
     "grade": true,
     "grade_id": "cell-1e1039ea3c722ee9",
     "locked": true,
     "points": 3,
     "schema_version": 3,
     "solution": false,
     "task": false
    }
   },
   "outputs": [],
   "source": [
    "quizz.eval_numeric('8', t)"
   ]
  },
  {
   "cell_type": "markdown",
   "id": "00d71608-858d-4cdd-b500-145b2b50b28c",
   "metadata": {
    "deletable": false,
    "editable": false,
    "nbgrader": {
     "cell_type": "markdown",
     "checksum": "3ecd0a6e20273456f59183e6f239246f",
     "grade": false,
     "grade_id": "cell-e17f5071ff2d6cf2",
     "locked": true,
     "schema_version": 3,
     "solution": false,
     "task": false
    }
   },
   "source": [
    "<div class=\"alert alert-success\">\n",
    "\n",
    "## **Ejercicio 4.**\n",
    "\n",
    "<font color=\"DarkBlue\">\n",
    "Implementa una función de Python que reciba como argumentos todos los valores que necesita la fórmula $(1)$ y que regrese como resultado el tiempo de cocción del huevo. \n",
    "    \n",
    "Firma de la función:\n",
    "\n",
    "`def calc_tiempo(M, To, c, rho, K, Tw, Ty):`\n",
    "\n",
    "Ejecuta la función como sigue:\n",
    "\n",
    "```python\n",
    "To = 20\n",
    "t1 = calc_tiempo(M, To, c, rho, K, Tw, Ty)\n",
    "\n",
    "To = 4\n",
    "t2 = calc_tiempo(M, To, c, rho, K, Tw, Ty)\n",
    "\n",
    "print(t1, t2)\n",
    "```\n",
    "\n",
    "</font>\n",
    "</div>"
   ]
  },
  {
   "cell_type": "code",
   "execution_count": null,
   "id": "36276317-127e-4af0-bffc-beccb79614cb",
   "metadata": {
    "deletable": false,
    "nbgrader": {
     "cell_type": "code",
     "checksum": "1f4c587bbd63ebcc74fef06634aa902e",
     "grade": false,
     "grade_id": "cell-a4dbd8ecd24c3df9",
     "locked": false,
     "schema_version": 3,
     "solution": true,
     "task": false
    }
   },
   "outputs": [],
   "source": [
    "# YOUR CODE HERE\n",
    "raise NotImplementedError()\n",
    "\n",
    "print(t1, t2)\n"
   ]
  },
  {
   "cell_type": "code",
   "execution_count": null,
   "id": "62c4ee76-23e2-4dff-bf8b-8b244ecd24fd",
   "metadata": {
    "deletable": false,
    "editable": false,
    "nbgrader": {
     "cell_type": "code",
     "checksum": "cdf23efb7baa95517570245023f634fe",
     "grade": true,
     "grade_id": "cell-71fe6858fc550edd",
     "locked": true,
     "points": 3,
     "schema_version": 3,
     "solution": false,
     "task": false
    }
   },
   "outputs": [],
   "source": [
    "quizz.eval_numeric('9', [t1, t2])"
   ]
  },
  {
   "cell_type": "markdown",
   "id": "25dc5b3c-82f8-498a-a1c3-1f805076682b",
   "metadata": {
    "deletable": false,
    "editable": false,
    "nbgrader": {
     "cell_type": "markdown",
     "checksum": "f88dd76959db8e094d2e33be181902de",
     "grade": false,
     "grade_id": "cell-46c0e5c67fb94eba",
     "locked": true,
     "schema_version": 3,
     "solution": false,
     "task": false
    },
    "slideshow": {
     "slide_type": ""
    },
    "tags": []
   },
   "source": [
    "<div class=\"alert alert-success\">\n",
    "\n",
    "## **Ejercicio 5.**\n",
    "\n",
    "<font color=\"DarkBlue\">\n",
    "\n",
    "Realiza lo siguiente:\n",
    "* Crea la función `calc_tiempo_np()` copiando el código completo de la función `calc_tiempo()`.\n",
    "* En la nueva función `calc_tiempo_np()` modifica la parte del $\\ln()$ para que se calcule usando la función `np.log()` de la biblioteca `numpy`.\n",
    "* Posteriormente, usando `numpy`, crea el arreglo `Tol` con 9 valores de temperaturas en el intervalo $[4^o C, 20^o C]$, el arreglo debe contener los valores: `[ 4.,  6.,  8., 10., 12., 14., 16., 18., 20.]`. \n",
    "* Ejecuta la función como sigue: `tl = calc_tiempo_np(...)` pasando el arreglo `Tol`, el resultado debe ser un arreglo de 9 tiempos de cocción para cada una de las temperaturas del arreglo `Tol`, y debe contener algo similar a lo siguiente: `[313.09454902 305.67741829 ... 248.86253748]`\n",
    "\n",
    "**Nota**: en este caso, cálculo de $\\dfrac{T_o - T_w}{T_y - T_w}$ se hará con arreglos de `numpy`, por esta razón, tanto $T_w$ como $T_y$ también deben ser arreglos al momento de ejecutar la función `calc_tiempo_np()`.\n",
    "\n",
    "**Hint**: define también los arreglos `Twl` y `Tyl` del mimso tamaño que `Tol` y úsalos cuando ejecutes la función `calc_tiempo_np()`.\n",
    "\n",
    "</font>\n",
    "</div>"
   ]
  },
  {
   "cell_type": "code",
   "execution_count": null,
   "id": "7b59b53d-0a92-4ac4-acc0-935697226154",
   "metadata": {
    "deletable": false,
    "nbgrader": {
     "cell_type": "code",
     "checksum": "b00fefd2238d4924526f0c799a752fd9",
     "grade": false,
     "grade_id": "cell-0aa9f5d5d1a30a51",
     "locked": false,
     "schema_version": 3,
     "solution": true,
     "task": false
    }
   },
   "outputs": [],
   "source": [
    "# YOUR CODE HERE\n",
    "raise NotImplementedError()\n",
    "print(Tol)\n",
    "print(tl)"
   ]
  },
  {
   "cell_type": "code",
   "execution_count": null,
   "id": "1d536d17-e7b9-4c9c-8b53-b4d38a80ad90",
   "metadata": {
    "deletable": false,
    "editable": false,
    "nbgrader": {
     "cell_type": "code",
     "checksum": "4db0fbd03ac0e692dfde6b396e17e553",
     "grade": true,
     "grade_id": "cell-d6acabf95a4bd9e1",
     "locked": true,
     "points": 3,
     "schema_version": 3,
     "solution": false,
     "task": false
    }
   },
   "outputs": [],
   "source": [
    "quizz.eval_numeric('10', tl)"
   ]
  },
  {
   "cell_type": "code",
   "execution_count": null,
   "id": "31da79ba-3175-41eb-a775-30b0e7eb3545",
   "metadata": {},
   "outputs": [],
   "source": []
  }
 ],
 "metadata": {
  "kernelspec": {
   "display_name": "Python 3 (ipykernel)",
   "language": "python",
   "name": "python3"
  },
  "language_info": {
   "codemirror_mode": {
    "name": "ipython",
    "version": 3
   },
   "file_extension": ".py",
   "mimetype": "text/x-python",
   "name": "python",
   "nbconvert_exporter": "python",
   "pygments_lexer": "ipython3",
   "version": "3.11.6"
  },
  "toc": {
   "base_numbering": 0
  }
 },
 "nbformat": 4,
 "nbformat_minor": 5
}
