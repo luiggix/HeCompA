{
 "cells": [
  {
   "cell_type": "markdown",
   "id": "f269c0d2",
   "metadata": {},
   "source": [
    "<img src=\"https://www.encit.unam.mx/sites/default/files/2020-10/EN%20CIENCIAS%20DE%20LA%20TIERRA1%20%281%29.png\" width=200px hspace=\"5px\" vspace=\"0px\" style=\"float: left; margin-right:10px\">\n",
    "\n",
    "**Asignatura**: Herramientas Computacionales Avanzadas <br>\n",
    "**Profesor**: Dr. Luis Miguel de la Cruz Salas.<br>\n",
    "**Examen Práctico**: 1<br>\n",
    "**Fecha**: Febrero 2024\n"
   ]
  },
  {
   "cell_type": "code",
   "execution_count": null,
   "id": "26b68d45",
   "metadata": {},
   "outputs": [],
   "source": [
    "NAME = \"\"\n",
    "COLLABORATORS = \"\""
   ]
  },
  {
   "cell_type": "markdown",
   "id": "507c2b58",
   "metadata": {},
   "source": [
    "---"
   ]
  },
  {
   "cell_type": "markdown",
   "id": "9363e6d8-a4d0-45d5-8812-61ae19a669e1",
   "metadata": {
    "deletable": false,
    "editable": false,
    "nbgrader": {
     "cell_type": "markdown",
     "checksum": "eff88c3ba306ce94802c36b251263807",
     "grade": false,
     "grade_id": "cell-917b095528770d36",
     "locked": true,
     "schema_version": 3,
     "solution": false,
     "task": false
    }
   },
   "source": [
    "# El atractor de Lorenz\n",
    "\n",
    "**Objetivo general**\n",
    "- Resolver numéricamente el sistema de ecuaciones de Lorenz usando el método de Euler hacia adelante."
   ]
  },
  {
   "cell_type": "markdown",
   "id": "b76116c6-9798-4175-bca0-9b008a2883c9",
   "metadata": {
    "deletable": false,
    "editable": false,
    "nbgrader": {
     "cell_type": "markdown",
     "checksum": "7f882d6f53055f900412f88970f36bd3",
     "grade": false,
     "grade_id": "cell-99d15a627ecb735d",
     "locked": true,
     "schema_version": 3,
     "solution": false,
     "task": false
    }
   },
   "source": [
    "<a name='1'></a>\n",
    "## Modelo Conceptual\n",
    "\n",
    "En 1963 Edward Lorenz definió un [sistema dinámico determinista tridimensional no lineal](https://journals.ametsoc.org/view/journals/atsc/20/2/1520-0469_1963_020_0130_dnf_2_0_co_2.xml?tab_body=pdf), el cual derivó de las ecuaciones simplificadas de rollos de convección que se producen en las ecuaciones dinámicas de la **atmósfera terrestre**. A este sistema se le conoce como **Atractor de Lorenz**,\n",
    "[[Represa, Soledad. (2016). Ecuaciones de Lorenz. 10.13140/RG.2.2.18508.82563]](https://www.researchgate.net/publication/316629141_Ecuaciones_de_Lorenz)."
   ]
  },
  {
   "cell_type": "code",
   "execution_count": null,
   "id": "b0c324ce-a82b-4eed-9958-2f1967136bb2",
   "metadata": {
    "deletable": false,
    "editable": false,
    "nbgrader": {
     "cell_type": "code",
     "checksum": "6ab14b07cab613210e66e151e55ca86b",
     "grade": false,
     "grade_id": "cell-6fd9c9accd6618a4",
     "locked": true,
     "schema_version": 3,
     "solution": false,
     "task": false
    },
    "tags": []
   },
   "outputs": [],
   "source": [
    "%%html\n",
    "<iframe width=\"600\" height=\"400\" src=\"https://www.youtube.com/embed/XZ7Ly7dDCzo\" title=\"YouTube video player\" frameborder=\"0\" allow=\"accelerometer; autoplay; clipboard-write; encrypted-media; gyroscope; picture-in-picture; web-share\" allowfullscreen></iframe>"
   ]
  },
  {
   "cell_type": "markdown",
   "id": "b6747f2b-8289-45a0-84c5-757ff6a0be2f",
   "metadata": {
    "deletable": false,
    "editable": false,
    "nbgrader": {
     "cell_type": "markdown",
     "checksum": "68c4cdc545d1f073d0fca099c0a09227",
     "grade": false,
     "grade_id": "cell-2b2adc2897b5f859",
     "locked": true,
     "schema_version": 3,
     "solution": false,
     "task": false
    }
   },
   "source": [
    "<a name='2'></a>\n",
    "## Modelo Matemático.\n",
    "\n",
    "El sistema definido por Lorenz presenta un comportamiento caótico y suele aparecer también en otros fenómenos físicos. Consiste de tres ecuaciones diferenciales ordinarias no lineales que se escriben como sigue:\n",
    "\n",
    "$$\n",
    "\\begin{eqnarray}\n",
    "\\dfrac{dx}{dt} & = & \\sigma(y − x), \\tag{1}\\\\\n",
    "\\dfrac{dy}{dt} & = & x(\\rho − z) − y, \\tag{2} \\\\\n",
    "\\dfrac{dz}{dt} & = & xy − \\beta z \\tag{3}\n",
    "\\end{eqnarray}\n",
    "$$\n",
    "\n",
    "donde $\\sigma$ es conocido como el número de Prandtl y $\\rho$ el número de Rayleigh. Ambos son parámetros adimensionales que definen el movimiento convectivo en la atmósfera.\n",
    "\n",
    "Usualmente $\\sigma = 10$, $\\beta = 8/3$, $\\rho$ es variado. El sistema exhibe un comportamiento **caótico** para $\\rho = 28$. Se debe cumplir que $\\sigma, \\beta, \\rho > 0$.\n",
    "\n",
    "En las ecuaciones anteriores, $x$ es proporcional a la intensidad del movimiento convectivo, $y$ es proporcional a la diferencia de temperaturas entre las corrientes ascendentes y descendentes y $z$ es proporcional a la desviación de la linealidad del perfil de temperaturas vertical.\n",
    "\n",
    "Dadas las condiciones iniciales, la solución de este sistema define trayectorias en el espacio fase $xyz$ cuya forma recuerdan a una mariposa; de aquí que el atractor de Lorenz puede haber inspirado el nombre del **efecto mariposa** en la teoría del caos."
   ]
  },
  {
   "cell_type": "markdown",
   "id": "a822db92-5302-43c8-a450-06b6ac4164d4",
   "metadata": {
    "deletable": false,
    "editable": false,
    "nbgrader": {
     "cell_type": "markdown",
     "checksum": "56f99b499526cb2b2b164e36833f6b58",
     "grade": false,
     "grade_id": "cell-75980f6c9c71354e",
     "locked": true,
     "schema_version": 3,
     "solution": false,
     "task": false
    }
   },
   "source": [
    "<a name='3'></a>\n",
    "## Modelo Numérico\n",
    "\n",
    "El sistema representado por las ecuaciones $(1), (2)$ y $(3)$ puede ser resuelto numéricamente aplicando el método de Euler hacia adelante que proporciona una aproximación, de orden lineal $\\mathcal{O}(h_t)$, que se describe como sigue:\n",
    "\n",
    "$$\n",
    "\\begin{eqnarray}\n",
    "x(t_{n+1}) & = & x(t_n) + h_t * F(x, y, \\sigma) \\tag{4}\\\\\n",
    "y(t_{n+1}) & = & y(t_n) + h_t * G(x, y, z, \\rho) \\tag{5}\\\\\n",
    "z(t_{n+1}) & = & z(t_n) + h_t * H(x, y, z, \\beta) \\tag{6}\n",
    "\\end{eqnarray}\n",
    "$$\n",
    "\n",
    "donde:\n",
    "\n",
    "$$\n",
    "\\begin{eqnarray}\n",
    "F(x, y, \\sigma) & = & \\sigma(y − x) \\tag{7}\\\\\n",
    "G(x, y, z, \\rho) & = & x(\\rho − z) − y \\tag{8}\\\\\n",
    "H(x, y, z, \\beta) & = & xy − \\beta z \\tag{9}\n",
    "\\end{eqnarray}\n",
    "$$\n",
    "\n",
    "\n",
    "Para que el método esté bien definido necesitamos condiciones iniciales:\n",
    "\n",
    "$$\n",
    "\\begin{eqnarray}\n",
    "x(t = 0) & = & x_0 \\\\\n",
    "y(t = 0) & = & y_0 \\\\\n",
    "z(t = 0) & = & z_0 \\\\\n",
    "\\end{eqnarray}\n",
    "$$\n",
    "\n",
    "La evaluación de las ecuaciones $(1)$,$(2)$ y $(3)$ genera u\n",
    "Al resolver este problema obtendremos una lista de tuplas del tipo $(x_n,y_n,z_n)$ para $n=1, \\dots, N_t$, que al graficarse generarán trayectorias en el espacio fase $xyz$.\n",
    "En el siguiente interactivo mueva el valor de los parámetros y observe lo que sucede."
   ]
  },
  {
   "cell_type": "markdown",
   "id": "70f64521-cf28-438a-9b34-dee599adeb08",
   "metadata": {
    "deletable": false,
    "editable": false,
    "nbgrader": {
     "cell_type": "markdown",
     "checksum": "d2c7fe6063366e0fd00eb55e0263640e",
     "grade": false,
     "grade_id": "cell-3c6184cb2a74ccb9",
     "locked": true,
     "schema_version": 3,
     "solution": false,
     "task": false
    }
   },
   "source": [
    "<a name='4'></a>\n",
    "## Modelo Computacional"
   ]
  },
  {
   "cell_type": "code",
   "execution_count": null,
   "id": "bd2d9fb3-3ec7-4fb9-97c5-d2760457b1db",
   "metadata": {
    "deletable": false,
    "editable": false,
    "nbgrader": {
     "cell_type": "code",
     "checksum": "46deaeb6dd064219f5cda4a5d7f592f6",
     "grade": false,
     "grade_id": "cell-a94446877249b3e1",
     "locked": true,
     "schema_version": 3,
     "solution": false,
     "task": false
    },
    "tags": []
   },
   "outputs": [],
   "source": [
    "import matplotlib.pyplot as plt\n",
    "import numpy as np\n",
    "import macti.visual\n",
    "import glor\n",
    "from macti.evaluation import *\n",
    "quizz = Quizz('ex2_repo', 'HeCompA')"
   ]
  },
  {
   "cell_type": "markdown",
   "id": "0e610a5d-752c-4314-aa03-ea22f0472f68",
   "metadata": {
    "deletable": false,
    "editable": false,
    "nbgrader": {
     "cell_type": "markdown",
     "checksum": "e76446a9c93b4efd987b9047739d1359",
     "grade": false,
     "grade_id": "cell-5dff3f0e3b2374db",
     "locked": true,
     "schema_version": 3,
     "solution": false,
     "task": false
    }
   },
   "source": [
    "<div class=\"alert alert-success\">\n",
    "\n",
    "## Ejercicio 1.\n",
    "\n",
    "<font color=\"Black\">\n",
    "\n",
    "Definir los siguientes dos puntos iniciales en el espacio fase $xyz$. Estos puntos iniciales serán el inicio de dos trayectorias.\n",
    "\n",
    "$$\n",
    "\\begin{eqnarray}\n",
    "(x_1, y_1, z_1) & = & (5.98168845,  9.14898233, 18.04053198) \\\\\n",
    "(x_2, y_2, z_2) & = & (5.28839638,  7.82341498, 19.06587760)\n",
    "\\end{eqnarray}\n",
    "$$\n",
    "\n",
    "En la definición de estos puntos no omitas ningún decimal.\n",
    "\n",
    "**Hint**.\n",
    "```python\n",
    "x1 = ...\n",
    "y1 = ...\n",
    "z1 = ...\n",
    "...\n",
    "```\n",
    "</font>\n",
    "</div>"
   ]
  },
  {
   "cell_type": "code",
   "execution_count": null,
   "id": "78cb4f9c-f41e-49d8-addb-5832aac5f9d8",
   "metadata": {
    "deletable": false,
    "nbgrader": {
     "cell_type": "code",
     "checksum": "495e6ce5ee218d01e2c1dfa6ee252ebf",
     "grade": false,
     "grade_id": "cell-146d79db509e2e28",
     "locked": false,
     "schema_version": 3,
     "solution": true,
     "task": false
    }
   },
   "outputs": [],
   "source": [
    "# YOUR CODE HERE\n",
    "raise NotImplementedError()\n",
    "\n",
    "print(\"(x1, y1, z1) = ({}, {}, {})\".format(x1, y1, z1))\n",
    "print(\"(x2, y2, z2) = ({}, {}, {})\".format(x2, y2, z2))"
   ]
  },
  {
   "cell_type": "code",
   "execution_count": null,
   "id": "afa2b81f-b73e-4cd2-971e-48b068428886",
   "metadata": {
    "deletable": false,
    "editable": false,
    "nbgrader": {
     "cell_type": "code",
     "checksum": "756bda5292a7234aca200300d7549619",
     "grade": true,
     "grade_id": "cell-f0c6656cc6ee694a",
     "locked": true,
     "points": 6,
     "schema_version": 3,
     "solution": false,
     "task": false
    }
   },
   "outputs": [],
   "source": [
    "quizz.eval_numeric('1', x1)\n",
    "quizz.eval_numeric('2', y1)\n",
    "quizz.eval_numeric('3', z1)\n",
    "quizz.eval_numeric('4', x2)\n",
    "quizz.eval_numeric('5', y2)\n",
    "quizz.eval_numeric('6', z2)"
   ]
  },
  {
   "cell_type": "markdown",
   "id": "02da6886-92ba-4e37-bae7-8b3a4f54a210",
   "metadata": {
    "deletable": false,
    "editable": false,
    "nbgrader": {
     "cell_type": "markdown",
     "checksum": "4b2dbb3e311897be26ac32bf61307e9d",
     "grade": false,
     "grade_id": "cell-b0ef5900792d7e66",
     "locked": true,
     "schema_version": 3,
     "solution": false,
     "task": false
    }
   },
   "source": [
    "<div class=\"alert alert-success\">\n",
    "\n",
    "## Ejercicio 2.\n",
    "\n",
    "<font color=\"Black\">\n",
    "    \n",
    "Definir el número total de pasos de tiempo $Nt$. En este ejemplo usaremos $5000$ pasos de tiempo. \n",
    "\n",
    "**Hint**.\n",
    "```python\n",
    "Nt = ...\n",
    "```\n",
    "</font>\n",
    "</div>"
   ]
  },
  {
   "cell_type": "code",
   "execution_count": null,
   "id": "f500c16b-3013-484a-bd96-27151337aabb",
   "metadata": {
    "deletable": false,
    "nbgrader": {
     "cell_type": "code",
     "checksum": "f6cc0146b59156f8e91c28f14f717551",
     "grade": false,
     "grade_id": "cell-a75f78ebcc0f9a50",
     "locked": false,
     "schema_version": 3,
     "solution": true,
     "task": false
    }
   },
   "outputs": [],
   "source": [
    "# YOUR CODE HERE\n",
    "raise NotImplementedError()\n",
    "\n",
    "print(\"Nt = {}\".format(Nt))"
   ]
  },
  {
   "cell_type": "code",
   "execution_count": null,
   "id": "ccd01756-2cde-4ff2-848a-4963a12ba076",
   "metadata": {
    "deletable": false,
    "editable": false,
    "nbgrader": {
     "cell_type": "code",
     "checksum": "4fa6b1b7887b000a2ca7ee7115272537",
     "grade": true,
     "grade_id": "cell-a04d52e4d033ee3d",
     "locked": true,
     "points": 1,
     "schema_version": 3,
     "solution": false,
     "task": false
    }
   },
   "outputs": [],
   "source": [
    "quizz.eval_numeric('7', Nt)"
   ]
  },
  {
   "cell_type": "markdown",
   "id": "5f741671-b366-487f-aca1-6fce9828ad52",
   "metadata": {
    "deletable": false,
    "editable": false,
    "nbgrader": {
     "cell_type": "markdown",
     "checksum": "f77d30540e0391dadc78598211cfda76",
     "grade": false,
     "grade_id": "cell-88fefa3d5db27e2a",
     "locked": true,
     "schema_version": 3,
     "solution": false,
     "task": false
    }
   },
   "source": [
    "<div class=\"alert alert-success\">\n",
    "\n",
    "## Ejercicio 3.\n",
    "\n",
    "<font color=\"Black\">\n",
    "    \n",
    "Definir los arreglos `track_1` y `track_2` para almacenar las coordenadas de cada punto de las dos trayectorias. Ambos arreglos serán de dimensión `(3, Nt)` y tendrán la siguiente forma:\n",
    "\n",
    "```\n",
    "[[0. 0. 0. ... 0. 0. 0.]\n",
    " [0. 0. 0. ... 0. 0. 0.]\n",
    " [0. 0. 0. ... 0. 0. 0.]]\n",
    "````\n",
    "<br>\n",
    "\n",
    "**Hint**.\n",
    "```python\n",
    "track_1 = np.zeros(...)\n",
    "...\n",
    "```\n",
    "\n",
    "</font>\n",
    "</div>"
   ]
  },
  {
   "cell_type": "code",
   "execution_count": null,
   "id": "1c7e98c2-5a4b-4f1b-8584-e0a9b483b8cf",
   "metadata": {
    "deletable": false,
    "nbgrader": {
     "cell_type": "code",
     "checksum": "723cfcefcc641d483355e4a2197bb54e",
     "grade": false,
     "grade_id": "cell-fccc0c9903112b04",
     "locked": false,
     "schema_version": 3,
     "solution": true,
     "task": false
    }
   },
   "outputs": [],
   "source": [
    "# YOUR CODE HERE\n",
    "raise NotImplementedError()\n",
    "\n",
    "print(\"track_1 = \\n{}\".format(track_1))\n",
    "print(\"\\ntrack_2 = \\n{}\".format(track_2))"
   ]
  },
  {
   "cell_type": "code",
   "execution_count": null,
   "id": "2000edc9-5e50-4eb5-b582-f218503af30c",
   "metadata": {
    "deletable": false,
    "editable": false,
    "nbgrader": {
     "cell_type": "code",
     "checksum": "e89b042c696414cd12948753c30d15c6",
     "grade": true,
     "grade_id": "cell-da4cea50d916e6a9",
     "locked": true,
     "points": 2,
     "schema_version": 3,
     "solution": false,
     "task": false
    }
   },
   "outputs": [],
   "source": [
    "quizz.eval_numeric('8', track_1.shape)\n",
    "quizz.eval_numeric('9', track_2.shape)"
   ]
  },
  {
   "cell_type": "markdown",
   "id": "78c100a1-dfb4-49a4-85ef-5c99fb16388a",
   "metadata": {
    "deletable": false,
    "editable": false,
    "nbgrader": {
     "cell_type": "markdown",
     "checksum": "d4623316fc63f7cf9e2454c25ca9b313",
     "grade": false,
     "grade_id": "cell-f4f2923e7ffb5048",
     "locked": true,
     "schema_version": 3,
     "solution": false,
     "task": false
    }
   },
   "source": [
    "<div class=\"alert alert-success\">\n",
    "\n",
    "## Ejercicio 4.\n",
    "\n",
    "<font color=\"Black\">\n",
    "    \n",
    "Inicializa los arreglos `track_1` y `track_2` con los puntos iniciales de cada trayectoria. Por ejemplo, para el arreglo `track_1` deberás obtener un resultado como el siguiente:\n",
    "\n",
    "```\n",
    "[[ 5.98168845  0.          0.         ...  0.          0.\n",
    "   0.        ]\n",
    " [ 9.14898233  0.          0.         ...  0.          0.\n",
    "   0.        ]\n",
    " [18.04053198  0.          0.         ...  0.          0.\n",
    "   0.        ]]\n",
    "```\n",
    "\n",
    "**Hint**.\n",
    "```python\n",
    "track_1[0,0] = ...\n",
    "track_1[1,0] = ...\n",
    "track_1[2,0] = ...\n",
    "...\n",
    "```\n",
    "</font>\n",
    "</div>"
   ]
  },
  {
   "cell_type": "code",
   "execution_count": null,
   "id": "fefaeedd-5f27-44c0-a944-777b3575abb1",
   "metadata": {
    "deletable": false,
    "nbgrader": {
     "cell_type": "code",
     "checksum": "9440cec8fc097e3c0138e19ea39b01d8",
     "grade": false,
     "grade_id": "cell-2aa9df52b133dac5",
     "locked": false,
     "schema_version": 3,
     "solution": true,
     "task": false
    }
   },
   "outputs": [],
   "source": [
    "# YOUR CODE HERE\n",
    "raise NotImplementedError()\n",
    "\n",
    "print(\"track_1 = \\n{}\".format(track_1))\n",
    "print(\"\\ntrack_2 = \\n{}\".format(track_2))"
   ]
  },
  {
   "cell_type": "code",
   "execution_count": null,
   "id": "f2d899c1-7503-4861-91a7-bad35044a89f",
   "metadata": {
    "deletable": false,
    "editable": false,
    "nbgrader": {
     "cell_type": "code",
     "checksum": "6d2bce7c2bdc1f2544048f64636fd0dc",
     "grade": true,
     "grade_id": "cell-8d907c1b5b09c7e1",
     "locked": true,
     "points": 2,
     "schema_version": 3,
     "solution": false,
     "task": false
    }
   },
   "outputs": [],
   "source": [
    "quizz.eval_numeric('10', track_1[:,0])\n",
    "quizz.eval_numeric('11', track_2[:,0])"
   ]
  },
  {
   "cell_type": "markdown",
   "id": "9ab0a279-e051-45e4-bd66-634e2cc3833c",
   "metadata": {
    "deletable": false,
    "editable": false,
    "nbgrader": {
     "cell_type": "markdown",
     "checksum": "2a12b3c857505c68bb5be0a6ae9146e1",
     "grade": false,
     "grade_id": "cell-1068bbbe31da6fdd",
     "locked": true,
     "schema_version": 3,
     "solution": false,
     "task": false
    }
   },
   "source": [
    "<div class=\"alert alert-success\">\n",
    "\n",
    "## Ejercicio 5.\n",
    "\n",
    "<font color=\"Black\">\n",
    "    \n",
    "Definir las siguientes funciones de Python para evaluar las funciones matemáticas $F$, $G$ y $H$, (ecuaciones $7$, $8$ y $9$) de las ecuaciones de Lorenz:\n",
    "\n",
    "```python\n",
    "def F(x, y, 𝜎):\n",
    "    return ...\n",
    "\n",
    "def G(x, y, z, 𝜌):\n",
    "    return ...\n",
    "\n",
    "def H(x, y, z, 𝛽):\n",
    "    return ...\n",
    "```\n",
    "</font>\n",
    "</div>"
   ]
  },
  {
   "cell_type": "code",
   "execution_count": null,
   "id": "a50e98f2-027d-431a-bc85-bd65f16b54cf",
   "metadata": {
    "deletable": false,
    "nbgrader": {
     "cell_type": "code",
     "checksum": "f25334b5723648093715079a2c999cab",
     "grade": false,
     "grade_id": "cell-393ef7d027a7130b",
     "locked": false,
     "schema_version": 3,
     "solution": true,
     "task": false
    }
   },
   "outputs": [],
   "source": [
    "# YOUR CODE HERE\n",
    "raise NotImplementedError()"
   ]
  },
  {
   "cell_type": "markdown",
   "id": "5587df88-a4ef-40cd-8a54-396fd798b256",
   "metadata": {
    "deletable": false,
    "editable": false,
    "nbgrader": {
     "cell_type": "markdown",
     "checksum": "0f24c689bf8993202f94d89c6ea99f56",
     "grade": false,
     "grade_id": "cell-867cd8362042b34e",
     "locked": true,
     "schema_version": 3,
     "solution": false,
     "task": false
    }
   },
   "source": [
    "<div class=\"alert alert-success\">\n",
    "\n",
    "## Ejercicio 6.\n",
    "\n",
    "<font color=\"Black\">\n",
    "    \n",
    "Implementar el método de Euler hacia adelante para resolver las ecuaciones de Lorenz. Recuerda que:\n",
    "\n",
    "$$\n",
    "\\begin{eqnarray}\n",
    "x(t_{n+1}) & = & x(t_n) + h_t * F(x, y, \\sigma) \\tag{4}\\\\\n",
    "y(t_{n+1}) & = & y(t_n) + h_t * G(x, y, z, \\rho) \\tag{5}\\\\\n",
    "z(t_{n+1}) & = & z(t_n) + h_t * H(x, y, z, \\beta) \\tag{6}\n",
    "\\end{eqnarray}\n",
    "$$\n",
    "\n",
    "Almacena las coordenadas ($x(t_{n+1})$, $y(t_{n+1})$, $z(t_{n+1})$) en los arreglos `track_*`.\n",
    "\n",
    "Grafica las trayectorias en 3D en el espacio fase $xyz$ y en 2D en el espacio $xz$. Las graficas deberán ser similares a las siguientes:\n",
    "\n",
    "<img src=\"Lorenz.png\" width=500px>\n",
    "\n",
    "**Hint**.\n",
    "\n",
    "* Define $\\sigma = 10.0$.\n",
    "* Define $\\beta = 8 / 3$.\n",
    "* Define con un valor $\\rho$ entre los siguientes: $27.5$ $28.0$ $28.5$ y $29.0$.\n",
    "* Elige un valor para $dt$ entre los siguientes: $0.02$, $0.01$, $0.005$, $0.001$.\n",
    "* Debes realizar un ciclo `for` para recorrer el tiempo $t$ en todo el rango $(0, Nt)$.\n",
    "* Dentro del ciclo `for`, para cada una de las dos trayectorias, implementa las ecuaciones $(4)$, $(5)$ y $(6)$.\n",
    "* En este caso tenemos que, para la trayectoria 1:\n",
    "    * $x(t_n) \\equiv$ track_1[0,t]\n",
    "    * $y(t_n) \\equiv$ track_1[1,t]\n",
    "    * $z(t_n) \\equiv$ track_1[2,t]\n",
    "      \n",
    " Lo mismo para la trayectoria 2.\n",
    "</font>\n",
    "</div>"
   ]
  },
  {
   "cell_type": "code",
   "execution_count": null,
   "id": "2859aa17-dc49-416b-8d16-9a8cdd6af44d",
   "metadata": {
    "deletable": false,
    "nbgrader": {
     "cell_type": "code",
     "checksum": "852ecbb7ed70fa6343f52f1d28b87761",
     "grade": false,
     "grade_id": "cell-97b5ec38e3e37dea",
     "locked": false,
     "schema_version": 3,
     "solution": true,
     "task": false
    }
   },
   "outputs": [],
   "source": [
    "# Debes definir lo siguiente:\n",
    "#𝜎 = ... \n",
    "#𝛽 = ... \n",
    "#𝜌 = ... \n",
    "#dt = ...\n",
    "\n",
    "# Y luego un ciclo for:\n",
    "# for t in ...:\n",
    "#    implementar el algoritmo de Euler hacia adelante\n",
    "\n",
    "# YOUR CODE HERE\n",
    "raise NotImplementedError()\n",
    "\n",
    "print('{:>20s} = {:5.2f}'.format('Número de Prandtl 𝜎', 𝜎))\n",
    "print('{:>20s} = {:5.2f}'.format('Número de Rayleigh 𝜌', 𝜌)) \n",
    "print('{:>20s} = {:>5.2f}'.format('Valor de 𝛽', 𝛽))\n",
    "print('{:>20s} = {:>6.3f}'.format('dt', dt))\n",
    "print(\"track_1 = \\n{}\".format(track_1))\n",
    "print(\"\\ntrack_2 = \\n{}\".format(track_2))"
   ]
  },
  {
   "cell_type": "code",
   "execution_count": null,
   "id": "a495d554-c679-4c78-8946-ecca3372d15a",
   "metadata": {
    "deletable": false,
    "editable": false,
    "nbgrader": {
     "cell_type": "code",
     "checksum": "1943895c99238f13b3568dbdbac8ff6e",
     "grade": false,
     "grade_id": "cell-001c805a534ed398",
     "locked": true,
     "schema_version": 3,
     "solution": false,
     "task": false
    }
   },
   "outputs": [],
   "source": [
    "# Graficación de las trayectorias en el espacio fase\n",
    "fig = plt.figure(figsize=(10,5))\n",
    "glor.plot_trayectorias(fig, track_1, track_2)\n",
    "plt.tight_layout()\n",
    "plt.show()"
   ]
  },
  {
   "cell_type": "code",
   "execution_count": null,
   "id": "7b14c40a-a691-4c20-854d-dbdff9c1afd1",
   "metadata": {
    "deletable": false,
    "editable": false,
    "nbgrader": {
     "cell_type": "code",
     "checksum": "7e5d4b2211dce5dbf7c5f509ab83bc7e",
     "grade": true,
     "grade_id": "cell-29a2e32c8470a96c",
     "locked": true,
     "points": 4,
     "schema_version": 3,
     "solution": false,
     "task": false
    }
   },
   "outputs": [],
   "source": [
    "quizz.eval_numeric('12', 𝜌)\n",
    "quizz.eval_numeric('13', dt)\n",
    "quizz.eval_numeric('14', track_1)\n",
    "quizz.eval_numeric('15', track_2)"
   ]
  },
  {
   "cell_type": "code",
   "execution_count": null,
   "id": "eec65979-6c56-4439-97a4-20030b41cf15",
   "metadata": {},
   "outputs": [],
   "source": []
  },
  {
   "cell_type": "code",
   "execution_count": null,
   "id": "8b68f874-6933-4b51-b19e-ab97ab11b09d",
   "metadata": {},
   "outputs": [],
   "source": []
  }
 ],
 "metadata": {
  "kernelspec": {
   "display_name": "Python 3 (ipykernel)",
   "language": "python",
   "name": "python3"
  },
  "language_info": {
   "codemirror_mode": {
    "name": "ipython",
    "version": 3
   },
   "file_extension": ".py",
   "mimetype": "text/x-python",
   "name": "python",
   "nbconvert_exporter": "python",
   "pygments_lexer": "ipython3",
   "version": "3.11.6"
  }
 },
 "nbformat": 4,
 "nbformat_minor": 5
}
