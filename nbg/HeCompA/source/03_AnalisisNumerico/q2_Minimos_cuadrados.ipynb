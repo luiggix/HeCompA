{
 "cells": [
  {
   "cell_type": "markdown",
   "id": "87d7b634-1d9f-4812-af55-ec61b02797d7",
   "metadata": {
    "nbgrader": {
     "grade": false,
     "grade_id": "cell-5d41f91e83cd854f",
     "locked": true,
     "schema_version": 3,
     "solution": false,
     "task": false
    }
   },
   "source": [
    "# Quizz 2. Mínimos Cuadrados\n",
    "\n",
    "**Objetivo**.\n",
    "\n",
    "* Entender en qué consiste el ajuste de rectas por el método de mínimos cuadrados.\n",
    "* Realizar una implementación de las matemáticas requeridas en este método.\n",
    "* Probar la implementación con datos generados de manera sintética.\n",
    "\n",
    " <p xmlns:cc=\"http://creativecommons.org/ns#\" xmlns:dct=\"http://purl.org/dc/terms/\">Mínimos cuadrados by <a rel=\"cc:attributionURL dct:creator\" property=\"cc:attributionName\" href=\"https://www.macti.unam.mx\">Luis M. de la Cruz</a> is licensed under <a href=\"http://creativecommons.org/licenses/by-sa/4.0/?ref=chooser-v1\" target=\"_blank\" rel=\"license noopener noreferrer\" style=\"display:inline-block;\">Attribution-ShareAlike 4.0 International<img style=\"height:22px!important;margin-left:3px;vertical-align:text-bottom;\" src=\"https://mirrors.creativecommons.org/presskit/icons/cc.svg?ref=chooser-v1\"><img style=\"height:22px!important;margin-left:3px;vertical-align:text-bottom;\" src=\"https://mirrors.creativecommons.org/presskit/icons/by.svg?ref=chooser-v1\"><img style=\"height:22px!important;margin-left:3px;vertical-align:text-bottom;\" src=\"https://mirrors.creativecommons.org/presskit/icons/sa.svg?ref=chooser-v1\"></a></p> "
   ]
  },
  {
   "cell_type": "markdown",
   "id": "d17a0b36-2398-4802-a049-aa4ed2dc0c1a",
   "metadata": {
    "nbgrader": {
     "grade": false,
     "grade_id": "cell-552490fb09fadc5d",
     "locked": true,
     "schema_version": 3,
     "solution": false,
     "task": false
    }
   },
   "source": [
    "# Introducción.\n",
    "\n",
    "El **método de mínimos cuadrados** se utiliza para ajustar rectas a series de datos presentados en la forma $(x, y)$ como en la siguiente tabla:\n",
    "\n",
    "| $x_0$ | $x_1$ | $x_2$ | $\\dots$ | $x_N$ |\n",
    "|-----|-----|-----|---------|-----|\n",
    "| $y_0$ | $y_1$ | $y_2$ | $\\dots$ | $y_N$ |\n",
    "\n",
    "Este tipo de datos pueden provenir de diferentes fuentes como estudios geofísicos en campo, estudios experimentales en laboratorio, obtención de datos mediante encuestas, observación de fenómenos naturales, etc. La idea es estudiar como una variable depende de la otra.\n",
    "\n",
    "Una posibilidad es que la variación sea lineal es decir: $y = m x + b$.\n",
    "\n",
    "Sin embargo, en la mayoría de los casos no es posible obtener una recta exacta que pase por todos los puntos.\n",
    "\n",
    "Para ello, el método de mínimos cuadrados nos proporciona con una metodología para obtener la mejor recta que represente a todos los puntos del conjunto de datos. \n",
    "\n",
    "# Conjuntos de datos.\n",
    "\n",
    "Para esta actividad vamos a generar de manera sintética 4 conjuntos de datos. Usaremos la función `np.random.rand()` de numpy."
   ]
  },
  {
   "cell_type": "code",
   "execution_count": 1,
   "id": "4106a738-63fb-474b-beac-60baae52bfaa",
   "metadata": {
    "nbgrader": {
     "grade": false,
     "grade_id": "cell-a521def2f4ff96fa",
     "locked": true,
     "schema_version": 3,
     "solution": false,
     "task": false
    }
   },
   "outputs": [],
   "source": [
    "import numpy as np\n",
    "import matplotlib.pyplot as plt\n",
    "from macti.evaluation import *"
   ]
  },
  {
   "cell_type": "code",
   "execution_count": 2,
   "id": "a780258f-bf63-436f-b7ad-378c4c0099c6",
   "metadata": {},
   "outputs": [],
   "source": [
    "quizz = Quizz('q2', 'HeCompA')"
   ]
  },
  {
   "cell_type": "code",
   "execution_count": 3,
   "id": "f6ae1c20-c225-4db4-88e5-9d3ee3b6c53a",
   "metadata": {
    "nbgrader": {
     "grade": false,
     "grade_id": "cell-a223e663e2068da7",
     "locked": true,
     "schema_version": 3,
     "solution": false,
     "task": false
    }
   },
   "outputs": [],
   "source": [
    "# Total de datos de cada conjunto\n",
    "N = 20\n",
    "\n",
    "# Fijamos la semilla para obtener los mismos valores siempre\n",
    "np.random.seed(0)\n",
    "\n",
    "# Conjunto 0\n",
    "x0 = np.linspace(0,10,N) \n",
    "y0 = x0 + np.random.randn(N)*2\n",
    "\n",
    "# Conjunto 1\n",
    "x1 = np.random.randn(len(x0))*10\n",
    "y1 = np.random.randn(len(x0))*10\n",
    "\n",
    "# Conjunto 2\n",
    "x2 = np.arange(0,N)*100\n",
    "y2 = -x2 + np.random.randn(N)*500\n",
    "\n",
    "# Conjunto 3\n",
    "x3 = np.array([i for i in range(N)])\n",
    "y3 = np.random.rand(N)*0.5-0.5"
   ]
  },
  {
   "cell_type": "code",
   "execution_count": 4,
   "id": "30b7b30a-a29b-4145-b1aa-c368ea6dfc63",
   "metadata": {
    "nbgrader": {
     "grade": false,
     "grade_id": "cell-d6aef7c7c85a73cc",
     "locked": true,
     "schema_version": 3,
     "solution": false,
     "task": false
    }
   },
   "outputs": [
    {
     "name": "stdout",
     "output_type": "stream",
     "text": [
      "\n",
      "Arreglo x0 :\n",
      "[ 0.          0.52631579  1.05263158  1.57894737  2.10526316  2.63157895\n",
      "  3.15789474  3.68421053  4.21052632  4.73684211  5.26315789  5.78947368\n",
      "  6.31578947  6.84210526  7.36842105  7.89473684  8.42105263  8.94736842\n",
      "  9.47368421 10.        ]\n",
      "Arreglo y0 :\n",
      "[ 3.52810469  1.32663021  3.01010755  6.06073377  5.84037914  0.67702319\n",
      "  5.05807157  3.38149611  4.00408861  5.55803911  5.55124504  8.6980207\n",
      "  7.83786492  7.0854553   8.25614752  8.5620855  11.40921078  8.53705189\n",
      " 10.09981961  8.29180852]\n",
      "\n",
      "Arreglo x1 :\n",
      "[-25.52989816   6.53618595   8.64436199  -7.4216502   22.69754624\n",
      " -14.54365675   0.45758517  -1.8718385   15.32779214  14.6935877\n",
      "   1.54947426   3.7816252   -8.87785748 -19.80796468  -3.47912149\n",
      "   1.56348969  12.30290681  12.02379849  -3.87326817  -3.02302751]\n",
      "Arreglo y1 :\n",
      "[-10.48552965 -14.20017937 -17.06270191  19.50775395  -5.09652182\n",
      "  -4.38074302 -12.5279536    7.77490356 -16.13897848  -2.1274028\n",
      "  -8.95466561   3.86902498  -5.10805138 -11.80632184  -0.28182228\n",
      "   4.28331871   0.66517222   3.02471898  -6.34322094  -3.62741166]\n",
      "\n",
      "Arreglo x2 :\n",
      "[   0  100  200  300  400  500  600  700  800  900 1000 1100 1200 1300\n",
      " 1400 1500 1600 1700 1800 1900]\n",
      "Arreglo y2 :\n",
      "[ -336.23022389  -279.77658077  -606.57314102 -1163.14130117\n",
      "  -311.28692887  -700.8904681  -1415.09917348  -468.60887224\n",
      " -1253.64918219  -874.0273021   -635.45471891 -1035.50854462\n",
      "  -630.29965773 -1917.41291018 -1198.82917941 -1842.40504547\n",
      " -2035.39857459 -1989.42483238 -1955.77626606 -1871.91732889]\n",
      "\n",
      "Arreglo x3 :\n",
      "[ 0  1  2  3  4  5  6  7  8  9 10 11 12 13 14 15 16 17 18 19]\n",
      "Arreglo y3 :\n",
      "[-0.08552999 -0.49765226 -0.16109173 -0.36499601 -0.13240299 -0.01890573\n",
      " -0.37562343 -0.21192133 -0.20397903 -0.21387405 -0.38845918 -0.02362549\n",
      " -0.27643731 -0.07679566 -0.15026036 -0.35128152 -0.09310109 -0.30174713\n",
      " -0.0594484  -0.20936356]\n"
     ]
    }
   ],
   "source": [
    "print('\\nArreglo x0 :\\n{}'.format(x0))\n",
    "print('Arreglo y0 :\\n{}'.format(y0))\n",
    "\n",
    "print('\\nArreglo x1 :\\n{}'.format(x1))\n",
    "print('Arreglo y1 :\\n{}'.format(y1))\n",
    "\n",
    "print('\\nArreglo x2 :\\n{}'.format(x2))\n",
    "print('Arreglo y2 :\\n{}'.format(y2))\n",
    "\n",
    "print('\\nArreglo x3 :\\n{}'.format(x3))\n",
    "print('Arreglo y3 :\\n{}'.format(y3))"
   ]
  },
  {
   "cell_type": "markdown",
   "id": "bf736e41-06d4-49ef-8888-e7f8de1f113a",
   "metadata": {
    "nbgrader": {
     "grade": false,
     "grade_id": "cell-cc00f850ecece901",
     "locked": true,
     "schema_version": 3,
     "solution": false,
     "task": false
    }
   },
   "source": [
    "# Análisis exploratorio."
   ]
  },
  {
   "cell_type": "code",
   "execution_count": 5,
   "id": "fa8fc1c3-92a5-4545-8722-0980c2a190ff",
   "metadata": {},
   "outputs": [
    {
     "data": {
      "image/png": "[encoded data removed]",
      "text/plain": [
       "<Figure size 1000x500 with 4 Axes>"
      ]
     },
     "metadata": {},
     "output_type": "display_data"
    }
   ],
   "source": [
    "plt.figure(figsize=(10,5))\n",
    "\n",
    "ax0 = plt.subplot(221)\n",
    "ax0.scatter(x0, y0, fc = 'C0', ec='k', alpha=0.75)\n",
    "ax0.set_xlabel('$x_0$')\n",
    "ax0.set_ylabel('$y_0$')\n",
    "ax0.grid()\n",
    "\n",
    "ax1 = plt.subplot(222)\n",
    "ax1.scatter(x1, y1, fc = 'C1', ec='k', alpha=0.75)\n",
    "ax1.set_xlabel('$x_1$')\n",
    "ax1.set_ylabel('$y_2$')\n",
    "ax1.grid()\n",
    "\n",
    "ax2 = plt.subplot(223)\n",
    "ax2.scatter(x2, y2, fc = 'C2', ec='k', alpha=0.75)\n",
    "ax2.set_xlabel('$x_2$')\n",
    "ax2.set_ylabel('$y_2$')\n",
    "ax2.grid()\n",
    "\n",
    "ax3 = plt.subplot(224)\n",
    "ax3.scatter(x3, y3, fc = 'C3', ec='dimgrey', alpha=0.75)\n",
    "ax3.set_xlabel('$x_3$')\n",
    "ax3.set_ylabel('$y_3$')\n",
    "ax3.set_ylim(-5,5)\n",
    "ax3.grid()\n",
    "\n",
    "plt.tight_layout()\n",
    "plt.show()"
   ]
  },
  {
   "cell_type": "markdown",
   "id": "9da050da-38e0-4ff0-8043-ef42f3c23858",
   "metadata": {
    "nbgrader": {
     "grade": false,
     "grade_id": "cell-dd7908195df8eea6",
     "locked": true,
     "schema_version": 3,
     "solution": false,
     "task": false
    }
   },
   "source": [
    "# Valores de $m$ y $b$ óptimos.\n",
    "\n",
    "Los valores de la pendiente y de la ordenada al origen de la recta que mejor aproxima a un conjunto de datos están dados por las siguientes fórmulas:\n",
    "\n",
    "$$\n",
    "m = \\dfrac{\\sum_{i=1}^{N} x_i(y_i - \\bar{y})}{\\sum_{i=1}^{N} x_i(x_i - \\bar{x})} \\tag{1}\n",
    "$$\n",
    "\n",
    "$$\n",
    "b = \\bar{y} - m \\bar{x} \\tag{2}\n",
    "$$\n",
    "\n",
    "donde $\\bar{y} = \\dfrac{1}{N}\\sum_{i=1}^{N} y_i$  y $\\bar{x} = \\dfrac{1}{N}\\sum_{i=1}^{N} x_i$ representan el valor medio de los datos.\n",
    "\n",
    "Podemos usar los conjuntos de datos definidos antes para calcular $m$ y $b$ y con ello obtener la recta que ajusta los datos. "
   ]
  },
  {
   "cell_type": "markdown",
   "id": "e6003448-2fc6-472e-b632-c55f48ea7565",
   "metadata": {
    "nbgrader": {
     "grade": false,
     "grade_id": "cell-2b07cfb597230e9d",
     "locked": true,
     "schema_version": 3,
     "solution": false,
     "task": false
    }
   },
   "source": [
    "<div class=\"alert alert-success\">\n",
    "\n",
    "## **Ejercicio 1.**\n",
    "\n",
    "<font color=\"Black\">Calcular la media del conjunto de datos $x_0$, $y_0$. Almacenar las medias en las variables `X` y `Y`.</font>\n",
    "\n",
    "</div>"
   ]
  },
  {
   "cell_type": "code",
   "execution_count": 6,
   "id": "665497ce-561e-47a4-9a4d-78c8922d186b",
   "metadata": {
    "nbgrader": {
     "grade": false,
     "grade_id": "cell-e7cdb85676fe1903",
     "locked": false,
     "schema_version": 3,
     "solution": true,
     "task": false
    }
   },
   "outputs": [
    {
     "name": "stdout",
     "output_type": "stream",
     "text": [
      "Media de x: 5.0\n",
      "Media de y: 6.138669185891269\n"
     ]
    }
   ],
   "source": [
    "### BEGIN SOLUTION\n",
    "\n",
    "### FileAnswer definition\n",
    "# Se crea un objeto para guardar las respuestas, solo una vez.\n",
    "file_answer = FileAnswer() \n",
    "#file_answer.verb = 0\n",
    "\n",
    "# Media de x\n",
    "X = 0.0\n",
    "for xi in x0:\n",
    "    X += xi\n",
    "X /= N\n",
    "\n",
    "# Media de y\n",
    "Y = 0.0\n",
    "for yi in y0:\n",
    "    Y += yi\n",
    "Y /= N\n",
    "\n",
    "file_answer.write('1', X, 'Revisa la definición de la media y tu implementación para el cálculo de la media de x')\n",
    "file_answer.write('2', Y, 'Revisa la definición de la media y tu implementación para el cálculo de la media de y')\n",
    "\n",
    "# END SOLUTION\n",
    "\n",
    "print('Media de x: {}'.format(X))\n",
    "print('Media de y: {}'.format(Y))"
   ]
  },
  {
   "cell_type": "code",
   "execution_count": 7,
   "id": "b5e7f304-654b-407c-ba96-a2d9c8ba0376",
   "metadata": {
    "nbgrader": {
     "grade": true,
     "grade_id": "cell-e9969766cc37cd95",
     "locked": true,
     "points": 2,
     "schema_version": 3,
     "solution": false,
     "task": false
    }
   },
   "outputs": [
    {
     "name": "stdout",
     "output_type": "stream",
     "text": [
      "\u001b[39m----------------------------------------\n",
      "\u001b[32m1 | Tu resultado es correcto.\n",
      "\u001b[39m----------------------------------------\n",
      "\u001b[39m----------------------------------------\n",
      "\u001b[32m2 | Tu resultado es correcto.\n",
      "\u001b[39m----------------------------------------\n"
     ]
    }
   ],
   "source": [
    "quizz.eval_numeric('1', X)\n",
    "quizz.eval_numeric('2', Y)"
   ]
  },
  {
   "cell_type": "markdown",
   "id": "73c08068-61e9-43f2-85df-798684a325df",
   "metadata": {
    "nbgrader": {
     "grade": false,
     "grade_id": "cell-b808fe296b0d05f1",
     "locked": true,
     "schema_version": 3,
     "solution": false,
     "task": false
    }
   },
   "source": [
    "<div class=\"alert alert-success\">\n",
    "\n",
    "## **Ejercicio 2.**\n",
    "\n",
    "<font color=\"Black\">Calcular la pendiente $m$ del conjunto de datos $x_0$, $y_0$ usando la fórmula $(1)$. Almacenar la pendiente en la variable `m`.</font>\n",
    "\n",
    "</div>"
   ]
  },
  {
   "cell_type": "code",
   "execution_count": 8,
   "id": "ceb07bc1-1fd2-4aa8-85be-69cfdf8750bc",
   "metadata": {
    "nbgrader": {
     "grade": false,
     "grade_id": "cell-0875f3113c5f37e1",
     "locked": false,
     "schema_version": 3,
     "solution": true,
     "task": false
    }
   },
   "outputs": [
    {
     "name": "stdout",
     "output_type": "stream",
     "text": [
      "Pendiente m: 0.7725548289646033\n"
     ]
    }
   ],
   "source": [
    "### BEGIN SOLUTION\n",
    "# Cálculo de m\n",
    "Sxx = 0\n",
    "Sxy = 0\n",
    "for xi, yi in zip(x0, y0):\n",
    "    Sxy += xi * (yi - Y)\n",
    "    Sxx += xi * (xi - X)\n",
    "m = Sxy / Sxx\n",
    "\n",
    "file_answer.write('3', m, 'Revisa la fórmula para el cálculo de la pendiente y tu implementación')\n",
    "\n",
    "# END SOLUTION\n",
    "\n",
    "print('Pendiente m: {}'.format(m))"
   ]
  },
  {
   "cell_type": "code",
   "execution_count": 9,
   "id": "2c5afb5c-1f20-4d52-9931-8502bd4d9db8",
   "metadata": {
    "nbgrader": {
     "grade": true,
     "grade_id": "cell-3ab758080d0e4642",
     "locked": true,
     "points": 1,
     "schema_version": 3,
     "solution": false,
     "task": false
    }
   },
   "outputs": [
    {
     "name": "stdout",
     "output_type": "stream",
     "text": [
      "\u001b[39m----------------------------------------\n",
      "\u001b[32m3 | Tu resultado es correcto.\n",
      "\u001b[39m----------------------------------------\n"
     ]
    }
   ],
   "source": [
    "quizz.eval_numeric('3', m)"
   ]
  },
  {
   "cell_type": "markdown",
   "id": "010ce3a3-60ab-45f9-8cfe-309dab1d8c30",
   "metadata": {
    "nbgrader": {
     "grade": false,
     "grade_id": "cell-0dc3dd4202f600e1",
     "locked": true,
     "schema_version": 3,
     "solution": false,
     "task": false
    }
   },
   "source": [
    "<div class=\"alert alert-success\">\n",
    "\n",
    "## **Ejercicio 3.**\n",
    "\n",
    "<font color=\"Black\">Calcular la ordenada al origen $b$ del conjunto de datos $x_0$, $y_0$ usando la fórmula $(2)$. Almacenar la pendiente en la variable `b`.</font>\n",
    "\n",
    "</div>"
   ]
  },
  {
   "cell_type": "code",
   "execution_count": 10,
   "id": "be93def7-5983-42ee-954d-5f4ce6107024",
   "metadata": {
    "nbgrader": {
     "grade": false,
     "grade_id": "cell-f36117aea568bb47",
     "locked": false,
     "schema_version": 3,
     "solution": true,
     "task": false
    }
   },
   "outputs": [
    {
     "name": "stdout",
     "output_type": "stream",
     "text": [
      "Ordenada al origen b: 2.2758950410682526\n"
     ]
    }
   ],
   "source": [
    "# Cálculo de b\n",
    "# b = ...\n",
    "### BEGIN SOLUTION\n",
    "# Cálculo de b\n",
    "b = Y - m * X\n",
    "\n",
    "file_answer.write('4', b, 'Revisa la fórmula para el cálculo de la ordenada al origen y tu implementación')\n",
    "\n",
    "### END SOLUTION\n",
    "\n",
    "print('Ordenada al origen b: {}'.format(b))"
   ]
  },
  {
   "cell_type": "code",
   "execution_count": 11,
   "id": "7c2e331e-26a2-41e7-8133-f8f61b16d10b",
   "metadata": {
    "nbgrader": {
     "grade": true,
     "grade_id": "cell-538d7265e1bf6a3d",
     "locked": true,
     "points": 1,
     "schema_version": 3,
     "solution": false,
     "task": false
    }
   },
   "outputs": [
    {
     "name": "stdout",
     "output_type": "stream",
     "text": [
      "\u001b[39m----------------------------------------\n",
      "\u001b[32m4 | Tu resultado es correcto.\n",
      "\u001b[39m----------------------------------------\n"
     ]
    }
   ],
   "source": [
    "quizz.eval_numeric('4', b)"
   ]
  },
  {
   "cell_type": "markdown",
   "id": "de743742-33eb-43e3-88c5-4ddf95b45e97",
   "metadata": {
    "nbgrader": {
     "grade": false,
     "grade_id": "cell-2ea63d107a90dbd8",
     "locked": true,
     "schema_version": 3,
     "solution": false,
     "task": false
    }
   },
   "source": [
    "<div class=\"alert alert-success\">\n",
    "\n",
    "## **Ejercicio 4.**\n",
    "\n",
    "<font color=\"Black\">\n",
    "\n",
    "Construir una recta usando los valores de $m$ y $b$ calculados en los ejercicios anteriores como sigue:\n",
    "* Construir un arreglo para $x$, de nombre `xr0`, usando alguna función de `numpy` (**el arreglo debe ser de 10 elementos**):\n",
    "```python\n",
    "xr0 = np. ...\n",
    "```\n",
    "* Evaluar $y = mx + b$ usando el arreglo `xr0` para generar el arreglo `yr0`:\n",
    "```python\n",
    "yr0 = ...\n",
    "```\n",
    "</div>"
   ]
  },
  {
   "cell_type": "code",
   "execution_count": 12,
   "id": "de9cbf5d-149d-47b3-b09a-ff6ee72d6b96",
   "metadata": {
    "nbgrader": {
     "grade": false,
     "grade_id": "cell-0b8cbe2dc6c3c0aa",
     "locked": false,
     "schema_version": 3,
     "solution": true,
     "task": false
    }
   },
   "outputs": [
    {
     "name": "stdout",
     "output_type": "stream",
     "text": [
      "[ 0.          1.11111111  2.22222222  3.33333333  4.44444444  5.55555556\n",
      "  6.66666667  7.77777778  8.88888889 10.        ]\n",
      "[ 2.27589504  3.1342893   3.99268355  4.8510778   5.70947206  6.56786631\n",
      "  7.42626057  8.28465482  9.14304908 10.00144333]\n"
     ]
    }
   ],
   "source": [
    "# Construcción de las rectas\n",
    "# xr0 = np....\n",
    "# yr0 = ...\n",
    "\n",
    "### BEGIN SOLUTION\n",
    "# Construcción de la recta\n",
    "xr0 = np.linspace(x0.min(), x0.max(), 10)\n",
    "yr0 = m * xr0 + b\n",
    "\n",
    "file_answer.write('5', xr0, 'Recuerda que el arreglo debe tener 10 elementos, checa tu implementación')\n",
    "file_answer.write('6', yr0, 'Solo tienes que implementar la fórmula de la recta usando m, xr0 y b')\n",
    "\n",
    "### END SOLUTION\n",
    "\n",
    "print(xr0)\n",
    "print(yr0)"
   ]
  },
  {
   "cell_type": "code",
   "execution_count": 13,
   "id": "b85acecf-36b9-4cf1-b12e-6dd363808c34",
   "metadata": {
    "nbgrader": {
     "grade": true,
     "grade_id": "cell-79f4f332e2228dba",
     "locked": true,
     "points": 2,
     "schema_version": 3,
     "solution": false,
     "task": false
    }
   },
   "outputs": [
    {
     "name": "stdout",
     "output_type": "stream",
     "text": [
      "\u001b[39m----------------------------------------\n",
      "\u001b[32m5 | Tu resultado es correcto.\n",
      "\u001b[39m----------------------------------------\n",
      "\u001b[39m----------------------------------------\n",
      "\u001b[32m6 | Tu resultado es correcto.\n",
      "\u001b[39m----------------------------------------\n"
     ]
    }
   ],
   "source": [
    "quizz.eval_numeric('5', xr0)\n",
    "quizz.eval_numeric('6', yr0)"
   ]
  },
  {
   "cell_type": "markdown",
   "id": "b308b632-667f-4893-a246-fb7a873132f6",
   "metadata": {
    "nbgrader": {
     "grade": false,
     "grade_id": "cell-8765d8366a8eb8b5",
     "locked": true,
     "schema_version": 3,
     "solution": false,
     "task": false
    }
   },
   "source": [
    "<div class=\"alert alert-info\">\n",
    "\n",
    "Si realizaste correctamente los ejercicios $1-4$, entonces la siguiente celda de código graficará los cuatro conjuntos de datos y en la primera gráfica se verá la línea recta que construiste.\n",
    "\n",
    "**NOTA**. En esta graficación estamos usando la biblioteca `macti.visual`.\n",
    "\n",
    "</div>"
   ]
  },
  {
   "cell_type": "code",
   "execution_count": 14,
   "id": "02c9e216-e537-41e7-972b-c051b19f2442",
   "metadata": {},
   "outputs": [
    {
     "data": {
      "image/png": "[encoded data removed]",
      "text/plain": [
       "<Figure size 800x400 with 4 Axes>"
      ]
     },
     "metadata": {},
     "output_type": "display_data"
    }
   ],
   "source": [
    "import macti.visual as mvis\n",
    "\n",
    "axp = [dict(xlabel='$x_0$', ylabel='$y_0$'),\n",
    "        dict(xlabel='$x_1$', ylabel='$y_1$'),\n",
    "        dict(xlabel='$x_2$', ylabel='$y_2$'),\n",
    "        dict(xlabel='$x_3$', ylabel='$y_3$', ylim=(-5,5)),]\n",
    "\n",
    "vis = mvis.Plotter(2,2,fig_par=dict(figsize=(10,5)), axis_par=axp)\n",
    "\n",
    "vis.plot(1, xr0, yr0, c='C0', lw=2, ls = '--')\n",
    "vis.scatter(1, x0, y0, fc='C0', ec='k', alpha=0.75, zorder=5)\n",
    "\n",
    "vis.scatter(2, x1, y1, fc='C1', ec='k', alpha=0.75)\n",
    "\n",
    "vis.scatter(3, x2, y2, fc='C2', ec='k', alpha=0.75)\n",
    "\n",
    "vis.scatter(4, x3, y3, fc='C3', ec='dimgrey', alpha=0.75)\n",
    "\n",
    "vis.tight_layout()\n",
    "vis.grid()\n",
    "vis.show()"
   ]
  },
  {
   "cell_type": "markdown",
   "id": "c5b94ff2-1e77-4603-bfcb-d9b6f89b9021",
   "metadata": {
    "nbgrader": {
     "grade": false,
     "grade_id": "cell-b149a73a543bdc99",
     "locked": true,
     "schema_version": 3,
     "solution": false,
     "task": false
    }
   },
   "source": [
    "<div class=\"alert alert-success\">\n",
    "\n",
    "## **Ejercicio 5.**\n",
    "\n",
    "<font color=\"Black\">Construir la función `media(x)` para calcular la media de un conjunto de datos. La función debe recibir como entrada el arreglo con los datos, `x`, y regresa la media de los mismos. Probar la función para los datos `x0` y `y0` como sigue:\n",
    "```python\n",
    "X0 = media(x0)\n",
    "Y0 = media(y0)\n",
    "```\n",
    "</font>\n",
    "\n",
    "</div>"
   ]
  },
  {
   "cell_type": "code",
   "execution_count": 15,
   "id": "ad67510e-bf63-4ca0-9c7a-361094518dab",
   "metadata": {
    "nbgrader": {
     "grade": false,
     "grade_id": "cell-522a1d9030797ea3",
     "locked": false,
     "schema_version": 3,
     "solution": true,
     "task": false
    }
   },
   "outputs": [
    {
     "name": "stdout",
     "output_type": "stream",
     "text": [
      "Media de x0 : 5.0\n",
      "Media de y0 : 6.138669185891269\n"
     ]
    }
   ],
   "source": [
    "# Función media()\n",
    "# def media (x) : \n",
    "# ...\n",
    "\n",
    "### BEGIN SOLUTION\n",
    "def media(x):\n",
    "    xm = 0.0\n",
    "    for xi in x:\n",
    "        xm += xi\n",
    "    return xm / N\n",
    "\n",
    "X0 = media(x0)\n",
    "Y0 = media(y0)\n",
    "\n",
    "file_answer.write('7', X0, 'Revisa la definición de la media y la implementación de la función media(x)')\n",
    "file_answer.write('8', Y0, 'Revisa la definición de la media y la implementación de la función media(x)')\n",
    "\n",
    "### END SOLUTION\n",
    "\n",
    "print('Media de x0 : {}'.format(X0))\n",
    "print('Media de y0 : {}'.format(Y0))"
   ]
  },
  {
   "cell_type": "code",
   "execution_count": 16,
   "id": "4335d757-1837-47b1-b8f4-0afb4f683445",
   "metadata": {
    "nbgrader": {
     "grade": true,
     "grade_id": "cell-c831cac7e0b51e1d",
     "locked": true,
     "points": 2,
     "schema_version": 3,
     "solution": false,
     "task": false
    }
   },
   "outputs": [
    {
     "name": "stdout",
     "output_type": "stream",
     "text": [
      "\u001b[39m----------------------------------------\n",
      "\u001b[32m7 | Tu resultado es correcto.\n",
      "\u001b[39m----------------------------------------\n",
      "\u001b[39m----------------------------------------\n",
      "\u001b[32m8 | Tu resultado es correcto.\n",
      "\u001b[39m----------------------------------------\n"
     ]
    }
   ],
   "source": [
    "quizz.eval_numeric('7', X0)\n",
    "quizz.eval_numeric('8', Y0)"
   ]
  },
  {
   "cell_type": "markdown",
   "id": "3d42e623-7d67-43a2-94c1-606de545a9be",
   "metadata": {
    "nbgrader": {
     "grade": false,
     "grade_id": "cell-6ddcaf62fd9da01c",
     "locked": true,
     "schema_version": 3,
     "solution": false,
     "task": false
    }
   },
   "source": [
    "<div class=\"alert alert-success\">\n",
    "\n",
    "## **Ejercicio 6.**\n",
    "\n",
    "<font color=\"Black\">\n",
    "    \n",
    "Construir la función `mincua(x, y)` para calcular $m$ y $b$ de un conjunto de datos. La función recibe como entrada los arreglos de datos, `x, y`, y regresa `m` y `b`. Calcular `m` y `b` para los conjuntos de datos: \n",
    "\n",
    "* ($x_1$, $y_1$), almacenar $m$ y $b$ en las variables `m1` y `b1` respectivamente.\n",
    "* ($x_2$, $y_2$), almacenar $m$ y $b$ en las variables `m2` y `b2` respectivamente.\n",
    "* ($x_3$, $y_3$), almacenar $m$ y $b$ en las variables `m3` y `b3` respectivamente.\n",
    "\n",
    "</font>\n",
    "\n",
    "</div>"
   ]
  },
  {
   "cell_type": "code",
   "execution_count": 18,
   "id": "ea10d448-c931-4ede-b5a3-1af53964690a",
   "metadata": {
    "nbgrader": {
     "grade": false,
     "grade_id": "cell-1dee2467692804a5",
     "locked": false,
     "schema_version": 3,
     "solution": true,
     "task": false
    }
   },
   "outputs": [],
   "source": [
    "# Función mincua()\n",
    "# def mincua (x) : \n",
    "# ...\n",
    "# \n",
    "\n",
    "### BEGIN SOLUTION\n",
    "def mincua(x, y):\n",
    "    # Cálculo de la media\n",
    "    X = media(x)\n",
    "    Y = media(y)\n",
    "    \n",
    "    # Cálculo de m\n",
    "    Sxx = 0\n",
    "    Sxy = 0\n",
    "    for xi, yi in zip(x, y):\n",
    "        Sxy += xi * (yi - Y)\n",
    "        Sxx += xi * (xi - X)\n",
    "    m = Sxy / Sxx\n",
    "\n",
    "    # Cálculo de b\n",
    "    b = Y - m * X\n",
    "\n",
    "    return m, b\n",
    "### END SOLUTION"
   ]
  },
  {
   "cell_type": "code",
   "execution_count": 19,
   "id": "ff6c6969-47dc-40f3-8edc-63c1a02c5df3",
   "metadata": {
    "nbgrader": {
     "grade": false,
     "grade_id": "cell-ae36fbb5eb4a9635",
     "locked": false,
     "schema_version": 3,
     "solution": true,
     "task": false
    }
   },
   "outputs": [
    {
     "name": "stdout",
     "output_type": "stream",
     "text": [
      "m1 = -0.02002336877662938, \t b1 = -3.9396674988126574\n",
      "m2 = -0.86095919430528, \t b2 = -308.1742770138992\n",
      "m3 = 0.003809973693633117, \t b3 = -0.24601956385565651\n"
     ]
    }
   ],
   "source": [
    "# Cálculo de m y b\n",
    "# m1, b1 = ...\n",
    "# ...\n",
    "\n",
    "### BEGIN SOLUTION\n",
    "m1, b1 = mincua(x1, y1)\n",
    "m2, b2 = mincua(x2, y2)\n",
    "m3, b3 = mincua(x3, y3)\n",
    "\n",
    "file_answer.write('9' , [m1, b1], 'Checa que ejecutaste la función mincua(x,y) con los datos correctos (x1, y1). Checa también tu implementación')\n",
    "file_answer.write('10', [m2, b2], 'Checa que ejecutaste la función mincua(x,y) con los datos correctos (x2, y2). Checa también tu implementación')\n",
    "file_answer.write('11', [m3, b3], 'Checa que ejecutaste la función mincua(x,y) con los datos correctos (x3, y3). Checa también tu implementación')\n",
    "\n",
    "### END SOLUTION\n",
    "\n",
    "print('m1 = {}, \\t b1 = {}'.format(m1, b1))\n",
    "print('m2 = {}, \\t b2 = {}'.format(m2, b2))\n",
    "print('m3 = {}, \\t b3 = {}'.format(m3, b3))"
   ]
  },
  {
   "cell_type": "code",
   "execution_count": 20,
   "id": "6c2a3e05-4131-40d2-9967-b530d9ea896f",
   "metadata": {
    "nbgrader": {
     "grade": true,
     "grade_id": "cell-d24844b2379c4dc2",
     "locked": true,
     "points": 3,
     "schema_version": 3,
     "solution": false,
     "task": false
    }
   },
   "outputs": [
    {
     "name": "stdout",
     "output_type": "stream",
     "text": [
      "\u001b[39m----------------------------------------\n",
      "\u001b[32m9 | Tu resultado es correcto.\n",
      "\u001b[39m----------------------------------------\n",
      "\u001b[39m----------------------------------------\n",
      "\u001b[32m10 | Tu resultado es correcto.\n",
      "\u001b[39m----------------------------------------\n",
      "\u001b[39m----------------------------------------\n",
      "\u001b[32m11 | Tu resultado es correcto.\n",
      "\u001b[39m----------------------------------------\n"
     ]
    }
   ],
   "source": [
    "quizz.eval_numeric('9', [m1, b1])\n",
    "quizz.eval_numeric('10', [m2, b2])\n",
    "quizz.eval_numeric('11', [m3, b3])"
   ]
  },
  {
   "cell_type": "markdown",
   "id": "76385121-d35b-4228-b1f2-ea904e47d026",
   "metadata": {
    "nbgrader": {
     "grade": false,
     "grade_id": "cell-fd39ca5ea424df0e",
     "locked": true,
     "schema_version": 3,
     "solution": false,
     "task": false
    }
   },
   "source": [
    "<div class=\"alert alert-success\">\n",
    "\n",
    "## **Ejercicio 7.**\n",
    "\n",
    "<font color=\"Black\">\n",
    "    \n",
    "Construir las rectas de cada conjunto de datos como sigue:\n",
    "\n",
    "* Usando `m1` y `b1` construir los arreglos de coordenadas `xr1` y `yr1`.\n",
    "* Usando `m2` y `b2` construir los arreglos de coordenadas `xr2` y `yr2`.\n",
    "* Usando `m3` y `b3` construir los arreglos de coordenadas `xr3` y `yr3`.\n",
    "\n",
    "</font>\n",
    "\n",
    "</div>"
   ]
  },
  {
   "cell_type": "code",
   "execution_count": 21,
   "id": "ae9be953-7c3c-4fd0-b78d-1b2f9a38fc4c",
   "metadata": {
    "nbgrader": {
     "grade": false,
     "grade_id": "cell-f3e79d8be4b8a1b5",
     "locked": false,
     "schema_version": 3,
     "solution": true,
     "task": false
    }
   },
   "outputs": [
    {
     "name": "stdout",
     "output_type": "stream",
     "text": [
      "El directorio :/home/jovyan/HeCompA/nbg/HeCompA/source/.ans/03_AnalisisNumerico/ ya existe\n",
      "Respuestas y retroalimentación almacenadas.\n"
     ]
    }
   ],
   "source": [
    "# Construcción de las rectas\n",
    "# xr1 = np.linspace( ... )\n",
    "# yr1 = ...\n",
    "# ...\n",
    "### BEGIN SOLUTION\n",
    "# Construcción de las rectas\n",
    "xr1 = np.linspace(x1.min(), x1.max(), 10)\n",
    "yr1 = m1 * xr1 + b1\n",
    "\n",
    "xr2 = np.linspace(x2.min(), x2.max(), 10)\n",
    "yr2 = m2 * xr2 + b2\n",
    "\n",
    "xr3 = np.linspace(x3.min(), x3.max(), 10)\n",
    "yr3 = m3 * xr3 + b3\n",
    "\n",
    "file_answer.write('12', xr1, 'El arreglo xr1 no está bien construido.')\n",
    "file_answer.write('13', yr1, 'El arreglo yr1 no está bien evaluado. Checa la fórmula de la recta.')\n",
    "file_answer.write('14', xr2, 'El arreglo xr2 no está bien construido.')\n",
    "file_answer.write('15', yr2, 'El arreglo yr2 no está bien evaluado. Checa la fórmula de la recta.')\n",
    "file_answer.write('16', xr3, 'El arreglo xr3 no está bien construido.')\n",
    "file_answer.write('17', yr3, 'El arreglo yr3 no está bien evaluado. Checa la fórmula de la recta.')\n",
    "\n",
    "file_answer.to_file('q2')\n",
    "### END SOLUTION"
   ]
  },
  {
   "cell_type": "code",
   "execution_count": 22,
   "id": "960be302-6053-4d1f-840e-aa6a1071aaa6",
   "metadata": {
    "nbgrader": {
     "grade": false,
     "grade_id": "cell-4bb484f4f3550a98",
     "locked": true,
     "schema_version": 3,
     "solution": false,
     "task": false
    }
   },
   "outputs": [
    {
     "name": "stdout",
     "output_type": "stream",
     "text": [
      "[-25.52989816 -20.17129323 -14.81268829  -9.45408336  -4.09547843\n",
      "   1.26312651   6.62173144  11.98033637  17.33894131  22.69754624]\n",
      "[-3.42847293 -3.53577026 -3.64306758 -3.7503649  -3.85766222 -3.96495955\n",
      " -4.07225687 -4.17955419 -4.28685151 -4.39414884]\n",
      "\n",
      "[   0.          211.11111111  422.22222222  633.33333333  844.44444444\n",
      " 1055.55555556 1266.66666667 1477.77777778 1688.88888889 1900.        ]\n",
      "[ -308.17427701  -489.93232915  -671.69038128  -853.44843341\n",
      " -1035.20648554 -1216.96453767 -1398.7225898  -1580.48064193\n",
      " -1762.23869406 -1943.99674619]\n",
      "\n",
      "[ 0.          2.11111111  4.22222222  6.33333333  8.44444444 10.55555556\n",
      " 12.66666667 14.77777778 16.88888889 19.        ]\n",
      "[-0.24601956 -0.23797629 -0.22993301 -0.22188973 -0.21384645 -0.20580317\n",
      " -0.1977599  -0.18971662 -0.18167334 -0.17363006]\n",
      "\n"
     ]
    }
   ],
   "source": [
    "print(xr1, yr1, sep = '\\n', end='\\n\\n')\n",
    "print(xr2, yr2, sep = '\\n', end='\\n\\n')\n",
    "print(xr3, yr3, sep = '\\n', end='\\n\\n')"
   ]
  },
  {
   "cell_type": "code",
   "execution_count": 23,
   "id": "e86c5bf6-7b91-4370-aed4-db1a4a7f2251",
   "metadata": {
    "nbgrader": {
     "grade": true,
     "grade_id": "cell-4bb618980bf8eb33",
     "locked": true,
     "points": 6,
     "schema_version": 3,
     "solution": false,
     "task": false
    }
   },
   "outputs": [
    {
     "name": "stdout",
     "output_type": "stream",
     "text": [
      "\u001b[39m----------------------------------------\n",
      "\u001b[32m12 | Tu resultado es correcto.\n",
      "\u001b[39m----------------------------------------\n",
      "\u001b[39m----------------------------------------\n",
      "\u001b[32m13 | Tu resultado es correcto.\n",
      "\u001b[39m----------------------------------------\n",
      "\u001b[39m----------------------------------------\n",
      "\u001b[32m14 | Tu resultado es correcto.\n",
      "\u001b[39m----------------------------------------\n",
      "\u001b[39m----------------------------------------\n",
      "\u001b[32m15 | Tu resultado es correcto.\n",
      "\u001b[39m----------------------------------------\n",
      "\u001b[39m----------------------------------------\n",
      "\u001b[32m16 | Tu resultado es correcto.\n",
      "\u001b[39m----------------------------------------\n",
      "\u001b[39m----------------------------------------\n",
      "\u001b[32m17 | Tu resultado es correcto.\n",
      "\u001b[39m----------------------------------------\n"
     ]
    }
   ],
   "source": [
    "quizz.eval_numeric('12', xr1)\n",
    "quizz.eval_numeric('13', yr1)\n",
    "quizz.eval_numeric('14', xr2)\n",
    "quizz.eval_numeric('15', yr2)\n",
    "quizz.eval_numeric('16', xr3)\n",
    "quizz.eval_numeric('17', yr3)"
   ]
  },
  {
   "cell_type": "markdown",
   "id": "e3d18d3f-c873-4a32-acf7-109104332c43",
   "metadata": {
    "nbgrader": {
     "grade": false,
     "grade_id": "cell-7250464dc0a3f89a",
     "locked": true,
     "schema_version": 3,
     "solution": false,
     "task": false
    }
   },
   "source": [
    "<div class=\"alert alert-info\">\n",
    "\n",
    "Si caculaste todo correctamente, entonces la siguiente celda de código graficará los cuatro conjuntos de datos junto con las líneas rectas que construiste.\n",
    "\n",
    "</div>"
   ]
  },
  {
   "cell_type": "code",
   "execution_count": 24,
   "id": "eb62233a-8152-406d-bbaa-3e9c517d30c2",
   "metadata": {},
   "outputs": [
    {
     "data": {
      "image/png": "[encoded data removed]",
      "text/plain": [
       "<Figure size 800x400 with 4 Axes>"
      ]
     },
     "metadata": {},
     "output_type": "display_data"
    }
   ],
   "source": [
    "axp = [dict(xlabel='$x_0$', ylabel='$y_0$'),\n",
    "        dict(xlabel='$x_1$', ylabel='$y_1$'),\n",
    "        dict(xlabel='$x_2$', ylabel='$y_2$'),\n",
    "        dict(xlabel='$x_3$', ylabel='$y_3$', ylim=(-5,5)),]\n",
    "\n",
    "vis = mvis.Plotter(2,2,fig_par=dict(figsize=(10,5)), axis_par=axp)\n",
    "\n",
    "vis.plot(1, xr0, yr0, c='C0', lw=2, ls = '--')\n",
    "vis.scatter(1, x0, y0, fc='C0', ec='k', alpha=0.75)\n",
    "\n",
    "vis.plot(2, xr1, yr1, c='C1', lw=2, ls = '--')\n",
    "vis.scatter(2, x1, y1, fc='C1', ec='k', alpha=0.75)\n",
    "\n",
    "vis.plot(3, xr2, yr2, c='C2', lw=2, ls = '--')\n",
    "vis.scatter(3, x2, y2, fc='C2', ec='k', alpha=0.75)\n",
    "\n",
    "vis.plot(4, xr3, yr3, c='C3', lw=2, ls = '--')\n",
    "vis.scatter(4, x3, y3, fc='C3', ec='dimgrey', alpha=0.75)\n",
    "\n",
    "vis.tight_layout()\n",
    "vis.grid()\n",
    "vis.show()"
   ]
  },
  {
   "cell_type": "markdown",
   "id": "cb83f02f-c69b-4087-92e4-38a3072c7c28",
   "metadata": {
    "nbgrader": {
     "grade": false,
     "grade_id": "cell-cb37860db092d422",
     "locked": true,
     "schema_version": 3,
     "solution": false,
     "task": false
    }
   },
   "source": [
    "# Apéndice A: Deducción del método.\n",
    "\n",
    "Dado el conjunto de datos:\n",
    "\n",
    "| $x_0$ | $x_1$ | $x_2$ | $\\dots$ | $x_N$ |\n",
    "|-----|-----|-----|---------|-----|\n",
    "| $y_0$ | $y_1$ | $y_2$ | $\\dots$ | $y_N$ |\n",
    "\n",
    "lo que en principio desearíamos es que se cumpliera que:\n",
    "\n",
    "$$y_i = m x_i + b \\;\\; \\text{para} \\;\\; i = 0, \\dots, N $$\n",
    "\n",
    "que es equivalente a \n",
    "\n",
    "$$0 = m x_i + b - y_i\\;\\; \\text{para} \\;\\; i = 0, \\dots, N, \\tag{A.1} $$\n",
    "\n",
    "\n",
    "Pero la ecuación $(A.1)$ no se cumple en general, de tal manera que lo que se pide es que las desviaciones de cada punto con respecto de la recta sean pequeñas. \n",
    "\n",
    "En el caso de este método, la desviación se define como la diferencia del valor $y_i$ con respecto de la recta elevada al cuadrado, es decir: $(m x_i + b - y_i)^2$. Y para calcular la desviación global se suman todas las diferencias, por lo que obtenemos:\n",
    "\n",
    "$$\n",
    "f(m,b) = \\sum_{i=1}^{N} (m x_i + b - y_i)^2\n",
    "$$\n",
    "\n",
    "Observa que del lado derecho hemos puesto $f(m,b)$ es decir, una función que depende de la pendiente $m$ y de la ordenada al origen $b$. \n",
    "\n",
    "El valor de la función $f$ (la desviación global) depende de $m$ y $b$; entonces para encontrar los valores de $m$ y $b$ más adecuados, debemos minimizar $f$ con respecto a esas variables.\n",
    "\n",
    "Recordando nuestras clases de cálculo, sabemos que para minimizar una función, debemos calcular su derivada, igualarla a cero y resolver para encontrar los puntos críticos (máximos y mínimos). En este caso, debemos derivar con respecto a $m$ y con respecto a $b$, y luego resolver un sistema de dos ecuaciones. Veamos como:\n",
    "\n",
    "$$\n",
    "\\begin{eqnarray}\n",
    "\\dfrac{\\partial f}{\\partial m} & = & \\dfrac{\\partial}{\\partial m} \\left(\\sum_{i=1}^{N} (m x_i + b - y_i)^2 \\right) = 2 \\sum_{i=1}^{N} x_i \\big(m x_i + b - y_i\\big) = 0 \\tag{A.2}\\\\\n",
    "\\dfrac{\\partial f}{\\partial b} & = & \\dfrac{\\partial}{\\partial b} \\left(\\sum_{i=1}^{N} (m x_i + b - y_i)^2 \\right) = 2\\sum_{i=1}^{N} \\big(m x_i + b - y_i\\big) = 0 \\tag{A.3}\\\\\n",
    "\\end{eqnarray}\n",
    "$$\n",
    "\n",
    "De la ecuación $(A.3)$ tenemos que:\n",
    "$$\n",
    "m \\sum_{i=1}^{N} x_i + \\sum_{i=1}^{N} b - \\sum_{i=1}^{N} y_i = 0\n",
    "$$\n",
    "\n",
    "y despejando $b$ obtenemos:\n",
    "$$\n",
    "b = \\underbrace{\\dfrac{1}{N}\\sum_{i=1}^{N} y_i}_{\\bar{y}} - m \\underbrace{\\dfrac{1}{N} \\sum_{i=1}^{N} x_i}_{\\bar{x}} = \\bar{y} - m \\bar{x} \\tag{A.4}\n",
    "$$\n",
    "\n",
    "Ahora sustituimos $(A.4)$ en $(A.2)$ y obtenemos:\n",
    "\n",
    "$$\n",
    "\\sum_{i=1}^{N} x_i \\big(m x_i + \\bar{y} - m \\bar{x} - y_i\\big) = 0\n",
    "$$\n",
    "\n",
    "Ahora despejamos $m$:\n",
    "\n",
    "$$\n",
    "m = \\dfrac{\\sum_{i=1}^{N} x_i(y_i - \\bar{y})}{\\sum_{i=1}^{N} x_i(x_i - \\bar{x})} \\tag{A.5}\n",
    "$$\n",
    "\n",
    "Las ecuaciones $(A.4)$ y $(A.5)$ proporcionan los valores de $m$ y $b$ de un punto crítico de la función $f(m,b)$. Falta demostrar que ese punto crítico es un mínimo. Para ello se deben calcular las derivadas segundas ($\\dfrac{\\partial}{\\partial^2 m}$, $\\dfrac{\\partial}{\\partial^2 b}$, $\\dfrac{\\partial}{\\partial m \\partial b}$) y ver que se cumplen los criterios necesarios."
   ]
  },
  {
   "cell_type": "markdown",
   "id": "4aac91e2-1fd8-4ade-b6f9-8a325cededa6",
   "metadata": {},
   "source": []
  },
  {
   "cell_type": "code",
   "execution_count": null,
   "id": "b451848d-095a-49c1-8480-87a08e97f783",
   "metadata": {},
   "outputs": [],
   "source": []
  }
 ],
 "metadata": {
  "kernelspec": {
   "display_name": "Python 3 (ipykernel)",
   "language": "python",
   "name": "python3"
  },
  "language_info": {
   "codemirror_mode": {
    "name": "ipython",
    "version": 3
   },
   "file_extension": ".py",
   "mimetype": "text/x-python",
   "name": "python",
   "nbconvert_exporter": "python",
   "pygments_lexer": "ipython3",
   "version": "3.11.6"
  }
 },
 "nbformat": 4,
 "nbformat_minor": 5
}
