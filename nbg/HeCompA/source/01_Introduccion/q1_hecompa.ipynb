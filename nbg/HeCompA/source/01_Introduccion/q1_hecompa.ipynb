{
 "cells": [
  {
   "cell_type": "markdown",
   "id": "3f8df543-8c91-4224-8df1-19c305daf800",
   "metadata": {
    "nbgrader": {
     "grade": false,
     "grade_id": "cell-5c76a2c56bc6a16a",
     "locked": true,
     "schema_version": 3,
     "solution": false,
     "task": false
    }
   },
   "source": [
    "# Examen 1.\n",
    "En este primer examen se evaluan los conceptos básicos de Python a través de la resolución de ejercicios que van de menos a más. Se revisan temas de:\n",
    "* Definición de variables.\n",
    "* Tipos de variables\n",
    "* Arreglos de numpy simples\n",
    "* Funciones.\n",
    "\n",
    " <p xmlns:cc=\"http://creativecommons.org/ns#\" xmlns:dct=\"http://purl.org/dc/terms/\">Examen 1 by <a rel=\"cc:attributionURL dct:creator\" property=\"cc:attributionName\" href=\"https://www.macti.unam.mx\">Luis M. de la Cruz</a> is licensed under <a href=\"http://creativecommons.org/licenses/by-sa/4.0/?ref=chooser-v1\" target=\"_blank\" rel=\"license noopener noreferrer\" style=\"display:inline-block;\">Attribution-ShareAlike 4.0 International<img style=\"height:22px!important;margin-left:3px;vertical-align:text-bottom;\" src=\"https://mirrors.creativecommons.org/presskit/icons/cc.svg?ref=chooser-v1\"><img style=\"height:22px!important;margin-left:3px;vertical-align:text-bottom;\" src=\"https://mirrors.creativecommons.org/presskit/icons/by.svg?ref=chooser-v1\"><img style=\"height:22px!important;margin-left:3px;vertical-align:text-bottom;\" src=\"https://mirrors.creativecommons.org/presskit/icons/sa.svg?ref=chooser-v1\"></a></p> "
   ]
  },
  {
   "cell_type": "code",
   "execution_count": 1,
   "id": "d52d10a2-226c-4288-b53e-701c9b5e76d8",
   "metadata": {},
   "outputs": [],
   "source": [
    "from macti.evaluation import *\n",
    "quizz = Quizz('q1', 'HeCompA')"
   ]
  },
  {
   "cell_type": "markdown",
   "id": "a3009778-1b05-4afb-91ef-ce0c78b57044",
   "metadata": {
    "nbgrader": {
     "grade": false,
     "grade_id": "cell-971546bb09dbdb5e",
     "locked": true,
     "schema_version": 3,
     "solution": false,
     "task": false
    }
   },
   "source": [
    "<div class=\"alert alert-success\">\n",
    "\n",
    "## **Ejercicio 1.**\n",
    "\n",
    "<font color=\"DarkBlue\">\n",
    "    \n",
    "En la siguiente celda de código, define las siguientes variables:\n",
    "\n",
    "```python\n",
    "k = 1000\n",
    "L = 0.5\n",
    "nombre = 'luis mi'\n",
    "```\n",
    "\n",
    "Luego contesta las siguientes tres preguntas.\n",
    "\n",
    "**Nota**: escribe tu respuesta entre comillas, por ejemplo: `respuesta = \"b\"`\n",
    "\n",
    "</font>\n",
    "</div>"
   ]
  },
  {
   "cell_type": "code",
   "execution_count": 2,
   "id": "f189587a-502d-411e-8baa-237bc78eeb19",
   "metadata": {
    "nbgrader": {
     "grade": false,
     "grade_id": "cell-431b5c90d7cb68fe",
     "locked": false,
     "schema_version": 3,
     "solution": true,
     "task": false
    }
   },
   "outputs": [],
   "source": [
    "# Define las varibles\n",
    "# k = ...\n",
    "### BEGIN SOLUTION\n",
    "\n",
    "### FileAnswer definition\n",
    "file_answer = FileAnswer() \n",
    "\n",
    "k = 1000\n",
    "L = 0.5\n",
    "nombre = 'luis mi'\n",
    "### END SOLUTION"
   ]
  },
  {
   "cell_type": "markdown",
   "id": "45e4a5a3-57fc-4787-8362-244dcc71af5a",
   "metadata": {
    "nbgrader": {
     "grade": false,
     "grade_id": "cell-5fceacd6d03ebb08",
     "locked": true,
     "schema_version": 3,
     "solution": false,
     "task": false
    }
   },
   "source": [
    "**1**. ¿De qué tipo es la variable `k`?\n",
    "\n",
    "    a. <class 'str'>\n",
    "    b. <class 'complex'>\n",
    "    c. <class 'float'>\n",
    "    d. <class 'list'>\n",
    "    e. <class 'int'>"
   ]
  },
  {
   "cell_type": "code",
   "execution_count": 3,
   "id": "e87d543c-d15b-4fa7-9de2-d97abf31309a",
   "metadata": {
    "nbgrader": {
     "grade": false,
     "grade_id": "cell-d46a8da5ef185b9f",
     "locked": false,
     "schema_version": 3,
     "solution": true,
     "task": false
    }
   },
   "outputs": [],
   "source": [
    "# respuesta = \"...\"\n",
    "### BEGIN SOLUTION\n",
    "respuesta = \"e\"\n",
    "file_answer.write('1', respuesta, 'Utiliza la función type(k) para revisar el tipo de la variable.')\n",
    "### END SOLUTION"
   ]
  },
  {
   "cell_type": "code",
   "execution_count": 4,
   "id": "aa30d179-cb1f-490a-bb05-3ea51fd9c1f0",
   "metadata": {
    "nbgrader": {
     "grade": true,
     "grade_id": "cell-07653e1c85baf400",
     "locked": true,
     "points": 1,
     "schema_version": 3,
     "solution": false,
     "task": false
    }
   },
   "outputs": [
    {
     "name": "stdout",
     "output_type": "stream",
     "text": [
      "\u001b[39m----------------------------------------\n",
      "\u001b[32mTu respuesta: \u001b[39me\u001b[32m, es correcta.\n",
      "\u001b[39m----------------------------------------\n"
     ]
    }
   ],
   "source": [
    "quizz.eval_option('1', respuesta)"
   ]
  },
  {
   "cell_type": "markdown",
   "id": "d926378c-3cfa-491f-8bf2-a57b6bfaadc0",
   "metadata": {
    "nbgrader": {
     "grade": false,
     "grade_id": "cell-cc922717e88b88db",
     "locked": true,
     "schema_version": 3,
     "solution": false,
     "task": false
    }
   },
   "source": [
    "**2**. ¿De qué tipo es la varible `L`?\n",
    "\n",
    "    a. <class 'str'>\n",
    "    b. <class 'complex'>\n",
    "    c. <class 'float'>\n",
    "    d. <class 'list'>\n",
    "    e. <class 'int'>"
   ]
  },
  {
   "cell_type": "code",
   "execution_count": 5,
   "id": "d952e302-bc26-4a34-a8c7-1d1a6b2c93b1",
   "metadata": {
    "nbgrader": {
     "grade": false,
     "grade_id": "cell-bf40f09e0d105690",
     "locked": false,
     "schema_version": 3,
     "solution": true,
     "task": false
    }
   },
   "outputs": [],
   "source": [
    "# respuesta = \"...\"\n",
    "### BEGIN SOLUTION\n",
    "respuesta = \"c\"\n",
    "file_answer.write('2', respuesta, 'Utiliza la función type(L) para revisar el tipo de la variable.')\n",
    "### END SOLUTION"
   ]
  },
  {
   "cell_type": "code",
   "execution_count": 6,
   "id": "e71a126a-f2eb-4cac-88e1-d1bbcd64fc87",
   "metadata": {
    "nbgrader": {
     "grade": true,
     "grade_id": "cell-2d122dde97be24a3",
     "locked": true,
     "points": 1,
     "schema_version": 3,
     "solution": false,
     "task": false
    }
   },
   "outputs": [
    {
     "name": "stdout",
     "output_type": "stream",
     "text": [
      "\u001b[39m----------------------------------------\n",
      "\u001b[32mTu respuesta: \u001b[39mc\u001b[32m, es correcta.\n",
      "\u001b[39m----------------------------------------\n"
     ]
    }
   ],
   "source": [
    "quizz.eval_option('2', respuesta)"
   ]
  },
  {
   "cell_type": "markdown",
   "id": "9eb5d312-e97f-4a29-9b13-817b82c639d7",
   "metadata": {
    "nbgrader": {
     "grade": false,
     "grade_id": "cell-ad2304f2a9f045e2",
     "locked": true,
     "schema_version": 3,
     "solution": false,
     "task": false
    }
   },
   "source": [
    "¿De qué tipo es la varible `nombre`?\n",
    "* <class 'str'>\n",
    "* <class 'complex'>\n",
    "* <class 'float'>\n",
    "* <class 'list'>\n",
    "* <class 'int'>"
   ]
  },
  {
   "cell_type": "code",
   "execution_count": 7,
   "id": "fef9971d-5bae-4f4a-9e5e-6a25577b1100",
   "metadata": {
    "nbgrader": {
     "grade": false,
     "grade_id": "cell-7463b46a97f6de6c",
     "locked": false,
     "schema_version": 3,
     "solution": true,
     "task": false
    }
   },
   "outputs": [],
   "source": [
    "# respuesta = \"...\"\n",
    "### BEGIN SOLUTION\n",
    "respuesta = \"a\"\n",
    "file_answer.write('3', respuesta, 'Utiliza la función type(nombre) para revisar el tipo de la variable.')\n",
    "### END SOLUTION"
   ]
  },
  {
   "cell_type": "code",
   "execution_count": 8,
   "id": "cc174387-7597-4045-9bfe-7daf50a90e10",
   "metadata": {
    "nbgrader": {
     "grade": true,
     "grade_id": "cell-9655488bc5686761",
     "locked": true,
     "points": 1,
     "schema_version": 3,
     "solution": false,
     "task": false
    }
   },
   "outputs": [
    {
     "name": "stdout",
     "output_type": "stream",
     "text": [
      "\u001b[39m----------------------------------------\n",
      "\u001b[32mTu respuesta: \u001b[39ma\u001b[32m, es correcta.\n",
      "\u001b[39m----------------------------------------\n"
     ]
    }
   ],
   "source": [
    "quizz.eval_option('3', respuesta)"
   ]
  },
  {
   "cell_type": "code",
   "execution_count": null,
   "id": "fd2e3ed6-b3ee-4c36-adc4-2c7450fddcfd",
   "metadata": {},
   "outputs": [],
   "source": []
  },
  {
   "cell_type": "markdown",
   "id": "0436c127-c44c-4f4b-99e0-a3280d145641",
   "metadata": {
    "nbgrader": {
     "grade": false,
     "grade_id": "cell-8866df282d4b041c",
     "locked": true,
     "schema_version": 3,
     "solution": false,
     "task": false
    }
   },
   "source": [
    "# El huevo cocido perfecto\n",
    "\n",
    "¿Cuál es el tiempo ideal para cocinar un huevo?\n",
    "\n",
    "<img src=\"./huevo_cocido.jpg\"  style=\"width: 300px;\"/>\n",
    "\n",
    "\n",
    "Para lograr un **huevo cocido** suave, la clara debe haberse calentado el tiempo suficiente para coagular a una temperatura superior a $63^oC$, pero la yema no debe calentarse por encima de $70^oC$. Para lograr un **huevo duro**, el centro de la yema debe de alcanzar los $70^oC$.\n",
    "\n",
    "## Fórmula para calcular el tiempo de cocción.\n",
    "La siguiente fórmula expresa el tiempo $t$, en segundos, que le toma a la yema alcanzar la temperatura $T_y$, en grados Celsius.\n",
    "\n",
    "$$t = \\dfrac{M^{2/3} c \\rho^{1/3}}{K \\pi^2 (4\\pi/3)^{2/3}} \\ln \\left[ 0.76 \\dfrac{T_o - T_w}{T_y - T_w}\\right] \\tag{1}$$\n",
    "\n",
    "donde las propiedades son:\n",
    "\n",
    "- $M$ masa; \n",
    "- $\\rho$ densidad; \n",
    "- $c$ capacidad calorífica específica; \n",
    "- $K$ conductividad térmica; \n",
    "- $T_w$ es la temperatura de ebullición del agua;\n",
    "- $T_o$ es la temperatura original del huevo antes de meterlo al agua;\n",
    "- $T_y$ es la temperatura que debe alcanzar la yema.\n",
    "\n",
    "**A Primer on Scientific Programming with Python**, Langtangen, H.P., ISBN 9783642183669, Texts in Computational Science and Engineering, https://books.google.com.co/books?id=Hi1KVomG148C, 2011, Springer Berlin Heidelberg."
   ]
  },
  {
   "cell_type": "markdown",
   "id": "e46016d0-8837-4cfe-b5a2-bdab96b3d01a",
   "metadata": {
    "nbgrader": {
     "grade": false,
     "grade_id": "cell-d8d845db72854733",
     "locked": true,
     "schema_version": 3,
     "solution": false,
     "task": false
    }
   },
   "source": [
    "<div class=\"alert alert-success\">\n",
    "\n",
    "## **Ejercicio 2.**\n",
    "\n",
    "<font color=\"DarkBlue\">\n",
    "Calcular el tiempo de cocción necesario para un huevo duro pequeño de $M$ = 47 g para cuando la temperatura inicial \n",
    "del huevo está a temperatura ambiente: $T_{o} = 20^oC$.\n",
    "\n",
    "**Datos**:\n",
    "- $M$ = 47 g \n",
    "- $\\rho$ = 1.038 g / cm$^3$\n",
    "- $c$ = 3.7 J / g K\n",
    "- $K$ = 5.4 $\\times 10^{-3}$ W / cm K\n",
    "- $T_w = 100^oC$\n",
    "- $T_y = 70^oC$\n",
    "  \n",
    "</font>\n",
    "</div>\n"
   ]
  },
  {
   "cell_type": "markdown",
   "id": "90aaee3f-b583-430e-9291-bfc9b851f6b3",
   "metadata": {
    "nbgrader": {
     "grade": false,
     "grade_id": "cell-260d05e60507f131",
     "locked": true,
     "schema_version": 3,
     "solution": false,
     "task": false
    }
   },
   "source": [
    "### Paso 1.\n",
    "Implementa $A = M^{2/3} c \\rho^{1/3}$\n",
    "\n",
    "**Nota**: para elevar un número a una potencia, $a^n$, podemos usar el operador `**` como sigue: `a**n` . Los números $a$ y $n$ pueden ser enteros o reales."
   ]
  },
  {
   "cell_type": "code",
   "execution_count": 9,
   "id": "d05b29a1-0742-49f0-b1f1-34104516902e",
   "metadata": {
    "nbgrader": {
     "grade": false,
     "grade_id": "cell-7cdce77da61e4868",
     "locked": false,
     "schema_version": 3,
     "solution": true,
     "task": false
    }
   },
   "outputs": [
    {
     "name": "stdout",
     "output_type": "stream",
     "text": [
      "48.790216719661984\n"
     ]
    }
   ],
   "source": [
    "# Define las variables y realiza el cálculo\n",
    "# M = ..\n",
    "# ...\n",
    "# A = math.pow(M,2/3) * ...\n",
    "\n",
    "### BEGIN SOLUTION\n",
    "# Definimos las variables\n",
    "M   = 47    # Masa\n",
    "rho = 1.038 # Densidad\n",
    "c   = 3.7   # Capacidad calorífica específica\n",
    "\n",
    "A = M**(2/3) * c * rho**(1/3)\n",
    "file_answer.write('4', A, 'Revisa la precedencia de operadores, en caso de duda utiliza () cuando sea necesario, particularmente al calcular potencias.')\n",
    "### END SOLUTION\n",
    "\n",
    "print(A)"
   ]
  },
  {
   "cell_type": "code",
   "execution_count": 10,
   "id": "6ea090c6-84fb-4a6d-8c33-632e7cf45974",
   "metadata": {
    "nbgrader": {
     "grade": true,
     "grade_id": "cell-0216e6edf1575aa0",
     "locked": true,
     "points": 2,
     "schema_version": 3,
     "solution": false,
     "task": false
    }
   },
   "outputs": [
    {
     "name": "stdout",
     "output_type": "stream",
     "text": [
      "\u001b[39m----------------------------------------\n",
      "\u001b[32mTu resultado es correcto.\n",
      "\u001b[39m----------------------------------------\n"
     ]
    }
   ],
   "source": [
    "quizz.eval_numeric('4', A)"
   ]
  },
  {
   "cell_type": "markdown",
   "id": "a8c143c9-1ed3-4ef4-8619-5195da31b7e8",
   "metadata": {
    "nbgrader": {
     "grade": false,
     "grade_id": "cell-9a28e1da5eb326c5",
     "locked": true,
     "schema_version": 3,
     "solution": false,
     "task": false
    }
   },
   "source": [
    "### Paso 2.\n",
    "Implementa $B = K \\pi^2 (4\\pi/3)^{2/3}$\n",
    "\n",
    "**Nota**: puedes obtener el valor de $\\pi$ de la biblioteca `math` como sigue:\n",
    "`from math import pi`."
   ]
  },
  {
   "cell_type": "code",
   "execution_count": 11,
   "id": "d43d8c94-8cd4-4757-be77-50c218797128",
   "metadata": {
    "nbgrader": {
     "grade": false,
     "grade_id": "cell-58536a22ef552cf2",
     "locked": false,
     "schema_version": 3,
     "solution": true,
     "task": false
    }
   },
   "outputs": [
    {
     "name": "stdout",
     "output_type": "stream",
     "text": [
      "0.13849026450902358\n"
     ]
    }
   ],
   "source": [
    "### BEGIN SOLUTION\n",
    "from math import pi\n",
    "\n",
    "# Definimos las variables\n",
    "K = 5.4e-3  # Conductividad térmica\n",
    "\n",
    "B = K * pi**2 * (4 * pi / 3)**(2/3)\n",
    "file_answer.write('5', B, 'Revisa la precedencia de operadores, en caso de duda utiliza () cuando sea necesario, particularmente al calcular potencias.')\n",
    "### END SOLUTION\n",
    "print(B)"
   ]
  },
  {
   "cell_type": "code",
   "execution_count": 12,
   "id": "47b8206a-6a62-4c27-96e3-bd627fe7a0e3",
   "metadata": {
    "nbgrader": {
     "grade": true,
     "grade_id": "cell-f0d238e66ca2e758",
     "locked": true,
     "points": 2,
     "schema_version": 3,
     "solution": false,
     "task": false
    }
   },
   "outputs": [
    {
     "name": "stdout",
     "output_type": "stream",
     "text": [
      "\u001b[39m----------------------------------------\n",
      "\u001b[32mTu resultado es correcto.\n",
      "\u001b[39m----------------------------------------\n"
     ]
    }
   ],
   "source": [
    "quizz.eval_numeric('5', B)"
   ]
  },
  {
   "cell_type": "markdown",
   "id": "73cd7f8d-f1de-4de7-a925-4a2a23dc68e6",
   "metadata": {
    "nbgrader": {
     "grade": false,
     "grade_id": "cell-5584a80703036d53",
     "locked": true,
     "schema_version": 3,
     "solution": false,
     "task": false
    }
   },
   "source": [
    "### Paso 3.\n",
    "Implementa $C = \\ln \\left[ 0.76 \\dfrac{T_o - T_w}{T_y - T_w}\\right]$\n",
    "\n",
    "**Nota**: en este caso se requiere de la función logaritmo natural, la cual puede ser obtenida del módulo `math` como sigue: `from math import log as ln`"
   ]
  },
  {
   "cell_type": "code",
   "execution_count": 13,
   "id": "9e11f0f0-c098-413c-8837-85c68b26e9f5",
   "metadata": {
    "nbgrader": {
     "grade": false,
     "grade_id": "cell-9b74fbc84a88a25c",
     "locked": false,
     "schema_version": 3,
     "solution": true,
     "task": false
    }
   },
   "outputs": [
    {
     "name": "stdout",
     "output_type": "stream",
     "text": [
      "0.7063924073099658\n"
     ]
    }
   ],
   "source": [
    "### BEGIN SOLUTION\n",
    "from math import log as ln\n",
    "\n",
    "# Definimos las variables\n",
    "To = 20  # Temperatura inicial del huevo\n",
    "Tw = 100 # Temperatura de ebullición del agua\n",
    "Ty = 70  # Temperatura que debe alcanzar la yema\n",
    "\n",
    "C = ln(0.76 * (To - Tw) / (Ty - Tw))\n",
    "file_answer.write('6', C, 'Revisa la precedencia de operadores, en caso de duda utiliza () cuando sea necesario.')\n",
    "### END SOLUTION\n",
    "print(C)"
   ]
  },
  {
   "cell_type": "code",
   "execution_count": 14,
   "id": "4dedb909-b823-4090-88b3-42bc3cae0bf8",
   "metadata": {
    "nbgrader": {
     "grade": true,
     "grade_id": "cell-682c8b1db2a6d509",
     "locked": true,
     "points": 2,
     "schema_version": 3,
     "solution": false,
     "task": false
    }
   },
   "outputs": [
    {
     "name": "stdout",
     "output_type": "stream",
     "text": [
      "\u001b[39m----------------------------------------\n",
      "\u001b[32mTu resultado es correcto.\n",
      "\u001b[39m----------------------------------------\n"
     ]
    }
   ],
   "source": [
    "quizz.eval_numeric('6', C)"
   ]
  },
  {
   "cell_type": "markdown",
   "id": "67c52156-514c-4785-b2ae-2886a4d6b1fc",
   "metadata": {
    "nbgrader": {
     "grade": false,
     "grade_id": "cell-3e71446ea2d677c2",
     "locked": true,
     "schema_version": 3,
     "solution": false,
     "task": false
    }
   },
   "source": [
    "### Paso 4.\n",
    "Implementa el cálculo final: $t = \\dfrac{A}{B} * C$. "
   ]
  },
  {
   "cell_type": "code",
   "execution_count": 15,
   "id": "0e4b5ff2-d68f-4177-91b7-28806974f422",
   "metadata": {
    "nbgrader": {
     "grade": false,
     "grade_id": "cell-6a1431104ec6fb61",
     "locked": false,
     "schema_version": 3,
     "solution": true,
     "task": false
    }
   },
   "outputs": [
    {
     "name": "stdout",
     "output_type": "stream",
     "text": [
      "248.86253747844736\n"
     ]
    }
   ],
   "source": [
    "### BEGIN SOLUTION\n",
    "t = A / B * C\n",
    "file_answer.write('7', t, 'Revisa que todos los cálculos anteriores se hayan realizado correctamente.')\n",
    "### END SOLUTION\n",
    "print(t)"
   ]
  },
  {
   "cell_type": "code",
   "execution_count": 16,
   "id": "3ea4f42b-cee9-4604-a7a2-23857622adad",
   "metadata": {
    "nbgrader": {
     "grade": true,
     "grade_id": "cell-f52362bfea946d21",
     "locked": true,
     "points": 2,
     "schema_version": 3,
     "solution": false,
     "task": false
    }
   },
   "outputs": [
    {
     "name": "stdout",
     "output_type": "stream",
     "text": [
      "\u001b[39m----------------------------------------\n",
      "\u001b[32mTu resultado es correcto.\n",
      "\u001b[39m----------------------------------------\n"
     ]
    }
   ],
   "source": [
    "quizz.eval_numeric('7', t)"
   ]
  },
  {
   "cell_type": "markdown",
   "id": "150e1df8-a34d-4fbb-aa8d-e6b6a8b6ae52",
   "metadata": {
    "nbgrader": {
     "grade": false,
     "grade_id": "cell-8c2cf0599d0f9dd3",
     "locked": true,
     "schema_version": 3,
     "solution": false,
     "task": false
    }
   },
   "source": [
    "<div class=\"alert alert-success\">\n",
    "\n",
    "## **Ejercicio 3.**\n",
    "\n",
    "<font color=\"DarkBlue\">\n",
    "Implementa la fórmula $(1)$ en una sola línea y realiza el cálculo para el mismo huevo pero para una temperatura: $T_{o} = 4^oC$ (acabado de sacar del refri).\n",
    "\n",
    "</font>\n",
    "\n",
    "</div>\n"
   ]
  },
  {
   "cell_type": "code",
   "execution_count": 17,
   "id": "cb37d801-e9e3-4989-bce4-87b6121d1976",
   "metadata": {
    "nbgrader": {
     "grade": false,
     "grade_id": "cell-c06ab427ea8ccdf2",
     "locked": false,
     "schema_version": 3,
     "solution": true,
     "task": false
    }
   },
   "outputs": [
    {
     "name": "stdout",
     "output_type": "stream",
     "text": [
      "313.09454902221637\n"
     ]
    }
   ],
   "source": [
    "### BEGIN SOLUTION\n",
    "# Definimos las variables\n",
    "To = 4  # Temperatura inicial del huevo\n",
    "t = M**(2/3) * c * rho**(1/3) / ( K * pi**2 * (4 * pi / 3)**(2/3) ) * ln(0.76 * (To - Tw) / (Ty - Tw))\n",
    "file_answer.write('8', t, 'Revisa la precedencia de operadores, en caso de duda utiliza () cuando sea necesario, particularmente al calcular potencias.')\n",
    "### END SOLUTION\n",
    "\n",
    "print(t)"
   ]
  },
  {
   "cell_type": "code",
   "execution_count": 18,
   "id": "ebc92605-e1d3-4121-b3a8-463e376758f2",
   "metadata": {
    "nbgrader": {
     "grade": true,
     "grade_id": "cell-1e1039ea3c722ee9",
     "locked": true,
     "points": 3,
     "schema_version": 3,
     "solution": false,
     "task": false
    }
   },
   "outputs": [
    {
     "name": "stdout",
     "output_type": "stream",
     "text": [
      "\u001b[39m----------------------------------------\n",
      "\u001b[32mTu resultado es correcto.\n",
      "\u001b[39m----------------------------------------\n"
     ]
    }
   ],
   "source": [
    "quizz.eval_numeric('8', t)"
   ]
  },
  {
   "cell_type": "markdown",
   "id": "00d71608-858d-4cdd-b500-145b2b50b28c",
   "metadata": {
    "nbgrader": {
     "grade": false,
     "grade_id": "cell-e17f5071ff2d6cf2",
     "locked": true,
     "schema_version": 3,
     "solution": false,
     "task": false
    }
   },
   "source": [
    "<div class=\"alert alert-success\">\n",
    "\n",
    "## **Ejercicio 4.**\n",
    "\n",
    "<font color=\"DarkBlue\">\n",
    "Implementa una función de Python que reciba como argumentos todos los valores que necesita la fórmula $(1)$ y que regrese como resultado el tiempo de cocción del huevo. \n",
    "    \n",
    "Firma de la función:\n",
    "\n",
    "`def calc_tiempo(M, To, c, rho, K, Tw, Ty):`\n",
    "\n",
    "Ejecuta la función como sigue:\n",
    "\n",
    "```python\n",
    "To = 20\n",
    "t1 = calc_tiempo(M, To, c, rho, K, Tw, Ty)\n",
    "\n",
    "To = 4\n",
    "t2 = calc_tiempo(M, To, c, rho, K, Tw, Ty)\n",
    "\n",
    "print(t1, t2)\n",
    "```\n",
    "\n",
    "</font>\n",
    "</div>"
   ]
  },
  {
   "cell_type": "code",
   "execution_count": 19,
   "id": "36276317-127e-4af0-bffc-beccb79614cb",
   "metadata": {
    "nbgrader": {
     "grade": false,
     "grade_id": "cell-a4dbd8ecd24c3df9",
     "locked": false,
     "schema_version": 3,
     "solution": true,
     "task": false
    }
   },
   "outputs": [
    {
     "name": "stdout",
     "output_type": "stream",
     "text": [
      "248.86253747844736 313.09454902221637\n"
     ]
    }
   ],
   "source": [
    "### BEGIN SOLUTION\n",
    "def calc_tiempo(M, To, c, rho, K, Tw, Ty):\n",
    "    return M**(2/3) * c * rho**(1/3) / ( K * pi**2 * (4 * pi / 3)**(2/3) ) * ln(0.76 * (To - Tw) / (Ty - Tw))\n",
    "\n",
    "To = 20\n",
    "t1 = calc_tiempo(M, To, c, rho, K, Tw, Ty)\n",
    "\n",
    "To = 4\n",
    "t2 = calc_tiempo(M, To, c, rho, K, Tw, Ty)\n",
    "file_answer.write('9', [t1, t2], 'Copia correctamente el cálculo de la fórmula, del ejercicio anterior. Revisa como se debe regresar un valor calculado en un función.')\n",
    "### END SOLUTION\n",
    "\n",
    "print(t1, t2)\n"
   ]
  },
  {
   "cell_type": "code",
   "execution_count": 20,
   "id": "62c4ee76-23e2-4dff-bf8b-8b244ecd24fd",
   "metadata": {
    "nbgrader": {
     "grade": true,
     "grade_id": "cell-71fe6858fc550edd",
     "locked": true,
     "points": 3,
     "schema_version": 3,
     "solution": false,
     "task": false
    }
   },
   "outputs": [
    {
     "name": "stdout",
     "output_type": "stream",
     "text": [
      "\u001b[39m----------------------------------------\n",
      "\u001b[32mTu resultado es correcto.\n",
      "\u001b[39m----------------------------------------\n"
     ]
    }
   ],
   "source": [
    "quizz.eval_numeric('9', [t1, t2])"
   ]
  },
  {
   "cell_type": "markdown",
   "id": "25dc5b3c-82f8-498a-a1c3-1f805076682b",
   "metadata": {
    "editable": true,
    "nbgrader": {
     "grade": false,
     "grade_id": "cell-46c0e5c67fb94eba",
     "locked": true,
     "schema_version": 3,
     "solution": false,
     "task": false
    },
    "slideshow": {
     "slide_type": ""
    },
    "tags": []
   },
   "source": [
    "<div class=\"alert alert-success\">\n",
    "\n",
    "## **Ejercicio 5.**\n",
    "\n",
    "<font color=\"DarkBlue\">\n",
    "\n",
    "Realiza lo siguiente:\n",
    "* Crea la función `calc_tiempo_np()` copiando el código completo de la función `calc_tiempo()`.\n",
    "* En la nueva función `calc_tiempo_np()` modifica la parte del $\\ln()$ para que se calcule usando la función `np.log()` de la biblioteca `numpy`.\n",
    "* Posteriormente, usando `numpy`, crea el arreglo `Tol` con 9 valores de temperaturas en el intervalo $[4^o C, 20^o C]$, el arreglo debe contener los valores: `[ 4.,  6.,  8., 10., 12., 14., 16., 18., 20.]`. \n",
    "* Ejecuta la función como sigue: `tl = calc_tiempo_np(...)` pasando el arreglo `Tol`, el resultado debe ser un arreglo de 9 tiempos de cocción para cada una de las temperaturas del arreglo `Tol`, y debe contener algo similar a lo siguiente: `[313.09454902 305.67741829 ... 248.86253748]`\n",
    "\n",
    "**Nota**: en este caso, cálculo de $\\dfrac{T_o - T_w}{T_y - T_w}$ se hará con arreglos de `numpy`, por esta razón, tanto $T_w$ como $T_y$ también deben ser arreglos al momento de ejecutar la función `calc_tiempo_np()`.\n",
    "\n",
    "**Hint**: define también los arreglos `Twl` y `Tyl` del mimso tamaño que `Tol` y úsalos cuando ejecutes la función `calc_tiempo_np()`.\n",
    "\n",
    "</font>\n",
    "</div>"
   ]
  },
  {
   "cell_type": "code",
   "execution_count": 21,
   "id": "7b59b53d-0a92-4ac4-acc0-935697226154",
   "metadata": {
    "nbgrader": {
     "grade": false,
     "grade_id": "cell-0aa9f5d5d1a30a51",
     "locked": false,
     "schema_version": 3,
     "solution": true,
     "task": false
    }
   },
   "outputs": [
    {
     "name": "stdout",
     "output_type": "stream",
     "text": [
      "El directorio :/home/jovyan/HeCompA/.ans/01_Introduccion/ ya existe\n",
      "Respuestas y retroalimentación almacenadas.\n",
      "[ 4.  6.  8. 10. 12. 14. 16. 18. 20.]\n",
      "[313.09454902 305.67741829 298.1007672  290.35758304 282.44038026\n",
      " 274.34115696 266.05134632 257.56176211 248.86253748]\n"
     ]
    }
   ],
   "source": [
    "### BEGIN SOLUTION\n",
    "import numpy as np\n",
    "\n",
    "def calc_tiempo(M, To, c, rho, K, Tw, Ty):\n",
    "    return M**(2/3) * c * rho**(1/3) / ( K * pi**2 * (4 * pi / 3)**(2/3) ) * np.log(0.76 * (To - Tw) / (Ty - Tw))\n",
    "\n",
    "Tol = np.linspace(4,20,9)\n",
    "Twl = np.ones(9) * Tw\n",
    "Tyl = np.ones(9) * Ty\n",
    "\n",
    "tl = calc_tiempo(M, Tol, c, rho, K, Twl, Tyl)\n",
    "file_answer.write('10', tl, 'Revisa con cuidado la descripción del ejercicio, así como la Nota y el Hint.')\n",
    "file_answer.to_file('q1')\n",
    "### END SOLUTION\n",
    "print(Tol)\n",
    "print(tl)"
   ]
  },
  {
   "cell_type": "code",
   "execution_count": 22,
   "id": "1d536d17-e7b9-4c9c-8b53-b4d38a80ad90",
   "metadata": {
    "nbgrader": {
     "grade": true,
     "grade_id": "cell-d6acabf95a4bd9e1",
     "locked": true,
     "points": 3,
     "schema_version": 3,
     "solution": false,
     "task": false
    }
   },
   "outputs": [
    {
     "name": "stdout",
     "output_type": "stream",
     "text": [
      "\u001b[39m----------------------------------------\n",
      "\u001b[32mTu resultado es correcto.\n",
      "\u001b[39m----------------------------------------\n"
     ]
    }
   ],
   "source": [
    "quizz.eval_numeric('10', tl)"
   ]
  },
  {
   "cell_type": "code",
   "execution_count": null,
   "id": "31da79ba-3175-41eb-a775-30b0e7eb3545",
   "metadata": {},
   "outputs": [],
   "source": []
  }
 ],
 "metadata": {
  "kernelspec": {
   "display_name": "Python 3 (ipykernel)",
   "language": "python",
   "name": "python3"
  },
  "language_info": {
   "codemirror_mode": {
    "name": "ipython",
    "version": 3
   },
   "file_extension": ".py",
   "mimetype": "text/x-python",
   "name": "python",
   "nbconvert_exporter": "python",
   "pygments_lexer": "ipython3",
   "version": "3.11.6"
  },
  "toc": {
   "base_numbering": 0
  }
 },
 "nbformat": 4,
 "nbformat_minor": 5
}
