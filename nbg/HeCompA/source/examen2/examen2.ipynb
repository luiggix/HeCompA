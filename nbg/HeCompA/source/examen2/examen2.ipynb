{
 "cells": [
  {
   "cell_type": "markdown",
   "id": "1c5b8ffa-4790-4d04-86c4-83f49acdb224",
   "metadata": {
    "nbgrader": {
     "grade": false,
     "grade_id": "cell-acf7b401f20cc7e7",
     "locked": true,
     "schema_version": 3,
     "solution": false,
     "task": false
    }
   },
   "source": [
    "# Examen 2.\n",
    "En este segundo examen se evalúa:\n",
    "* Mínimos cuadrados\n",
    "* Método de Euler.\n",
    "\n",
    " <p xmlns:cc=\"http://creativecommons.org/ns#\" xmlns:dct=\"http://purl.org/dc/terms/\">Examen 2 by <a rel=\"cc:attributionURL dct:creator\" property=\"cc:attributionName\" href=\"https://www.macti.unam.mx\">Luis M. de la Cruz</a> is licensed under <a href=\"http://creativecommons.org/licenses/by-sa/4.0/?ref=chooser-v1\" target=\"_blank\" rel=\"license noopener noreferrer\" style=\"display:inline-block;\">Attribution-ShareAlike 4.0 International<img style=\"height:22px!important;margin-left:3px;vertical-align:text-bottom;\" src=\"https://mirrors.creativecommons.org/presskit/icons/cc.svg?ref=chooser-v1\"><img style=\"height:22px!important;margin-left:3px;vertical-align:text-bottom;\" src=\"https://mirrors.creativecommons.org/presskit/icons/by.svg?ref=chooser-v1\"><img style=\"height:22px!important;margin-left:3px;vertical-align:text-bottom;\" src=\"https://mirrors.creativecommons.org/presskit/icons/sa.svg?ref=chooser-v1\"></a></p> "
   ]
  },
  {
   "cell_type": "code",
   "execution_count": 2,
   "id": "25713880-48d8-45cf-8ac5-91f4bef0359a",
   "metadata": {},
   "outputs": [],
   "source": [
    "import pandas as pd\n",
    "import numpy as np\n",
    "import matplotlib.pyplot as plt\n",
    "from macti.evaluation import *\n",
    "quizz = Quizz('q5', 'HeCompA')"
   ]
  },
  {
   "cell_type": "markdown",
   "id": "aae08829-e344-4b4b-9aa6-7bcb07c2cc5b",
   "metadata": {
    "nbgrader": {
     "grade": false,
     "grade_id": "cell-f1b4823a56fdeb70",
     "locked": true,
     "schema_version": 3,
     "solution": false,
     "task": false
    }
   },
   "source": [
    "# Parte I: Mínimos cuadrados\n",
    "\n",
    "Para esta primera parte utilizaremos un conjunto de datos que contiene la emisión de CO2 de diferentes tipos de automóviles. Las variables características independientes son VOLUMEN y PESO. \n",
    "\n",
    "Fuente: https://www.kaggle.com/datasets/midhundasl/co2-emission-of-cars-dataset"
   ]
  },
  {
   "cell_type": "markdown",
   "id": "f899ba49-e187-4a7e-8e2a-26b128d5fed7",
   "metadata": {
    "nbgrader": {
     "grade": false,
     "grade_id": "cell-39d103a0a3113edc",
     "locked": true,
     "schema_version": 3,
     "solution": false,
     "task": false
    }
   },
   "source": [
    "<div class=\"alert alert-success\">\n",
    "\n",
    "## Ejercicio 1. Lectura del archivo de datos.\n",
    "\n",
    "<font color=\"DarkBlue\">\n",
    "\n",
    "* El archivo que contiene los datos tiene el nombre `DATA.csv`. \n",
    "\n",
    "* Usando la función `pd.read_csv()` de la biblioteca Pandas, leer los datos en un DataFrame cuyo nombre sea `data`.\n",
    "\n",
    "* Una vez completado el código de la celda siguiente deberías ver algo similar a:\n",
    "\n",
    "<img src=\"examen01.png\" width=400px>\n",
    "\n",
    "**Hint**:\n",
    "```python\n",
    "data = pd.read_csv(...)\n",
    "```\n",
    "\n",
    "</font>\n",
    "</div>"
   ]
  },
  {
   "cell_type": "code",
   "execution_count": 3,
   "id": "92bd3ccc-e0c4-433f-8395-2797dcb7b2b0",
   "metadata": {
    "nbgrader": {
     "grade": false,
     "grade_id": "cell-1f08c6606cc6b0d4",
     "locked": false,
     "schema_version": 3,
     "solution": true,
     "task": false
    }
   },
   "outputs": [
    {
     "data": {
      "text/html": [
       "<div>\n",
       "<style scoped>\n",
       "    .dataframe tbody tr th:only-of-type {\n",
       "        vertical-align: middle;\n",
       "    }\n",
       "\n",
       "    .dataframe tbody tr th {\n",
       "        vertical-align: top;\n",
       "    }\n",
       "\n",
       "    .dataframe thead th {\n",
       "        text-align: right;\n",
       "    }\n",
       "</style>\n",
       "<table border=\"1\" class=\"dataframe\">\n",
       "  <thead>\n",
       "    <tr style=\"text-align: right;\">\n",
       "      <th></th>\n",
       "      <th>Car</th>\n",
       "      <th>Model</th>\n",
       "      <th>Volume</th>\n",
       "      <th>Weight</th>\n",
       "      <th>CO2</th>\n",
       "      <th>Unnamed: 5</th>\n",
       "    </tr>\n",
       "  </thead>\n",
       "  <tbody>\n",
       "    <tr>\n",
       "      <th>0</th>\n",
       "      <td>Toyota</td>\n",
       "      <td>Aygo</td>\n",
       "      <td>1000</td>\n",
       "      <td>790</td>\n",
       "      <td>99</td>\n",
       "      <td>NaN</td>\n",
       "    </tr>\n",
       "    <tr>\n",
       "      <th>1</th>\n",
       "      <td>Mitsubishi</td>\n",
       "      <td>Space Star</td>\n",
       "      <td>1200</td>\n",
       "      <td>1160</td>\n",
       "      <td>95</td>\n",
       "      <td>NaN</td>\n",
       "    </tr>\n",
       "    <tr>\n",
       "      <th>2</th>\n",
       "      <td>Skoda</td>\n",
       "      <td>Citigo</td>\n",
       "      <td>1000</td>\n",
       "      <td>929</td>\n",
       "      <td>95</td>\n",
       "      <td>NaN</td>\n",
       "    </tr>\n",
       "    <tr>\n",
       "      <th>3</th>\n",
       "      <td>Fiat</td>\n",
       "      <td>500</td>\n",
       "      <td>900</td>\n",
       "      <td>865</td>\n",
       "      <td>90</td>\n",
       "      <td>NaN</td>\n",
       "    </tr>\n",
       "    <tr>\n",
       "      <th>4</th>\n",
       "      <td>Mini</td>\n",
       "      <td>Cooper</td>\n",
       "      <td>1500</td>\n",
       "      <td>1140</td>\n",
       "      <td>105</td>\n",
       "      <td>NaN</td>\n",
       "    </tr>\n",
       "    <tr>\n",
       "      <th>5</th>\n",
       "      <td>VW</td>\n",
       "      <td>Up!</td>\n",
       "      <td>1000</td>\n",
       "      <td>929</td>\n",
       "      <td>105</td>\n",
       "      <td>NaN</td>\n",
       "    </tr>\n",
       "    <tr>\n",
       "      <th>6</th>\n",
       "      <td>Skoda</td>\n",
       "      <td>Fabia</td>\n",
       "      <td>1400</td>\n",
       "      <td>1109</td>\n",
       "      <td>90</td>\n",
       "      <td>NaN</td>\n",
       "    </tr>\n",
       "    <tr>\n",
       "      <th>7</th>\n",
       "      <td>Mercedes</td>\n",
       "      <td>A-Class</td>\n",
       "      <td>1500</td>\n",
       "      <td>1365</td>\n",
       "      <td>92</td>\n",
       "      <td>NaN</td>\n",
       "    </tr>\n",
       "    <tr>\n",
       "      <th>8</th>\n",
       "      <td>Ford</td>\n",
       "      <td>Fiesta</td>\n",
       "      <td>1500</td>\n",
       "      <td>1112</td>\n",
       "      <td>98</td>\n",
       "      <td>NaN</td>\n",
       "    </tr>\n",
       "    <tr>\n",
       "      <th>9</th>\n",
       "      <td>Audi</td>\n",
       "      <td>A1</td>\n",
       "      <td>1600</td>\n",
       "      <td>1150</td>\n",
       "      <td>99</td>\n",
       "      <td>NaN</td>\n",
       "    </tr>\n",
       "    <tr>\n",
       "      <th>10</th>\n",
       "      <td>Hyundai</td>\n",
       "      <td>I20</td>\n",
       "      <td>1100</td>\n",
       "      <td>980</td>\n",
       "      <td>99</td>\n",
       "      <td>NaN</td>\n",
       "    </tr>\n",
       "    <tr>\n",
       "      <th>11</th>\n",
       "      <td>Suzuki</td>\n",
       "      <td>Swift</td>\n",
       "      <td>1300</td>\n",
       "      <td>990</td>\n",
       "      <td>101</td>\n",
       "      <td>NaN</td>\n",
       "    </tr>\n",
       "    <tr>\n",
       "      <th>12</th>\n",
       "      <td>Ford</td>\n",
       "      <td>Fiesta</td>\n",
       "      <td>1000</td>\n",
       "      <td>1112</td>\n",
       "      <td>99</td>\n",
       "      <td>NaN</td>\n",
       "    </tr>\n",
       "    <tr>\n",
       "      <th>13</th>\n",
       "      <td>Honda</td>\n",
       "      <td>Civic</td>\n",
       "      <td>1600</td>\n",
       "      <td>1252</td>\n",
       "      <td>94</td>\n",
       "      <td>NaN</td>\n",
       "    </tr>\n",
       "    <tr>\n",
       "      <th>14</th>\n",
       "      <td>Hundai</td>\n",
       "      <td>I30</td>\n",
       "      <td>1600</td>\n",
       "      <td>1326</td>\n",
       "      <td>97</td>\n",
       "      <td>NaN</td>\n",
       "    </tr>\n",
       "    <tr>\n",
       "      <th>15</th>\n",
       "      <td>Opel</td>\n",
       "      <td>Astra</td>\n",
       "      <td>1600</td>\n",
       "      <td>1330</td>\n",
       "      <td>97</td>\n",
       "      <td>NaN</td>\n",
       "    </tr>\n",
       "    <tr>\n",
       "      <th>16</th>\n",
       "      <td>BMW</td>\n",
       "      <td>1</td>\n",
       "      <td>1600</td>\n",
       "      <td>1365</td>\n",
       "      <td>99</td>\n",
       "      <td>NaN</td>\n",
       "    </tr>\n",
       "    <tr>\n",
       "      <th>17</th>\n",
       "      <td>Mazda</td>\n",
       "      <td>3</td>\n",
       "      <td>2200</td>\n",
       "      <td>1280</td>\n",
       "      <td>104</td>\n",
       "      <td>NaN</td>\n",
       "    </tr>\n",
       "    <tr>\n",
       "      <th>18</th>\n",
       "      <td>Skoda</td>\n",
       "      <td>Rapid</td>\n",
       "      <td>1600</td>\n",
       "      <td>1119</td>\n",
       "      <td>104</td>\n",
       "      <td>NaN</td>\n",
       "    </tr>\n",
       "    <tr>\n",
       "      <th>19</th>\n",
       "      <td>Ford</td>\n",
       "      <td>Focus</td>\n",
       "      <td>2000</td>\n",
       "      <td>1328</td>\n",
       "      <td>105</td>\n",
       "      <td>NaN</td>\n",
       "    </tr>\n",
       "    <tr>\n",
       "      <th>20</th>\n",
       "      <td>Ford</td>\n",
       "      <td>Mondeo</td>\n",
       "      <td>1600</td>\n",
       "      <td>1584</td>\n",
       "      <td>94</td>\n",
       "      <td>NaN</td>\n",
       "    </tr>\n",
       "    <tr>\n",
       "      <th>21</th>\n",
       "      <td>Opel</td>\n",
       "      <td>Insignia</td>\n",
       "      <td>2000</td>\n",
       "      <td>1428</td>\n",
       "      <td>99</td>\n",
       "      <td>NaN</td>\n",
       "    </tr>\n",
       "    <tr>\n",
       "      <th>22</th>\n",
       "      <td>Mercedes</td>\n",
       "      <td>C-Class</td>\n",
       "      <td>2100</td>\n",
       "      <td>1365</td>\n",
       "      <td>99</td>\n",
       "      <td>NaN</td>\n",
       "    </tr>\n",
       "    <tr>\n",
       "      <th>23</th>\n",
       "      <td>Skoda</td>\n",
       "      <td>Octavia</td>\n",
       "      <td>1600</td>\n",
       "      <td>1415</td>\n",
       "      <td>99</td>\n",
       "      <td>NaN</td>\n",
       "    </tr>\n",
       "    <tr>\n",
       "      <th>24</th>\n",
       "      <td>Volvo</td>\n",
       "      <td>S60</td>\n",
       "      <td>2000</td>\n",
       "      <td>1415</td>\n",
       "      <td>99</td>\n",
       "      <td>NaN</td>\n",
       "    </tr>\n",
       "    <tr>\n",
       "      <th>25</th>\n",
       "      <td>Mercedes</td>\n",
       "      <td>CLA</td>\n",
       "      <td>1500</td>\n",
       "      <td>1465</td>\n",
       "      <td>102</td>\n",
       "      <td>NaN</td>\n",
       "    </tr>\n",
       "    <tr>\n",
       "      <th>26</th>\n",
       "      <td>Audi</td>\n",
       "      <td>A4</td>\n",
       "      <td>2000</td>\n",
       "      <td>1490</td>\n",
       "      <td>104</td>\n",
       "      <td>NaN</td>\n",
       "    </tr>\n",
       "    <tr>\n",
       "      <th>27</th>\n",
       "      <td>Audi</td>\n",
       "      <td>A6</td>\n",
       "      <td>2000</td>\n",
       "      <td>1725</td>\n",
       "      <td>114</td>\n",
       "      <td>NaN</td>\n",
       "    </tr>\n",
       "    <tr>\n",
       "      <th>28</th>\n",
       "      <td>Volvo</td>\n",
       "      <td>V70</td>\n",
       "      <td>1600</td>\n",
       "      <td>1523</td>\n",
       "      <td>109</td>\n",
       "      <td>NaN</td>\n",
       "    </tr>\n",
       "    <tr>\n",
       "      <th>29</th>\n",
       "      <td>BMW</td>\n",
       "      <td>5</td>\n",
       "      <td>2000</td>\n",
       "      <td>1705</td>\n",
       "      <td>114</td>\n",
       "      <td>NaN</td>\n",
       "    </tr>\n",
       "    <tr>\n",
       "      <th>30</th>\n",
       "      <td>Mercedes</td>\n",
       "      <td>E-Class</td>\n",
       "      <td>2100</td>\n",
       "      <td>1605</td>\n",
       "      <td>115</td>\n",
       "      <td>NaN</td>\n",
       "    </tr>\n",
       "    <tr>\n",
       "      <th>31</th>\n",
       "      <td>Volvo</td>\n",
       "      <td>XC70</td>\n",
       "      <td>2000</td>\n",
       "      <td>1746</td>\n",
       "      <td>117</td>\n",
       "      <td>NaN</td>\n",
       "    </tr>\n",
       "    <tr>\n",
       "      <th>32</th>\n",
       "      <td>Ford</td>\n",
       "      <td>B-Max</td>\n",
       "      <td>1600</td>\n",
       "      <td>1235</td>\n",
       "      <td>104</td>\n",
       "      <td>NaN</td>\n",
       "    </tr>\n",
       "    <tr>\n",
       "      <th>33</th>\n",
       "      <td>BMW</td>\n",
       "      <td>2</td>\n",
       "      <td>1600</td>\n",
       "      <td>1390</td>\n",
       "      <td>108</td>\n",
       "      <td>NaN</td>\n",
       "    </tr>\n",
       "    <tr>\n",
       "      <th>34</th>\n",
       "      <td>Opel</td>\n",
       "      <td>Zafira</td>\n",
       "      <td>1600</td>\n",
       "      <td>1405</td>\n",
       "      <td>109</td>\n",
       "      <td>NaN</td>\n",
       "    </tr>\n",
       "    <tr>\n",
       "      <th>35</th>\n",
       "      <td>Mercedes</td>\n",
       "      <td>SLK</td>\n",
       "      <td>2500</td>\n",
       "      <td>1395</td>\n",
       "      <td>120</td>\n",
       "      <td>NaN</td>\n",
       "    </tr>\n",
       "  </tbody>\n",
       "</table>\n",
       "</div>"
      ],
      "text/plain": [
       "           Car       Model  Volume  Weight  CO2  Unnamed: 5\n",
       "0       Toyota        Aygo    1000     790   99         NaN\n",
       "1   Mitsubishi  Space Star    1200    1160   95         NaN\n",
       "2        Skoda      Citigo    1000     929   95         NaN\n",
       "3         Fiat         500     900     865   90         NaN\n",
       "4         Mini      Cooper    1500    1140  105         NaN\n",
       "5           VW         Up!    1000     929  105         NaN\n",
       "6        Skoda       Fabia    1400    1109   90         NaN\n",
       "7     Mercedes     A-Class    1500    1365   92         NaN\n",
       "8         Ford      Fiesta    1500    1112   98         NaN\n",
       "9         Audi          A1    1600    1150   99         NaN\n",
       "10     Hyundai         I20    1100     980   99         NaN\n",
       "11      Suzuki       Swift    1300     990  101         NaN\n",
       "12        Ford      Fiesta    1000    1112   99         NaN\n",
       "13       Honda       Civic    1600    1252   94         NaN\n",
       "14      Hundai         I30    1600    1326   97         NaN\n",
       "15        Opel       Astra    1600    1330   97         NaN\n",
       "16         BMW           1    1600    1365   99         NaN\n",
       "17       Mazda           3    2200    1280  104         NaN\n",
       "18       Skoda       Rapid    1600    1119  104         NaN\n",
       "19        Ford       Focus    2000    1328  105         NaN\n",
       "20        Ford      Mondeo    1600    1584   94         NaN\n",
       "21        Opel    Insignia    2000    1428   99         NaN\n",
       "22    Mercedes     C-Class    2100    1365   99         NaN\n",
       "23       Skoda     Octavia    1600    1415   99         NaN\n",
       "24       Volvo         S60    2000    1415   99         NaN\n",
       "25    Mercedes         CLA    1500    1465  102         NaN\n",
       "26        Audi          A4    2000    1490  104         NaN\n",
       "27        Audi          A6    2000    1725  114         NaN\n",
       "28       Volvo         V70    1600    1523  109         NaN\n",
       "29         BMW           5    2000    1705  114         NaN\n",
       "30    Mercedes     E-Class    2100    1605  115         NaN\n",
       "31       Volvo        XC70    2000    1746  117         NaN\n",
       "32        Ford       B-Max    1600    1235  104         NaN\n",
       "33         BMW           2    1600    1390  108         NaN\n",
       "34        Opel      Zafira    1600    1405  109         NaN\n",
       "35    Mercedes         SLK    2500    1395  120         NaN"
      ]
     },
     "execution_count": 3,
     "metadata": {},
     "output_type": "execute_result"
    }
   ],
   "source": [
    "# Lectura del archivo\n",
    "# data = ...\n",
    "### BEGIN SOLUTION\n",
    "file_answer = FileAnswer()\n",
    "data = pd.read_csv('DATA.csv')\n",
    "### END SOLUTION\n",
    "\n",
    "# Impresión del DataFrame\n",
    "data"
   ]
  },
  {
   "cell_type": "markdown",
   "id": "a3db39f6-d75e-4558-a7e3-e2512b682107",
   "metadata": {
    "nbgrader": {
     "grade": false,
     "grade_id": "cell-c05c97a454ca796a",
     "locked": true,
     "schema_version": 3,
     "solution": false,
     "task": false
    }
   },
   "source": [
    "<div class=\"alert alert-success\">\n",
    "\n",
    "## Ejercicio 2. Transformar a arreglos de **NumPy**.\n",
    "\n",
    "<font color=\"DarkBlue\">\n",
    "\n",
    "Para realizar los cálculos que siguen, primero vamos a transformar las columnas del DataFrame `data` en arreglos de **NumPy**. Para ello usaremos la función `np.asarray()` y los siguientes nombres para los arreglos:\n",
    "* `car` : Marca del automóvil.\n",
    "* `model` : Modelo del automóvil.\n",
    "* `volumen` : Volumen del automóvil.\n",
    "* `peso` : Peso del automóvil.\n",
    "* `co2` : Emisión de CO2.\n",
    "\n",
    "**Hint**.\n",
    "\n",
    "```python\n",
    "car = np.asarray(data['Car'])\n",
    "...\n",
    "```\n",
    "\n",
    "</font>\n",
    "</div>"
   ]
  },
  {
   "cell_type": "code",
   "execution_count": 4,
   "id": "9926a57d-1c0a-4417-a67c-52981936e3fb",
   "metadata": {
    "nbgrader": {
     "grade": false,
     "grade_id": "cell-1f16f1d997813087",
     "locked": false,
     "schema_version": 3,
     "solution": true,
     "task": false
    }
   },
   "outputs": [
    {
     "name": "stdout",
     "output_type": "stream",
     "text": [
      "El directorio :/home/jovyan/HeCompA/.ans/examen2/ ya existe\n",
      "Respuestas y retroalimentación almacenadas.\n",
      "Marca: ['Toyota' 'Mitsubishi' 'Skoda' 'Fiat' 'Mini' 'VW' 'Skoda' 'Mercedes'\n",
      " 'Ford' 'Audi' 'Hyundai' 'Suzuki' 'Ford' 'Honda' 'Hundai' 'Opel' 'BMW'\n",
      " 'Mazda' 'Skoda' 'Ford' 'Ford' 'Opel' 'Mercedes' 'Skoda' 'Volvo'\n",
      " 'Mercedes' 'Audi' 'Audi' 'Volvo' 'BMW' 'Mercedes' 'Volvo' 'Ford' 'BMW'\n",
      " 'Opel' 'Mercedes']\n",
      "\n",
      "Modelo: ['Aygo' 'Space Star' 'Citigo' '500' 'Cooper' 'Up!' 'Fabia' 'A-Class'\n",
      " 'Fiesta' 'A1' 'I20' 'Swift' 'Fiesta' 'Civic' 'I30' 'Astra' '1' '3'\n",
      " 'Rapid' 'Focus' 'Mondeo' 'Insignia' 'C-Class' 'Octavia' 'S60' 'CLA' 'A4'\n",
      " 'A6' 'V70' '5' 'E-Class' 'XC70' 'B-Max' '2' 'Zafira' 'SLK']\n",
      "\n",
      "Volumen: [1000 1200 1000  900 1500 1000 1400 1500 1500 1600 1100 1300 1000 1600\n",
      " 1600 1600 1600 2200 1600 2000 1600 2000 2100 1600 2000 1500 2000 2000\n",
      " 1600 2000 2100 2000 1600 1600 1600 2500]\n",
      "\n",
      "Peso: [ 790 1160  929  865 1140  929 1109 1365 1112 1150  980  990 1112 1252\n",
      " 1326 1330 1365 1280 1119 1328 1584 1428 1365 1415 1415 1465 1490 1725\n",
      " 1523 1705 1605 1746 1235 1390 1405 1395]\n",
      "\n",
      "CO2: [ 99  95  95  90 105 105  90  92  98  99  99 101  99  94  97  97  99 104\n",
      " 104 105  94  99  99  99  99 102 104 114 109 114 115 117 104 108 109 120]\n",
      "\n"
     ]
    }
   ],
   "source": [
    "# Transformar a arreglos\n",
    "# car = ...\n",
    "# model = ...\n",
    "# ...\n",
    "### BEGIN SOLUTION\n",
    "car = np.asarray(data['Car'])\n",
    "model = np.asarray(data['Model'])\n",
    "volumen = np.asarray(data['Volume'])\n",
    "peso = np.asarray(data['Weight'])\n",
    "co2 = np.asarray(data['CO2'])\n",
    "\n",
    "file_answer.write('1', car, \"No definiste correctamente el arreglo 'car'\")\n",
    "file_answer.write('2', model, \"No definiste correctamente el arreglo 'model'\")\n",
    "file_answer.write('3', volumen, \"No definiste correctamente el arreglo 'volumen'\")\n",
    "file_answer.write('4', peso, \"No definiste correctamente el arreglo 'peso'\")\n",
    "file_answer.write('5', co2, \"No definiste correctamente el arreglo 'co2'\")\n",
    "file_answer.to_file('q5')\n",
    "### END SOLUTION\n",
    "\n",
    "# Impresión de los arreglos\n",
    "print('Marca: {}\\n'.format(car))\n",
    "print('Modelo: {}\\n'.format(model))\n",
    "print('Volumen: {}\\n'.format(volumen))\n",
    "print('Peso: {}\\n'.format(peso))\n",
    "print('CO2: {}\\n'.format(co2))"
   ]
  },
  {
   "cell_type": "code",
   "execution_count": 5,
   "id": "e7c39e9d-1aa3-4440-b8e4-4ac6ea2e60fb",
   "metadata": {
    "nbgrader": {
     "grade": true,
     "grade_id": "cell-f3089b37e3a060b5",
     "locked": true,
     "points": 5,
     "schema_version": 3,
     "solution": false,
     "task": false
    }
   },
   "outputs": [
    {
     "name": "stdout",
     "output_type": "stream",
     "text": [
      "\u001b[39m----------------------------------------\n",
      "\u001b[32m1 | Tu resultado es correcto.\n",
      "\u001b[39m----------------------------------------\n",
      "\u001b[39m----------------------------------------\n",
      "\u001b[32m2 | Tu resultado es correcto.\n",
      "\u001b[39m----------------------------------------\n",
      "\u001b[39m----------------------------------------\n",
      "\u001b[32m3 | Tu resultado es correcto.\n",
      "\u001b[39m----------------------------------------\n",
      "\u001b[39m----------------------------------------\n",
      "\u001b[32m4 | Tu resultado es correcto.\n",
      "\u001b[39m----------------------------------------\n",
      "\u001b[39m----------------------------------------\n",
      "\u001b[32m5 | Tu resultado es correcto.\n",
      "\u001b[39m----------------------------------------\n"
     ]
    }
   ],
   "source": [
    "quizz.eval_datastruct('1',car)\n",
    "quizz.eval_datastruct('2',model)\n",
    "quizz.eval_numeric('3', volumen)\n",
    "quizz.eval_numeric('4', peso)\n",
    "quizz.eval_numeric('5', co2)"
   ]
  },
  {
   "cell_type": "markdown",
   "id": "0637c3a0-15d8-4570-8e21-adb7b400e385",
   "metadata": {
    "nbgrader": {
     "grade": false,
     "grade_id": "cell-00cbd3411abee279",
     "locked": true,
     "schema_version": 3,
     "solution": false,
     "task": false
    }
   },
   "source": [
    "La siguiente celda realiza dos gráficas: CO2 vs Volumen y CO2 vs Peso."
   ]
  },
  {
   "cell_type": "code",
   "execution_count": 6,
   "id": "59bae062-44fb-4dff-a26b-32b18d28ff67",
   "metadata": {
    "nbgrader": {
     "grade": false,
     "grade_id": "cell-d5e38cdb99d642f5",
     "locked": true,
     "schema_version": 3,
     "solution": false,
     "task": false
    }
   },
   "outputs": [
    {
     "data": {
      "image/png": "[encoded data removed]",
      "text/plain": [
       "<Figure size 1000x400 with 2 Axes>"
      ]
     },
     "metadata": {},
     "output_type": "display_data"
    }
   ],
   "source": [
    "# Graficación de los datos\n",
    "fig, ax = plt.subplots(1, 2, figsize=(10,4), sharey = True)\n",
    "ax[0].scatter(volumen, co2)\n",
    "ax[0].set_ylabel('CO2')\n",
    "ax[0].set_xlabel('Volumen')\n",
    "ax[1].scatter(peso, co2)\n",
    "ax[1].set_ylabel('CO2')\n",
    "ax[1].set_xlabel('Peso')\n",
    "plt.show()"
   ]
  },
  {
   "cell_type": "markdown",
   "id": "5880d568-17f6-43f3-8525-40132daac6e6",
   "metadata": {
    "nbgrader": {
     "grade": false,
     "grade_id": "cell-70d335b049598a06",
     "locked": true,
     "schema_version": 3,
     "solution": false,
     "task": false
    }
   },
   "source": [
    "<div class=\"alert alert-success\">\n",
    "\n",
    "## Ejercicio 3. Ajuste de rectas.\n",
    "\n",
    "<font color=\"DarkBlue\">\n",
    "\n",
    "En las siguientes celdas completa las funciones `media(x)` y `mincua(x,y)`.\n",
    "* La función `media(x)` calcula la media del conjunto de datos `x`.\n",
    "* La función `mincua(x,y)` calcula la pendiente `m` y la ordenada al origen `b` de la recta que mejor se ajusta a los datos `(x, y)`.\n",
    "\n",
    "</font>\n",
    "</div>"
   ]
  },
  {
   "cell_type": "code",
   "execution_count": 7,
   "id": "fc261a1a-5876-4347-8900-82c66cdd7f6a",
   "metadata": {
    "nbgrader": {
     "grade": false,
     "grade_id": "cell-237dbadae3e463bd",
     "locked": false,
     "schema_version": 3,
     "solution": true,
     "task": false
    }
   },
   "outputs": [],
   "source": [
    "# Arreglos para probar las funciones\n",
    "test1 = [-25.52, -20.17, -14.81, -9.45, -4.09, 1.26, 6.62, 11.98,  17.33,  22.69]\n",
    "test2 = [-3.42,  -3.53, -3.64, -3.75, -3.85, -3.96, -4.07, -4.17, -4.28, -4.39]\n",
    "\n",
    "def media(x):\n",
    "    N = len(x)\n",
    "\n",
    "    ### BEGIN SOLUTION\n",
    "    xm = 0.0\n",
    "    for xi in x:\n",
    "        xm += xi\n",
    "    ### END SOLUTION\n",
    "    \n",
    "    return xm / N"
   ]
  },
  {
   "cell_type": "code",
   "execution_count": 9,
   "id": "319489e9-7cb1-4200-888d-aae20600ba2b",
   "metadata": {
    "nbgrader": {
     "grade": true,
     "grade_id": "cell-476fdbeb580ec77d",
     "locked": true,
     "points": 1,
     "schema_version": 3,
     "solution": false,
     "task": false
    }
   },
   "outputs": [
    {
     "name": "stdout",
     "output_type": "stream",
     "text": [
      "\u001b[39m----------------------------------------\n",
      "\u001b[32m6 | Tu resultado es correcto.\n",
      "\u001b[39m----------------------------------------\n"
     ]
    }
   ],
   "source": [
    "quizz.eval_numeric('6', media(test1))"
   ]
  },
  {
   "cell_type": "code",
   "execution_count": 10,
   "id": "8e065091-9ec0-49d5-9100-77c0cfc660a6",
   "metadata": {
    "nbgrader": {
     "grade": false,
     "grade_id": "cell-194f1d902e7b9f57",
     "locked": false,
     "schema_version": 3,
     "solution": true,
     "task": false
    }
   },
   "outputs": [],
   "source": [
    "def mincua(x, y):\n",
    "    # Cálculo de la media\n",
    "    # ...\n",
    "    # Cálculo de m\n",
    "    # ...\n",
    "    # Cálculo de b\n",
    "    # ...\n",
    "    ### BEGIN SOLUTION\n",
    "    X = media(x)\n",
    "    Y = media(y)\n",
    "    \n",
    "    Sxx = 0\n",
    "    Sxy = 0\n",
    "    for xi, yi in zip(x, y):\n",
    "        Sxy += xi * (yi - Y)\n",
    "        Sxx += xi * (xi - X)\n",
    "    m = Sxy / Sxx\n",
    "\n",
    "    b = Y - m * X\n",
    "    ### END SOLUTION\n",
    "    \n",
    "    return m, b"
   ]
  },
  {
   "cell_type": "code",
   "execution_count": 12,
   "id": "16a25591-6658-4ca8-8c93-74a20c2c90e7",
   "metadata": {
    "nbgrader": {
     "grade": true,
     "grade_id": "cell-718ebe18a4e3e4fd",
     "locked": true,
     "points": 1,
     "schema_version": 3,
     "solution": false,
     "task": false
    }
   },
   "outputs": [
    {
     "name": "stdout",
     "output_type": "stream",
     "text": [
      "\u001b[39m----------------------------------------\n",
      "\u001b[32m7 | Tu resultado es correcto.\n",
      "\u001b[39m----------------------------------------\n"
     ]
    }
   ],
   "source": [
    "quizz.eval_numeric('7', mincua(test1, test2))"
   ]
  },
  {
   "cell_type": "markdown",
   "id": "53b8ef3f-4a8b-496c-bffc-d81c3087d6e5",
   "metadata": {
    "nbgrader": {
     "grade": false,
     "grade_id": "cell-d9d3fde1807ceabc",
     "locked": true,
     "schema_version": 3,
     "solution": false,
     "task": false
    }
   },
   "source": [
    "<div class=\"alert alert-success\">\n",
    "\n",
    "## Ejercicio 4. Ajuste a los datos Volumen vs CO2.\n",
    "\n",
    "<font color=\"DarkBlue\">\n",
    "    \n",
    "* Utilizando la función `mincua(x, y)` calcula la pendiente y la ordenada al origen de la recta que mejor se ajusta a los datos **Volumen vs CO2**.\n",
    "* Utiliza los nombres `mv` y `bv` para la pendiente y la ordenada al origen respectivamente.\n",
    "* Posteriormente, genera los arreglos `xv` y `yv` que son las coordenadas de la recta ajustada.\n",
    "\n",
    "**Hint**.\n",
    "```python\n",
    "mv, bv = mincua(...)\n",
    "xv = np.linspace(...)\n",
    "yv = ...\n",
    "```\n",
    "\n",
    "</font>\n",
    "</div>"
   ]
  },
  {
   "cell_type": "code",
   "execution_count": 13,
   "id": "8e7b9a53-6a49-4703-805c-6adcce0275bd",
   "metadata": {
    "nbgrader": {
     "grade": false,
     "grade_id": "cell-bdbef4b81ab1709c",
     "locked": false,
     "schema_version": 3,
     "solution": true,
     "task": false
    }
   },
   "outputs": [
    {
     "name": "stdout",
     "output_type": "stream",
     "text": [
      "El directorio :/home/jovyan/HeCompA/.ans/examen2/ ya existe\n",
      "Respuestas y retroalimentación almacenadas.\n",
      "mv = 0.01134704154427198\n",
      "bv = 83.74643306756181\n"
     ]
    }
   ],
   "source": [
    "# Ajuste de la línea recta\n",
    "# mv, bv = ..\n",
    "# ...\n",
    "### BEGIN SOLUTION\n",
    "mv, bv = mincua(volumen, co2)\n",
    "xv = np.linspace(volumen.min(), volumen.max(), 10)\n",
    "yv = mv * xv + bv\n",
    "file_answer.write('8', mv, \"La media no se calculó correctamente.\")\n",
    "file_answer.write('9', bv, \"La ordenada al origen no se calculó correctamente.\")\n",
    "file_answer.write('10', xv, \"La xv no se calculó correctamente.\")\n",
    "file_answer.write('11', yv, \"La yv no se calculó correctamente.\")\n",
    "file_answer.to_file('q5')\n",
    "### END SOLUTION\n",
    "\n",
    "print('mv = {}'.format(mv))\n",
    "print('bv = {}'.format(bv))"
   ]
  },
  {
   "cell_type": "code",
   "execution_count": 14,
   "id": "67d4a5d6-a399-4969-952f-76f233294755",
   "metadata": {
    "nbgrader": {
     "grade": true,
     "grade_id": "cell-c2f87474de01469e",
     "locked": true,
     "points": 4,
     "schema_version": 3,
     "solution": false,
     "task": false
    }
   },
   "outputs": [
    {
     "name": "stdout",
     "output_type": "stream",
     "text": [
      "\u001b[39m----------------------------------------\n",
      "\u001b[32m8 | Tu resultado es correcto.\n",
      "\u001b[39m----------------------------------------\n",
      "\u001b[39m----------------------------------------\n",
      "\u001b[32m9 | Tu resultado es correcto.\n",
      "\u001b[39m----------------------------------------\n",
      "\u001b[39m----------------------------------------\n",
      "\u001b[32m10 | Tu resultado es correcto.\n",
      "\u001b[39m----------------------------------------\n",
      "\u001b[39m----------------------------------------\n",
      "\u001b[32m11 | Tu resultado es correcto.\n",
      "\u001b[39m----------------------------------------\n"
     ]
    }
   ],
   "source": [
    "quizz.eval_numeric('8', mv)\n",
    "quizz.eval_numeric('9', bv)\n",
    "quizz.eval_numeric('10', xv)\n",
    "quizz.eval_numeric('11', yv)"
   ]
  },
  {
   "cell_type": "markdown",
   "id": "ceda04fb-3557-48f5-a8e2-f3f5cfc02733",
   "metadata": {
    "nbgrader": {
     "grade": false,
     "grade_id": "cell-ed7541c383c9829f",
     "locked": true,
     "schema_version": 3,
     "solution": false,
     "task": false
    }
   },
   "source": [
    "<div class=\"alert alert-success\">\n",
    "\n",
    "## Ejercicio 5. Ajuste a los datos Peso vs CO2.\n",
    "\n",
    "<font color=\"DarkBlue\">\n",
    "    \n",
    "* Utilizando la función `mincua(x, y)` calcula la pendiente y la ordenada al origen de la recta que mejor se ajusta a los datos **Peso vs CO2**.\n",
    "* Utiliza los nombres `mp` y `bp` para la pendiente y la ordenada al origen respectivamente.\n",
    "* Posteriormente, genera los arreglos `xp` y `yp` que son las coordenadas de la recta ajustada.\n",
    "\n",
    "</font>\n",
    "</div>"
   ]
  },
  {
   "cell_type": "code",
   "execution_count": 15,
   "id": "08960f4c-545b-489a-8df5-bf2215c4e071",
   "metadata": {
    "nbgrader": {
     "grade": false,
     "grade_id": "cell-424b841d4901700e",
     "locked": false,
     "schema_version": 3,
     "solution": true,
     "task": false
    }
   },
   "outputs": [
    {
     "name": "stdout",
     "output_type": "stream",
     "text": [
      "El directorio :/home/jovyan/HeCompA/.ans/examen2/ ya existe\n",
      "Respuestas y retroalimentación almacenadas.\n",
      "mp = 0.01699973460125464\n",
      "bp = 80.05939852445643\n"
     ]
    }
   ],
   "source": [
    "# Ajuste de la línea recta\n",
    "# mp, bp = ..\n",
    "# ...\n",
    "### BEGIN SOLUTION\n",
    "mp, bp = mincua(peso, co2)\n",
    "xp = np.linspace(peso.min(), peso.max(), 10)\n",
    "yp = mp * xp + bp\n",
    "file_answer.write('12', mp, \"La media no se calculó correctamente.\")\n",
    "file_answer.write('13', bp, \"La ordenada al origen no se calculó correctamente.\")\n",
    "file_answer.write('14', xp, \"La xp no se calculó correctamente.\")\n",
    "file_answer.write('15', yp, \"La yp no se calculó correctamente.\")\n",
    "file_answer.to_file('q5')\n",
    "### END SOLUTION\n",
    "\n",
    "print('mp = {}'.format(mp))\n",
    "print('bp = {}'.format(bp))"
   ]
  },
  {
   "cell_type": "code",
   "execution_count": 16,
   "id": "2574d066-0e09-4408-babd-82f4bd049f54",
   "metadata": {
    "nbgrader": {
     "grade": true,
     "grade_id": "cell-9b67c554840deff3",
     "locked": true,
     "points": 4,
     "schema_version": 3,
     "solution": false,
     "task": false
    }
   },
   "outputs": [
    {
     "name": "stdout",
     "output_type": "stream",
     "text": [
      "\u001b[39m----------------------------------------\n",
      "\u001b[32m12 | Tu resultado es correcto.\n",
      "\u001b[39m----------------------------------------\n",
      "\u001b[39m----------------------------------------\n",
      "\u001b[32m13 | Tu resultado es correcto.\n",
      "\u001b[39m----------------------------------------\n",
      "\u001b[39m----------------------------------------\n",
      "\u001b[32m14 | Tu resultado es correcto.\n",
      "\u001b[39m----------------------------------------\n",
      "\u001b[39m----------------------------------------\n",
      "\u001b[32m15 | Tu resultado es correcto.\n",
      "\u001b[39m----------------------------------------\n"
     ]
    }
   ],
   "source": [
    "quizz.eval_numeric('12', mp)\n",
    "quizz.eval_numeric('13', bp)\n",
    "quizz.eval_numeric('14', xp)\n",
    "quizz.eval_numeric('15', yp)"
   ]
  },
  {
   "cell_type": "markdown",
   "id": "5de69641-5d1e-4af6-b8a9-d755df035f1a",
   "metadata": {
    "nbgrader": {
     "grade": false,
     "grade_id": "cell-ef30762b21a7f0a7",
     "locked": true,
     "schema_version": 3,
     "solution": false,
     "task": false
    }
   },
   "source": [
    "<div class=\"alert alert-success\">\n",
    "\n",
    "## Ejercicio 6. Graficación del resultado.\n",
    "\n",
    "<font color=\"DarkBlue\">\n",
    "\n",
    "Usando la función `grafica(...)` realiza la gráfica de los datos y de la recta ajustada para los dos casos: **Volumen vs CO2** y **Peso vs CO2**. Deberías obtener algo similar a la siguiente gráfica:\n",
    "\n",
    "<img src=\"examen02.png\" width=400px>"
   ]
  },
  {
   "cell_type": "code",
   "execution_count": 17,
   "id": "ae7254e3-1348-4a3a-93a2-a56429dade23",
   "metadata": {
    "nbgrader": {
     "grade": false,
     "grade_id": "cell-562a65fed86682ac",
     "locked": true,
     "schema_version": 3,
     "solution": false,
     "task": false
    }
   },
   "outputs": [],
   "source": [
    "def grafica(ax, x, y, xl, yl, xlabel, \n",
    "            size=75, c1 = 'dimgray', c2 = 'deeppink', alpha=0.75):\n",
    "    ax.scatter(x, y, alpha=alpha, s =size, fc=c1, ec='k')\n",
    "    ax.plot(xl, yl, alpha=alpha, c=c2, lw=3, ls='--')\n",
    "    ax.set_ylabel('CO2')\n",
    "    ax.set_xlabel(xlabel)\n",
    "    ax.spines['right'].set_visible(False)\n",
    "    ax.spines['top'].set_visible(False)\n",
    "    ax.grid(True)    "
   ]
  },
  {
   "cell_type": "code",
   "execution_count": 18,
   "id": "2183d2da-688a-4b09-8601-17263036e354",
   "metadata": {
    "nbgrader": {
     "grade": true,
     "grade_id": "cell-e1031a4ce6333a76",
     "locked": false,
     "points": 2,
     "schema_version": 3,
     "solution": true,
     "task": false
    }
   },
   "outputs": [
    {
     "data": {
      "image/png": "[encoded data removed]",
      "text/plain": [
       "<Figure size 1000x400 with 2 Axes>"
      ]
     },
     "metadata": {},
     "output_type": "display_data"
    }
   ],
   "source": [
    "fig, ax = plt.subplots(1, 2, figsize=(10,4), sharey = True)\n",
    "plt.suptitle('Producción de CO2 vs Volumen y Peso')\n",
    "# grafica(...)\n",
    "# grafica(...)\n",
    "### BEGIN SOLUTION\n",
    "grafica(ax[0], volumen, co2, xv, yv, 'Volumen')\n",
    "grafica(ax[1], peso, co2, xp, yp, 'Peso')\n",
    "### END SOLUTION"
   ]
  },
  {
   "cell_type": "markdown",
   "id": "deb53c60-8db2-4ffe-b479-c30b01819cea",
   "metadata": {
    "nbgrader": {
     "grade": false,
     "grade_id": "cell-007faec6b430c2e6",
     "locked": true,
     "schema_version": 3,
     "solution": false,
     "task": false
    }
   },
   "source": [
    "<div class=\"alert alert-success\">\n",
    "\n",
    "## Ejercicio 7. Eliminando datos \"atípicos\".\n",
    "\n",
    "<font color=\"DarkBlue\">\n",
    "    \n",
    "* La función `drop_outliers(emax, x, co2, m, b)` elimina datos que se alejan de la recta por un error mayor al definido por el parámetro `emax`. \n",
    "* El parámetro `x` puede representar al volumen o al peso.\n",
    "* El parámetro `co2` representa al CO2 emitido.\n",
    "* Los parámetros `m` y `b` representan a la pendiente y la ordenada al origen, respectivamente, de la recta ajustada en los ejercicios anteriores. \n",
    "\n",
    "* La forma en que se eliminan los *outliers* es calculando el error con la siguiente fórmula:\n",
    "\n",
    "$$\n",
    "E_r = \\frac{100 * |\\text{CO2}_{pred} - y_i|}{\\text{CO2}_{max}}\n",
    "$$\n",
    "\n",
    "donde $\\text{CO2}_{pred}$ es el CO2 predicho por la fórmula de la recta ajustada, $y_i$ es el valor de CO2 para $x_i$ proveniente de los datos y $\\text{CO2}_{max}$ es el valor máximo de CO2 en los datos.\n",
    "\n",
    "En la función `drop_outliers(emax, x, co2, m, b)`, completa el cálculo de:\n",
    "* $\\text{CO2}_{pred}$ (`co2_pred`) y\n",
    "* del error $E_r$ (`Er`).\n",
    "\n",
    "</font>\n",
    "</div>"
   ]
  },
  {
   "cell_type": "code",
   "execution_count": 19,
   "id": "9cd23246-2e1d-4114-810b-3d3fc28812c6",
   "metadata": {
    "nbgrader": {
     "grade": false,
     "grade_id": "cell-8acde3da3f87d827",
     "locked": false,
     "schema_version": 3,
     "solution": true,
     "task": false
    }
   },
   "outputs": [],
   "source": [
    "def drop_outliers(emax, x, co2, m, b):\n",
    "    co2_max = np.max(co2)\n",
    "    x_n = []\n",
    "    co2_n = []\n",
    "    for xi, yi in zip(x, co2):\n",
    "\n",
    "        #co2_pred = ...\n",
    "        #Er = ...\n",
    "        ### BEGIN SOLUTION\n",
    "        co2_pred = m * xi + b\n",
    "        Er = 100 * np.abs(co2_pred - yi) / co2_max\n",
    "        ### END SOLUTION\n",
    "        \n",
    "        if Er < emax:\n",
    "            x_n.append(xi)\n",
    "            co2_n.append(yi)\n",
    "\n",
    "    return np.asarray(x_n), np.asarray(co2_n)"
   ]
  },
  {
   "cell_type": "markdown",
   "id": "79bab4ca-5e4d-4fcf-81aa-cb9cf0a35f97",
   "metadata": {
    "nbgrader": {
     "grade": false,
     "grade_id": "cell-2f5f3f80ed3c8fe3",
     "locked": true,
     "schema_version": 3,
     "solution": false,
     "task": false
    }
   },
   "source": [
    "<div class=\"alert alert-success\">\n",
    "<font color=\"DarkBlue\">\n",
    "    \n",
    "* Genera los arreglos de Volumen (`v_no`) y CO2 (`co2_v`) eliminando datos con la función `drop_ouliers()` para un `emax = 6.5`.\n",
    "\n",
    "</font>\n",
    "</div>"
   ]
  },
  {
   "cell_type": "code",
   "execution_count": 20,
   "id": "e1a03c3c-f80b-40a5-a52c-b96bbbc41555",
   "metadata": {
    "nbgrader": {
     "grade": false,
     "grade_id": "cell-29ded45673db6824",
     "locked": false,
     "schema_version": 3,
     "solution": true,
     "task": false
    }
   },
   "outputs": [
    {
     "name": "stdout",
     "output_type": "stream",
     "text": [
      "El directorio :/home/jovyan/HeCompA/.ans/examen2/ ya existe\n",
      "Respuestas y retroalimentación almacenadas.\n",
      "Volumen (no outliers) : [1000 1200 1000  900 1500 1500 1600 1100 1300 1000 1600 1600 1600 2200\n",
      " 1600 2000 2000 1600 2000 1500 2000 2000 1600 2000 2100 1600 1600 1600]\n",
      "CO2 (no outliers) : [ 99  95  95  90 105  98  99  99 101  99  97  97  99 104 104 105  99  99\n",
      "  99 102 104 114 109 114 115 104 108 109]\n"
     ]
    }
   ],
   "source": [
    "# v_no, co2_v = drop_outliers(...)\n",
    "### BEGIN SOLUTION\n",
    "v_no, co2_v = drop_outliers(6.5, volumen, co2, mv, bv)\n",
    "file_answer.write('16', v_no, \"El arreglo v_no es incorrecto, revisa la función drop_outliers() y los parámetros que usas en la llamada a la función.\")\n",
    "file_answer.write('17', co2_v, \"El arreglo co2_v es incorrecto, revisa la función drop_outliers() y los parámetros que usas en la llamada a la función.\")\n",
    "file_answer.to_file('q5')\n",
    "### END SOLUTION\n",
    "\n",
    "print('Volumen (no outliers) : {}'.format(v_no))\n",
    "print('CO2 (no outliers) : {}'.format(co2_v))"
   ]
  },
  {
   "cell_type": "code",
   "execution_count": 21,
   "id": "f25f1316-66ba-443d-809a-90cb200fb60e",
   "metadata": {
    "nbgrader": {
     "grade": true,
     "grade_id": "cell-b76f84f488476469",
     "locked": true,
     "points": 2,
     "schema_version": 3,
     "solution": false,
     "task": false
    }
   },
   "outputs": [
    {
     "name": "stdout",
     "output_type": "stream",
     "text": [
      "\u001b[39m----------------------------------------\n",
      "\u001b[32m16 | Tu resultado es correcto.\n",
      "\u001b[39m----------------------------------------\n",
      "\u001b[39m----------------------------------------\n",
      "\u001b[32m17 | Tu resultado es correcto.\n",
      "\u001b[39m----------------------------------------\n"
     ]
    }
   ],
   "source": [
    "quizz.eval_numeric('16', v_no)\n",
    "quizz.eval_numeric('17', co2_v)"
   ]
  },
  {
   "cell_type": "markdown",
   "id": "65c44898-585e-42db-baec-93bd36a6d69b",
   "metadata": {
    "nbgrader": {
     "grade": false,
     "grade_id": "cell-4e08b6aeb29605d3",
     "locked": true,
     "schema_version": 3,
     "solution": false,
     "task": false
    }
   },
   "source": [
    "<div class=\"alert alert-success\">\n",
    "<font color=\"DarkBlue\">\n",
    "\n",
    "* Genera los arreglos de Peso (`p_no`) y CO2 (`co2_p`) eliminando datos con la función `drop_ouliers()` para un `emax = 6.5`.\n",
    "\n",
    "</font>\n",
    "</div>"
   ]
  },
  {
   "cell_type": "code",
   "execution_count": 22,
   "id": "229e10af-e838-4f0e-97f2-6eef02328299",
   "metadata": {
    "nbgrader": {
     "grade": false,
     "grade_id": "cell-e2e88615efe62a4d",
     "locked": false,
     "schema_version": 3,
     "solution": true,
     "task": false
    }
   },
   "outputs": [
    {
     "name": "stdout",
     "output_type": "stream",
     "text": [
      "El directorio :/home/jovyan/HeCompA/.ans/examen2/ ya existe\n",
      "Respuestas y retroalimentación almacenadas.\n",
      "Peso (no outliers) : [ 790 1160  929  865 1140 1112 1150  980  990 1112 1252 1326 1330 1365\n",
      " 1280 1119 1328 1428 1365 1415 1415 1465 1490 1725 1523 1705 1605 1746\n",
      " 1235 1390 1405]\n",
      "CO2 (no outliers) : [ 99  95  95  90 105  98  99  99 101  99  94  97  97  99 104 104 105  99\n",
      "  99  99  99 102 104 114 109 114 115 117 104 108 109]\n"
     ]
    }
   ],
   "source": [
    "# p_no, co2_p = drop_outliers(...)\n",
    "### BEGIN SOLUTION\n",
    "p_no, co2_p = drop_outliers(6.5, peso, co2, mp, bp)\n",
    "file_answer.write('18', p_no, \"El arreglo p_no es incorrecto, revisa la función drop_outliers() y los parámetros que usas en la llamada a la función.\")\n",
    "file_answer.write('19', co2_p, \"El arreglo co2_p es incorrecto, revisa la función drop_outliers() y los parámetros que usas en la llamada a la función.\")\n",
    "file_answer.to_file('q5')\n",
    "### END SOLUTION\n",
    "\n",
    "print('Peso (no outliers) : {}'.format(p_no))\n",
    "print('CO2 (no outliers) : {}'.format(co2_p))"
   ]
  },
  {
   "cell_type": "code",
   "execution_count": 23,
   "id": "657af98b-7c2f-4175-86df-e616d31c6624",
   "metadata": {
    "nbgrader": {
     "grade": true,
     "grade_id": "cell-a849768da8b0cbcb",
     "locked": true,
     "points": 2,
     "schema_version": 3,
     "solution": false,
     "task": false
    }
   },
   "outputs": [
    {
     "name": "stdout",
     "output_type": "stream",
     "text": [
      "\u001b[39m----------------------------------------\n",
      "\u001b[32m18 | Tu resultado es correcto.\n",
      "\u001b[39m----------------------------------------\n",
      "\u001b[39m----------------------------------------\n",
      "\u001b[32m19 | Tu resultado es correcto.\n",
      "\u001b[39m----------------------------------------\n"
     ]
    }
   ],
   "source": [
    "quizz.eval_numeric('18', p_no)\n",
    "quizz.eval_numeric('19', co2_p)"
   ]
  },
  {
   "cell_type": "markdown",
   "id": "737330a7-29da-4613-a6f3-0abd63a028b5",
   "metadata": {
    "nbgrader": {
     "grade": false,
     "grade_id": "cell-ad1f6a8f37b95b79",
     "locked": true,
     "schema_version": 3,
     "solution": false,
     "task": false
    }
   },
   "source": [
    "<div class=\"alert alert-success\">\n",
    "\n",
    "## Ejercicio 8. Reajuste con los nuevos arreglos.\n",
    "\n",
    "<font color=\"DarkBlue\">\n",
    "\n",
    "* Usando los arreglos `v_no` y `co2_v` ajusta una nueva recta.\n",
    "\n",
    "</font>\n",
    "</div>"
   ]
  },
  {
   "cell_type": "code",
   "execution_count": 24,
   "id": "40992669-7f18-411d-825c-e60edadd0ad7",
   "metadata": {
    "nbgrader": {
     "grade": false,
     "grade_id": "cell-8e23b7a4b8a2b5fe",
     "locked": false,
     "schema_version": 3,
     "solution": true,
     "task": false
    }
   },
   "outputs": [
    {
     "name": "stdout",
     "output_type": "stream",
     "text": [
      "El directorio :/home/jovyan/HeCompA/.ans/examen2/ ya existe\n",
      "Respuestas y retroalimentación almacenadas.\n",
      "mvo = 0.010354111793971386\n",
      "bvo = 85.83260169739526\n"
     ]
    }
   ],
   "source": [
    "# mvo, bvo = ...\n",
    "# xvo = ...\n",
    "# yvo = ...\n",
    "### BEGIN SOLUTION\n",
    "mvo, bvo = mincua(v_no, co2_v)\n",
    "xvo = np.linspace(v_no.min(), v_no.max(), 10)\n",
    "yvo = mvo * xvo + bvo\n",
    "\n",
    "file_answer.write('20', mvo, \"La media no se calculó correctamente.\")\n",
    "file_answer.write('21', bvo, \"La ordenada al origen no se calculó correctamente.\")\n",
    "file_answer.write('22', xvo, \"La xvo no se calculó correctamente.\")\n",
    "file_answer.write('23', yvo, \"La yvo no se calculó correctamente.\")\n",
    "file_answer.to_file('q5')\n",
    "### END SOLUTION\n",
    "\n",
    "print('mvo = {}'.format(mvo))\n",
    "print('bvo = {}'.format(bvo))"
   ]
  },
  {
   "cell_type": "code",
   "execution_count": 25,
   "id": "0fc36c9d-aa80-490f-a288-4015708d657d",
   "metadata": {
    "nbgrader": {
     "grade": true,
     "grade_id": "cell-779743f0d5110578",
     "locked": true,
     "points": 4,
     "schema_version": 3,
     "solution": false,
     "task": false
    }
   },
   "outputs": [
    {
     "name": "stdout",
     "output_type": "stream",
     "text": [
      "\u001b[39m----------------------------------------\n",
      "\u001b[32m20 | Tu resultado es correcto.\n",
      "\u001b[39m----------------------------------------\n",
      "\u001b[39m----------------------------------------\n",
      "\u001b[32m21 | Tu resultado es correcto.\n",
      "\u001b[39m----------------------------------------\n",
      "\u001b[39m----------------------------------------\n",
      "\u001b[32m22 | Tu resultado es correcto.\n",
      "\u001b[39m----------------------------------------\n",
      "\u001b[39m----------------------------------------\n",
      "\u001b[32m23 | Tu resultado es correcto.\n",
      "\u001b[39m----------------------------------------\n"
     ]
    }
   ],
   "source": [
    "quizz.eval_numeric('20', mvo)\n",
    "quizz.eval_numeric('21', bvo)\n",
    "quizz.eval_numeric('22', xvo)\n",
    "quizz.eval_numeric('23', yvo)"
   ]
  },
  {
   "cell_type": "markdown",
   "id": "4bb8a31f-c454-4bd7-bdab-0c0a04f37066",
   "metadata": {
    "nbgrader": {
     "grade": false,
     "grade_id": "cell-8fbd3f6924d2beea",
     "locked": true,
     "schema_version": 3,
     "solution": false,
     "task": false
    }
   },
   "source": [
    "<div class=\"alert alert-success\">\n",
    "<font color=\"DarkBlue\">\n",
    "\n",
    "* Usando los arreglos `p_no` y `co2_p` ajusta una nueva recta.\n",
    "  \n",
    "</font>\n",
    "</div>"
   ]
  },
  {
   "cell_type": "code",
   "execution_count": 26,
   "id": "15b0b5ca-b33d-44e5-b8e8-46fa0a1e91a2",
   "metadata": {
    "nbgrader": {
     "grade": false,
     "grade_id": "cell-75f8a924b230befc",
     "locked": false,
     "schema_version": 3,
     "solution": true,
     "task": false
    }
   },
   "outputs": [
    {
     "name": "stdout",
     "output_type": "stream",
     "text": [
      "El directorio :/home/jovyan/HeCompA/.ans/examen2/ ya existe\n",
      "Respuestas y retroalimentación almacenadas.\n",
      "mpo = 0.019582646612707567\n",
      "bpo = 76.96621177309414\n"
     ]
    }
   ],
   "source": [
    "### BEGIN SOLUTION\n",
    "mpo, bpo = mincua(p_no, co2_p)\n",
    "xpo = np.linspace(p_no.min(), p_no.max(), 10)\n",
    "ypo = mpo * xpo + bpo\n",
    "\n",
    "file_answer.write('24', mpo, \"La media no se calculó correctamente.\")\n",
    "file_answer.write('25', bpo, \"La ordenada al origen no se calculó correctamente.\")\n",
    "file_answer.write('26', xpo, \"La xpo no se calculó correctamente.\")\n",
    "file_answer.write('27', ypo, \"La ypo no se calculó correctamente.\")\n",
    "file_answer.to_file('q5')\n",
    "### END SOLUTION\n",
    "\n",
    "print('mpo = {}'.format(mpo))\n",
    "print('bpo = {}'.format(bpo))"
   ]
  },
  {
   "cell_type": "code",
   "execution_count": 27,
   "id": "5b28073f-3d5f-4fa2-9891-8ef3c262384a",
   "metadata": {
    "nbgrader": {
     "grade": true,
     "grade_id": "cell-981401d92df32979",
     "locked": true,
     "points": 4,
     "schema_version": 3,
     "solution": false,
     "task": false
    }
   },
   "outputs": [
    {
     "name": "stdout",
     "output_type": "stream",
     "text": [
      "\u001b[39m----------------------------------------\n",
      "\u001b[32m24 | Tu resultado es correcto.\n",
      "\u001b[39m----------------------------------------\n",
      "\u001b[39m----------------------------------------\n",
      "\u001b[32m25 | Tu resultado es correcto.\n",
      "\u001b[39m----------------------------------------\n",
      "\u001b[39m----------------------------------------\n",
      "\u001b[32m26 | Tu resultado es correcto.\n",
      "\u001b[39m----------------------------------------\n",
      "\u001b[39m----------------------------------------\n",
      "\u001b[32m27 | Tu resultado es correcto.\n",
      "\u001b[39m----------------------------------------\n"
     ]
    }
   ],
   "source": [
    "quizz.eval_numeric('24', mpo)\n",
    "quizz.eval_numeric('25', bpo)\n",
    "quizz.eval_numeric('26', xpo)\n",
    "quizz.eval_numeric('27', ypo)"
   ]
  },
  {
   "cell_type": "markdown",
   "id": "1f73900c-153b-4377-af53-68deba3ecffd",
   "metadata": {
    "nbgrader": {
     "grade": false,
     "grade_id": "cell-7ad6d0fd36f5b41a",
     "locked": true,
     "schema_version": 3,
     "solution": false,
     "task": false
    }
   },
   "source": [
    "<div class=\"alert alert-success\">\n",
    "\n",
    "## Ejercicio 9. Graficación del resultado sin datos \"atípicos\".\n",
    "\n",
    "<font color=\"DarkBlue\">\n",
    "\n",
    "Usando la función `grafica(...)` realiza la gráfica de los datos y de la recta ajustada para los dos casos:\n",
    "* **Volumen vs CO2** (`volumen`, `CO2`, `xv`, `yv`)\n",
    "* **Volumen vs CO2** sin \"outliers\" (`v_no`, `co2_v`, `xvo`, `yvo`)\n",
    "* **Peso vs CO2** (`peso`, `CO2`, `xp`, `yp`)\n",
    "* **Peso vs CO2** sin \"outliers\" (`p_no`, `co2_p`, `xpo`, `ypo`)\n",
    "\n",
    "Deberías obtener un resultado similar al de la siguiente figura.\n",
    "\n",
    "<img src=\"examen03.png\" width=400px>\n",
    "\n",
    "**Nota**. Utiliza los siguientes parámetros de la función `grafica()`:\n",
    "* `alpha` para cambiar la transparencia de las gráficas.\n",
    "* `size` para cambiar el tamaño de los puntos.\n",
    "* `c1` para cambiar el color de los puntos.\n",
    "* `c2` para cambiar el color de la recta.\n",
    "</font></div>"
   ]
  },
  {
   "cell_type": "code",
   "execution_count": 28,
   "id": "1b51623a-2dd5-4ace-8e8e-51d3430fda44",
   "metadata": {
    "nbgrader": {
     "grade": true,
     "grade_id": "cell-183640224ae83699",
     "locked": false,
     "points": 4,
     "schema_version": 3,
     "solution": true,
     "task": false
    }
   },
   "outputs": [
    {
     "data": {
      "image/png": "[encoded data removed]",
      "text/plain": [
       "<Figure size 1000x400 with 2 Axes>"
      ]
     },
     "metadata": {},
     "output_type": "display_data"
    }
   ],
   "source": [
    "fig, ax = plt.subplots(1, 2, figsize=(10,4), sharey = True)\n",
    "plt.suptitle('Producción de CO2 vs Volumen y Peso')\n",
    "# grafica(...)\n",
    "# ...\n",
    "### BEGIN SOLUTION\n",
    "grafica(ax[0], volumen, co2, xv, yv, 'Volumen', alpha=0.35)\n",
    "grafica(ax[0], v_no, co2_v, xvo, yvo, 'Volumen', size=25, c1='b', c2='b', alpha=1)\n",
    "grafica(ax[1], peso, co2, xp, yp, 'Peso', alpha=0.35)\n",
    "grafica(ax[1], p_no, co2_p, xpo, ypo, 'Peso', size=25, c1='r', c2='r', alpha=1)\n",
    "### END SOLUTION"
   ]
  },
  {
   "cell_type": "markdown",
   "id": "fc3e122e-971e-4ce5-bd14-d062454f4c5a",
   "metadata": {
    "nbgrader": {
     "grade": false,
     "grade_id": "cell-6c6dc6ec47182400",
     "locked": true,
     "schema_version": 3,
     "solution": false,
     "task": false
    }
   },
   "source": [
    "# Problemas de Valor Inicial.\n",
    "    \n",
    "En el estudio de crecimiento de poblaciones, limitadas por la competencia por alimentos, se tiene el siguiente modelo matemático:\n",
    "\n",
    "$$\n",
    "\\begin{eqnarray*}\n",
    "\t\\frac{d y(t)}{d t} & = & \\lambda y ( 1 -y), \\qquad \\text{ para }  0 < t  < T_{max} \\tag{1}\\\\\n",
    "\ty(0) & = & y_0 \\qquad \\text{(condición inicial)}\n",
    "\\end{eqnarray*}\n",
    "$$\n",
    "\n",
    "donde $y_0$ es la población inicial, $\\lambda > 0$ y $T_{max} = h_t * N_t$. \n",
    "\n",
    "En este caso la ecuación es no lineal pues del lado derecho aparece un término cuadrático de $y$.\n",
    "\n",
    "Este problema tiene la siguiente solución exacta: $y(t) = \\dfrac{y_0}{y_0 + (1-y_0)e^{-\\lambda t}}$.\n",
    "\n",
    "La siguiente gráfica muestra como se ve la solución exacta, la solución numérica aproximada con el método de Euler y el error.\n",
    "\n",
    "<img src=\"examen04.png\" width=400px>\n"
   ]
  },
  {
   "cell_type": "markdown",
   "id": "f0e08332-a660-415a-a638-7304dfff13ce",
   "metadata": {
    "nbgrader": {
     "grade": false,
     "grade_id": "cell-376e59a5af270a9e",
     "locked": true,
     "schema_version": 3,
     "solution": false,
     "task": false
    }
   },
   "source": [
    "<div class=\"alert alert-success\">\n",
    "\n",
    "## Ejercicio 10. Método de Euler.\n",
    "\n",
    "<font color=\"DarkBlue\">\n",
    "\n",
    "Aproximar la solución de la ecuación $(1)$ usando el Método de Euler.\n",
    "\n",
    "1. Completa la función `solucion_exacta()`.\n",
    "\n",
    "</font></div>"
   ]
  },
  {
   "cell_type": "code",
   "execution_count": 29,
   "id": "a7359b5d-f44d-4498-9179-bc2c6ee41d2f",
   "metadata": {
    "nbgrader": {
     "grade": false,
     "grade_id": "cell-7f883415a4e329b5",
     "locked": false,
     "schema_version": 3,
     "solution": true,
     "task": false
    }
   },
   "outputs": [],
   "source": [
    "def parametros(N):\n",
    "    # Parámetros Físicos\n",
    "    l = 10\n",
    "    Lt = 1.0\n",
    "    y0 = 0.01\n",
    "\n",
    "    # Parámetros Numéricos\n",
    "    h = Lt / N\n",
    "    \n",
    "    return l, Lt, y0, h\n",
    "\n",
    "def sol_exacta(l, t, y0):\n",
    "    ### BEGIN SOLUTION\n",
    "    return y0 /(y0 + (1-y0) * np.exp(-l * t) )\n",
    "    ### END SOLUTION"
   ]
  },
  {
   "cell_type": "code",
   "execution_count": 30,
   "id": "4976b7ea-5bad-4fbf-bb94-bee9dd187fd5",
   "metadata": {
    "nbgrader": {
     "grade": false,
     "grade_id": "cell-66922b236764814e",
     "locked": false,
     "schema_version": 3,
     "solution": true,
     "task": false
    }
   },
   "outputs": [
    {
     "name": "stdout",
     "output_type": "stream",
     "text": [
      "El directorio :/home/jovyan/HeCompA/.ans/examen2/ ya existe\n",
      "Respuestas y retroalimentación almacenadas.\n",
      "[0.         0.02040816 0.04081633 0.06122449 0.08163265 0.10204082\n",
      " 0.12244898 0.14285714 0.16326531 0.18367347 0.20408163 0.2244898\n",
      " 0.24489796 0.26530612 0.28571429 0.30612245 0.32653061 0.34693878\n",
      " 0.36734694 0.3877551  0.40816327 0.42857143 0.44897959 0.46938776\n",
      " 0.48979592 0.51020408 0.53061224 0.55102041 0.57142857 0.59183673\n",
      " 0.6122449  0.63265306 0.65306122 0.67346939 0.69387755 0.71428571\n",
      " 0.73469388 0.75510204 0.7755102  0.79591837 0.81632653 0.83673469\n",
      " 0.85714286 0.87755102 0.89795918 0.91836735 0.93877551 0.95918367\n",
      " 0.97959184 1.        ]\n",
      "[0.01       0.01223628 0.0149651  0.01829119 0.02233978 0.02725959\n",
      " 0.03322606 0.04044415 0.04915059 0.05961483 0.0721379  0.08704814\n",
      " 0.10469245 0.12542187 0.14957008 0.17742446 0.20919018 0.24494959\n",
      " 0.28462172 0.32792857 0.3743764  0.42325984 0.47369333 0.52466938\n",
      " 0.57513647 0.6240844  0.67062266 0.71403943 0.75383396 0.7897215\n",
      " 0.8216152  0.84959278 0.8738561  0.89469048 0.91242862 0.92742136\n",
      " 0.94001599 0.95054163 0.95930025 0.96656237 0.97256575 0.97751636\n",
      " 0.98159052 0.9849378  0.9876841  0.98993478 0.99177759 0.99328529\n",
      " 0.99451806 0.99552552]\n"
     ]
    }
   ],
   "source": [
    "N = 4\n",
    "\n",
    "# Parámetros del problema\n",
    "l, Lt, y0, h = parametros(N)\n",
    "\n",
    "# Solución exacta\n",
    "# t = ...\n",
    "# y = ...\n",
    "### BEGIN SOLUTION\n",
    "t = np.linspace(0, 1.0, 50)\n",
    "y = sol_exacta(l, t, y0)\n",
    "file_answer.write('28', t, \"El arreglo t es incorrecto.\")\n",
    "file_answer.write('29', y, \"El arreglo y es incorrecto.\")\n",
    "file_answer.to_file('q5')\n",
    "### END SOLUTION\n",
    "\n",
    "print(t)\n",
    "print(y)"
   ]
  },
  {
   "cell_type": "code",
   "execution_count": 31,
   "id": "f44eed04-a37c-4c65-8d98-c6634cd4b009",
   "metadata": {
    "nbgrader": {
     "grade": true,
     "grade_id": "cell-92ee3ba4537ce5a4",
     "locked": true,
     "points": 2,
     "schema_version": 3,
     "solution": false,
     "task": false
    }
   },
   "outputs": [
    {
     "name": "stdout",
     "output_type": "stream",
     "text": [
      "\u001b[39m----------------------------------------\n",
      "\u001b[32m28 | Tu resultado es correcto.\n",
      "\u001b[39m----------------------------------------\n",
      "\u001b[39m----------------------------------------\n",
      "\u001b[32m29 | Tu resultado es correcto.\n",
      "\u001b[39m----------------------------------------\n"
     ]
    }
   ],
   "source": [
    "quizz.eval_numeric('28', t)\n",
    "quizz.eval_numeric('29', y)"
   ]
  },
  {
   "cell_type": "code",
   "execution_count": 32,
   "id": "394e35dd-d40d-4748-98e4-1acf424bc640",
   "metadata": {
    "nbgrader": {
     "grade": false,
     "grade_id": "cell-3e7d7d3b3afc742d",
     "locked": true,
     "schema_version": 3,
     "solution": false,
     "task": false
    }
   },
   "outputs": [
    {
     "data": {
      "image/png": "[encoded data removed]",
      "text/plain": [
       "<Figure size 480x240 with 1 Axes>"
      ]
     },
     "metadata": {},
     "output_type": "display_data"
    }
   ],
   "source": [
    "import macti.visual as mvis\n",
    "plt.figure(figsize=(6,3))\n",
    "plt.plot(t, y, label='Sol. exacta') # Gráfica de la solución exacta\n",
    "plt.grid()\n",
    "plt.legend()\n",
    "plt.show()"
   ]
  },
  {
   "cell_type": "markdown",
   "id": "feac7144-673f-44ac-b6db-9889141bc47e",
   "metadata": {
    "nbgrader": {
     "grade": false,
     "grade_id": "cell-1fc04bb835a5c9a6",
     "locked": true,
     "schema_version": 3,
     "solution": false,
     "task": false
    }
   },
   "source": [
    "<div class=\"alert alert-success\">\n",
    "\n",
    "<font color=\"DarkBlue\">\n",
    "\n",
    "2. Completa la función `solucion_numerica()`.\n",
    "\n",
    "</font></div>"
   ]
  },
  {
   "cell_type": "code",
   "execution_count": 33,
   "id": "e25aec51-ad7d-40dd-902b-5dd8fd238a5c",
   "metadata": {
    "nbgrader": {
     "grade": false,
     "grade_id": "cell-88c53eff358ac9a3",
     "locked": false,
     "schema_version": 3,
     "solution": true,
     "task": false
    }
   },
   "outputs": [],
   "source": [
    "def sol_numerica(y0, N, h, l):\n",
    "    # Definición de los arreglos\n",
    "    ta = [0]\n",
    "    ya = [y0]\n",
    "    \n",
    "    for k in range(0, N):\n",
    "        ta.append(h * (k + 1))\n",
    "        #ya.append( ... )\n",
    "        ### BEGIN SOLUTION\n",
    "        ya.append(h * (l * ya[k] * (1 - ya[k])) + ya[k])\n",
    "        ### END SOLUTION\n",
    "\n",
    "    return ta, ya"
   ]
  },
  {
   "cell_type": "code",
   "execution_count": 34,
   "id": "fdfb5e1b-569d-4e51-b4d5-ce6607284ccd",
   "metadata": {
    "nbgrader": {
     "grade": false,
     "grade_id": "cell-80f16ecdfc140980",
     "locked": false,
     "schema_version": 3,
     "solution": true,
     "task": false
    }
   },
   "outputs": [
    {
     "name": "stdout",
     "output_type": "stream",
     "text": [
      "El directorio :/home/jovyan/HeCompA/.ans/examen2/ ya existe\n",
      "Respuestas y retroalimentación almacenadas.\n",
      "[0, 0.25, 0.5, 0.75, 1.0] [0.01, 0.03475, 0.11860609375, 0.37995281443841555, 0.9689244975352719]\n"
     ]
    }
   ],
   "source": [
    "# Solución numerica\n",
    "# ta, ya = ...\n",
    "### BEGIN SOLUTION\n",
    "ta, ya = sol_numerica(y0, N, h, l)\n",
    "file_answer.write('30', ta, \"El arreglo ta es incorrecto.\")\n",
    "file_answer.write('31', ya, \"El arreglo ya es incorrecto.\")\n",
    "file_answer.to_file('q5')\n",
    "### END SOLUTION\n",
    "\n",
    "print(ta, ya)"
   ]
  },
  {
   "cell_type": "code",
   "execution_count": 35,
   "id": "6b7d4795-dd86-4550-96a3-69c37c0c5dd0",
   "metadata": {
    "nbgrader": {
     "grade": true,
     "grade_id": "cell-cfcead74e4529f5c",
     "locked": true,
     "points": 2,
     "schema_version": 3,
     "solution": false,
     "task": false
    }
   },
   "outputs": [
    {
     "name": "stdout",
     "output_type": "stream",
     "text": [
      "\u001b[39m----------------------------------------\n",
      "\u001b[32m30 | Tu resultado es correcto.\n",
      "\u001b[39m----------------------------------------\n",
      "\u001b[39m----------------------------------------\n",
      "\u001b[32m31 | Tu resultado es correcto.\n",
      "\u001b[39m----------------------------------------\n"
     ]
    }
   ],
   "source": [
    "quizz.eval_numeric('30', ta)\n",
    "quizz.eval_numeric('31', ya)"
   ]
  },
  {
   "cell_type": "code",
   "execution_count": 36,
   "id": "4607c37d-2f77-4b6b-bccd-05e5dde261b9",
   "metadata": {
    "nbgrader": {
     "grade": false,
     "grade_id": "cell-8e63cb6735ed745c",
     "locked": true,
     "schema_version": 3,
     "solution": false,
     "task": false
    }
   },
   "outputs": [
    {
     "data": {
      "image/png": "[encoded data removed]",
      "text/plain": [
       "<Figure size 480x240 with 1 Axes>"
      ]
     },
     "metadata": {},
     "output_type": "display_data"
    }
   ],
   "source": [
    "plt.figure(figsize=(6,3))\n",
    "plt.plot(t, y, label='Sol. exacta') # Gráfica de la solución exacta\n",
    "plt.plot(ta, ya, 'or', label='Sol. numérica') # Gráfica de la solución numérica\n",
    "plt.grid()\n",
    "plt.legend()\n",
    "plt.show()"
   ]
  },
  {
   "cell_type": "markdown",
   "id": "8aeb1811-ea7d-4d35-882d-ed26abf9df53",
   "metadata": {
    "nbgrader": {
     "grade": false,
     "grade_id": "cell-761f786dc1e79e84",
     "locked": true,
     "schema_version": 3,
     "solution": false,
     "task": false
    }
   },
   "source": [
    "<div class=\"alert alert-success\">\n",
    "\n",
    "<font color=\"DarkBlue\">\n",
    "\n",
    "3. Completa la función `error()`.\n",
    "\n",
    "</font></div>"
   ]
  },
  {
   "cell_type": "code",
   "execution_count": 37,
   "id": "1e44fd81-75c2-4404-a4ed-608a9b609557",
   "metadata": {
    "nbgrader": {
     "grade": false,
     "grade_id": "cell-89ff546a92d424a2",
     "locked": false,
     "schema_version": 3,
     "solution": true,
     "task": false
    }
   },
   "outputs": [],
   "source": [
    "def error(ve, va):\n",
    "    # return ...\n",
    "    ### BEGIN SOLUTION\n",
    "    return np.abs(ve - va)\n",
    "    ### END SOLUTION"
   ]
  },
  {
   "cell_type": "code",
   "execution_count": 38,
   "id": "4bb52923-43ad-4bdd-97c4-84a058b5bcbd",
   "metadata": {
    "nbgrader": {
     "grade": false,
     "grade_id": "cell-ba72fea93306baf7",
     "locked": false,
     "schema_version": 3,
     "solution": true,
     "task": false
    }
   },
   "outputs": [
    {
     "name": "stdout",
     "output_type": "stream",
     "text": [
      "El directorio :/home/jovyan/HeCompA/.ans/examen2/ ya existe\n",
      "Respuestas y retroalimentación almacenadas.\n",
      "[0.         0.07482205 0.48125351 0.56813434 0.02660102]\n"
     ]
    }
   ],
   "source": [
    "# Cálculo del error\n",
    "# e = ...\n",
    "### BEGIN SOLUTION\n",
    "e = error(sol_exacta(l, np.array(ta), y0), ya)\n",
    "file_answer.write('32', e, \"El arreglo e es incorrecto.\")\n",
    "file_answer.to_file('q5')\n",
    "### END SOLUTION\n",
    "\n",
    "print(e)"
   ]
  },
  {
   "cell_type": "code",
   "execution_count": 39,
   "id": "6f5b61d9-7cb3-4ca8-a464-f1bc445f6db6",
   "metadata": {
    "nbgrader": {
     "grade": true,
     "grade_id": "cell-14216630debd3eaf",
     "locked": true,
     "points": 1,
     "schema_version": 3,
     "solution": false,
     "task": false
    }
   },
   "outputs": [
    {
     "name": "stdout",
     "output_type": "stream",
     "text": [
      "\u001b[39m----------------------------------------\n",
      "\u001b[32m32 | Tu resultado es correcto.\n",
      "\u001b[39m----------------------------------------\n"
     ]
    }
   ],
   "source": [
    "quizz.eval_numeric('32', e)"
   ]
  },
  {
   "cell_type": "code",
   "execution_count": 40,
   "id": "4d9e34ad-57e9-4818-ac5e-a0e46cc1cee7",
   "metadata": {
    "nbgrader": {
     "grade": false,
     "grade_id": "cell-65f207009807a737",
     "locked": true,
     "schema_version": 3,
     "solution": false,
     "task": false
    }
   },
   "outputs": [
    {
     "data": {
      "image/png": "[encoded data removed]",
      "text/plain": [
       "<Figure size 480x240 with 1 Axes>"
      ]
     },
     "metadata": {},
     "output_type": "display_data"
    }
   ],
   "source": [
    "# Graficación del resultado completo\n",
    "plt.figure(figsize=(6,3))\n",
    "plt.plot(t, y, label='Sol. exacta') # Gráfica de la solución exacta\n",
    "plt.plot(ta, ya, 'or', label='Sol. numérica') # Gráfica de la solución numérica\n",
    "plt.plot(ta, e, label='Error') # Gráfica del error\n",
    "plt.grid()\n",
    "plt.legend()\n",
    "plt.show()"
   ]
  },
  {
   "cell_type": "markdown",
   "id": "bb73e485-1ecb-42ed-a1ea-aab6b8a7bc9e",
   "metadata": {
    "nbgrader": {
     "grade": false,
     "grade_id": "cell-cf52b59f9dbb29ec",
     "locked": true,
     "schema_version": 3,
     "solution": false,
     "task": false
    }
   },
   "source": [
    "<div class=\"alert alert-success\">\n",
    "\n",
    "<font color=\"DarkBlue\">\n",
    "\n",
    "4. Completa la función `metodo_euler(N)` usando lo desarrollado en los puntos 1, 2 y 3 y ejecutala con:\n",
    "    * N = 16\n",
    "    * N = 64\n",
    "\n",
    "</font></div>"
   ]
  },
  {
   "cell_type": "code",
   "execution_count": 41,
   "id": "76a4f82d-f952-46c6-a9cd-bb696f335863",
   "metadata": {
    "nbgrader": {
     "grade": false,
     "grade_id": "cell-66f6e0bb992b648b",
     "locked": false,
     "schema_version": 3,
     "solution": true,
     "task": false
    }
   },
   "outputs": [],
   "source": [
    "def metodo_euler(N):\n",
    "    # Parámetros del problema\n",
    "    # ...\n",
    "    # Solución exacta\n",
    "    # ...\n",
    "    # Solución aproximada\n",
    "    # ...\n",
    "    # Cálculo del error\n",
    "    # ...\n",
    "    # Graficación del resultado completo\n",
    "    # ...\n",
    "    ### BEGIN SOLUTION\n",
    "    # Parámetros del problema\n",
    "    l, Lt, y0, h = parametros(N)\n",
    "\n",
    "    # Solución exacta\n",
    "    t = np.linspace(0, 1.0, 50)\n",
    "    y = sol_exacta(l, t, y0)\n",
    "\n",
    "    # Solución aproximada\n",
    "    ta, ya = sol_numerica(y0, N, h, l)\n",
    "    \n",
    "    # Cálculo del error\n",
    "    e = error(sol_exacta(l, np.array(ta), y0), ya)\n",
    "\n",
    "    # Graficación del resultado completo\n",
    "    plt.figure(figsize=(6,3))\n",
    "    plt.plot(t, y, label='Sol. exacta') # Gráfica de la solución exacta\n",
    "    plt.plot(ta, ya, 'or', label='Sol. numérica') # Gráfica de la solución numérica\n",
    "    plt.plot(ta, e, label='Error') # Gráfica del error\n",
    "    plt.grid()\n",
    "    plt.legend()\n",
    "    plt.show()\n",
    "    ### END SOLUTION"
   ]
  },
  {
   "cell_type": "code",
   "execution_count": 42,
   "id": "4deb0f87-1217-407c-91c8-d5f82af082a7",
   "metadata": {
    "nbgrader": {
     "grade": true,
     "grade_id": "cell-39bd9a28bd8fdc8d",
     "locked": false,
     "points": 1,
     "schema_version": 3,
     "solution": true,
     "task": false
    }
   },
   "outputs": [
    {
     "data": {
      "image/png": "[encoded data removed]",
      "text/plain": [
       "<Figure size 480x240 with 1 Axes>"
      ]
     },
     "metadata": {},
     "output_type": "display_data"
    }
   ],
   "source": [
    "# Ejecutar la función para N = 16\n",
    "### BEGIN SOLUTION\n",
    "metodo_euler(16)\n",
    "### END SOLUTION"
   ]
  },
  {
   "cell_type": "code",
   "execution_count": 43,
   "id": "d89faa56-d292-4f2e-8b80-409b660dee66",
   "metadata": {
    "nbgrader": {
     "grade": true,
     "grade_id": "cell-cf043043c772b1ae",
     "locked": false,
     "points": 1,
     "schema_version": 3,
     "solution": true,
     "task": false
    }
   },
   "outputs": [
    {
     "data": {
      "image/png": "[encoded data removed]",
      "text/plain": [
       "<Figure size 480x240 with 1 Axes>"
      ]
     },
     "metadata": {},
     "output_type": "display_data"
    }
   ],
   "source": [
    "# Ejecutar la función para N = 64\n",
    "### BEGIN SOLUTION\n",
    "metodo_euler(64)\n",
    "### END SOLUTION"
   ]
  },
  {
   "cell_type": "code",
   "execution_count": null,
   "id": "283eb976-8f04-4801-90f5-3f17ce0b652b",
   "metadata": {},
   "outputs": [],
   "source": []
  }
 ],
 "metadata": {
  "kernelspec": {
   "display_name": "Python 3 (ipykernel)",
   "language": "python",
   "name": "python3"
  },
  "language_info": {
   "codemirror_mode": {
    "name": "ipython",
    "version": 3
   },
   "file_extension": ".py",
   "mimetype": "text/x-python",
   "name": "python",
   "nbconvert_exporter": "python",
   "pygments_lexer": "ipython3",
   "version": "3.11.6"
  }
 },
 "nbformat": 4,
 "nbformat_minor": 5
}
