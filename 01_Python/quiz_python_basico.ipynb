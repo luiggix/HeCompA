{
 "cells": [
  {
   "cell_type": "markdown",
   "id": "3f8df543-8c91-4224-8df1-19c305daf800",
   "metadata": {
    "nbgrader": {
     "grade": false,
     "grade_id": "cell-5c76a2c56bc6a16a",
     "locked": true,
     "schema_version": 3,
     "solution": false,
     "task": false
    }
   },
   "source": [
    "# Quiz: Python básico.\n",
    "\n",
    "En este primer examen se evaluan los conceptos básicos de Python a través de la resolución de ejercicios que van de menos a más. Se revisan temas de:\n",
    "* Definición de variables.\n",
    "* Tipos de variables\n",
    "* Arreglos de numpy simples\n",
    "* Funciones.\n",
    "\n",
    " <p xmlns:cc=\"http://creativecommons.org/ns#\" xmlns:dct=\"http://purl.org/dc/terms/\"><b>Quiz: Python básico</b> by <a rel=\"cc:attributionURL dct:creator\" property=\"cc:attributionName\" href=\"https://www.macti.unam.mx\">Luis M. de la Cruz</a> is licensed under <a href=\"http://creativecommons.org/licenses/by-sa/4.0/?ref=chooser-v1\" target=\"_blank\" rel=\"license noopener noreferrer\" style=\"display:inline-block;\">Attribution-ShareAlike 4.0 International<img style=\"height:22px!important;margin-left:3px;vertical-align:text-bottom;\" src=\"https://mirrors.creativecommons.org/presskit/icons/cc.svg?ref=chooser-v1\"><img style=\"height:22px!important;margin-left:3px;vertical-align:text-bottom;\" src=\"https://mirrors.creativecommons.org/presskit/icons/by.svg?ref=chooser-v1\"><img style=\"height:22px!important;margin-left:3px;vertical-align:text-bottom;\" src=\"https://mirrors.creativecommons.org/presskit/icons/sa.svg?ref=chooser-v1\"></a></p> "
   ]
  },
  {
   "cell_type": "markdown",
   "id": "0436c127-c44c-4f4b-99e0-a3280d145641",
   "metadata": {
    "nbgrader": {
     "grade": false,
     "grade_id": "cell-8866df282d4b041c",
     "locked": true,
     "schema_version": 3,
     "solution": false,
     "task": false
    }
   },
   "source": [
    "# El huevo cocido perfecto\n",
    "\n",
    "¿Cuál es el tiempo ideal para cocinar un huevo?\n",
    "\n",
    "<img src=\"./huevo_cocido.jpg\"  style=\"width: 300px;\"/>\n",
    "\n",
    "\n",
    "Para lograr un **huevo cocido** suave, la clara debe haberse calentado el tiempo suficiente para coagular a una temperatura superior a $63^oC$, pero la yema no debe calentarse por encima de $70^oC$. Para lograr un **huevo duro**, el centro de la yema debe de alcanzar los $70^oC$.\n",
    "\n",
    "## Fórmula para calcular el tiempo de cocción.\n",
    "La siguiente fórmula expresa el tiempo $t$, en segundos, que le toma a la yema alcanzar la temperatura $T_y$, en grados Celsius.\n",
    "\n",
    "$$t = \\dfrac{M^{2/3} c \\rho^{1/3}}{K \\pi^2 (4\\pi/3)^{2/3}} \\ln \\left[ 0.76 \\dfrac{T_o - T_w}{T_y - T_w}\\right] \\tag{1}$$\n",
    "\n",
    "donde las propiedades son:\n",
    "\n",
    "- $M$ masa; \n",
    "- $\\rho$ densidad; \n",
    "- $c$ capacidad calorífica específica; \n",
    "- $K$ conductividad térmica; \n",
    "- $T_w$ es la temperatura de ebullición del agua;\n",
    "- $T_o$ es la temperatura original del huevo antes de meterlo al agua;\n",
    "- $T_y$ es la temperatura que debe alcanzar la yema.\n",
    "\n",
    "**A Primer on Scientific Programming with Python**, Langtangen, H.P., ISBN 9783642183669, Texts in Computational Science and Engineering, https://books.google.com.co/books?id=Hi1KVomG148C, 2011, Springer Berlin Heidelberg."
   ]
  },
  {
   "cell_type": "markdown",
   "id": "4a44c45c-edd7-4fe1-bcb1-043628ab436e",
   "metadata": {},
   "source": [
    "<div class=\"alert alert-block alert-warning\">\n",
    "\n",
    "La siguiente celda debe ser ejecutada para importar correctamente el Quiz.\n",
    "</div>"
   ]
  },
  {
   "cell_type": "code",
   "execution_count": 1,
   "id": "75ae19b0-03df-4319-9cc2-f0d91187c1cf",
   "metadata": {},
   "outputs": [],
   "source": [
    "from macti.evaluation import *\n",
    "quiz = Quiz('quiz_python_basico', 'HeCompA_doc', 'local')"
   ]
  },
  {
   "cell_type": "markdown",
   "id": "e46016d0-8837-4cfe-b5a2-bdab96b3d01a",
   "metadata": {
    "nbgrader": {
     "grade": false,
     "grade_id": "cell-d8d845db72854733",
     "locked": true,
     "schema_version": 3,
     "solution": false,
     "task": false
    }
   },
   "source": [
    "<div class=\"alert alert-success\">\n",
    "\n",
    "## Ejercicio 1.\n",
    "\n",
    "Calcular el tiempo de cocción necesario para un huevo duro pequeño de $M$ = 47 g para cuando la temperatura inicial \n",
    "del huevo está a temperatura ambiente de $T_{o} = 20^oC$.\n",
    "\n",
    "**Datos**:\n",
    "- $M$ = 47 g\n",
    "- $c$ = 3.7 J / g K\n",
    "- $\\rho$ = 1.038 g / cm$^3$\n",
    "- $K$ = 5.4 $\\times 10^{-3}$ W / cm K\n",
    "- $T_w = 100^oC$\n",
    "- $T_y = 70^oC$\n",
    "  \n",
    "</div>\n"
   ]
  },
  {
   "cell_type": "markdown",
   "id": "851026a6-cf03-4cdc-9d3d-5594a0d91e39",
   "metadata": {
    "nbgrader": {
     "grade": false,
     "grade_id": "cell-260d05e60507f131",
     "locked": true,
     "schema_version": 3,
     "solution": false,
     "task": false
    }
   },
   "source": [
    "<div class=\"alert alert-success\">\n",
    "\n",
    "### Paso 1.\n",
    "Implementaremos primero la siguiente parte de la fórmula: $A = M^{2/3} c \\rho^{1/3}$. Para ello, primero define las variables **exactamente** como sigue:\n",
    "\n",
    "```python\n",
    "M   = 47    # Masa\n",
    "c   = 3.7   # Capacidad calorífica específica\n",
    "rho = 1.038 # Densidad\n",
    "```\n",
    "<br>\n",
    "Luego guarda en las siguientes variables el tipo de `M`, `c` y `rho`:\n",
    "\n",
    "```python\n",
    "type_M = ...\n",
    "type_c = ...\n",
    "type_rho = ...\n",
    "```\n",
    "</div>\n"
   ]
  },
  {
   "cell_type": "code",
   "execution_count": 2,
   "id": "d05b29a1-0742-49f0-b1f1-34104516902e",
   "metadata": {
    "nbgrader": {
     "grade": false,
     "grade_id": "cell-7cdce77da61e4868",
     "locked": false,
     "schema_version": 3,
     "solution": true,
     "task": false
    }
   },
   "outputs": [
    {
     "name": "stdout",
     "output_type": "stream",
     "text": [
      "M   = 47\n",
      "c   = 3.7\n",
      "rho = 1.038\n",
      "tipo de M: <class 'int'>\n",
      "tipo de c: <class 'float'>\n",
      "tipo de rho: <class 'float'>\n"
     ]
    }
   ],
   "source": [
    "# Define las variables\n",
    "# \n",
    "### BEGIN SOLUTION\n",
    "file_answer = FileAnswer() \n",
    "\n",
    "# Definimos las variables\n",
    "M   = 47    # Masa\n",
    "c   = 3.7   # Capacidad calorífica específica\n",
    "rho = 1.038 # Densidad\n",
    "\n",
    "type_M = str(type(M))\n",
    "type_c = str(type(c))\n",
    "type_rho = str(type(rho))\n",
    "\n",
    "file_answer.write('1.1', M, 'M no está definido como se indicó.')\n",
    "file_answer.write('1.2', c, 'c no está definido como se indicó.')\n",
    "file_answer.write('1.3', rho, 'rho no está definido como se indicó.')\n",
    "file_answer.write('1.4', type_M, 'El tipo de M no es correcto, checa su definición y vuelve a intentarlo.')\n",
    "file_answer.write('1.5', type_c, 'El tipo de c no es correcto, checa su definición y vuelve a intentarlo.')\n",
    "file_answer.write('1.6', type_rho, 'El tipo de rho no es correcto, checa su definición y vuelve a intentarlo.')\n",
    "\n",
    "#file_answer.to_file('quiz_python_basico')\n",
    "### END SOLUTION\n",
    "\n",
    "print(\"M   =\", M)\n",
    "print(\"c   =\", c)\n",
    "print(\"rho =\", rho)\n",
    "print(\"tipo de M:\", type_M)\n",
    "print(\"tipo de c:\", type_c)\n",
    "print(\"tipo de rho:\", type_rho)"
   ]
  },
  {
   "cell_type": "markdown",
   "id": "dcf5bb48-3b7a-46b9-9782-6af6e68d2b69",
   "metadata": {},
   "source": [
    "<div class=\"alert alert-block alert-info\">\n",
    "    \n",
    "Checa tus respuestas en las siguientes celdas:\n",
    "</div>"
   ]
  },
  {
   "cell_type": "code",
   "execution_count": 3,
   "id": "6ea090c6-84fb-4a6d-8c33-632e7cf45974",
   "metadata": {
    "nbgrader": {
     "grade": true,
     "grade_id": "cell-0216e6edf1575aa0",
     "locked": true,
     "points": 2,
     "schema_version": 3,
     "solution": false,
     "task": false
    }
   },
   "outputs": [
    {
     "name": "stdout",
     "output_type": "stream",
     "text": [
      "\u001b[39m----------------------------------------\n",
      "\u001b[32m1.1 | Tu resultado es correcto.\n",
      "\u001b[39m----------------------------------------\n"
     ]
    }
   ],
   "source": [
    "quiz.eval_numeric('1.1', M)"
   ]
  },
  {
   "cell_type": "code",
   "execution_count": 4,
   "id": "f9ff80d3-77e4-403c-9b8f-a78c76f1fc9c",
   "metadata": {},
   "outputs": [
    {
     "name": "stdout",
     "output_type": "stream",
     "text": [
      "\u001b[39m----------------------------------------\n",
      "\u001b[32m1.2 | Tu resultado es correcto.\n",
      "\u001b[39m----------------------------------------\n"
     ]
    }
   ],
   "source": [
    "quiz.eval_numeric('1.2', c)"
   ]
  },
  {
   "cell_type": "code",
   "execution_count": 5,
   "id": "6e7985cd-024f-4fdd-bd6c-f1e47a12ffa6",
   "metadata": {},
   "outputs": [
    {
     "name": "stdout",
     "output_type": "stream",
     "text": [
      "\u001b[39m----------------------------------------\n",
      "\u001b[32m1.3 | Tu resultado es correcto.\n",
      "\u001b[39m----------------------------------------\n"
     ]
    }
   ],
   "source": [
    "quiz.eval_numeric('1.3', rho)"
   ]
  },
  {
   "cell_type": "code",
   "execution_count": 6,
   "id": "08dbef17-4478-4612-9409-491a62378925",
   "metadata": {},
   "outputs": [
    {
     "name": "stdout",
     "output_type": "stream",
     "text": [
      "\u001b[39m----------------------------------------\n",
      "\u001b[32m1.4 | Tu resultado es correcto.\n",
      "\u001b[39m----------------------------------------\n"
     ]
    }
   ],
   "source": [
    "quiz.eval_datastruct('1.4', type_M)"
   ]
  },
  {
   "cell_type": "code",
   "execution_count": 7,
   "id": "f036539e-65ca-44c8-bf21-13808faf3df9",
   "metadata": {},
   "outputs": [
    {
     "name": "stdout",
     "output_type": "stream",
     "text": [
      "\u001b[39m----------------------------------------\n",
      "\u001b[32m1.5 | Tu resultado es correcto.\n",
      "\u001b[39m----------------------------------------\n"
     ]
    }
   ],
   "source": [
    "quiz.eval_datastruct('1.5', type_c)"
   ]
  },
  {
   "cell_type": "code",
   "execution_count": 8,
   "id": "3bf5fa1f-376d-4d58-a69d-1ff39b292b50",
   "metadata": {},
   "outputs": [
    {
     "name": "stdout",
     "output_type": "stream",
     "text": [
      "\u001b[39m----------------------------------------\n",
      "\u001b[32m1.6 | Tu resultado es correcto.\n",
      "\u001b[39m----------------------------------------\n"
     ]
    }
   ],
   "source": [
    "quiz.eval_datastruct('1.6', type_rho)"
   ]
  },
  {
   "cell_type": "markdown",
   "id": "c6be87e7-d8fe-4b71-bb12-122e364025e1",
   "metadata": {},
   "source": [
    "<div class=\"alert alert-success\">\n",
    "\n",
    "Ahora realiza el cálculo de $A = M^{2/3} c \\rho^{1/3}$\n",
    "</div>"
   ]
  },
  {
   "cell_type": "code",
   "execution_count": 9,
   "id": "af787876-a8f1-4291-be55-0a2db7183b8f",
   "metadata": {},
   "outputs": [
    {
     "name": "stdout",
     "output_type": "stream",
     "text": [
      "A = 48.790216719661984\n"
     ]
    }
   ],
   "source": [
    "# Realiza el cálculo\n",
    "# \n",
    "### BEGIN SOLUTION\n",
    "A = M**(2/3) * c * rho**(1/3)\n",
    "file_answer.write('1.7', A, 'Revisa la precedencia de operadores, en caso de duda utiliza () cuando sea necesario, particularmente al calcular potencias.')\n",
    "#file_answer.to_file('quiz_python_basico')\n",
    "### END SOLUTION\n",
    "\n",
    "print(\"A =\", A)"
   ]
  },
  {
   "cell_type": "markdown",
   "id": "d6c4c12a-1019-40a9-a398-6c8e760ff7dc",
   "metadata": {},
   "source": [
    "<div class=\"alert alert-block alert-info\">\n",
    "    \n",
    "Checa tu respuesta en la siguiente celda:\n",
    "</div>"
   ]
  },
  {
   "cell_type": "code",
   "execution_count": 10,
   "id": "a5afbc40-d7ba-4e07-a0f8-834777b230a2",
   "metadata": {},
   "outputs": [
    {
     "name": "stdout",
     "output_type": "stream",
     "text": [
      "\u001b[39m----------------------------------------\n",
      "\u001b[32m1.7 | Tu resultado es correcto.\n",
      "\u001b[39m----------------------------------------\n"
     ]
    }
   ],
   "source": [
    "quiz.eval_numeric('1.7', A)"
   ]
  },
  {
   "cell_type": "markdown",
   "id": "a8c143c9-1ed3-4ef4-8619-5195da31b7e8",
   "metadata": {
    "nbgrader": {
     "grade": false,
     "grade_id": "cell-9a28e1da5eb326c5",
     "locked": true,
     "schema_version": 3,
     "solution": false,
     "task": false
    }
   },
   "source": [
    "<div class=\"alert alert-success\">\n",
    "    \n",
    "### Paso 2.\n",
    "Implementa $B = K \\pi^2 (4\\pi/3)^{2/3}$. Recuerda que $K$ = 5.4 $\\times 10^{-3}$ W / cm K.\n",
    "\n",
    "**Hint**: puedes obtener el valor de $\\pi$ de la biblioteca `math` como sigue:\n",
    "`from math import pi`. Checa qué variable adicional debes definir antes de hacer el cálculo de $B$.\n",
    "\n",
    "</div>"
   ]
  },
  {
   "cell_type": "code",
   "execution_count": 11,
   "id": "d43d8c94-8cd4-4757-be77-50c218797128",
   "metadata": {
    "nbgrader": {
     "grade": false,
     "grade_id": "cell-58536a22ef552cf2",
     "locked": false,
     "schema_version": 3,
     "solution": true,
     "task": false
    }
   },
   "outputs": [
    {
     "name": "stdout",
     "output_type": "stream",
     "text": [
      "B =  0.13849026450902358\n"
     ]
    }
   ],
   "source": [
    "# Define K y realiza el cálculo:\n",
    "#\n",
    "### BEGIN SOLUTION\n",
    "from math import pi\n",
    "\n",
    "# Definimos las variables\n",
    "K = 5.4e-3  # Conductividad térmica\n",
    "\n",
    "B = K * pi**2 * (4 * pi / 3)**(2/3)\n",
    "file_answer.write('1.8', K, 'Revisa la definición de K.')\n",
    "feedback_1_8 = \"\"\"Revisa la precedencia de operadores, \n",
    "en caso de duda utiliza () cuando sea necesario, \n",
    "particularmente al calcular potencias.\"\"\"\n",
    "file_answer.write('1.9', B, feedback_1_8)\n",
    "#file_answer.to_file('quiz_python_basico')\n",
    "### END SOLUTION\n",
    "\n",
    "print(\"B = \", B)"
   ]
  },
  {
   "cell_type": "markdown",
   "id": "1a11186b-da98-465b-836e-0d5abddbf1f9",
   "metadata": {},
   "source": [
    "<div class=\"alert alert-block alert-info\">\n",
    "    \n",
    "Checa tus respuestas en las siguientes celdas:\n",
    "</div>"
   ]
  },
  {
   "cell_type": "code",
   "execution_count": 12,
   "id": "b78056a2-d292-4fe9-b43c-941cd8802fdf",
   "metadata": {},
   "outputs": [
    {
     "name": "stdout",
     "output_type": "stream",
     "text": [
      "\u001b[39m----------------------------------------\n",
      "\u001b[32m1.8 | Tu resultado es correcto.\n",
      "\u001b[39m----------------------------------------\n"
     ]
    }
   ],
   "source": [
    "quiz.eval_numeric('1.8', K)"
   ]
  },
  {
   "cell_type": "code",
   "execution_count": 13,
   "id": "47b8206a-6a62-4c27-96e3-bd627fe7a0e3",
   "metadata": {
    "nbgrader": {
     "grade": true,
     "grade_id": "cell-f0d238e66ca2e758",
     "locked": true,
     "points": 2,
     "schema_version": 3,
     "solution": false,
     "task": false
    }
   },
   "outputs": [
    {
     "name": "stdout",
     "output_type": "stream",
     "text": [
      "\u001b[39m----------------------------------------\n",
      "\u001b[32m1.9 | Tu resultado es correcto.\n",
      "\u001b[39m----------------------------------------\n"
     ]
    }
   ],
   "source": [
    "quiz.eval_numeric('1.9', B)"
   ]
  },
  {
   "cell_type": "markdown",
   "id": "73cd7f8d-f1de-4de7-a925-4a2a23dc68e6",
   "metadata": {
    "nbgrader": {
     "grade": false,
     "grade_id": "cell-5584a80703036d53",
     "locked": true,
     "schema_version": 3,
     "solution": false,
     "task": false
    }
   },
   "source": [
    "<div class=\"alert alert-success\">\n",
    "\n",
    "### Paso 3.\n",
    "Implementa $C = \\ln \\left[ 0.76 \\dfrac{T_o - T_w}{T_y - T_w}\\right]$. Recuerda que $T_w = 100^oC$, $T_y = 70^oC$ y se quiere hacer el cálculo para $T_{o} = 20^oC$.\n",
    "\n",
    "**Hint**: en este caso se requiere de la función logaritmo natural, la cual puede ser obtenida del módulo `math` como sigue: `from math import log as ln`. Revisa que variables adicionales se desean calcular.\n",
    "\n",
    "</div>"
   ]
  },
  {
   "cell_type": "code",
   "execution_count": 14,
   "id": "9e11f0f0-c098-413c-8837-85c68b26e9f5",
   "metadata": {
    "nbgrader": {
     "grade": false,
     "grade_id": "cell-9b74fbc84a88a25c",
     "locked": false,
     "schema_version": 3,
     "solution": true,
     "task": false
    }
   },
   "outputs": [
    {
     "name": "stdout",
     "output_type": "stream",
     "text": [
      "C =  0.7063924073099658\n"
     ]
    }
   ],
   "source": [
    "# Define To, Tw, Ty y realiza el cálculo\n",
    "#\n",
    "### BEGIN SOLUTION\n",
    "from math import log as ln\n",
    "\n",
    "# Definimos las variables\n",
    "To = 20  # Temperatura inicial del huevo\n",
    "Tw = 100 # Temperatura de ebullición del agua\n",
    "Ty = 70  # Temperatura que debe alcanzar la yema\n",
    "\n",
    "C = ln(0.76 * (To - Tw) / (Ty - Tw))\n",
    "\n",
    "file_answer.write('1.10', To, \"Revisa la definición de To.\")\n",
    "file_answer.write('1.11', Tw, \"Revisa la definición de Tw.\")\n",
    "file_answer.write('1.12', Ty, \"Revisa la definición de Ty.\")\n",
    "file_answer.write('1.13', C, feedback_1_8)\n",
    "#file_answer.to_file('quiz_python_basico')\n",
    "### END SOLUTION\n",
    "\n",
    "print(\"C = \", C)"
   ]
  },
  {
   "cell_type": "markdown",
   "id": "29996f06-ab3b-40b8-ab77-307b15f207dd",
   "metadata": {},
   "source": [
    "<div class=\"alert alert-block alert-info\">\n",
    "    \n",
    "Checa tus respuestas en las siguientes celdas:\n",
    "</div>"
   ]
  },
  {
   "cell_type": "code",
   "execution_count": 15,
   "id": "f7756862-db40-454b-8db1-86769d9cc01b",
   "metadata": {},
   "outputs": [
    {
     "name": "stdout",
     "output_type": "stream",
     "text": [
      "\u001b[39m----------------------------------------\n",
      "\u001b[32m1.10 | Tu resultado es correcto.\n",
      "\u001b[39m----------------------------------------\n"
     ]
    }
   ],
   "source": [
    "quiz.eval_numeric('1.10', To)"
   ]
  },
  {
   "cell_type": "code",
   "execution_count": 16,
   "id": "e3daca56-0ebc-4b50-b4de-54513ceb7f7b",
   "metadata": {},
   "outputs": [
    {
     "name": "stdout",
     "output_type": "stream",
     "text": [
      "\u001b[39m----------------------------------------\n",
      "\u001b[32m1.11 | Tu resultado es correcto.\n",
      "\u001b[39m----------------------------------------\n"
     ]
    }
   ],
   "source": [
    "quiz.eval_numeric('1.11', Tw)"
   ]
  },
  {
   "cell_type": "code",
   "execution_count": 17,
   "id": "e6a10e4d-8f23-4dfd-bde4-90eb49e94bca",
   "metadata": {},
   "outputs": [
    {
     "name": "stdout",
     "output_type": "stream",
     "text": [
      "\u001b[39m----------------------------------------\n",
      "\u001b[32m1.12 | Tu resultado es correcto.\n",
      "\u001b[39m----------------------------------------\n"
     ]
    }
   ],
   "source": [
    "quiz.eval_numeric('1.12', Ty)"
   ]
  },
  {
   "cell_type": "code",
   "execution_count": 18,
   "id": "4dedb909-b823-4090-88b3-42bc3cae0bf8",
   "metadata": {
    "nbgrader": {
     "grade": true,
     "grade_id": "cell-682c8b1db2a6d509",
     "locked": true,
     "points": 2,
     "schema_version": 3,
     "solution": false,
     "task": false
    }
   },
   "outputs": [
    {
     "name": "stdout",
     "output_type": "stream",
     "text": [
      "\u001b[39m----------------------------------------\n",
      "\u001b[32m1.13 | Tu resultado es correcto.\n",
      "\u001b[39m----------------------------------------\n"
     ]
    }
   ],
   "source": [
    "quiz.eval_numeric('1.13', C)"
   ]
  },
  {
   "cell_type": "markdown",
   "id": "67c52156-514c-4785-b2ae-2886a4d6b1fc",
   "metadata": {
    "nbgrader": {
     "grade": false,
     "grade_id": "cell-3e71446ea2d677c2",
     "locked": true,
     "schema_version": 3,
     "solution": false,
     "task": false
    }
   },
   "source": [
    "<div class=\"alert alert-success\">\n",
    "\n",
    "### Paso 4.\n",
    "Hasta ahora hemos calculado: \n",
    "* $A = M^{2/3} c \\rho^{1/3}$,\n",
    "* $B = K \\pi^2 (4\\pi/3)^{2/3}$ y\n",
    "* $C = \\ln \\left[ 0.76 \\dfrac{T_o - T_w}{T_y - T_w}\\right]$.\n",
    "\n",
    "La fórmula completa es:\n",
    "\n",
    "$$t = \\dfrac{M^{2/3} c \\rho^{1/3}}{K \\pi^2 (4\\pi/3)^{2/3}} \\ln \\left[ 0.76 \\dfrac{T_o - T_w}{T_y - T_w}\\right] \\tag{1}$$\n",
    "\n",
    "por lo tanto el resultado final se calcula como sigue:\n",
    "\n",
    "$$t = \\dfrac{A}{B} * C$$\n",
    "\n",
    "Implementa el cálculo final del tiempo de cocción.\n",
    "\n",
    "</div>"
   ]
  },
  {
   "cell_type": "code",
   "execution_count": 19,
   "id": "0e4b5ff2-d68f-4177-91b7-28806974f422",
   "metadata": {
    "nbgrader": {
     "grade": false,
     "grade_id": "cell-6a1431104ec6fb61",
     "locked": false,
     "schema_version": 3,
     "solution": true,
     "task": false
    }
   },
   "outputs": [
    {
     "name": "stdout",
     "output_type": "stream",
     "text": [
      "Tiempo en segundos: 248.86253747844736\n"
     ]
    }
   ],
   "source": [
    "# Realiza el cálculo final:\n",
    "# t = ...\n",
    "### BEGIN SOLUTION\n",
    "t = A / B * C\n",
    "file_answer.write('1.14', t, 'Revisa que todos los cálculos anteriores se hayan realizado correctamente.')\n",
    "#file_answer.to_file('quiz_python_basico')\n",
    "### END SOLUTION\n",
    "\n",
    "print(\"Tiempo en segundos:\", t)"
   ]
  },
  {
   "cell_type": "markdown",
   "id": "98ec5dae-76be-441a-94d9-ad37bcf8bd32",
   "metadata": {},
   "source": [
    "<div class=\"alert alert-block alert-info\">\n",
    "    \n",
    "Checa tu respuesta en la siguiente celda:\n",
    "</div>"
   ]
  },
  {
   "cell_type": "code",
   "execution_count": 20,
   "id": "3ea4f42b-cee9-4604-a7a2-23857622adad",
   "metadata": {
    "nbgrader": {
     "grade": true,
     "grade_id": "cell-f52362bfea946d21",
     "locked": true,
     "points": 2,
     "schema_version": 3,
     "solution": false,
     "task": false
    }
   },
   "outputs": [
    {
     "name": "stdout",
     "output_type": "stream",
     "text": [
      "\u001b[39m----------------------------------------\n",
      "\u001b[32m1.14 | Tu resultado es correcto.\n",
      "\u001b[39m----------------------------------------\n"
     ]
    }
   ],
   "source": [
    "quiz.eval_numeric('1.14', t)"
   ]
  },
  {
   "cell_type": "markdown",
   "id": "150e1df8-a34d-4fbb-aa8d-e6b6a8b6ae52",
   "metadata": {
    "nbgrader": {
     "grade": false,
     "grade_id": "cell-8c2cf0599d0f9dd3",
     "locked": true,
     "schema_version": 3,
     "solution": false,
     "task": false
    }
   },
   "source": [
    "<div class=\"alert alert-success\">\n",
    "\n",
    "## Ejercicio 2.\n",
    "\n",
    "Implementa la fórmula $(1)$ en una sola línea y realiza el cálculo para el mismo huevo pero para una temperatura: $T_{o} = 4^oC$ (acabado de sacar del refri).\n",
    "\n",
    "Recuerda que la fórmula $(1)$ tiene la siguiente forma:\n",
    "\n",
    "$$t = \\dfrac{M^{2/3} c \\rho^{1/3}}{K \\pi^2 (4\\pi/3)^{2/3}} \\ln \\left[ 0.76 \\dfrac{T_o - T_w}{T_y - T_w}\\right] \\tag{1}$$\n",
    "\n",
    "</div>\n"
   ]
  },
  {
   "cell_type": "code",
   "execution_count": 21,
   "id": "cb37d801-e9e3-4989-bce4-87b6121d1976",
   "metadata": {
    "nbgrader": {
     "grade": false,
     "grade_id": "cell-c06ab427ea8ccdf2",
     "locked": false,
     "schema_version": 3,
     "solution": true,
     "task": false
    }
   },
   "outputs": [
    {
     "name": "stdout",
     "output_type": "stream",
     "text": [
      "Tiempo en segundos: 313.09454902221637\n"
     ]
    }
   ],
   "source": [
    "# Implementa la fórmula\n",
    "#\n",
    "### BEGIN SOLUTION\n",
    "# Definimos las variables\n",
    "To = 4  # Temperatura inicial del huevo\n",
    "t = M**(2/3) * c * rho**(1/3) / ( K * pi**2 * (4 * pi / 3)**(2/3) ) * ln(0.76 * (To - Tw) / (Ty - Tw))\n",
    "file_answer.write('2', t, feedback_1_8)\n",
    "#file_answer.to_file('quiz_python_basico')\n",
    "### END SOLUTION\n",
    "\n",
    "print(\"Tiempo en segundos:\", t)"
   ]
  },
  {
   "cell_type": "markdown",
   "id": "a6ad2d80-4ef6-41cf-b64c-9436c8be4fc2",
   "metadata": {},
   "source": [
    "<div class=\"alert alert-block alert-info\">\n",
    "    \n",
    "Checa tu respuesta en la siguiente celda:\n",
    "</div>"
   ]
  },
  {
   "cell_type": "code",
   "execution_count": 22,
   "id": "ebc92605-e1d3-4121-b3a8-463e376758f2",
   "metadata": {
    "nbgrader": {
     "grade": true,
     "grade_id": "cell-1e1039ea3c722ee9",
     "locked": true,
     "points": 3,
     "schema_version": 3,
     "solution": false,
     "task": false
    }
   },
   "outputs": [
    {
     "name": "stdout",
     "output_type": "stream",
     "text": [
      "\u001b[39m----------------------------------------\n",
      "\u001b[32m2 | Tu resultado es correcto.\n",
      "\u001b[39m----------------------------------------\n"
     ]
    }
   ],
   "source": [
    "quiz.eval_numeric('2', t)"
   ]
  },
  {
   "cell_type": "markdown",
   "id": "00d71608-858d-4cdd-b500-145b2b50b28c",
   "metadata": {
    "nbgrader": {
     "grade": false,
     "grade_id": "cell-e17f5071ff2d6cf2",
     "locked": true,
     "schema_version": 3,
     "solution": false,
     "task": false
    }
   },
   "source": [
    "<div class=\"alert alert-success\">\n",
    "\n",
    "## Ejercicio 3.\n",
    "\n",
    "Implementa una función de Python que reciba como argumentos todos los valores que necesita la fórmula $(1)$ y que regrese como resultado el tiempo de cocción del huevo. \n",
    "    \n",
    "```python\n",
    "def calc_tiempo(M, To, c, rho, K, Tw, Ty):\n",
    "    return ...\n",
    "```\n",
    "<br>\n",
    "Ejecuta la función como sigue:\n",
    "\n",
    "```python\n",
    "To = 20\n",
    "t1 = calc_tiempo(M, To, c, rho, K, Tw, Ty)\n",
    "\n",
    "To = 4\n",
    "t2 = calc_tiempo(M, To, c, rho, K, Tw, Ty)\n",
    "```\n",
    "</div>"
   ]
  },
  {
   "cell_type": "code",
   "execution_count": 23,
   "id": "36276317-127e-4af0-bffc-beccb79614cb",
   "metadata": {
    "nbgrader": {
     "grade": false,
     "grade_id": "cell-a4dbd8ecd24c3df9",
     "locked": false,
     "schema_version": 3,
     "solution": true,
     "task": false
    }
   },
   "outputs": [
    {
     "name": "stdout",
     "output_type": "stream",
     "text": [
      "Tiempo de cocción para To = 20 C 248.86253747844736 s\n",
      "Tiempo de cocción para To = 4 C 313.09454902221637 s\n"
     ]
    }
   ],
   "source": [
    "### BEGIN SOLUTION\n",
    "def calc_tiempo(M, To, c, rho, K, Tw, Ty):\n",
    "    return M**(2/3) * c * rho**(1/3) / ( K * pi**2 * (4 * pi / 3)**(2/3) ) * ln(0.76 * (To - Tw) / (Ty - Tw))\n",
    "\n",
    "To = 20\n",
    "t1 = calc_tiempo(M, To, c, rho, K, Tw, Ty)\n",
    "\n",
    "To = 4\n",
    "t2 = calc_tiempo(M, To, c, rho, K, Tw, Ty)\n",
    "file_answer.write('3', [t1, t2], 'Copia correctamente el cálculo de la fórmula, del ejercicio anterior. Revisa como se debe regresar un valor calculado en un función.')\n",
    "#file_answer.to_file('quiz_python_basico')\n",
    "### END SOLUTION\n",
    "\n",
    "print(\"Tiempo de cocción para To = 20 C\", t1, \"s\")\n",
    "print(\"Tiempo de cocción para To = 4 C\", t2, \"s\")"
   ]
  },
  {
   "cell_type": "markdown",
   "id": "2d108205-6a81-44db-9d07-5ef3d0a5eb9e",
   "metadata": {},
   "source": [
    "<div class=\"alert alert-block alert-info\">\n",
    "    \n",
    "Checa tu respuesta en la siguiente celda:\n",
    "</div>"
   ]
  },
  {
   "cell_type": "code",
   "execution_count": 24,
   "id": "f87fece3-01e6-4bfe-ba8b-5dcabcbc99c9",
   "metadata": {},
   "outputs": [
    {
     "name": "stdout",
     "output_type": "stream",
     "text": [
      "\u001b[39m----------------------------------------\n",
      "\u001b[32m3 | Tu resultado es correcto.\n",
      "\u001b[39m----------------------------------------\n"
     ]
    }
   ],
   "source": [
    "quiz.eval_numeric('3', [t1, t2])"
   ]
  },
  {
   "cell_type": "markdown",
   "id": "bdecc4b9-18e2-45a6-930b-2515459c9400",
   "metadata": {},
   "source": [
    "<div class=\"alert alert-success\">\n",
    "\n",
    "## Ejercicio 4.\n",
    "\n",
    "Construye la siguiente lista con 9 valores de temperaturas en el intervalo $[4^o C, 20^o C]$:\n",
    "\n",
    "```python\n",
    "To_lista = [ 4.,  6.,  8., 10., 12., 14., 16., 18., 20.]\n",
    "```\n",
    "<br>\n",
    "\n",
    "Usando la función `calc_tiempo()` definida en el ejercicio anterior, calcula todos los tiempos de cocción para las temperaturas de la lista `To_lista` y almacénalos en la lista `t_lista`. Esta lista debe verse similar a lo siguiente:\n",
    "\n",
    "```python\n",
    "[313.09454902221637, ..., 248.86253747844736]\n",
    "```\n",
    "</div>"
   ]
  },
  {
   "cell_type": "code",
   "execution_count": 25,
   "id": "da1cdf9e-be80-4f9b-880a-f0736dbb9e1f",
   "metadata": {},
   "outputs": [
    {
     "name": "stdout",
     "output_type": "stream",
     "text": [
      "Lista de temperaturas iniciales: [4.0, 6.0, 8.0, 10.0, 12.0, 14.0, 16.0, 18.0, 20.0]\n",
      "Lista de tiempos de cocción: [313.09454902221637, 305.67741828677, 298.100767196758, 290.3575830395756, 282.44038025843554, 274.34115696328047, 266.05134632399177, 257.5617621057524, 248.86253747844736]\n"
     ]
    }
   ],
   "source": [
    "\n",
    "### BEGIN SOLUTION\n",
    "To_lista = [ 4.,  6.,  8., 10., 12., 14., 16., 18., 20.]\n",
    "t_lista = []\n",
    "for To in To_lista:\n",
    "    t_lista.append(calc_tiempo(M, To, c, rho, K, Tw, Ty))\n",
    "file_answer.write('4.1', To_lista, 'La lista To_lista no está bien definida')\n",
    "file_answer.write('4.2', t_lista, 'La lista t_lista no está bien calculada')\n",
    "#file_answer.to_file('quiz_python_basico')\n",
    "### END SOLUTION\n",
    "\n",
    "print(\"Lista de temperaturas iniciales:\", To_lista)\n",
    "print(\"Lista de tiempos de cocción:\", t_lista)"
   ]
  },
  {
   "cell_type": "markdown",
   "id": "544b92ce-d766-4725-bff0-d37e7b5472d1",
   "metadata": {},
   "source": [
    "<div class=\"alert alert-block alert-info\">\n",
    "    \n",
    "Checa tus respuestas en las siguientes celdas:\n",
    "</div>"
   ]
  },
  {
   "cell_type": "code",
   "execution_count": 26,
   "id": "19e82f18-c287-4ef7-99c9-68bd555de7a6",
   "metadata": {},
   "outputs": [
    {
     "name": "stdout",
     "output_type": "stream",
     "text": [
      "\u001b[39m----------------------------------------\n",
      "\u001b[32m4.1 | Tu resultado es correcto.\n",
      "\u001b[39m----------------------------------------\n"
     ]
    }
   ],
   "source": [
    "quiz.eval_ordered_datastruct('4.1', To_lista)"
   ]
  },
  {
   "cell_type": "code",
   "execution_count": 27,
   "id": "45357f9a-1205-4467-9045-14424d16016c",
   "metadata": {},
   "outputs": [
    {
     "name": "stdout",
     "output_type": "stream",
     "text": [
      "\u001b[39m----------------------------------------\n",
      "\u001b[32m4.2 | Tu resultado es correcto.\n",
      "\u001b[39m----------------------------------------\n"
     ]
    }
   ],
   "source": [
    "quiz.eval_ordered_datastruct('4.2', t_lista)"
   ]
  },
  {
   "cell_type": "markdown",
   "id": "b11a169e-be95-40cb-8222-80912d5028dc",
   "metadata": {},
   "source": [
    "<div class=\"alert alert-success\">\n",
    "\n",
    "## Ejercicio 5.\n",
    "\n",
    "Construye la siguiente lista con 9 valores para el peso del huevo en el intervalo $[47 g, 63 g]$:\n",
    "\n",
    "```python\n",
    "M_lista = [47, 49, 51, 53, 55, 57, 59, 61, 63]\n",
    "```\n",
    "<br>\n",
    "\n",
    "Usando la función `calc_tiempo()` definida en el ejercicio anterior, calcula todos los tiempos de cocción para las temperaturas de la lista `To_lista` y los pesos de la lista `M_lista` y almacénalos en un diccionario de listas `t_diccionario`. Este diccionario debe verse similar a lo siguiente:\n",
    "\n",
    "```python\n",
    "{47: [313.09454902221637, ..., 248.86253747844736], 49: [321.91483277722574, ..., 255.8733212924952], ..., 63: [380.6308349506174, ..., 302.543610944914]}```\n",
    "</div>"
   ]
  },
  {
   "cell_type": "code",
   "execution_count": 28,
   "id": "7b59b53d-0a92-4ac4-acc0-935697226154",
   "metadata": {
    "nbgrader": {
     "grade": false,
     "grade_id": "cell-0aa9f5d5d1a30a51",
     "locked": false,
     "schema_version": 3,
     "solution": true,
     "task": false
    }
   },
   "outputs": [
    {
     "name": "stdout",
     "output_type": "stream",
     "text": [
      "Lista de pesos: [47, 49, 51, 53, 55, 57, 59, 61, 63]\n",
      "Diccionario de tiempos de cocción: {47: [313.09454902221637, 305.67741828677, 298.100767196758, 290.3575830395756, 282.44038025843554, 274.34115696328047, 266.05134632399177, 257.5617621057524, 248.86253747844736], 49: [321.91483277722574, 314.28875174884405, 306.49865646845797, 298.53733666615835, 290.39709590721355, 282.0697068778368, 273.5463614090783, 264.8176144778477, 255.8733212924952], 51: [330.6158869573406, 322.78368015451906, 314.7830259492206, 306.60651918474406, 298.246255398989, 289.69378490164013, 280.94006144725205, 271.9753847226723, 262.7893357321052], 53: [339.20390843941993, 331.16825357820727, 322.9597757537291, 314.57087745420586, 305.9934488925876, 297.2188208908549, 288.2377122198448, 279.0401705927369, 269.61550637169057], 55: [347.68455150357903, 339.4479923515572, 331.0342893843331, 322.4356551401178, 313.64377707414656, 304.6497692650118, 295.4441184378996, 286.01662348281826, 276.35632750379494], 57: [356.06299326116823, 347.62795094145974, 339.0114960257476, 330.2056533913452, 321.20191017923213, 311.9911663366146, 302.56367933943926, 292.9090022531429, 283.0159141443822], 59: [364.34398918278976, 355.71277216262035, 346.89592341388914, 337.88528233561016, 328.67213808427107, 319.24717896615624, 309.60043587426657, 299.7212189085406, 289.59804616916284], 61: [372.5319205080854, 363.7067334642212, 354.6917429752569, 345.4786050463744, 336.05841307458513, 326.42164610374317, 316.55811099031826, 306.4568775992782, 296.10620599716344], 63: [380.6308349506174, 371.613786670513, 362.40280858249736, 352.98937529172616, 343.3643865639765, 333.51811445571434, 323.4401442225402, 313.1193081062182, 302.543610944914]}\n"
     ]
    }
   ],
   "source": [
    "### BEGIN SOLUTION\n",
    "\n",
    "M_lista = [47, 49, 51, 53, 55, 57, 59, 61, 63]\n",
    "t_diccionario = {}\n",
    "\n",
    "for M in M_lista:\n",
    "    t_lista = []\n",
    "    for To in To_lista:\n",
    "        t_lista.append(calc_tiempo(M, To, c, rho, K, Tw, Ty))\n",
    "    t_diccionario[M] = t_lista\n",
    "            \n",
    "file_answer.write('5.1', M_lista, 'La lista M_lista no está bien definida')\n",
    "file_answer.write('5.2', t_diccionario[47], 'El diccionario t_diccionario no está bien calculado.')\n",
    "file_answer.write('5.3', t_diccionario[63], 'El diccionario t_diccionario no está bien calculado.')\n",
    "#file_answer.to_file('quiz_python_basico')\n",
    "### END SOLUTION\n",
    "\n",
    "print(\"Lista de pesos:\", M_lista)\n",
    "print(\"Diccionario de tiempos de cocción:\", t_diccionario)"
   ]
  },
  {
   "cell_type": "markdown",
   "id": "db536bc4-1237-4fff-9d06-29ae0179b233",
   "metadata": {},
   "source": [
    "<div class=\"alert alert-block alert-info\">\n",
    "    \n",
    "Checa tus respuestas en las siguientes celdas:\n",
    "</div>"
   ]
  },
  {
   "cell_type": "code",
   "execution_count": 29,
   "id": "1d536d17-e7b9-4c9c-8b53-b4d38a80ad90",
   "metadata": {
    "nbgrader": {
     "grade": true,
     "grade_id": "cell-d6acabf95a4bd9e1",
     "locked": true,
     "points": 3,
     "schema_version": 3,
     "solution": false,
     "task": false
    }
   },
   "outputs": [
    {
     "name": "stdout",
     "output_type": "stream",
     "text": [
      "\u001b[39m----------------------------------------\n",
      "\u001b[32m5.1 | Tu resultado es correcto.\n",
      "\u001b[39m----------------------------------------\n"
     ]
    }
   ],
   "source": [
    "quiz.eval_ordered_datastruct('5.1', M_lista)"
   ]
  },
  {
   "cell_type": "code",
   "execution_count": 30,
   "id": "31da79ba-3175-41eb-a775-30b0e7eb3545",
   "metadata": {},
   "outputs": [
    {
     "name": "stdout",
     "output_type": "stream",
     "text": [
      "\u001b[39m----------------------------------------\n",
      "\u001b[32m5.2 | Tu resultado es correcto.\n",
      "\u001b[39m----------------------------------------\n"
     ]
    }
   ],
   "source": [
    "quiz.eval_ordered_datastruct('5.2', t_diccionario[47])"
   ]
  },
  {
   "cell_type": "code",
   "execution_count": 31,
   "id": "93e86dbb-bd05-495c-b4b2-b3e13e272557",
   "metadata": {},
   "outputs": [
    {
     "name": "stdout",
     "output_type": "stream",
     "text": [
      "\u001b[39m----------------------------------------\n",
      "\u001b[32m5.3 | Tu resultado es correcto.\n",
      "\u001b[39m----------------------------------------\n"
     ]
    }
   ],
   "source": [
    "quiz.eval_ordered_datastruct('5.3', t_diccionario[63])"
   ]
  },
  {
   "cell_type": "markdown",
   "id": "7a38d040-56ab-42b9-b627-fe2f1da41c33",
   "metadata": {},
   "source": [
    "<div class=\"alert alert-block alert-info\">\n",
    "\n",
    "Al ejecutar la siguiente celda, si todo lo hiciste correctamente, deberás obtener una figura como la siguiente:\n",
    "\n",
    "<img src=\"./tiempos_coccion.png\"  style=\"width: 300px;\"/>\n",
    "\n",
    "</div>"
   ]
  },
  {
   "cell_type": "code",
   "execution_count": 33,
   "id": "d56f3b98-1660-46ce-aa85-c5c59f50638e",
   "metadata": {},
   "outputs": [
    {
     "data": {
      "image/png": "[encoded data removed]",
      "text/plain": [
       "<Figure size 512x384 with 1 Axes>"
      ]
     },
     "metadata": {},
     "output_type": "display_data"
    }
   ],
   "source": [
    "import matplotlib.pyplot as plt\n",
    "import macti.visual as mvis\n",
    "\n",
    "for k, y in t_diccionario.items():\n",
    "    plt.plot(To_lista, y, '-o', label=f\"M = {k}\")\n",
    "\n",
    "plt.title(\"Huevo duro perfecto\")\n",
    "plt.ylabel(\"Tiempo [s]\")\n",
    "plt.xlabel(\"Temperatura [$^o$ C]\")\n",
    "plt.legend(ncol=2, fontsize=10)\n",
    "plt.grid()\n",
    "plt.show()"
   ]
  },
  {
   "cell_type": "code",
   "execution_count": null,
   "id": "6cd60c76-6757-473a-87f4-34f21d6eacd5",
   "metadata": {},
   "outputs": [],
   "source": []
  }
 ],
 "metadata": {
  "kernelspec": {
   "display_name": "Python 3 (ipykernel)",
   "language": "python",
   "name": "python3"
  },
  "language_info": {
   "codemirror_mode": {
    "name": "ipython",
    "version": 3
   },
   "file_extension": ".py",
   "mimetype": "text/x-python",
   "name": "python",
   "nbconvert_exporter": "python",
   "pygments_lexer": "ipython3",
   "version": "3.11.6"
  },
  "toc": {
   "base_numbering": 0
  }
 },
 "nbformat": 4,
 "nbformat_minor": 5
}
