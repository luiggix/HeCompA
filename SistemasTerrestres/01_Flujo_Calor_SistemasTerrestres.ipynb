{
 "cells": [
  {
   "cell_type": "markdown",
   "metadata": {},
   "source": [
    "# Conducción de calor en sistemas terrestres.\n",
    "\n",
    "**Objetivo.**\n",
    "Resolver numéricamente el flujo de calor de un sistema terrestre.\n",
    "\n",
    " <p xmlns:cc=\"http://creativecommons.org/ns#\" xmlns:dct=\"http://purl.org/dc/terms/\"><a property=\"dct:title\" rel=\"cc:attributionURL\" href=\"https://github.com/luiggix/intro_MeIA_2023\">MACTI NOTES</a> by <span property=\"cc:attributionName\">Luis Miguel de la Cruz Salas</span> is licensed under <a href=\"http://creativecommons.org/licenses/by-nc-sa/4.0/?ref=chooser-v1\" target=\"_blank\" rel=\"license noopener noreferrer\" style=\"display:inline-block;\">CC BY-NC-SA 4.0<img style=\"height:22px!important;margin-left:3px;vertical-align:text-bottom;\" src=\"https://mirrors.creativecommons.org/presskit/icons/cc.svg?ref=chooser-v1\"><img style=\"height:22px!important;margin-left:3px;vertical-align:text-bottom;\" src=\"https://mirrors.creativecommons.org/presskit/icons/by.svg?ref=chooser-v1\"><img style=\"height:22px!important;margin-left:3px;vertical-align:text-bottom;\" src=\"https://mirrors.creativecommons.org/presskit/icons/nc.svg?ref=chooser-v1\"><img style=\"height:22px!important;margin-left:3px;vertical-align:text-bottom;\" src=\"https://mirrors.creativecommons.org/presskit/icons/sa.svg?ref=chooser-v1\"></a></p> \n",
    "\n",
    "**Trabajo realizado con el apoyo del Programa UNAM-DGAPA-PAPIME PE101922**"
   ]
  },
  {
   "cell_type": "markdown",
   "metadata": {},
   "source": [
    "<a name='1'></a>\n",
    "## Introducción\n",
    "\n",
    "<img src=\"./ModMat.jpg\" width=\"500px\" align=\"right\">\n",
    "\n",
    "**Modelación Matemática y Computacional.**\n",
    "\n",
    "Cuatro modelos:\n",
    "1. Modelo conceptual.\n",
    "2. Modelo Matemático.\n",
    "3. Modelo Numérico.\n",
    "4. Modelo computacional.\n"
   ]
  },
  {
   "cell_type": "markdown",
   "metadata": {},
   "source": [
    "<a name='2'></a>\n",
    "## Modelo conceptual.\n",
    "\n",
    "<img src=\"./calor01.jpg\" width=\"400px\" align=\"right\">\n",
    "\n",
    "En este ejercicio vamos a aproximar la temperatura de una placa rectangular de metal con conductividad $\\kappa$ homogénea e isotrópica. Para ello, usaremos la [Ley de Fourier de conducción de calor](https://es.wikipedia.org/wiki/Conducci%C3%B3n_de_calor#Ley_Fourier).\n",
    "\n",
    "Supondremos que se aplican temperaturas constantes en todas las paredes $T_0$. En la sección $Ly_2$ de la pared inferior, véase figura, se aplica una temperatura más alta, $T_h$ simulando un calentamiento.La longitud horizontal $Lx$ es el doble que la horizontal $Ly$.\n",
    "\n",
    "Trataremos el problema de manera adimensional de tal manera que tenemos los siguientes datos: $\\kappa = 1.0$, $T_0 = 0$ y $T_h = 20$. "
   ]
  },
  {
   "cell_type": "markdown",
   "metadata": {},
   "source": [
    "<a name='3'></a>\n",
    "## Modelo matemático.\n",
    "\n",
    "[Jean-Baptiste Joseph Fourier](https://www.elmostrador.cl/cultura/2018/07/17/joseph-fourier-el-matematico-reclutado-por-napoleon-que-disparo-su-propia-revolucion-cuando-se-enamoro-del-calor/) fue un matemático y físico francés que ejerció una fuerte influencia en la ciencia a través de su trabajo *Théorie analytique de la chaleur*. En este trabajo mostró que es posible analizar la conducción de calor en cuerpos sólidos en términos de series matemáticas infinitas, las cuales ahora llevan su nombre: *Series de Fourier*. Fourier comenzó su trabajo en 1807, en Grenoble, y lo completó en París en 1822. Su trabajo le permitió expresar la conducción de calor en objetos bidimensionales (hojas muy delgadas de algún material) en términos de la siguiente ecuación diferencial:\n",
    "\n",
    "$$\n",
    "\\dfrac{\\partial T}{ \\partial t} = \\kappa \\left(\\dfrac{\\partial^2 T}{ \\partial x^2} + \\dfrac{\\partial^2 T}{ \\partial y^2}\\right) \\tag{1}\n",
    "$$\n",
    "\n",
    "donde $T$ representa la temperatura en un instante de tiempo $t$ y en un punto $(x,y)$ del plano Cartesiano y $\\kappa$ es la conductividad del material.\n",
    "\n",
    "Para completar la ecuación $(1)$ con condiciones iniciales y de frontera.\n",
    "\n",
    "**Condición inicial:**\n",
    "$$\n",
    "T(t=0, x, y) = 0 \\qquad \\text{para} \\quad (x,y) \\in [0,Lx] \\times [0,Ly]\n",
    "$$\n",
    "\n",
    "**Condiciones de frontera:**\n",
    "$$\n",
    "\\begin{eqnarray}\n",
    "T(t, x=0, y) & = & T_0 \\qquad \\text{para} \\quad y [0,Ly]\\\\\n",
    "T(t, x=Lx, y) & = & T_0 \\qquad \\text{para} \\quad y [0,Ly]\\\\\n",
    "T(t, x, y=0) & = & T_0 \\qquad \\text{para} \\quad x \\in Ly_1 \\cup Ly_3\\\\\n",
    "T(t, x, y=0) & = & T_h \\qquad \\text{para} \\quad x \\in Ly_2 \\\\\n",
    "T(t, x, y=Ly) & = & T_0 \\qquad \\text{para} \\quad y [0,Ly]\\\\\n",
    "\\end{eqnarray}\n",
    "$$\n",
    "\n",
    "para $t = 0, T_{max}$"
   ]
  },
  {
   "cell_type": "markdown",
   "metadata": {},
   "source": [
    "<a name='4'></a>\n",
    "## Modelo numérico.\n",
    "\n",
    "<img src=\"../utils/figs/malla2D_DF.png\"  hspace=\"5\" vspace=\"5\" style=\"float: right;\"/>\n",
    "\n",
    "En ciertas condiciones existen soluciones analíticas de la ecuación $(1)$, sin embargo, también es posible aproximar una solución usando el método numérico de diferencias finitas. \n",
    "\n",
    "El primer paso es discretizar el dominio como se ve en la figura.\n",
    "\n",
    "El segundo paso es transformar la ecuación $(1)$ en un conjunto de ecuaciones discretas, una para cada nodo donde se desea calcular la solución. Usando diferencias finitas y una fórmula explícita es posible escribir la forma discreta de $(1)$ como sigue:\n",
    "\n",
    "$$\n",
    "T_{i,j}^{n+1} = T_{i,j}^n + \\dfrac{h_t\\kappa}{h^2} \n",
    "\\left(T_{i+1,j}^n + T_{i-1,j}^n + T_{i,j+1}^n + T_{i,j-1}^n - 4T_{i,j}^n\\right) \\tag{2}\n",
    "$$\n",
    "\n",
    "donde:\n",
    "- $T_{i,j}^n = T(t_n, x_i, y_j)$\n",
    "- $T_{i+1,j}^n = T(t_n, x_{i+1}, y_j)$, \n",
    "- $T_{i-1,j}^n = T(t_n, x_{i-1}, y_j)$, \n",
    "- $T_{i,j+1}^n = T(t_n, x_i, y_{j+1})$, \n",
    "- $T_{i,j-1}^n = T(t_n, x_i, y_{j-1})$. \n",
    "- El superíndice indica el instante de tiempo en el que se realiza el cálculo. \n",
    "- Se cumple que $t_{n+1} = t_n + h_t$, con $h_t$ el paso de tiempo.\n",
    "- En este ejemplo $h_x = h_y$.\n",
    "\n"
   ]
  },
  {
   "cell_type": "markdown",
   "metadata": {},
   "source": [
    "<a name='5'></a>\n",
    "## Modelo computacional.\n",
    "\n",
    "Usando la aproximación descrita en la sección anterior, vamos a realizar un ejemplo de conducción de calor. Para ello necesitamos conocer las herramientas de [Numpy](https://numpy.org) y [Matplotlib](https://matplotlib.org). Un tutorial de Numpy lo puedes ver <a href=\"../Tutoriales/T1_Numpy.ipynb\">aquí</a> y uno de Matplotlib <a href=\"../Tutoriales/T2_Matplotlib_basico.ipynb\">por acá</a>."
   ]
  },
  {
   "cell_type": "code",
   "execution_count": null,
   "metadata": {
    "tags": []
   },
   "outputs": [],
   "source": [
    "import sys\n",
    "import numpy as np\n",
    "import matplotlib.pyplot as plt\n",
    "import macti.vis as mvis\n",
    "\n",
    "print('Python', sys.version)\n",
    "print(np.__name__, np.__version__)\n",
    "print(plt.matplotlib.__name__, plt.matplotlib.__version__)"
   ]
  },
  {
   "cell_type": "markdown",
   "metadata": {},
   "source": [
    "<a name='5-1'></a>\n",
    "### Algoritmo 1.\n",
    "\n",
    "Los pasos a seguir son los siguientes.\n",
    "\n",
    "**1. Definir los parámetros físicos y numéricos del problema:**"
   ]
  },
  {
   "cell_type": "code",
   "execution_count": null,
   "metadata": {},
   "outputs": [],
   "source": [
    "# Parámetros físicos\n",
    "𝜅 = 1.0  # Conductividad\n",
    "Lx = 2.0  # Longitud del dominio en dirección x\n",
    "Ly = 1.0  # Longitud del dominio en dirección y\n",
    "T0 = 0\n",
    "Th = 20\n",
    "\n",
    "# Parámetros numéricos\n",
    "Nx = 29 # Número de incógnitas en dirección x\n",
    "Ny = 14 # Número de incógnitas en dirección y\n",
    "h = Lx / (Nx+1) # Espaciamiento entre los puntos de la rejilla\n",
    "ht = 0.0001     # Paso de tiempo\n",
    "N = (Nx + 2)* (Ny + 2) # Número total de puntos en la rejilla"
   ]
  },
  {
   "cell_type": "code",
   "execution_count": null,
   "metadata": {},
   "outputs": [],
   "source": [
    "print('Parámetros físicos' + '\\n' + 40*'-')\n",
    "print('Conductividad 𝜅 = {}'.format(𝜅))\n",
    "print('Longitud en x = {} | Longitud en y = {}'.format(Lx,Ly))\n",
    "print('T0 = {} | Th = {}'.format(T0, Th))\n",
    "print('\\nParámetros numéricos' + '\\n' + 40*'-')\n",
    "print('Nodos en x = {} | Nodos en y = {}'.format(Nx+2,Ny+2))\n",
    "print('h = {} | ht = {}'.format(h, ht))"
   ]
  },
  {
   "cell_type": "markdown",
   "metadata": {},
   "source": [
    "**2. Definir la rejilla donde se hará el cálculo (malla):**"
   ]
  },
  {
   "cell_type": "code",
   "execution_count": null,
   "metadata": {},
   "outputs": [],
   "source": [
    "x = np.linspace(0,Lx,Nx+2) # Arreglo con las coordenadas en x\n",
    "y = np.linspace(0,Ly,Ny+2) # Arreglo con las coordenadas en y\n",
    "xg, yg = np.meshgrid(x,y,indexing='ij', sparse=False) # Creamos la rejilla para usarla en Matplotlib"
   ]
  },
  {
   "cell_type": "code",
   "execution_count": null,
   "metadata": {
    "tags": []
   },
   "outputs": [],
   "source": [
    "vis = mvis.Plotter(1,2,[dict(aspect='equal'), dict(aspect='equal')], dict(figsize=(8,16)))\n",
    "\n",
    "vis.draw_domain(1, xg, yg)\n",
    "vis.plot_mesh2D(2, xg, yg)\n",
    "vis.plot_frame(2, xg, yg)"
   ]
  },
  {
   "cell_type": "markdown",
   "metadata": {},
   "source": [
    "**3. Definir las condiciones iniciales y de frontera:**"
   ]
  },
  {
   "cell_type": "code",
   "execution_count": null,
   "metadata": {},
   "outputs": [],
   "source": [
    "T = np.zeros((Nx+2, Ny+2))\n",
    "T[0,:]    = 0  # Pared izquierda    \n",
    "T[Nx+1,:] = 0   # Pared derecha\n",
    "T[:,0]    = 0  # Pared inferior\n",
    "T[:,Ny+1] = 0   # Pared superior\n",
    "T[int(Nx*0.375):int(Nx*0.625),0] = 20  # Pedazo de la pared inferior en calentamiento\n",
    "\n",
    "print(T) "
   ]
  },
  {
   "cell_type": "code",
   "execution_count": null,
   "metadata": {
    "tags": []
   },
   "outputs": [],
   "source": [
    "vis = mvis.Plotter(1,2,[dict(aspect='equal'), dict(aspect='equal')], dict(figsize=(8,16)))\n",
    "\n",
    "vis.draw_domain(1, xg, yg)\n",
    "vis.plot_mesh2D(1, xg, yg)\n",
    "\n",
    "cax2 = vis.set_canvas(2,Lx,Ly)\n",
    "c_T = vis.contourf(2, xg, yg, T, levels=50, cmap='inferno')\n",
    "vis.fig.colorbar(c_T, cax=cax2, ticks = [T.min(), T.max()], shrink=0.5, orientation='vertical')\n",
    "\n",
    "vis.show()"
   ]
  },
  {
   "cell_type": "markdown",
   "metadata": {},
   "source": [
    "**4. Implementar el algoritmo de solución:**\n",
    "$$\n",
    "T_{i,j}^{n+1} = T_{i,j}^n + \\dfrac{h_t \\kappa}{h^2} \n",
    "\\left(T_{i+1,j}^n + T_{i-1,j}^n + T_{i,j+1}^n + T_{i,j-1}^n - 4T_{i,j}^n\\right) \n",
    "$$\n"
   ]
  },
  {
   "cell_type": "code",
   "execution_count": null,
   "metadata": {},
   "outputs": [],
   "source": [
    "ht = 0.001\n",
    "r = 𝜅 * ht / h**2\n",
    "T_new = T.copy()\n",
    "tolerancia = 1.0e-4 #1.0e-3\n",
    "error = 1.0\n",
    "error_lista = []\n",
    "iteracion = 1\n",
    "while(error > tolerancia):\n",
    "    for i in range(1,Nx+1):\n",
    "        for j in range(1,Ny+1):\n",
    "            T_new[i,j] = T[i,j] + r * (T[i+1,j] + T[i-1,j] + T[i,j+1] + T[i,j-1] - 4*T[i,j])\n",
    "    error = np.linalg.norm(T_new - T)\n",
    "    error_lista.append(error)\n",
    "    T[:] = T_new[:]\n",
    "    print(iteracion, end = ' ')\n",
    "    iteracion += 1"
   ]
  },
  {
   "cell_type": "code",
   "execution_count": null,
   "metadata": {},
   "outputs": [],
   "source": [
    "vis = mvis.Plotter(1,2,[dict(aspect='equal'), dict(aspect='equal')], dict(figsize=(8,16)))\n",
    "\n",
    "vis.draw_domain(1, xg, yg)\n",
    "vis.plot_mesh2D(1, xg, yg)\n",
    "vis.plot_frame(1, xg, yg)\n",
    "\n",
    "cax2 = vis.set_canvas(2,Lx,Ly)\n",
    "c_T = vis.contourf(2, xg, yg, T, levels=50, cmap='inferno')\n",
    "vis.fig.colorbar(c_T, cax=cax2, ticks = [T.min(), T.max()], shrink=0.5, orientation='vertical')\n",
    "vis.contour(2, xg, yg, T, levels=10, colors='silver', linewidths=0.5)\n",
    "\n",
    "vis.show()"
   ]
  },
  {
   "cell_type": "markdown",
   "metadata": {},
   "source": [
    "Visualizamos la distribución de temperaturas y el *error* usando varias gráficas:"
   ]
  },
  {
   "cell_type": "code",
   "execution_count": null,
   "metadata": {
    "tags": []
   },
   "outputs": [],
   "source": [
    "ax1 = dict(aspect='equal', title='Malla')\n",
    "ax2 = dict(aspect='equal', title='Temperatura')\n",
    "ax3 = dict(title='Error', yscale='log')\n",
    "\n",
    "vis = mvis.Plotter(2,2,[ax1, ax2, ax3], dict(figsize=(8,6)))\n",
    "\n",
    "vis.draw_domain(1, xg, yg)\n",
    "vis.plot_mesh2D(1, xg, yg)\n",
    "vis.plot_frame(1, xg, yg)\n",
    "\n",
    "cax2 = vis.set_canvas(2,Lx,Ly)\n",
    "c_T = vis.contourf(2, xg, yg, T, levels=50, cmap='inferno')\n",
    "vis.fig.colorbar(c_T, cax=cax2, ticks = [T.min(), T.max()], shrink=0.5, orientation='vertical')\n",
    "vis.contour(2, xg, yg, T, levels=10, colors='silver', linewidths=0.5)\n",
    "\n",
    "vis.plot(3, [i for i in range(len(error_lista))], error_lista)\n",
    "vis.grid(nlist=[3])\n",
    "vis.show()"
   ]
  },
  {
   "cell_type": "markdown",
   "metadata": {},
   "source": [
    "<a name='6'></a>\n",
    "## Flujo de calor\n",
    "\n",
    "Fourier también estableció una ley para el flujo de calor que se escribe como:\n",
    "\n",
    "$$\n",
    "\\vec{q} = -\\kappa \\nabla T = -\\kappa \\left(\\dfrac{\\partial T}{\\partial x}, \\dfrac{\\partial T}{\\partial y}\\right)\n",
    "$$\n",
    "\n",
    "Si usamos diferencias centradas para aproximar esta ecuación obtenemos:\n",
    "\n",
    "$$\n",
    "\\vec{q}_{i,j} = (qx_{i,j}, qy_{i,j}) = -\\dfrac{\\kappa}{2h} (T_{i+1,j}-T_{i-1,j}, T_{i,j+1}-T_{i,j-1} )\n",
    "$$\n",
    "\n",
    "La implementación de esta fórmula es directa y se muestra en la siguiente celda de código:"
   ]
  },
  {
   "cell_type": "code",
   "execution_count": null,
   "metadata": {},
   "outputs": [],
   "source": [
    "qx = np.zeros((Nx+2, Ny+2))\n",
    "qy = qx.copy()\n",
    "\n",
    "s = 𝜅 / 2*h\n",
    "for i in range(1,Nx+1):\n",
    "    for j in range(1,Ny+1):\n",
    "        qx[i,j] = -s * (T[i+1,j] - T[i-1,j])\n",
    "        qy[i,j] = -s * (T[i,j+1] - T[i,j-1])"
   ]
  },
  {
   "cell_type": "markdown",
   "metadata": {},
   "source": [
    "Visualización del flujo:"
   ]
  },
  {
   "cell_type": "code",
   "execution_count": null,
   "metadata": {
    "tags": []
   },
   "outputs": [],
   "source": [
    "ax1 = dict(aspect='equal', title='Malla')\n",
    "ax2 = dict(aspect='equal', title='Temperatura')\n",
    "ax3 = dict(title='Error', yscale='log')\n",
    "ax4 = dict(aspect='equal', title='Flujo de calor')\n",
    "\n",
    "vis = mvis.Plotter(2,2,[ax1, ax2, ax3, ax4], dict(figsize=(8,8)))\n",
    "\n",
    "vis.draw_domain(1, xg, yg)\n",
    "vis.plot_mesh2D(1, xg, yg)\n",
    "vis.plot_frame(1, xg, yg)\n",
    "\n",
    "cax2 = vis.set_canvas(2,Lx,Ly)\n",
    "c_T = vis.contourf(2, xg, yg, T, levels=50, cmap='inferno')\n",
    "vis.fig.colorbar(c_T, cax=cax2, ticks = [T.min(), T.max()], shrink=0.5, orientation='vertical')\n",
    "vis.contour(2, xg, yg, T, levels=10, colors='silver', linewidths=0.5)\n",
    "\n",
    "vis.plot(3, [i for i in range(len(error_lista))], error_lista)\n",
    "vis.grid(nlist=[3])\n",
    "\n",
    "vis.plot_frame(4, xg, yg)\n",
    "vis.streamplot(4, xg, yg, qx, qy, color = 'tomato')\n",
    "vis.quiver(4, xg, yg, qx, qy, scale=4, color='silver')\n",
    "\n",
    "vis.show()"
   ]
  },
  {
   "cell_type": "markdown",
   "metadata": {},
   "source": [
    "<a name='7'></a>\n",
    "## Seguimiento de partículas\n",
    "\n",
    "\n",
    "\n",
    "<div>\n",
    " <img src=\"./Datos/Vectorial.png\"  hspace=\"5\" vspace=\"5\" style=\"float: right;\"/>\n",
    "Si soltamos una partícula en un flujo, dicha partícula seguirá la dirección del flujo y delineará  una trayectoria como se muestra en la siguiente figura. Para calcular los puntos de la trayectoria debemos resolver una ecuación como la siguiente:\n",
    "    \n",
    "$$\n",
    "\\dfrac{\\partial \\vec{x}}{ \\partial t} = \\vec{v} \\qquad \\text{con} \\qquad \\vec{x}(t=0) = \\vec{x}_o \n",
    "$$\n",
    "    \n",
    "donde $\\vec{x} = (x,y) $ representa la posición de la partícula y $\\vec{v} = (vx, vy)$ su velocidad.\n",
    "El método más sencillo para encontrar las posiciones de la partícula $\\vec{x}_i^{n+1}$, en el instante $n+1$, es conocido como de *Euler hacia adelante* y se escribe como:\n",
    "    \n",
    "$$\n",
    "\\vec{x}_i^{n+1} = \\vec{x}_i^{n} + h_t * \\vec{v}_{i}^n\n",
    "$$\n",
    "    \n",
    "donde $\\vec{x}_i^{n}$ representa la posición de la partícula $i$ en el instante $n$, $h_t$ es el paso de tiempo y $\\vec{v}_i^n$ es la velocidad de la partícula $i$ en el instante $n$.\n",
    " </div>\n"
   ]
  },
  {
   "cell_type": "markdown",
   "metadata": {},
   "source": [
    "Escribimos la fórmula de *Euler hacia adelante* en componentes como sigue:\n",
    "\n",
    "$$\n",
    "\\begin{eqnarray}\n",
    "x_i^{n+1} & = & x_i^{n} + h_t * vx_{i}^n \\\\\n",
    "y_i^{n+1} & = & y_i^{n} + h_t * vy_{i}^n \n",
    "\\end{eqnarray}\n",
    "$$"
   ]
  },
  {
   "cell_type": "markdown",
   "metadata": {},
   "source": [
    "<a name='7-1'></a>\n",
    "### Algoritmo 2.\n",
    "Para calcular la trayectoria de una partícula, dentro del flujo de calor, definimos el siguiente algoritmo.\n",
    "\n",
    "**1. Definimos un punto inicial:**"
   ]
  },
  {
   "cell_type": "code",
   "execution_count": null,
   "metadata": {},
   "outputs": [],
   "source": [
    "xo = 0.75\n",
    "yo = 0.25\n",
    "print(xo)\n",
    "print(yo)"
   ]
  },
  {
   "cell_type": "markdown",
   "metadata": {},
   "source": [
    "**2. Definimos los pasos de tiempo a calcular y los arreglos para almacenar las coordenadas de la trayectoria:**"
   ]
  },
  {
   "cell_type": "code",
   "execution_count": null,
   "metadata": {},
   "outputs": [],
   "source": [
    "Pasos = 50\n",
    "xp = np.zeros(Pasos)\n",
    "yp = np.zeros(Pasos)\n",
    "xp[0] = xo\n",
    "yp[0] = yo\n",
    "print(xp)\n",
    "print(yp)"
   ]
  },
  {
   "cell_type": "markdown",
   "metadata": {},
   "source": [
    "**3. Interpolamos la velocidad en el punto donde está la partícula**:"
   ]
  },
  {
   "cell_type": "code",
   "execution_count": null,
   "metadata": {},
   "outputs": [],
   "source": [
    "# Interpolación de la velocidad\n",
    "def interpolaVel(qx, qy, xpi, ypi, h):\n",
    "    # localizamos la partícula dentro de la rejilla:\n",
    "    li = int(xpi/h)\n",
    "    lj = int(ypi/h)\n",
    "    return (qx[li,lj], qy[li,lj])"
   ]
  },
  {
   "cell_type": "markdown",
   "metadata": {},
   "source": [
    "**4. Implementamos el método de Euler hacia adelante**:"
   ]
  },
  {
   "cell_type": "code",
   "execution_count": null,
   "metadata": {},
   "outputs": [],
   "source": [
    "ht = 0.2\n",
    "for n in range(1,Pasos):\n",
    "    vx, vy = interpolaVel(qx, qy, xp[n-1], yp[n-1], h)\n",
    "    xp[n] = xp[n-1] + ht * vx\n",
    "    yp[n] = yp[n-1] + ht * vy"
   ]
  },
  {
   "cell_type": "code",
   "execution_count": null,
   "metadata": {},
   "outputs": [],
   "source": [
    "print(xp)\n",
    "print(yp)"
   ]
  },
  {
   "cell_type": "markdown",
   "metadata": {},
   "source": [
    "**5. Graficamos el resultado.**"
   ]
  },
  {
   "cell_type": "code",
   "execution_count": null,
   "metadata": {
    "tags": []
   },
   "outputs": [],
   "source": [
    "ax1 = dict(aspect='equal', title='Temperatura y Flujo de calor')\n",
    "ax2 = dict(aspect='equal', title='Trayectoria de una partícula')\n",
    "\n",
    "vis = mvis.Plotter(2,1,[ax1, ax2], dict(figsize=(8,6)))\n",
    "\n",
    "cax1 = vis.set_canvas(1,Lx,Ly)\n",
    "c_T = vis.contourf(1, xg, yg, T, levels=100, cmap='inferno')\n",
    "vis.fig.colorbar(c_T, cax=cax1, ticks = [T.min(), T.max()], shrink=0.5, orientation='vertical')\n",
    "vis.streamplot(1, xg, yg, qx, qy, color = 'tomato', linewidth=1.0, arrowstyle='-')\n",
    "\n",
    "vis.plot_frame(2, xg, yg)\n",
    "vis.set_canvas(2,Lx,Ly)\n",
    "vis.plot(2, xp[0], yp[0], marker='.', color ='navy', zorder=5)\n",
    "vis.plot(2, xp, yp)\n",
    "vis.plot(2, xp[-1], yp[-1], marker='.', color='g', zorder=5)\n",
    "\n",
    "vis.show()"
   ]
  },
  {
   "cell_type": "markdown",
   "metadata": {},
   "source": [
    "<a name='7-2'></a>\n",
    "### Algoritmo 3.\n",
    "Dibuja varias trayectorias que inicien en sitios diferentes."
   ]
  },
  {
   "cell_type": "markdown",
   "metadata": {},
   "source": [
    "**1. Definimos N posiciones aleatorias**"
   ]
  },
  {
   "cell_type": "code",
   "execution_count": null,
   "metadata": {},
   "outputs": [],
   "source": [
    "from time import time\n",
    "# Transformación lineal\n",
    "f = lambda x, a, b: (b-a)*x + a \n",
    "\n",
    "# Número de partículas\n",
    "N = 50\n",
    "\n",
    "# Generación de partículas de manera aleatoria\n",
    "np.random.seed(int(time()))\n",
    "coord = np.random.rand(N,2)\n",
    "coord[:,0] = f(coord[:,0], 0, Lx) # Transformación hacia el dominio de estudio\n",
    "coord[:,1] = f(coord[:,1], 0, Ly) # Transformación hacia el dominio de estudio"
   ]
  },
  {
   "cell_type": "code",
   "execution_count": null,
   "metadata": {},
   "outputs": [],
   "source": [
    "coord"
   ]
  },
  {
   "cell_type": "markdown",
   "metadata": {},
   "source": [
    "**2. Definimos una función para el método de Euler hacia adelante.**"
   ]
  },
  {
   "cell_type": "code",
   "execution_count": null,
   "metadata": {},
   "outputs": [],
   "source": [
    "def euler(x, v, h):\n",
    "    return x + h * v"
   ]
  },
  {
   "cell_type": "markdown",
   "metadata": {},
   "source": [
    "**3. Definimos los arreglos para almacenar las posiciones de las trayectorias**"
   ]
  },
  {
   "cell_type": "code",
   "execution_count": null,
   "metadata": {},
   "outputs": [],
   "source": [
    "# Parámetros para el modelo numérico\n",
    "Nt = 1000  # Número de pasos en el tiempo\n",
    "ht = 0.2 # Tamaño del paso de tiempo\n",
    "\n",
    "# Arreglos para almacenar las N partículas en Nt pasos de tiempo\n",
    "xn = np.zeros((N,Nt+1))\n",
    "yn = np.zeros((N,Nt+1))\n",
    "\n",
    "print('x : {}'.format(xn))\n",
    "print('y : {}'.format(yn))"
   ]
  },
  {
   "cell_type": "markdown",
   "metadata": {},
   "source": [
    "**4. Inicializamos la primera posición de las trayectorias.**"
   ]
  },
  {
   "cell_type": "code",
   "execution_count": null,
   "metadata": {},
   "outputs": [],
   "source": [
    "# Inicialización\n",
    "for i in range(0,N):\n",
    "    xn[i, 0] = coord[i,0]\n",
    "    yn[i, 0] = coord[i,1]\n",
    "\n",
    "print('x : {}'.format(xn))\n",
    "print('y : {}'.format(yn))"
   ]
  },
  {
   "cell_type": "markdown",
   "metadata": {},
   "source": [
    "**5. Para cada posición inicial calculamos una trayectoria.**"
   ]
  },
  {
   "cell_type": "code",
   "execution_count": null,
   "metadata": {},
   "outputs": [],
   "source": [
    "for n in range(1,Nt+1):  # Ciclo en el tiempo.\n",
    "    for i in range(0,N): # Ciclo para cada trayectoria.\n",
    "        xi = xn[i,n-1]\n",
    "        yi = yn[i,n-1]\n",
    "        vx, vy = interpolaVel(qx, qy, xi, yi, h)\n",
    "        xn[i,n] = euler(xi, vx, ht)\n",
    "        yn[i,n] = euler(yi, vy, ht)\n",
    "        \n",
    "print('x : {}'.format(xn))\n",
    "print('y : {}'.format(yn))"
   ]
  },
  {
   "cell_type": "markdown",
   "metadata": {},
   "source": [
    "**6. Graficamos el resultado final.**"
   ]
  },
  {
   "cell_type": "code",
   "execution_count": null,
   "metadata": {
    "tags": []
   },
   "outputs": [],
   "source": [
    "ax1 = dict(aspect='equal', title='Temperatura y Flujo de calor')\n",
    "ax2 = dict(aspect='equal', title='Trayectoria de partículas')\n",
    "\n",
    "vis = mvis.Plotter(2,1,[ax1, ax2], dict(figsize=(8,6)))\n",
    "\n",
    "cax1 = vis.set_canvas(1,Lx,Ly)\n",
    "c_T = vis.contourf(1, xg, yg, T, levels=100, cmap='inferno')\n",
    "vis.fig.colorbar(c_T, cax=cax1, ticks = [T.min(), T.max()], shrink=0.5, orientation='vertical')\n",
    "vis.streamplot(1, xg, yg, qx, qy, color = 'tomato', linewidth=1.0, arrowstyle='-')\n",
    "\n",
    "vis.plot_frame(2, xg, yg)\n",
    "\n",
    "vis.set_canvas(2,Lx,Ly)\n",
    "vis.quiver(2, xg, yg, qx, qy, scale=2, color='silver')\n",
    "\n",
    "for i in range(0,N):\n",
    "    vis.scatter(2, xn[i,0], yn[i,0], marker = '.', color='navy', alpha=0.75, s = 50, zorder=5)\n",
    "    vis.plot(2, xn[i,:], yn[i,:], lw=1.0)\n",
    "\n",
    "plt.savefig('flujo_calor.png')\n",
    "vis.show()"
   ]
  },
  {
   "cell_type": "code",
   "execution_count": null,
   "metadata": {},
   "outputs": [],
   "source": []
  }
 ],
 "metadata": {
  "kernelspec": {
   "display_name": "Python 3 (ipykernel)",
   "language": "python",
   "name": "python3"
  },
  "language_info": {
   "codemirror_mode": {
    "name": "ipython",
    "version": 3
   },
   "file_extension": ".py",
   "mimetype": "text/x-python",
   "name": "python",
   "nbconvert_exporter": "python",
   "pygments_lexer": "ipython3",
   "version": "3.11.6"
  }
 },
 "nbformat": 4,
 "nbformat_minor": 4
}
