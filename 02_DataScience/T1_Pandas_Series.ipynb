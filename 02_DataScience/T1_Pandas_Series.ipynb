{
 "cells": [
  {
   "cell_type": "markdown",
   "metadata": {},
   "source": [
    "# Pandas: Series\n",
    "\n",
    "**Objetivo.**\n",
    "Revisar los concepto básicos de Series de la biblioteca Pandas.\n",
    "\n",
    " <p xmlns:cc=\"http://creativecommons.org/ns#\" xmlns:dct=\"http://purl.org/dc/terms/\"><a property=\"dct:title\" rel=\"cc:attributionURL\" href=\"https://github.com/luiggix/HeCompA/blob/main/02_DataScience/T1_Pandas_Series.ipynb\">HeCompA - T1_Pandas_Series</a> by <a rel=\"cc:attributionURL dct:creator\" property=\"cc:attributionName\" href=\"https://www.macti.unam.mx\">Luis M. de la Cruz</a> is licensed under <a href=\"http://creativecommons.org/licenses/by-sa/4.0/?ref=chooser-v1\" target=\"_blank\" rel=\"license noopener noreferrer\" style=\"display:inline-block;\">Attribution-ShareAlike 4.0 International<img style=\"height:22px!important;margin-left:3px;vertical-align:text-bottom;\" src=\"https://mirrors.creativecommons.org/presskit/icons/cc.svg?ref=chooser-v1\"><img style=\"height:22px!important;margin-left:3px;vertical-align:text-bottom;\" src=\"https://mirrors.creativecommons.org/presskit/icons/by.svg?ref=chooser-v1\"><img style=\"height:22px!important;margin-left:3px;vertical-align:text-bottom;\" src=\"https://mirrors.creativecommons.org/presskit/icons/sa.svg?ref=chooser-v1\"></a></p> \n"
   ]
  },
  {
   "cell_type": "markdown",
   "metadata": {},
   "source": [
    "# Introducción\n",
    "\n",
    "- Pandas es \"Python Data Analysis Library\". El nombre proviene del término [*Panel Data*](https://en.wikipedia.org/wiki/Panel_data) que es un término econométrico para manejar conjuntos de datos multidimensionales.\n",
    "\n",
    "- Pandas es una biblioteca que provee de herramientas de alto desempeño, fáciles de usar, para manejar estructuras de datos y para su análisis. \n",
    "\n",
    "- Pandas es un módulo que reúne las capacidades de Numpy, Scipy y Matplotlib.\n",
    "\n",
    "- Véase https://pandas.pydata.org/ para más información.\n"
   ]
  },
  {
   "cell_type": "code",
   "execution_count": null,
   "metadata": {
    "tags": []
   },
   "outputs": [],
   "source": [
    "import numpy as np\n",
    "import pandas as pd"
   ]
  },
  {
   "cell_type": "markdown",
   "metadata": {},
   "source": [
    "# Series\n",
    "\n",
    "- Las `Series` son arreglos unidimensionales indexados basados en los arreglos de Numpy.\n",
    "- Pueden almacenar cualquier tipo de dato: int, floats, strings, Python objects, etc.\n",
    "- Se pueden ver como una estructura de datos con dos arreglos: uno para los índices y otro para los objetos que contiene.\n",
    "\n",
    "| Index | Data |\n",
    "|---|---|\n",
    "| 0 | 3 |\n",
    "| 1 | 6 |\n",
    "| 2 | 9 |\n",
    "| 3 | 12 |"
   ]
  },
  {
   "cell_type": "code",
   "execution_count": null,
   "metadata": {
    "tags": []
   },
   "outputs": [],
   "source": [
    "obj = pd.Series([3,6,9,12])\n",
    "obj"
   ]
  },
  {
   "cell_type": "code",
   "execution_count": null,
   "metadata": {
    "tags": []
   },
   "outputs": [],
   "source": [
    "obj.values # Objetos de la serie"
   ]
  },
  {
   "cell_type": "markdown",
   "metadata": {},
   "source": [
    "Observa que los valores de la serie están en un arreglo de numpy."
   ]
  },
  {
   "cell_type": "code",
   "execution_count": null,
   "metadata": {
    "tags": []
   },
   "outputs": [],
   "source": [
    "obj.index # Índices de la serie"
   ]
  },
  {
   "cell_type": "code",
   "execution_count": null,
   "metadata": {
    "tags": []
   },
   "outputs": [],
   "source": [
    "list(obj.index) # Índices de la serie"
   ]
  },
  {
   "cell_type": "markdown",
   "metadata": {},
   "source": [
    "Comparemos con los array de Numpy"
   ]
  },
  {
   "cell_type": "code",
   "execution_count": null,
   "metadata": {
    "tags": []
   },
   "outputs": [],
   "source": [
    "x = np.array([3,6,9,12])\n",
    "x"
   ]
  },
  {
   "cell_type": "code",
   "execution_count": null,
   "metadata": {
    "tags": []
   },
   "outputs": [],
   "source": [
    "print(type(x))          # Arreglo de numpy\n",
    "print(type(obj.values)) # Arreglo de numpy\n",
    "print(type(obj.index))  # RangeIndex\n",
    "print(type(obj))        # Serie"
   ]
  },
  {
   "cell_type": "markdown",
   "metadata": {},
   "source": [
    "Podemos definir los índices como queramos:"
   ]
  },
  {
   "cell_type": "code",
   "execution_count": null,
   "metadata": {
    "tags": []
   },
   "outputs": [],
   "source": [
    "money = pd.Series([10.0,5.0,2.0,1.0,0.5,0.2,0.1],\n",
    "                  index=['Diez','Cinco','Dos','Uno','cincuenta','veinte','diezc'])\n",
    "money"
   ]
  },
  {
   "cell_type": "code",
   "execution_count": null,
   "metadata": {
    "tags": []
   },
   "outputs": [],
   "source": [
    "money['diezc'] # Podemos acceder a los objetos de la Serie con el índice"
   ]
  },
  {
   "cell_type": "code",
   "execution_count": null,
   "metadata": {
    "tags": []
   },
   "outputs": [],
   "source": [
    "print('{: .52f}'.format(money['diezc']))"
   ]
  },
  {
   "cell_type": "markdown",
   "metadata": {},
   "source": [
    "Podemos hacer operaciones booleanas para acceder a secciones de la serie."
   ]
  },
  {
   "cell_type": "code",
   "execution_count": null,
   "metadata": {
    "tags": []
   },
   "outputs": [],
   "source": [
    "money[money > 0.5] # Obtiene todos los elementos que tienen valores mayores a 0.5"
   ]
  },
  {
   "cell_type": "markdown",
   "metadata": {},
   "source": [
    "Es posible preguntar si un **índice** está en la Serie"
   ]
  },
  {
   "cell_type": "code",
   "execution_count": null,
   "metadata": {
    "tags": []
   },
   "outputs": [],
   "source": [
    "'quarter' in money "
   ]
  },
  {
   "cell_type": "markdown",
   "metadata": {},
   "source": [
    "Es posible preguntar si un **objeto** está en la Serie"
   ]
  },
  {
   "cell_type": "code",
   "execution_count": null,
   "metadata": {
    "tags": []
   },
   "outputs": [],
   "source": [
    " 0.1 in money.values  "
   ]
  },
  {
   "cell_type": "markdown",
   "metadata": {},
   "source": [
    "## Transformación entre Series y tipos básicos de Python\n",
    "\n",
    "### `Series` $\\rightarrow$ `string`"
   ]
  },
  {
   "cell_type": "code",
   "execution_count": null,
   "metadata": {
    "tags": []
   },
   "outputs": [],
   "source": [
    "money_string = money.to_string()\n",
    "money_string"
   ]
  },
  {
   "cell_type": "code",
   "execution_count": null,
   "metadata": {
    "tags": []
   },
   "outputs": [],
   "source": [
    "print(type(money_string))"
   ]
  },
  {
   "cell_type": "code",
   "execution_count": null,
   "metadata": {
    "tags": []
   },
   "outputs": [],
   "source": [
    "print('Longitud de la cadena: {}'.format(len(money_string)))"
   ]
  },
  {
   "cell_type": "code",
   "execution_count": null,
   "metadata": {
    "tags": []
   },
   "outputs": [],
   "source": [
    "# se imprime cada elemento de la cadena separados por espacios\n",
    "for i in money_string:\n",
    "    print(i, end = ' ')"
   ]
  },
  {
   "cell_type": "markdown",
   "metadata": {},
   "source": [
    "### `Series` $\\rightarrow$ `dict`"
   ]
  },
  {
   "cell_type": "code",
   "execution_count": null,
   "metadata": {
    "tags": []
   },
   "outputs": [],
   "source": [
    "money_dic = money.to_dict()\n",
    "money_dic"
   ]
  },
  {
   "cell_type": "code",
   "execution_count": null,
   "metadata": {
    "tags": []
   },
   "outputs": [],
   "source": [
    "print(type(money_dic))"
   ]
  },
  {
   "cell_type": "markdown",
   "metadata": {},
   "source": [
    "### `dict` $\\rightarrow$ `Series` "
   ]
  },
  {
   "cell_type": "code",
   "execution_count": null,
   "metadata": {
    "tags": []
   },
   "outputs": [],
   "source": [
    "# Podemos transformar un diccionario en una Serie.\n",
    "pd.Series(money_dic)"
   ]
  },
  {
   "cell_type": "markdown",
   "metadata": {},
   "source": [
    "### `Series` $\\rightarrow$ archivo"
   ]
  },
  {
   "cell_type": "code",
   "execution_count": null,
   "metadata": {
    "tags": []
   },
   "outputs": [],
   "source": [
    "# Podemos escribir la Serie a un archivo en formato csv\n",
    "money.to_csv('money.csv')"
   ]
  },
  {
   "cell_type": "markdown",
   "metadata": {},
   "source": [
    "<div class=\"alert alert-success\">\n",
    "\n",
    "## **Ejercicio 1.**\n",
    "\n",
    "<font color=\"DarkBlue\">\n",
    "    \n",
    "Crear una serie con sus índices iguales a los nombres de las alcaldías de la Ciudad de México y sus valores iguales al número de habitantes por delegación.\n",
    "\n",
    "Alcaldía | Habitantes\n",
    "-- | --\n",
    "Azcapotzalco | 400 161\n",
    "Coyoacán | 608 479\n",
    "Cuajimalpa de Morelos | 199 224\n",
    "Gustavo A. Madero | 1 164 477\n",
    "Iztacalco | 390 348\n",
    "Iztapalapa | 1 827 868\n",
    "La Magdalena Contreras | 243 886\n",
    "Milpa Alta | 137 927\n",
    "Álvaro Obregón | 749 982\n",
    "Tláhuac | 361 593\n",
    "Tlalpan | 677 104\n",
    "Xochimilco | 415 933\n",
    "Benito Juárez | 417 416\n",
    "Cuauhtémoc | 532 553\n",
    "Miguel Hidalgo | 364 439\n",
    "Venustiano Carranza | 427 263\n",
    "\n",
    "1. Calcular la suma total de habitantes.\n",
    "2. Imprimir los nombres de las delegaciones con mayor y menor número de habitantes.\n",
    "3. Imprimir los nombres de las delegaciones con más de 400,000 habitantes.\n",
    "4. Graficar los datos usando la función `pd.plot()` de la biblioteca Pandas.\n",
    "5. Calcular las siguientes medidas de tendencia central.\n",
    "    * Media : $\\bar{x} = \\frac{1}{n} \\sum_{i=1}^n x_i$.\n",
    "    * Media Armónica: $H = \\frac{n}{ \\sum_{i=1}^n \\frac{1}{x_i}}$.\n",
    "    * Media Geométrica: $G = \\sqrt[n]{\\prod_{i=1}^n x_i}$.\n",
    "6. Calculas las siguientes medidas de variabilidad.\n",
    "    * Varianza: $\\sigma^2 = \\frac{1}{n-1} \\sum_{i}^{n}(x_i - \\bar{x})^2$.\n",
    "    * Desviación estándar: $s = \\sqrt{\\frac{1}{n-1} \\sum_{i}^{n}(x_i - \\bar{x})^2}$.\n",
    "\n",
    "</font>\n",
    "</div>"
   ]
  },
  {
   "cell_type": "markdown",
   "metadata": {},
   "source": [
    "### Lectura de los datos de un archivo: `open()`"
   ]
  },
  {
   "cell_type": "code",
   "execution_count": null,
   "metadata": {
    "tags": []
   },
   "outputs": [],
   "source": [
    "# Abrimos el archivo\n",
    "fdel = open('./delegaciones.csv','r')\n",
    "\n",
    "# Construimos dos listas vacías\n",
    "valores = []\n",
    "indices = []\n",
    "\n",
    "# Mediante un ciclo leemos la información del archivo\n",
    "for line in fdel:\n",
    "    sline = line.split(sep=\",\") # Separamos cada línea por comas\n",
    "    indices.append(sline[0])    # Leemos el índice\n",
    "    valores.append(sline[1])      # Leemos el valor\n",
    "\n",
    "    \n",
    "# Imprimimos las listas\n",
    "print('Índices : \\n {} \\n'.format(indices))  \n",
    "print('Valores : \\n {} '.format(valores))"
   ]
  },
  {
   "cell_type": "markdown",
   "metadata": {},
   "source": [
    "Observamos que el primer elemento de cada lista es la descripción de los datos. Ahora transformamos las listas en una serie:"
   ]
  },
  {
   "cell_type": "code",
   "execution_count": null,
   "metadata": {
    "tags": []
   },
   "outputs": [],
   "source": [
    "habitantes = pd.Series(valores[1:], index=indices[1:])\n",
    "habitantes"
   ]
  },
  {
   "cell_type": "markdown",
   "metadata": {},
   "source": [
    "### Lectura de los datos de un archivo: `read_csv()`\n",
    "\n",
    "Si tenemos el archivo en formato CSV, entonces es mejor hacer uso de la función `read_csv()`:"
   ]
  },
  {
   "cell_type": "code",
   "execution_count": null,
   "metadata": {},
   "outputs": [],
   "source": [
    "fdel = pd.read_csv('./delegaciones.csv')\n",
    "habitantes = pd.Series(list(fdel.iloc[:,1]),\n",
    "                       list(fdel.iloc[:,0]))\n",
    "habitantes"
   ]
  },
  {
   "cell_type": "markdown",
   "metadata": {},
   "source": [
    "En general esta última forma es más directa y óptima para leer datos de un archivo en formato CSV.\n",
    "\n",
    "### `sum()`, `max()`, `min()`"
   ]
  },
  {
   "cell_type": "code",
   "execution_count": null,
   "metadata": {
    "tags": []
   },
   "outputs": [],
   "source": [
    "# Suma total de habitantes\n",
    "habitantes.sum()"
   ]
  },
  {
   "cell_type": "code",
   "execution_count": null,
   "metadata": {
    "tags": []
   },
   "outputs": [],
   "source": [
    "# Cálculo del máximo\n",
    "habitantes.max()"
   ]
  },
  {
   "cell_type": "code",
   "execution_count": null,
   "metadata": {
    "tags": []
   },
   "outputs": [],
   "source": [
    "# Cálculo del mínimo\n",
    "habitantes.min()"
   ]
  },
  {
   "cell_type": "code",
   "execution_count": null,
   "metadata": {
    "tags": []
   },
   "outputs": [],
   "source": [
    "# Delegación con el mayor número de habitantes\n",
    "habitantes[habitantes == habitantes.max()]"
   ]
  },
  {
   "cell_type": "code",
   "execution_count": null,
   "metadata": {
    "tags": []
   },
   "outputs": [],
   "source": [
    "# Delegación con el menor número de habitantes\n",
    "habitantes[habitantes == habitantes.min()]"
   ]
  },
  {
   "cell_type": "code",
   "execution_count": null,
   "metadata": {
    "tags": []
   },
   "outputs": [],
   "source": [
    "# Delegaciones con más de 400,000 habitantes\n",
    "habitantes[habitantes > 400000]"
   ]
  },
  {
   "cell_type": "markdown",
   "metadata": {},
   "source": [
    "## Algunas operaciones con series\n",
    "\n",
    "\n",
    "### Agregar nuevos elementos\n",
    "\n",
    "Definimos el siguiente diccionario"
   ]
  },
  {
   "cell_type": "code",
   "execution_count": null,
   "metadata": {
    "tags": []
   },
   "outputs": [],
   "source": [
    "money_dic = {'Diez': 10.0, 'Cinco': 5.0, 'Dos': 2.0, 'Uno': 1.0, 'cincuenta': 0.5, 'veinte': 0.2, 'diez': 0.1}\n",
    "money_dic"
   ]
  },
  {
   "cell_type": "markdown",
   "metadata": {},
   "source": [
    "Definimos la lista `etiquetas` con un elemento más: `quarter`. Con esta lista y el diccionario construimos una serie:"
   ]
  },
  {
   "cell_type": "code",
   "execution_count": null,
   "metadata": {
    "tags": []
   },
   "outputs": [],
   "source": [
    "etiquetas = ['Diez','Cinco','quarter','Dos','Uno','cincuenta','veinte','diez']\n",
    "money_q = pd.Series(money_dic, index=etiquetas) # Hay un índice extra.\n",
    "money_q"
   ]
  },
  {
   "cell_type": "markdown",
   "metadata": {},
   "source": [
    "Observa que en el lugar del `quarter` se puso un `NaN` (*Not a Number*) debido a que no tenemos un dato para el `quarter`. Esto sucede muy frecuentemente en muchos conjuntos de datos (*dataset*).\n",
    "\n",
    "Se puede agregar un elemento definiendo una etiqueta y un valor como sigue"
   ]
  },
  {
   "cell_type": "code",
   "execution_count": null,
   "metadata": {
    "tags": []
   },
   "outputs": [],
   "source": [
    "money_q['Cien'] = 100.0 "
   ]
  },
  {
   "cell_type": "code",
   "execution_count": null,
   "metadata": {
    "tags": []
   },
   "outputs": [],
   "source": [
    "money_q"
   ]
  },
  {
   "cell_type": "markdown",
   "metadata": {},
   "source": [
    "Si el elemento ya existe, se cambia el valor por el que se proporciona:"
   ]
  },
  {
   "cell_type": "code",
   "execution_count": null,
   "metadata": {
    "tags": []
   },
   "outputs": [],
   "source": [
    "money_q['Cien'] = 110.0 "
   ]
  },
  {
   "cell_type": "code",
   "execution_count": null,
   "metadata": {
    "tags": []
   },
   "outputs": [],
   "source": [
    "money_q"
   ]
  },
  {
   "cell_type": "markdown",
   "metadata": {},
   "source": [
    "### Verificar datos faltantes `isnull` y `notnull`\n",
    "\n",
    "Podemos verificar si hay datos faltantes (`NaN`) en la serie."
   ]
  },
  {
   "cell_type": "code",
   "execution_count": null,
   "metadata": {
    "tags": []
   },
   "outputs": [],
   "source": [
    "pd.isnull(money_q['quarter'])    "
   ]
  },
  {
   "cell_type": "code",
   "execution_count": null,
   "metadata": {
    "tags": []
   },
   "outputs": [],
   "source": [
    "pd.notnull(money_q['diez']) "
   ]
  },
  {
   "cell_type": "markdown",
   "metadata": {},
   "source": [
    "### Eliminar y/o completar datos faltantes `dropna`\n"
   ]
  },
  {
   "cell_type": "code",
   "execution_count": null,
   "metadata": {
    "tags": []
   },
   "outputs": [],
   "source": [
    "money_q.dropna()"
   ]
  },
  {
   "cell_type": "markdown",
   "metadata": {},
   "source": [
    "El resultado de `dropna()` es la serie sin elemento `NaN`, pero este resultado debe ser asignado a otra etiqueta, pues no se modifica la serie original:"
   ]
  },
  {
   "cell_type": "code",
   "execution_count": null,
   "metadata": {
    "tags": []
   },
   "outputs": [],
   "source": [
    "money_q"
   ]
  },
  {
   "cell_type": "code",
   "execution_count": null,
   "metadata": {
    "tags": []
   },
   "outputs": [],
   "source": [
    "money_q_sin_NaN = money_q.dropna()"
   ]
  },
  {
   "cell_type": "code",
   "execution_count": null,
   "metadata": {
    "tags": []
   },
   "outputs": [],
   "source": [
    "money_q_sin_NaN"
   ]
  },
  {
   "cell_type": "markdown",
   "metadata": {},
   "source": [
    "En vez de eliminar los datos `NaN` también es posible completar su valor:"
   ]
  },
  {
   "cell_type": "code",
   "execution_count": null,
   "metadata": {
    "tags": []
   },
   "outputs": [],
   "source": [
    "money_q"
   ]
  },
  {
   "cell_type": "code",
   "execution_count": null,
   "metadata": {
    "tags": []
   },
   "outputs": [],
   "source": [
    "money_q.fillna(0.25, inplace = True)"
   ]
  },
  {
   "cell_type": "markdown",
   "metadata": {},
   "source": [
    "Observa que ahora se usó el parámetro `inplace=True` lo que significa que se modificará la serie original sin crear un nuevo objeto:"
   ]
  },
  {
   "cell_type": "code",
   "execution_count": null,
   "metadata": {
    "tags": []
   },
   "outputs": [],
   "source": [
    "money_q"
   ]
  },
  {
   "cell_type": "markdown",
   "metadata": {},
   "source": [
    "### Operaciones aritméticas entre series\n",
    "\n",
    "Retomamos la serie `money` definida antes:"
   ]
  },
  {
   "cell_type": "code",
   "execution_count": null,
   "metadata": {
    "tags": []
   },
   "outputs": [],
   "source": [
    "money = pd.Series([10.0,5.0,2.0,1.0,0.5,0.2,0.1],\n",
    "                  index=['Diez','Cinco','Dos','Uno','cincuenta','veinte','diez'])\n",
    "money"
   ]
  },
  {
   "cell_type": "code",
   "execution_count": null,
   "metadata": {
    "tags": []
   },
   "outputs": [],
   "source": [
    "money + money # Podemos sumar dos series"
   ]
  },
  {
   "cell_type": "markdown",
   "metadata": {},
   "source": [
    "No importa que las series estén en desorden o que tengan longitud diferente la suma se hará correctamente. Por ejemplo:"
   ]
  },
  {
   "cell_type": "code",
   "execution_count": null,
   "metadata": {
    "tags": []
   },
   "outputs": [],
   "source": [
    "print(len(money), len(money_q) )"
   ]
  },
  {
   "cell_type": "code",
   "execution_count": null,
   "metadata": {
    "tags": []
   },
   "outputs": [],
   "source": [
    "print('{}\\n'.format(money))\n",
    "print('{}\\n'.format(money_q))"
   ]
  },
  {
   "cell_type": "code",
   "execution_count": null,
   "metadata": {
    "tags": []
   },
   "outputs": [],
   "source": [
    "money + money_q"
   ]
  },
  {
   "cell_type": "markdown",
   "metadata": {},
   "source": [
    "Observa que: \n",
    "* Se usa `NaN` en los lugares donde las series son diferentes. \n",
    "* Las operaciones se hacen elemento por elemento, justo como en un arreglo de numpy. Puedes probar con otro tipo de operaciones: `-`, `*`, `/`, `**`, `np.sin()`, etc."
   ]
  },
  {
   "cell_type": "markdown",
   "metadata": {},
   "source": [
    "### Aplicación de funciones"
   ]
  },
  {
   "cell_type": "code",
   "execution_count": null,
   "metadata": {
    "tags": []
   },
   "outputs": [],
   "source": [
    "# Construcción de una serie a partir de una cadena\n",
    "nombre = pd.Series(list('Luis Miguel de la Cruz Salas'))\n",
    "print(nombre)"
   ]
  },
  {
   "cell_type": "code",
   "execution_count": null,
   "metadata": {
    "tags": []
   },
   "outputs": [],
   "source": [
    "nombre.unique() # Obtiene los elementos únicos"
   ]
  },
  {
   "cell_type": "code",
   "execution_count": null,
   "metadata": {
    "tags": []
   },
   "outputs": [],
   "source": [
    "# Puede contar los objetos que hay en la Serie\n",
    "nombre.value_counts()"
   ]
  },
  {
   "cell_type": "code",
   "execution_count": null,
   "metadata": {
    "tags": []
   },
   "outputs": [],
   "source": [
    "# Podemos tener una serie con índices en desorden:\n",
    "serie = pd.Series(range(5),index=['C','A','B','E','D'])\n",
    "serie"
   ]
  },
  {
   "cell_type": "code",
   "execution_count": null,
   "metadata": {
    "tags": []
   },
   "outputs": [],
   "source": [
    "# La serie se puede ordenar a través de los índices\n",
    "serie.sort_index()"
   ]
  },
  {
   "cell_type": "code",
   "execution_count": null,
   "metadata": {
    "tags": []
   },
   "outputs": [],
   "source": [
    "serie   # Ojo: el ordenamiento no se hizo \"in place\", es decir no se modificó la serie original"
   ]
  },
  {
   "cell_type": "code",
   "execution_count": null,
   "metadata": {
    "tags": []
   },
   "outputs": [],
   "source": [
    "# Aquí creamos una nueva serie ordenada, pero la original prevalece\n",
    "serie_ordenada = serie.sort_index()"
   ]
  },
  {
   "cell_type": "code",
   "execution_count": null,
   "metadata": {
    "tags": []
   },
   "outputs": [],
   "source": [
    "serie_ordenada"
   ]
  },
  {
   "cell_type": "code",
   "execution_count": null,
   "metadata": {
    "tags": []
   },
   "outputs": [],
   "source": [
    "serie"
   ]
  },
  {
   "cell_type": "code",
   "execution_count": null,
   "metadata": {
    "tags": []
   },
   "outputs": [],
   "source": [
    "# Podemos ordenar la serie \"in place\", es decir se modifica la serie original\n",
    "serie.sort_index(inplace=True)\n",
    "serie"
   ]
  },
  {
   "cell_type": "code",
   "execution_count": null,
   "metadata": {
    "tags": []
   },
   "outputs": [],
   "source": [
    "# Se puede ordenar la serie usando los objetos que contiene\n",
    "serie.sort_values()"
   ]
  },
  {
   "cell_type": "code",
   "execution_count": null,
   "metadata": {
    "tags": []
   },
   "outputs": [],
   "source": [
    "# Creamos otra serie con valores e índices desordenados\n",
    "serie = pd.Series([7,5,2,8,3],index=['C','A','B','E','D'])\n",
    "serie"
   ]
  },
  {
   "cell_type": "code",
   "execution_count": null,
   "metadata": {
    "tags": []
   },
   "outputs": [],
   "source": [
    "# La siguiente función clasifica las entradas de la serie de acuerdo al contenido de su objeto\n",
    "serie.rank()"
   ]
  },
  {
   "cell_type": "code",
   "execution_count": null,
   "metadata": {
    "tags": []
   },
   "outputs": [],
   "source": [
    "serie.rank(pct=True) # Clasificación en porcentaje"
   ]
  },
  {
   "cell_type": "code",
   "execution_count": null,
   "metadata": {
    "tags": []
   },
   "outputs": [],
   "source": [
    "# Si ordenamos la serie que pasa ¿?:\n",
    "serie.sort_values()"
   ]
  },
  {
   "cell_type": "markdown",
   "metadata": {},
   "source": [
    "### La función `apply`\n",
    "```python\n",
    "Series.apply(func, conver_dtype=True, args(), **kwds)\n",
    "```\n",
    "- La función `func` será aplicada a la serie y regresa un objeto de tipo Series o DataFrame.\n"
   ]
  },
  {
   "cell_type": "code",
   "execution_count": null,
   "metadata": {
    "tags": []
   },
   "outputs": [],
   "source": [
    "s = serie.apply(np.sin)\n",
    "print(type(s))\n",
    "s"
   ]
  },
  {
   "cell_type": "markdown",
   "metadata": {},
   "source": [
    "- Podemos usar funciones lambda"
   ]
  },
  {
   "cell_type": "code",
   "execution_count": null,
   "metadata": {
    "tags": []
   },
   "outputs": [],
   "source": [
    "serie"
   ]
  },
  {
   "cell_type": "code",
   "execution_count": null,
   "metadata": {
    "tags": []
   },
   "outputs": [],
   "source": [
    "serie.apply(lambda x: x if x > 5 else x**2)"
   ]
  },
  {
   "cell_type": "code",
   "execution_count": null,
   "metadata": {},
   "outputs": [],
   "source": []
  }
 ],
 "metadata": {
  "kernelspec": {
   "display_name": "Python 3 (ipykernel)",
   "language": "python",
   "name": "python3"
  },
  "language_info": {
   "codemirror_mode": {
    "name": "ipython",
    "version": 3
   },
   "file_extension": ".py",
   "mimetype": "text/x-python",
   "name": "python",
   "nbconvert_exporter": "python",
   "pygments_lexer": "ipython3",
   "version": "3.11.6"
  }
 },
 "nbformat": 4,
 "nbformat_minor": 4
}
