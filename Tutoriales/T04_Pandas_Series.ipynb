{
 "cells": [
  {
   "cell_type": "markdown",
   "metadata": {},
   "source": [
    "# Pandas: Series.\n",
    "\n",
    "<p xmlns:cc=\"http://creativecommons.org/ns#\" xmlns:dct=\"http://purl.org/dc/terms/\"><a property=\"dct:title\" rel=\"cc:attributionURL\" href=\"https://github.com/luiggix/HeCompA/tree/main/Tutoriales\">Tutoriales</a> by <a rel=\"cc:attributionURL dct:creator\" property=\"cc:attributionName\" href=\"https://www.macti.unam.mx\">Luis M. de la Cruz</a> is licensed under <a href=\"http://creativecommons.org/licenses/by-sa/4.0/?ref=chooser-v1\" target=\"_blank\" rel=\"license noopener noreferrer\" style=\"display:inline-block;\">Attribution-ShareAlike 4.0 International<img style=\"height:22px!important;margin-left:3px;vertical-align:text-bottom;\" src=\"https://mirrors.creativecommons.org/presskit/icons/cc.svg?ref=chooser-v1\"><img style=\"height:22px!important;margin-left:3px;vertical-align:text-bottom;\" src=\"https://mirrors.creativecommons.org/presskit/icons/by.svg?ref=chooser-v1\"><img style=\"height:22px!important;margin-left:3px;vertical-align:text-bottom;\" src=\"https://mirrors.creativecommons.org/presskit/icons/sa.svg?ref=chooser-v1\"></a></p> \n",
    "\n",
    "# Objetivos.\n",
    "Revisar los concepto básicos de Series de la biblioteca Pandas."
   ]
  },
  {
   "cell_type": "markdown",
   "metadata": {},
   "source": [
    "# Pandas\n",
    "\n",
    "- Pandas es \"Python Data Analysis Library\". El nombre proviene del término *Panel Data* que es un término econométrico para manejar conjuntos de datos multidimensionales.\n",
    "\n",
    "- Pandas es una biblioteca que provee de herramientas de alto desempeño, fáciles de usar, para manejar estructuras de datos y para su análisis. \n",
    "\n",
    "- Pandas es un módulo que reúne las capacidades de Numpy, Scipy y Matplotlib.\n",
    "\n",
    "- Véase https://pandas.pydata.org/ para más información.\n"
   ]
  },
  {
   "cell_type": "code",
   "execution_count": 1,
   "metadata": {
    "tags": []
   },
   "outputs": [],
   "source": [
    "import numpy as np\n",
    "import pandas as pd"
   ]
  },
  {
   "cell_type": "markdown",
   "metadata": {},
   "source": [
    "# Series\n",
    "\n",
    "- Las `Series` son arreglos unidimensionales indexados basados en los arreglos de Numpy.\n",
    "- Pueden almacenar cualquier tipo de dato: int, floats, strings, Python objects, etc.\n",
    "- Se pueden ver como una estructura de datos con dos arreglos: uno para los índices y otro para los objetos que contiene."
   ]
  },
  {
   "cell_type": "code",
   "execution_count": 2,
   "metadata": {
    "tags": []
   },
   "outputs": [
    {
     "data": {
      "text/plain": [
       "0     3\n",
       "1     6\n",
       "2     9\n",
       "3    12\n",
       "dtype: int64"
      ]
     },
     "execution_count": 2,
     "metadata": {},
     "output_type": "execute_result"
    }
   ],
   "source": [
    "obj = pd.Series([3,6,9,12])\n",
    "obj"
   ]
  },
  {
   "cell_type": "code",
   "execution_count": 3,
   "metadata": {
    "tags": []
   },
   "outputs": [
    {
     "data": {
      "text/plain": [
       "array([ 3,  6,  9, 12])"
      ]
     },
     "execution_count": 3,
     "metadata": {},
     "output_type": "execute_result"
    }
   ],
   "source": [
    "obj.values # Objetos de la serie"
   ]
  },
  {
   "cell_type": "markdown",
   "metadata": {},
   "source": [
    "Observa que los valores de la serie están en un arreglo de numpy."
   ]
  },
  {
   "cell_type": "code",
   "execution_count": 4,
   "metadata": {
    "tags": []
   },
   "outputs": [
    {
     "data": {
      "text/plain": [
       "RangeIndex(start=0, stop=4, step=1)"
      ]
     },
     "execution_count": 4,
     "metadata": {},
     "output_type": "execute_result"
    }
   ],
   "source": [
    "obj.index # Índices de la serie"
   ]
  },
  {
   "cell_type": "code",
   "execution_count": 5,
   "metadata": {
    "tags": []
   },
   "outputs": [
    {
     "data": {
      "text/plain": [
       "[0, 1, 2, 3]"
      ]
     },
     "execution_count": 5,
     "metadata": {},
     "output_type": "execute_result"
    }
   ],
   "source": [
    "list(obj.index) # Índices de la serie"
   ]
  },
  {
   "cell_type": "markdown",
   "metadata": {},
   "source": [
    "- Comparemos con los array de Numpy"
   ]
  },
  {
   "cell_type": "code",
   "execution_count": 6,
   "metadata": {
    "tags": []
   },
   "outputs": [
    {
     "data": {
      "text/plain": [
       "array([ 3,  6,  9, 12])"
      ]
     },
     "execution_count": 6,
     "metadata": {},
     "output_type": "execute_result"
    }
   ],
   "source": [
    "x = np.array([3,6,9,12])\n",
    "x"
   ]
  },
  {
   "cell_type": "code",
   "execution_count": 7,
   "metadata": {
    "tags": []
   },
   "outputs": [
    {
     "name": "stdout",
     "output_type": "stream",
     "text": [
      "<class 'numpy.ndarray'>\n",
      "<class 'numpy.ndarray'>\n",
      "<class 'pandas.core.indexes.range.RangeIndex'>\n",
      "<class 'pandas.core.series.Series'>\n"
     ]
    }
   ],
   "source": [
    "print(type(x))          # Arreglo de numpy\n",
    "print(type(obj.values)) # Arreglo de numpy\n",
    "print(type(obj.index))  # RangeIndex\n",
    "print(type(obj))        # Serie"
   ]
  },
  {
   "cell_type": "markdown",
   "metadata": {},
   "source": [
    "Podemos definir los índices como queramos:"
   ]
  },
  {
   "cell_type": "code",
   "execution_count": 8,
   "metadata": {
    "tags": []
   },
   "outputs": [
    {
     "data": {
      "text/plain": [
       "Diez         10.0\n",
       "Cinco         5.0\n",
       "Dos           2.0\n",
       "Uno           1.0\n",
       "cincuenta     0.5\n",
       "veinte        0.2\n",
       "diez          0.1\n",
       "dtype: float64"
      ]
     },
     "execution_count": 8,
     "metadata": {},
     "output_type": "execute_result"
    }
   ],
   "source": [
    "money = pd.Series([10.0,5.0,2.0,1.0,0.5,0.2,0.1],\n",
    "                  index=['Diez','Cinco','Dos','Uno','cincuenta','veinte','diez'])\n",
    "money"
   ]
  },
  {
   "cell_type": "code",
   "execution_count": 9,
   "metadata": {
    "tags": []
   },
   "outputs": [
    {
     "data": {
      "text/plain": [
       "np.float64(0.1)"
      ]
     },
     "execution_count": 9,
     "metadata": {},
     "output_type": "execute_result"
    }
   ],
   "source": [
    "money['diez'] # Podemos acceder a los objetos de la Serie con el índice"
   ]
  },
  {
   "cell_type": "code",
   "execution_count": 10,
   "metadata": {
    "tags": []
   },
   "outputs": [
    {
     "name": "stdout",
     "output_type": "stream",
     "text": [
      " 0.1000000000000000055511151231257827021181583404541016\n"
     ]
    }
   ],
   "source": [
    "print('{: .52f}'.format(money['diez']))"
   ]
  },
  {
   "cell_type": "markdown",
   "metadata": {},
   "source": [
    "Podemos hacer operaciones booleanas para acceder a secciones de la serie."
   ]
  },
  {
   "cell_type": "code",
   "execution_count": 11,
   "metadata": {
    "tags": []
   },
   "outputs": [
    {
     "data": {
      "text/plain": [
       "Diez     10.0\n",
       "Cinco     5.0\n",
       "Dos       2.0\n",
       "Uno       1.0\n",
       "dtype: float64"
      ]
     },
     "execution_count": 11,
     "metadata": {},
     "output_type": "execute_result"
    }
   ],
   "source": [
    "money[money > 0.5] "
   ]
  },
  {
   "cell_type": "markdown",
   "metadata": {},
   "source": [
    "Es posible preguntar si un índice está en la Serie"
   ]
  },
  {
   "cell_type": "code",
   "execution_count": 12,
   "metadata": {
    "tags": []
   },
   "outputs": [
    {
     "data": {
      "text/plain": [
       "False"
      ]
     },
     "execution_count": 12,
     "metadata": {},
     "output_type": "execute_result"
    }
   ],
   "source": [
    "'quarter' in money "
   ]
  },
  {
   "cell_type": "markdown",
   "metadata": {},
   "source": [
    "Es posible preguntar si un objeto está en la Serie"
   ]
  },
  {
   "cell_type": "code",
   "execution_count": 13,
   "metadata": {
    "tags": []
   },
   "outputs": [
    {
     "data": {
      "text/plain": [
       "True"
      ]
     },
     "execution_count": 13,
     "metadata": {},
     "output_type": "execute_result"
    }
   ],
   "source": [
    " 0.1 in money.values  "
   ]
  },
  {
   "cell_type": "markdown",
   "metadata": {},
   "source": [
    "## Transformación entre Series y tipos básicos de Python\n",
    "\n",
    "### `Series` $\\rightarrow$ `string`"
   ]
  },
  {
   "cell_type": "code",
   "execution_count": 14,
   "metadata": {
    "tags": []
   },
   "outputs": [
    {
     "data": {
      "text/plain": [
       "'Diez         10.0\\nCinco         5.0\\nDos           2.0\\nUno           1.0\\ncincuenta     0.5\\nveinte        0.2\\ndiez          0.1'"
      ]
     },
     "execution_count": 14,
     "metadata": {},
     "output_type": "execute_result"
    }
   ],
   "source": [
    "money_string = money.to_string()\n",
    "money_string"
   ]
  },
  {
   "cell_type": "code",
   "execution_count": 15,
   "metadata": {
    "tags": []
   },
   "outputs": [
    {
     "name": "stdout",
     "output_type": "stream",
     "text": [
      "<class 'str'>\n"
     ]
    }
   ],
   "source": [
    "print(type(money_string))"
   ]
  },
  {
   "cell_type": "code",
   "execution_count": 16,
   "metadata": {
    "tags": []
   },
   "outputs": [
    {
     "name": "stdout",
     "output_type": "stream",
     "text": [
      "Longitud de la cadena: 125\n"
     ]
    }
   ],
   "source": [
    "print('Longitud de la cadena: {}'.format(len(money_string)))"
   ]
  },
  {
   "cell_type": "code",
   "execution_count": 17,
   "metadata": {
    "tags": []
   },
   "outputs": [
    {
     "name": "stdout",
     "output_type": "stream",
     "text": [
      "D i e z                   1 0 . 0 \n",
      " C i n c o                   5 . 0 \n",
      " D o s                       2 . 0 \n",
      " U n o                       1 . 0 \n",
      " c i n c u e n t a           0 . 5 \n",
      " v e i n t e                 0 . 2 \n",
      " d i e z                     0 . 1 "
     ]
    }
   ],
   "source": [
    "# se imprime cada elemento de la cadena separados por espacios\n",
    "for i in money_string:\n",
    "    print(i, end = ' ')"
   ]
  },
  {
   "cell_type": "markdown",
   "metadata": {},
   "source": [
    "### `Series` $\\rightarrow$ `dict`"
   ]
  },
  {
   "cell_type": "code",
   "execution_count": 18,
   "metadata": {
    "tags": []
   },
   "outputs": [
    {
     "data": {
      "text/plain": [
       "{'Diez': 10.0,\n",
       " 'Cinco': 5.0,\n",
       " 'Dos': 2.0,\n",
       " 'Uno': 1.0,\n",
       " 'cincuenta': 0.5,\n",
       " 'veinte': 0.2,\n",
       " 'diez': 0.1}"
      ]
     },
     "execution_count": 18,
     "metadata": {},
     "output_type": "execute_result"
    }
   ],
   "source": [
    "money_dic = money.to_dict()\n",
    "money_dic"
   ]
  },
  {
   "cell_type": "code",
   "execution_count": 19,
   "metadata": {
    "tags": []
   },
   "outputs": [
    {
     "name": "stdout",
     "output_type": "stream",
     "text": [
      "<class 'dict'>\n"
     ]
    }
   ],
   "source": [
    "print(type(money_dic))"
   ]
  },
  {
   "cell_type": "markdown",
   "metadata": {},
   "source": [
    "### `dict` $\\rightarrow$ `Series` "
   ]
  },
  {
   "cell_type": "code",
   "execution_count": 20,
   "metadata": {
    "tags": []
   },
   "outputs": [
    {
     "data": {
      "text/plain": [
       "Diez         10.0\n",
       "Cinco         5.0\n",
       "Dos           2.0\n",
       "Uno           1.0\n",
       "cincuenta     0.5\n",
       "veinte        0.2\n",
       "diez          0.1\n",
       "dtype: float64"
      ]
     },
     "execution_count": 20,
     "metadata": {},
     "output_type": "execute_result"
    }
   ],
   "source": [
    "# Podemos transformar un diccionario en una Serie.\n",
    "pd.Series(money_dic)"
   ]
  },
  {
   "cell_type": "markdown",
   "metadata": {},
   "source": [
    "### `Series` $\\rightarrow$ archivo"
   ]
  },
  {
   "cell_type": "code",
   "execution_count": 21,
   "metadata": {
    "tags": []
   },
   "outputs": [],
   "source": [
    "# Podemos escribir la Serie a un archivo en formato csv\n",
    "money.to_csv('money.csv')"
   ]
  },
  {
   "cell_type": "markdown",
   "metadata": {},
   "source": [
    "---\n",
    "## **<font color=\"DodgerBlue\">Ejercicio 1. </font>**\n",
    "\n",
    "<font color=\"DarkBlue\">\n",
    "    \n",
    "* Crear una serie con sus índices iguales a los nombres de las delegaciones de la Ciudad de México y sus valores iguales al número de habitantes por delegación.\n",
    "\n",
    "Delegación | Habitantes\n",
    "-- | --\n",
    "Azcapotzalco | 400 161\n",
    "Coyoacán | 608 479\n",
    "Cuajimalpa de Morelos | 199 224\n",
    "Gustavo A. Madero | 1 164 477\n",
    "Iztacalco | 390 348\n",
    "Iztapalapa | 1 827 868\n",
    "La Magdalena Contreras | 243 886\n",
    "Milpa Alta | 137 927\n",
    "Álvaro Obregón | 749 982\n",
    "Tláhuac | 361 593\n",
    "Tlalpan | 677 104\n",
    "Xochimilco | 415 933\n",
    "Benito Juárez | 417 416\n",
    "Cuauhtémoc | 532 553\n",
    "Miguel Hidalgo | 364 439\n",
    "Venustiano Carranza | 427 263\n",
    "\n",
    "- Calcular la suma total de habitantes.\n",
    "- Imprimir los nombres de las delegaciones con mayor y menor número de habitantes.\n",
    "- Imprimir los nombres de las delegaciones con más de 400,000 habitantes.\n",
    "\n",
    "</font>\n",
    "\n",
    "---"
   ]
  },
  {
   "cell_type": "markdown",
   "metadata": {},
   "source": [
    "### Lectura de los datos de un archivo: `open()`"
   ]
  },
  {
   "cell_type": "code",
   "execution_count": 22,
   "metadata": {
    "tags": []
   },
   "outputs": [
    {
     "name": "stdout",
     "output_type": "stream",
     "text": [
      "Índices : \n",
      " ['Delegación', 'Azcapotzalco', 'Coyoacán', 'Cuajimalpa de Morelos', 'Gustavo A. Madero', 'Iztacalco', 'Iztapalapa', 'La Magdalena Contreras', 'Milpa Alta', 'Álvaro Obregón', 'Tláhuac', 'Tlalpan', 'Xochimilco', 'Benito Juárez', 'Cuauhtémoc', 'Miguel Hidalgo', 'Venustiano Carranza'] \n",
      "\n",
      "Valores : \n",
      " ['Habitantes\\n', '400161\\n', '608479\\n', '199224\\n', '1164477\\n', '390348\\n', '1827868\\n', '243886\\n', '137927\\n', '749982\\n', '361593\\n', '677104\\n', '415933\\n', '417416\\n', '532553\\n', '364439\\n', '427263\\n'] \n"
     ]
    }
   ],
   "source": [
    "# Abrimos el archivo\n",
    "fdel = open('./delegaciones.csv','r')\n",
    "\n",
    "# Construimos dos listas vacías\n",
    "valores = []\n",
    "indices = []\n",
    "\n",
    "# Mediante un ciclo leemos la información del archivo\n",
    "for line in fdel:\n",
    "    sline = line.split(sep=\",\") # Separamos cada línea por comas\n",
    "    indices.append(sline[0])    # Leemos el índice\n",
    "    valores.append(sline[1])      # Leemos el valor\n",
    "\n",
    "    \n",
    "# Imprimimos las listas\n",
    "print('Índices : \\n {} \\n'.format(indices))  \n",
    "print('Valores : \\n {} '.format(valores))"
   ]
  },
  {
   "cell_type": "markdown",
   "metadata": {},
   "source": [
    "Observamos que el primer elemento de cada lista es la descripción de los datos. Ahora transformamos las listas en una serie:"
   ]
  },
  {
   "cell_type": "code",
   "execution_count": 23,
   "metadata": {
    "tags": []
   },
   "outputs": [
    {
     "data": {
      "text/plain": [
       "Azcapotzalco               400161\\n\n",
       "Coyoacán                   608479\\n\n",
       "Cuajimalpa de Morelos      199224\\n\n",
       "Gustavo A. Madero         1164477\\n\n",
       "Iztacalco                  390348\\n\n",
       "Iztapalapa                1827868\\n\n",
       "La Magdalena Contreras     243886\\n\n",
       "Milpa Alta                 137927\\n\n",
       "Álvaro Obregón             749982\\n\n",
       "Tláhuac                    361593\\n\n",
       "Tlalpan                    677104\\n\n",
       "Xochimilco                 415933\\n\n",
       "Benito Juárez              417416\\n\n",
       "Cuauhtémoc                 532553\\n\n",
       "Miguel Hidalgo             364439\\n\n",
       "Venustiano Carranza        427263\\n\n",
       "dtype: object"
      ]
     },
     "execution_count": 23,
     "metadata": {},
     "output_type": "execute_result"
    }
   ],
   "source": [
    "habitantes = pd.Series(valores[1:], index=indices[1:])\n",
    "habitantes"
   ]
  },
  {
   "cell_type": "markdown",
   "metadata": {},
   "source": [
    "### Lectura de los datos de un archivo: `read_csv()`\n",
    "\n",
    "Si tenemos el archivo en formato CSV, entonces es mejor hacer uso de la función `read_csv()`:"
   ]
  },
  {
   "cell_type": "code",
   "execution_count": 24,
   "metadata": {
    "tags": []
   },
   "outputs": [
    {
     "data": {
      "text/plain": [
       "Azcapotzalco               400161\n",
       "Coyoacán                   608479\n",
       "Cuajimalpa de Morelos      199224\n",
       "Gustavo A. Madero         1164477\n",
       "Iztacalco                  390348\n",
       "Iztapalapa                1827868\n",
       "La Magdalena Contreras     243886\n",
       "Milpa Alta                 137927\n",
       "Álvaro Obregón             749982\n",
       "Tláhuac                    361593\n",
       "Tlalpan                    677104\n",
       "Xochimilco                 415933\n",
       "Benito Juárez              417416\n",
       "Cuauhtémoc                 532553\n",
       "Miguel Hidalgo             364439\n",
       "Venustiano Carranza        427263\n",
       "dtype: int64"
      ]
     },
     "execution_count": 24,
     "metadata": {},
     "output_type": "execute_result"
    }
   ],
   "source": [
    "fdel = pd.read_csv('./delegaciones.csv')\n",
    "habitantes = pd.Series(list(fdel.iloc[:,1]),index=list(fdel.iloc[:,0]))\n",
    "habitantes"
   ]
  },
  {
   "cell_type": "markdown",
   "metadata": {},
   "source": [
    "En general esta última forma es más directa y óptima para leer datos de un archivo en formato CSV.\n",
    "\n",
    "### `sum()`, `max()`, `min()`"
   ]
  },
  {
   "cell_type": "code",
   "execution_count": 25,
   "metadata": {
    "tags": []
   },
   "outputs": [
    {
     "data": {
      "text/plain": [
       "np.int64(8918653)"
      ]
     },
     "execution_count": 25,
     "metadata": {},
     "output_type": "execute_result"
    }
   ],
   "source": [
    "# Suma total de habitantes\n",
    "habitantes.sum()"
   ]
  },
  {
   "cell_type": "code",
   "execution_count": 26,
   "metadata": {
    "tags": []
   },
   "outputs": [
    {
     "data": {
      "text/plain": [
       "np.int64(1827868)"
      ]
     },
     "execution_count": 26,
     "metadata": {},
     "output_type": "execute_result"
    }
   ],
   "source": [
    "# Cálculo del máximo\n",
    "habitantes.max()"
   ]
  },
  {
   "cell_type": "code",
   "execution_count": 27,
   "metadata": {
    "tags": []
   },
   "outputs": [
    {
     "data": {
      "text/plain": [
       "np.int64(137927)"
      ]
     },
     "execution_count": 27,
     "metadata": {},
     "output_type": "execute_result"
    }
   ],
   "source": [
    "# Cálculo del mínimo\n",
    "habitantes.min()"
   ]
  },
  {
   "cell_type": "code",
   "execution_count": 28,
   "metadata": {
    "tags": []
   },
   "outputs": [
    {
     "data": {
      "text/plain": [
       "Iztapalapa    1827868\n",
       "dtype: int64"
      ]
     },
     "execution_count": 28,
     "metadata": {},
     "output_type": "execute_result"
    }
   ],
   "source": [
    "# Delegación con el mayor número de habitantes\n",
    "habitantes[habitantes == habitantes.max()]"
   ]
  },
  {
   "cell_type": "code",
   "execution_count": 29,
   "metadata": {
    "tags": []
   },
   "outputs": [
    {
     "data": {
      "text/plain": [
       "Milpa Alta    137927\n",
       "dtype: int64"
      ]
     },
     "execution_count": 29,
     "metadata": {},
     "output_type": "execute_result"
    }
   ],
   "source": [
    "# Delegación con el menor número de habitantes\n",
    "habitantes[habitantes == habitantes.min()]"
   ]
  },
  {
   "cell_type": "code",
   "execution_count": 30,
   "metadata": {
    "tags": []
   },
   "outputs": [
    {
     "data": {
      "text/plain": [
       "Azcapotzalco            400161\n",
       "Coyoacán                608479\n",
       "Gustavo A. Madero      1164477\n",
       "Iztapalapa             1827868\n",
       "Álvaro Obregón          749982\n",
       "Tlalpan                 677104\n",
       "Xochimilco              415933\n",
       "Benito Juárez           417416\n",
       "Cuauhtémoc              532553\n",
       "Venustiano Carranza     427263\n",
       "dtype: int64"
      ]
     },
     "execution_count": 30,
     "metadata": {},
     "output_type": "execute_result"
    }
   ],
   "source": [
    "# Delegaciones con más de 400,000 habitantes\n",
    "habitantes[habitantes > 400000]"
   ]
  },
  {
   "cell_type": "markdown",
   "metadata": {},
   "source": [
    "## Algunas operaciones con series\n",
    "\n",
    "\n",
    "### Agregar nuevos elementos\n",
    "\n",
    "Definimos el siguiente diccionario"
   ]
  },
  {
   "cell_type": "code",
   "execution_count": 31,
   "metadata": {
    "tags": []
   },
   "outputs": [
    {
     "data": {
      "text/plain": [
       "{'Diez': 10.0,\n",
       " 'Cinco': 5.0,\n",
       " 'Dos': 2.0,\n",
       " 'Uno': 1.0,\n",
       " 'cincuenta': 0.5,\n",
       " 'veinte': 0.2,\n",
       " 'diez': 0.1}"
      ]
     },
     "execution_count": 31,
     "metadata": {},
     "output_type": "execute_result"
    }
   ],
   "source": [
    "money_dic = {'Diez': 10.0, 'Cinco': 5.0, 'Dos': 2.0, 'Uno': 1.0, 'cincuenta': 0.5, 'veinte': 0.2, 'diez': 0.1}\n",
    "money_dic"
   ]
  },
  {
   "cell_type": "markdown",
   "metadata": {},
   "source": [
    "Definimos la lista `etiquetas` con un elemento más: `quarter`. Con esta lista y el diccionario construimos una serie:"
   ]
  },
  {
   "cell_type": "code",
   "execution_count": 32,
   "metadata": {
    "tags": []
   },
   "outputs": [
    {
     "data": {
      "text/plain": [
       "Diez         10.0\n",
       "Cinco         5.0\n",
       "quarter       NaN\n",
       "Dos           2.0\n",
       "Uno           1.0\n",
       "cincuenta     0.5\n",
       "veinte        0.2\n",
       "diez          0.1\n",
       "dtype: float64"
      ]
     },
     "execution_count": 32,
     "metadata": {},
     "output_type": "execute_result"
    }
   ],
   "source": [
    "etiquetas = ['Diez','Cinco','quarter','Dos','Uno','cincuenta','veinte','diez']\n",
    "money_q = pd.Series(money_dic, index=etiquetas) # Hay un índice extra.\n",
    "money_q"
   ]
  },
  {
   "cell_type": "markdown",
   "metadata": {},
   "source": [
    "Observa que en el lugar del `quarter` se puso un `NaN` (*Not a Number*) debido a que no tenemos un dato para el `quarter`. Esto sucede muy frecuentemente en muchos conjuntos de datos (*dataset*).\n",
    "\n",
    "Se puede agregar un elemento definiendo una etiqueta y un valor como sigue"
   ]
  },
  {
   "cell_type": "code",
   "execution_count": 33,
   "metadata": {
    "tags": []
   },
   "outputs": [],
   "source": [
    "money_q['Cien'] = 100.0 "
   ]
  },
  {
   "cell_type": "code",
   "execution_count": 34,
   "metadata": {
    "tags": []
   },
   "outputs": [
    {
     "data": {
      "text/plain": [
       "Diez          10.0\n",
       "Cinco          5.0\n",
       "quarter        NaN\n",
       "Dos            2.0\n",
       "Uno            1.0\n",
       "cincuenta      0.5\n",
       "veinte         0.2\n",
       "diez           0.1\n",
       "Cien         100.0\n",
       "dtype: float64"
      ]
     },
     "execution_count": 34,
     "metadata": {},
     "output_type": "execute_result"
    }
   ],
   "source": [
    "money_q"
   ]
  },
  {
   "cell_type": "markdown",
   "metadata": {},
   "source": [
    "Si el elemento ya existe, se cambia el valor por el que se proporciona:"
   ]
  },
  {
   "cell_type": "code",
   "execution_count": 35,
   "metadata": {
    "tags": []
   },
   "outputs": [],
   "source": [
    "money_q['Cien'] = 110.0 "
   ]
  },
  {
   "cell_type": "code",
   "execution_count": 36,
   "metadata": {
    "tags": []
   },
   "outputs": [
    {
     "data": {
      "text/plain": [
       "Diez          10.0\n",
       "Cinco          5.0\n",
       "quarter        NaN\n",
       "Dos            2.0\n",
       "Uno            1.0\n",
       "cincuenta      0.5\n",
       "veinte         0.2\n",
       "diez           0.1\n",
       "Cien         110.0\n",
       "dtype: float64"
      ]
     },
     "execution_count": 36,
     "metadata": {},
     "output_type": "execute_result"
    }
   ],
   "source": [
    "money_q"
   ]
  },
  {
   "cell_type": "markdown",
   "metadata": {},
   "source": [
    "### Verificar datos faltantes `isnull` y `notnull`\n",
    "\n",
    "Podemos verificar si hay datos faltantes (`NaN`) en la serie."
   ]
  },
  {
   "cell_type": "code",
   "execution_count": 37,
   "metadata": {
    "tags": []
   },
   "outputs": [
    {
     "data": {
      "text/plain": [
       "True"
      ]
     },
     "execution_count": 37,
     "metadata": {},
     "output_type": "execute_result"
    }
   ],
   "source": [
    "pd.isnull(money_q['quarter'])    "
   ]
  },
  {
   "cell_type": "code",
   "execution_count": 38,
   "metadata": {
    "tags": []
   },
   "outputs": [
    {
     "data": {
      "text/plain": [
       "True"
      ]
     },
     "execution_count": 38,
     "metadata": {},
     "output_type": "execute_result"
    }
   ],
   "source": [
    "pd.notnull(money_q['diez']) "
   ]
  },
  {
   "cell_type": "markdown",
   "metadata": {},
   "source": [
    "### Eliminar y/o completar datos faltantes `dropna`\n"
   ]
  },
  {
   "cell_type": "code",
   "execution_count": 39,
   "metadata": {
    "tags": []
   },
   "outputs": [
    {
     "data": {
      "text/plain": [
       "Diez          10.0\n",
       "Cinco          5.0\n",
       "Dos            2.0\n",
       "Uno            1.0\n",
       "cincuenta      0.5\n",
       "veinte         0.2\n",
       "diez           0.1\n",
       "Cien         110.0\n",
       "dtype: float64"
      ]
     },
     "execution_count": 39,
     "metadata": {},
     "output_type": "execute_result"
    }
   ],
   "source": [
    "money_q.dropna()"
   ]
  },
  {
   "cell_type": "markdown",
   "metadata": {},
   "source": [
    "El resultado de `dropna()` es la serie sin elemento `NaN`, pero este resultado debe ser asignado a otra etiqueta, pues no se modifica la serie original:"
   ]
  },
  {
   "cell_type": "code",
   "execution_count": 40,
   "metadata": {
    "tags": []
   },
   "outputs": [
    {
     "data": {
      "text/plain": [
       "Diez          10.0\n",
       "Cinco          5.0\n",
       "quarter        NaN\n",
       "Dos            2.0\n",
       "Uno            1.0\n",
       "cincuenta      0.5\n",
       "veinte         0.2\n",
       "diez           0.1\n",
       "Cien         110.0\n",
       "dtype: float64"
      ]
     },
     "execution_count": 40,
     "metadata": {},
     "output_type": "execute_result"
    }
   ],
   "source": [
    "money_q"
   ]
  },
  {
   "cell_type": "code",
   "execution_count": 41,
   "metadata": {
    "tags": []
   },
   "outputs": [],
   "source": [
    "money_q_sin_NaN = money_q.dropna()"
   ]
  },
  {
   "cell_type": "code",
   "execution_count": 42,
   "metadata": {
    "tags": []
   },
   "outputs": [
    {
     "data": {
      "text/plain": [
       "Diez          10.0\n",
       "Cinco          5.0\n",
       "Dos            2.0\n",
       "Uno            1.0\n",
       "cincuenta      0.5\n",
       "veinte         0.2\n",
       "diez           0.1\n",
       "Cien         110.0\n",
       "dtype: float64"
      ]
     },
     "execution_count": 42,
     "metadata": {},
     "output_type": "execute_result"
    }
   ],
   "source": [
    "money_q_sin_NaN"
   ]
  },
  {
   "cell_type": "markdown",
   "metadata": {},
   "source": [
    "En vez de eliminar los datos `NaN` también es posible completar su valor:"
   ]
  },
  {
   "cell_type": "code",
   "execution_count": 43,
   "metadata": {
    "tags": []
   },
   "outputs": [
    {
     "data": {
      "text/plain": [
       "Diez          10.0\n",
       "Cinco          5.0\n",
       "quarter        NaN\n",
       "Dos            2.0\n",
       "Uno            1.0\n",
       "cincuenta      0.5\n",
       "veinte         0.2\n",
       "diez           0.1\n",
       "Cien         110.0\n",
       "dtype: float64"
      ]
     },
     "execution_count": 43,
     "metadata": {},
     "output_type": "execute_result"
    }
   ],
   "source": [
    "money_q"
   ]
  },
  {
   "cell_type": "code",
   "execution_count": 44,
   "metadata": {
    "tags": []
   },
   "outputs": [],
   "source": [
    "money_q.fillna(0.25, inplace = True)"
   ]
  },
  {
   "cell_type": "markdown",
   "metadata": {},
   "source": [
    "Observa que ahora se usó el parámetro `inplace=True` lo que significa que se modificará la serie original sin crear un nuevo objeto:"
   ]
  },
  {
   "cell_type": "code",
   "execution_count": 45,
   "metadata": {
    "tags": []
   },
   "outputs": [
    {
     "data": {
      "text/plain": [
       "Diez          10.00\n",
       "Cinco          5.00\n",
       "quarter        0.25\n",
       "Dos            2.00\n",
       "Uno            1.00\n",
       "cincuenta      0.50\n",
       "veinte         0.20\n",
       "diez           0.10\n",
       "Cien         110.00\n",
       "dtype: float64"
      ]
     },
     "execution_count": 45,
     "metadata": {},
     "output_type": "execute_result"
    }
   ],
   "source": [
    "money_q"
   ]
  },
  {
   "cell_type": "markdown",
   "metadata": {},
   "source": [
    "### Operaciones aritméticas entre series\n",
    "\n",
    "Retomamos la serie `money` definida antes:"
   ]
  },
  {
   "cell_type": "code",
   "execution_count": 46,
   "metadata": {
    "tags": []
   },
   "outputs": [
    {
     "data": {
      "text/plain": [
       "Diez         10.0\n",
       "Cinco         5.0\n",
       "Dos           2.0\n",
       "Uno           1.0\n",
       "cincuenta     0.5\n",
       "veinte        0.2\n",
       "diez          0.1\n",
       "dtype: float64"
      ]
     },
     "execution_count": 46,
     "metadata": {},
     "output_type": "execute_result"
    }
   ],
   "source": [
    "money = pd.Series([10.0,5.0,2.0,1.0,0.5,0.2,0.1],\n",
    "                  index=['Diez','Cinco','Dos','Uno','cincuenta','veinte','diez'])\n",
    "money"
   ]
  },
  {
   "cell_type": "code",
   "execution_count": 47,
   "metadata": {
    "tags": []
   },
   "outputs": [
    {
     "data": {
      "text/plain": [
       "Diez         20.0\n",
       "Cinco        10.0\n",
       "Dos           4.0\n",
       "Uno           2.0\n",
       "cincuenta     1.0\n",
       "veinte        0.4\n",
       "diez          0.2\n",
       "dtype: float64"
      ]
     },
     "execution_count": 47,
     "metadata": {},
     "output_type": "execute_result"
    }
   ],
   "source": [
    "money + money # Podemos sumar dos series"
   ]
  },
  {
   "cell_type": "markdown",
   "metadata": {},
   "source": [
    "No importa que las series estén en desorden o que tengan longitud diferente la suma se hará correctamente. Por ejemplo:"
   ]
  },
  {
   "cell_type": "code",
   "execution_count": 48,
   "metadata": {
    "tags": []
   },
   "outputs": [
    {
     "name": "stdout",
     "output_type": "stream",
     "text": [
      "7 9\n"
     ]
    }
   ],
   "source": [
    "print(len(money), len(money_q) )"
   ]
  },
  {
   "cell_type": "code",
   "execution_count": 49,
   "metadata": {
    "tags": []
   },
   "outputs": [
    {
     "name": "stdout",
     "output_type": "stream",
     "text": [
      "Diez         10.0\n",
      "Cinco         5.0\n",
      "Dos           2.0\n",
      "Uno           1.0\n",
      "cincuenta     0.5\n",
      "veinte        0.2\n",
      "diez          0.1\n",
      "dtype: float64\n",
      "\n",
      "Diez          10.00\n",
      "Cinco          5.00\n",
      "quarter        0.25\n",
      "Dos            2.00\n",
      "Uno            1.00\n",
      "cincuenta      0.50\n",
      "veinte         0.20\n",
      "diez           0.10\n",
      "Cien         110.00\n",
      "dtype: float64\n",
      "\n"
     ]
    }
   ],
   "source": [
    "print('{}\\n'.format(money))\n",
    "print('{}\\n'.format(money_q))"
   ]
  },
  {
   "cell_type": "code",
   "execution_count": 50,
   "metadata": {
    "tags": []
   },
   "outputs": [
    {
     "data": {
      "text/plain": [
       "Cien          NaN\n",
       "Cinco        10.0\n",
       "Diez         20.0\n",
       "Dos           4.0\n",
       "Uno           2.0\n",
       "cincuenta     1.0\n",
       "diez          0.2\n",
       "quarter       NaN\n",
       "veinte        0.4\n",
       "dtype: float64"
      ]
     },
     "execution_count": 50,
     "metadata": {},
     "output_type": "execute_result"
    }
   ],
   "source": [
    "money + money_q"
   ]
  },
  {
   "cell_type": "markdown",
   "metadata": {},
   "source": [
    "Observa que: \n",
    "* Se usa `NaN` en los lugares donde las series son diferentes. \n",
    "* Las operaciones se hacen elemento por elemento, justo como en un arreglo de numpy. Puedes probar con otro tipo de operaciones: `-`, `*`, `/`, `**`, `np.sin()`, etc."
   ]
  },
  {
   "cell_type": "markdown",
   "metadata": {},
   "source": [
    "### Aplicación de funciones"
   ]
  },
  {
   "cell_type": "code",
   "execution_count": 51,
   "metadata": {
    "tags": []
   },
   "outputs": [
    {
     "name": "stdout",
     "output_type": "stream",
     "text": [
      "0     L\n",
      "1     u\n",
      "2     i\n",
      "3     s\n",
      "4      \n",
      "5     M\n",
      "6     i\n",
      "7     g\n",
      "8     u\n",
      "9     e\n",
      "10    l\n",
      "11     \n",
      "12    d\n",
      "13    e\n",
      "14     \n",
      "15    l\n",
      "16    a\n",
      "17     \n",
      "18    C\n",
      "19    r\n",
      "20    u\n",
      "21    z\n",
      "22     \n",
      "23    S\n",
      "24    a\n",
      "25    l\n",
      "26    a\n",
      "27    s\n",
      "dtype: object\n"
     ]
    }
   ],
   "source": [
    "# Construcción de una serie a partir de una cadena\n",
    "nombre = pd.Series(list('Luis Miguel de la Cruz Salas'))\n",
    "print(nombre)"
   ]
  },
  {
   "cell_type": "code",
   "execution_count": 52,
   "metadata": {
    "tags": []
   },
   "outputs": [
    {
     "data": {
      "text/plain": [
       "array(['L', 'u', 'i', 's', ' ', 'M', 'g', 'e', 'l', 'd', 'a', 'C', 'r',\n",
       "       'z', 'S'], dtype=object)"
      ]
     },
     "execution_count": 52,
     "metadata": {},
     "output_type": "execute_result"
    }
   ],
   "source": [
    "nombre.unique() # Obtiene los elementos únicos"
   ]
  },
  {
   "cell_type": "code",
   "execution_count": 53,
   "metadata": {
    "tags": []
   },
   "outputs": [
    {
     "data": {
      "text/plain": [
       "     5\n",
       "u    3\n",
       "l    3\n",
       "a    3\n",
       "i    2\n",
       "s    2\n",
       "e    2\n",
       "L    1\n",
       "M    1\n",
       "g    1\n",
       "d    1\n",
       "C    1\n",
       "r    1\n",
       "z    1\n",
       "S    1\n",
       "Name: count, dtype: int64"
      ]
     },
     "execution_count": 53,
     "metadata": {},
     "output_type": "execute_result"
    }
   ],
   "source": [
    "# Puede contar los objetos que hay en la Serie\n",
    "nombre.value_counts()"
   ]
  },
  {
   "cell_type": "code",
   "execution_count": 54,
   "metadata": {
    "tags": []
   },
   "outputs": [
    {
     "data": {
      "text/plain": [
       "C    0\n",
       "A    1\n",
       "B    2\n",
       "E    3\n",
       "D    4\n",
       "dtype: int64"
      ]
     },
     "execution_count": 54,
     "metadata": {},
     "output_type": "execute_result"
    }
   ],
   "source": [
    "# Podemos tener una serie con índices en desorden:\n",
    "serie = pd.Series(range(5),index=['C','A','B','E','D'])\n",
    "serie"
   ]
  },
  {
   "cell_type": "code",
   "execution_count": 55,
   "metadata": {
    "tags": []
   },
   "outputs": [
    {
     "data": {
      "text/plain": [
       "A    1\n",
       "B    2\n",
       "C    0\n",
       "D    4\n",
       "E    3\n",
       "dtype: int64"
      ]
     },
     "execution_count": 55,
     "metadata": {},
     "output_type": "execute_result"
    }
   ],
   "source": [
    "# La serie se puede ordenar a través de los índices\n",
    "serie.sort_index()"
   ]
  },
  {
   "cell_type": "code",
   "execution_count": 56,
   "metadata": {
    "tags": []
   },
   "outputs": [
    {
     "data": {
      "text/plain": [
       "C    0\n",
       "A    1\n",
       "B    2\n",
       "E    3\n",
       "D    4\n",
       "dtype: int64"
      ]
     },
     "execution_count": 56,
     "metadata": {},
     "output_type": "execute_result"
    }
   ],
   "source": [
    "serie   # Ojo: el ordenamiento no se hizo \"in place\", es decir no se modificó la serie original"
   ]
  },
  {
   "cell_type": "code",
   "execution_count": 57,
   "metadata": {
    "tags": []
   },
   "outputs": [],
   "source": [
    "# Aquí creamos una nueva serie ordenada, pero la original prevalece\n",
    "serie_ordenada = serie.sort_index()"
   ]
  },
  {
   "cell_type": "code",
   "execution_count": 58,
   "metadata": {
    "tags": []
   },
   "outputs": [
    {
     "data": {
      "text/plain": [
       "A    1\n",
       "B    2\n",
       "C    0\n",
       "D    4\n",
       "E    3\n",
       "dtype: int64"
      ]
     },
     "execution_count": 58,
     "metadata": {},
     "output_type": "execute_result"
    }
   ],
   "source": [
    "serie_ordenada"
   ]
  },
  {
   "cell_type": "code",
   "execution_count": 59,
   "metadata": {
    "tags": []
   },
   "outputs": [
    {
     "data": {
      "text/plain": [
       "C    0\n",
       "A    1\n",
       "B    2\n",
       "E    3\n",
       "D    4\n",
       "dtype: int64"
      ]
     },
     "execution_count": 59,
     "metadata": {},
     "output_type": "execute_result"
    }
   ],
   "source": [
    "serie"
   ]
  },
  {
   "cell_type": "code",
   "execution_count": 60,
   "metadata": {
    "tags": []
   },
   "outputs": [
    {
     "data": {
      "text/plain": [
       "A    1\n",
       "B    2\n",
       "C    0\n",
       "D    4\n",
       "E    3\n",
       "dtype: int64"
      ]
     },
     "execution_count": 60,
     "metadata": {},
     "output_type": "execute_result"
    }
   ],
   "source": [
    "# Podemos ordenar la serie \"in place\", es decir se modifica la serie original\n",
    "serie.sort_index(inplace=True)\n",
    "serie"
   ]
  },
  {
   "cell_type": "code",
   "execution_count": 61,
   "metadata": {
    "tags": []
   },
   "outputs": [
    {
     "data": {
      "text/plain": [
       "C    0\n",
       "A    1\n",
       "B    2\n",
       "E    3\n",
       "D    4\n",
       "dtype: int64"
      ]
     },
     "execution_count": 61,
     "metadata": {},
     "output_type": "execute_result"
    }
   ],
   "source": [
    "# Se puede ordenar la serie usando los objetos que contiene\n",
    "serie.sort_values()"
   ]
  },
  {
   "cell_type": "code",
   "execution_count": 62,
   "metadata": {
    "tags": []
   },
   "outputs": [
    {
     "data": {
      "text/plain": [
       "C    7\n",
       "A    5\n",
       "B    2\n",
       "E    8\n",
       "D    3\n",
       "dtype: int64"
      ]
     },
     "execution_count": 62,
     "metadata": {},
     "output_type": "execute_result"
    }
   ],
   "source": [
    "# Creamos otra serie con valores e índices desordenados\n",
    "serie = pd.Series([7,5,2,8,3],index=['C','A','B','E','D'])\n",
    "serie"
   ]
  },
  {
   "cell_type": "code",
   "execution_count": 63,
   "metadata": {
    "tags": []
   },
   "outputs": [
    {
     "data": {
      "text/plain": [
       "C    4.0\n",
       "A    3.0\n",
       "B    1.0\n",
       "E    5.0\n",
       "D    2.0\n",
       "dtype: float64"
      ]
     },
     "execution_count": 63,
     "metadata": {},
     "output_type": "execute_result"
    }
   ],
   "source": [
    "# La siguiente función clasifica las entradas de la serie de acuerdo al contenido de su objeto\n",
    "serie.rank()"
   ]
  },
  {
   "cell_type": "code",
   "execution_count": 64,
   "metadata": {
    "tags": []
   },
   "outputs": [
    {
     "data": {
      "text/plain": [
       "C    0.8\n",
       "A    0.6\n",
       "B    0.2\n",
       "E    1.0\n",
       "D    0.4\n",
       "dtype: float64"
      ]
     },
     "execution_count": 64,
     "metadata": {},
     "output_type": "execute_result"
    }
   ],
   "source": [
    "serie.rank(pct=True) # Clasificación en porcentaje"
   ]
  },
  {
   "cell_type": "code",
   "execution_count": 65,
   "metadata": {
    "tags": []
   },
   "outputs": [
    {
     "data": {
      "text/plain": [
       "B    2\n",
       "D    3\n",
       "A    5\n",
       "C    7\n",
       "E    8\n",
       "dtype: int64"
      ]
     },
     "execution_count": 65,
     "metadata": {},
     "output_type": "execute_result"
    }
   ],
   "source": [
    "# Si ordenamos la serie que pasa ¿?:\n",
    "serie.sort_values()"
   ]
  },
  {
   "cell_type": "markdown",
   "metadata": {},
   "source": [
    "### La función `apply`\n",
    "```python\n",
    "Series.apply(func, conver_dtype=True, args(), **kwds)\n",
    "```\n",
    "- La función `func` será aplicada a la serie y regresa un objeto de tipo Series o DataFrame.\n"
   ]
  },
  {
   "cell_type": "code",
   "execution_count": 66,
   "metadata": {
    "tags": []
   },
   "outputs": [
    {
     "name": "stdout",
     "output_type": "stream",
     "text": [
      "<class 'pandas.core.series.Series'>\n"
     ]
    },
    {
     "data": {
      "text/plain": [
       "C    0.656987\n",
       "A   -0.958924\n",
       "B    0.909297\n",
       "E    0.989358\n",
       "D    0.141120\n",
       "dtype: float64"
      ]
     },
     "execution_count": 66,
     "metadata": {},
     "output_type": "execute_result"
    }
   ],
   "source": [
    "s = serie.apply(np.sin)\n",
    "print(type(s))\n",
    "s"
   ]
  },
  {
   "cell_type": "markdown",
   "metadata": {},
   "source": [
    "- Podemos usar funciones lambda"
   ]
  },
  {
   "cell_type": "code",
   "execution_count": 67,
   "metadata": {
    "tags": []
   },
   "outputs": [
    {
     "data": {
      "text/plain": [
       "C    7\n",
       "A    5\n",
       "B    2\n",
       "E    8\n",
       "D    3\n",
       "dtype: int64"
      ]
     },
     "execution_count": 67,
     "metadata": {},
     "output_type": "execute_result"
    }
   ],
   "source": [
    "serie"
   ]
  },
  {
   "cell_type": "code",
   "execution_count": 68,
   "metadata": {
    "tags": []
   },
   "outputs": [
    {
     "data": {
      "text/plain": [
       "C     7\n",
       "A    25\n",
       "B     4\n",
       "E     8\n",
       "D     9\n",
       "dtype: int64"
      ]
     },
     "execution_count": 68,
     "metadata": {},
     "output_type": "execute_result"
    }
   ],
   "source": [
    "serie.apply(lambda x: x if x > 5 else x**2)"
   ]
  },
  {
   "cell_type": "code",
   "execution_count": null,
   "metadata": {},
   "outputs": [],
   "source": []
  }
 ],
 "metadata": {
  "kernelspec": {
   "display_name": "Python 3 (ipykernel)",
   "language": "python",
   "name": "python3"
  },
  "language_info": {
   "codemirror_mode": {
    "name": "ipython",
    "version": 3
   },
   "file_extension": ".py",
   "mimetype": "text/x-python",
   "name": "python",
   "nbconvert_exporter": "python",
   "pygments_lexer": "ipython3",
   "version": "3.11.6"
  }
 },
 "nbformat": 4,
 "nbformat_minor": 4
}
